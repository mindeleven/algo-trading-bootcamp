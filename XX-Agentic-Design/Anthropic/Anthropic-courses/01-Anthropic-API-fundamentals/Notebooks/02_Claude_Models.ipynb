{
 "cells": [
  {
   "cell_type": "markdown",
   "id": "b756dec4-3660-48a2-b39d-5433cf65ae16",
   "metadata": {},
   "source": [
    "## The Claude Models"
   ]
  },
  {
   "cell_type": "markdown",
   "id": "ce06a47b-ebf7-4687-ba39-4241de312011",
   "metadata": {},
   "source": [
    "*(Coding along with the [Anthropic API fundamentals](https://github.com/anthropics/courses/tree/master/anthropic_api_fundamentals) of Anthropic's courses GitHub repo)*"
   ]
  },
  {
   "cell_type": "markdown",
   "id": "7826542e-89f7-4534-900b-a1de47764909",
   "metadata": {},
   "source": [
    "The goals of this section are to understand the various Claude models and to compare the speed and capabilities these models.\n",
    "\n",
    "Factors to consider when choosing a model:\n",
    "\n",
    "- __The model's latency__: how fast is it?\n",
    "- __The model's capabilities__: how smart is it?\n",
    "- __The model's cost__: how expensive is it?"
   ]
  },
  {
   "cell_type": "markdown",
   "id": "9c8fb5a5-3ff2-4272-b35a-1e27beff30e2",
   "metadata": {},
   "source": [
    "### Basic setup"
   ]
  },
  {
   "cell_type": "code",
   "execution_count": 8,
   "id": "e3b3700f-8499-4468-83b4-822fc8f137c4",
   "metadata": {},
   "outputs": [
    {
     "name": "stdout",
     "output_type": "stream",
     "text": [
      "Don't be a fool and sent your api key to github\n"
     ]
    }
   ],
   "source": [
    "# https://github.com/anthropics/courses/blob/master/anthropic_api_fundamentals/03_models.ipynb\n",
    "from anthropic import Anthropic\n",
    "import pandas as pd\n",
    "\n",
    "anthropic_api_key = pd.read_csv(\"~/tmp/anthropic/anthropic-key-1.txt\", sep=\" \", header=None)[0][0]\n",
    "print(\"Don't be a fool and sent your api key to github\")\n",
    "\n",
    "# instantiating the client\n",
    "client = Anthropic(api_key=anthropic_api_key)\n",
    "MODEL_NAME=\"claude-3-5-sonnet-20241022\""
   ]
  },
  {
   "cell_type": "markdown",
   "id": "e86a5285-3cdf-4f99-a2c2-3dd8a390d854",
   "metadata": {},
   "source": [
    "### Comparing model speeds"
   ]
  },
  {
   "cell_type": "code",
   "execution_count": 9,
   "id": "65554a18-5cab-4915-82cb-43841f219f25",
   "metadata": {},
   "outputs": [],
   "source": [
    "# a simple function that runs the same prompt for all 4 models \n",
    "# and prints out the model response and the time each request took\n",
    "import time\n",
    "def compare_model_speeds():\n",
    "    models = [\"claude-3-5-sonnet-20240620\",\"claude-3-opus-20240229\", \"claude-3-sonnet-20240229\", \"claude-3-haiku-20240307\"]\n",
    "    task = \"Explain the concept of photosynthesis in a concise paragraph.\"\n",
    "\n",
    "    for model in models:\n",
    "        start_time = time.time()\n",
    "\n",
    "        response = client.messages.create(\n",
    "            model=model,\n",
    "            max_tokens=500,\n",
    "            messages=[{\"role\": \"user\", \"content\": task}]\n",
    "        )\n",
    "\n",
    "        end_time = time.time()\n",
    "        execution_time = end_time - start_time\n",
    "        tokens = response.usage.output_tokens\n",
    "        time_per_token = execution_time/tokens\n",
    "\n",
    "        print(f\"Model: {model}\")\n",
    "        print(f\"Response: {response.content[0].text}\")\n",
    "        print(f\"Generated Tokens: {tokens}\")\n",
    "        print(f\"Execution Time: {execution_time:.2f} seconds\")\n",
    "        print(f\"Time Per Token: {time_per_token:.2f} seconds\\n\")"
   ]
  },
  {
   "cell_type": "code",
   "execution_count": 10,
   "id": "af848b71-43bc-4270-8e83-d6f066bd1272",
   "metadata": {},
   "outputs": [
    {
     "name": "stdout",
     "output_type": "stream",
     "text": [
      "Model: claude-3-5-sonnet-20240620\n",
      "Response: Photosynthesis is the process by which plants, algae, and some bacteria convert light energy into chemical energy. Using sunlight, carbon dioxide from the air, and water from the soil, these organisms produce glucose (a sugar) and oxygen. The process occurs primarily in the chloroplasts of plant cells, where chlorophyll, a green pigment, absorbs light energy. This energy is then used to drive a series of chemical reactions that ultimately result in the production of glucose, which serves as food for the plant and can be stored for later use. Oxygen is released as a byproduct of this process, making photosynthesis crucial for maintaining Earth's atmosphere and supporting life on the planet.\n",
      "Generated Tokens: 150\n",
      "Execution Time: 2.73 seconds\n",
      "Time Per Token: 0.02 seconds\n",
      "\n",
      "Model: claude-3-opus-20240229\n",
      "Response: Photosynthesis is a process by which green plants and some other organisms use sunlight to synthesize nutrients from carbon dioxide and water. In plants, this process takes place in the chloroplasts, specifically using the green pigment chlorophyll. During photosynthesis, light energy is used to convert carbon dioxide and water into glucose and oxygen. The glucose is then used by the plant as an energy source for growth and other functions, while the oxygen is released into the atmosphere as a byproduct. This process is essential for life on Earth, as it provides food for plants and oxygen for many organisms, including humans, to breathe.\n",
      "Generated Tokens: 136\n",
      "Execution Time: 5.54 seconds\n",
      "Time Per Token: 0.04 seconds\n",
      "\n"
     ]
    },
    {
     "name": "stderr",
     "output_type": "stream",
     "text": [
      "/var/folders/7c/6tn50bjd30l3zb0p8_7mr94m0000gn/T/ipykernel_85190/536407935.py:11: DeprecationWarning: The model 'claude-3-sonnet-20240229' is deprecated and will reach end-of-life on July 21st, 2025.\n",
      "Please migrate to a newer model. Visit https://docs.anthropic.com/en/docs/resources/model-deprecations for more information.\n",
      "  response = client.messages.create(\n"
     ]
    },
    {
     "name": "stdout",
     "output_type": "stream",
     "text": [
      "Model: claude-3-sonnet-20240229\n",
      "Response: Photosynthesis is the process by which plants and certain other organisms convert light energy from the sun into chemical energy in the form of glucose (sugar) and oxygen. During photosynthesis, chloroplasts in the plant cells absorb sunlight, and using the energy from that sunlight, carbon dioxide from the air, and water from the soil, they produce glucose and release oxygen as a byproduct. This glucose provides the energy needed for the plant's growth and development, while the oxygen is released into the atmosphere.\n",
      "Generated Tokens: 112\n",
      "Execution Time: 2.91 seconds\n",
      "Time Per Token: 0.03 seconds\n",
      "\n",
      "Model: claude-3-haiku-20240307\n",
      "Response: Photosynthesis is the process by which plants and some other organisms convert light energy from the sun into chemical energy in the form of glucose. This process involves the use of chlorophyll, a green pigment found in the leaves of plants, which absorbs sunlight. The plant then uses carbon dioxide from the air and water from the soil to produce glucose through a series of chemical reactions. The resulting glucose is used by the plant for energy, while the byproduct, oxygen, is released into the atmosphere, making photosynthesis crucial for maintaining the balance of gases in the Earth's atmosphere.\n",
      "Generated Tokens: 127\n",
      "Execution Time: 1.75 seconds\n",
      "Time Per Token: 0.01 seconds\n",
      "\n"
     ]
    }
   ],
   "source": [
    "# let's see what we get\n",
    "compare_model_speeds()"
   ]
  },
  {
   "cell_type": "markdown",
   "id": "3a1b256e-4aaa-4538-a99d-b56c8f4cc17a",
   "metadata": {},
   "source": [
    "### Comparing model capabilities"
   ]
  },
  {
   "cell_type": "markdown",
   "id": "b45e6f6f-6858-4993-aecc-e879eef35510",
   "metadata": {},
   "source": [
    "Claude 3.5 Sonnet is recommended for use cases:\n",
    "\n",
    "__Coding__: Claude 3.5 Sonnet writes, edits, and runs code autonomously, streamlining code translations for faster, more accurate updates and migrations.\n",
    "__Customer support__: Claude 3.5 Sonnet understands user context and orchestrates multi-step workflows, enabling 24/7 support, faster responses, and improved customer satisfaction.\n",
    "__Data science & analysis__: Claude 3.5 Sonnet navigates unstructured data, generates insights, and produces visualizations and predictions to enhance data science expertise.\n",
    "__Visual processing__: Claude 3.5 Sonnet excels at interpreting charts, graphs, and images, accurately transcribing text to derive insights beyond just the text alone.\n",
    "__Writing__: Claude 3.5 Sonnet represents a significant improvement in understanding nuance and humor, producing high-quality, authentic, and relatable content.\n",
    "\n",
    "Clearly Haiku is the fastest model but its outputs may not be as high-quality as Opus's in certain situations. In many cases Haiku can perform as well as some of our more capable models. The only way to know which model is the \"best\" for your specific use case is to try them out and evaluate their performance.\n",
    "\n",
    "*(Source: https://github.com/anthropics/courses/blob/master/anthropic_api_fundamentals/03_models.ipynb)*"
   ]
  },
  {
   "cell_type": "markdown",
   "id": "f4f81efe-552d-4fe2-b816-d52b44313ec4",
   "metadata": {},
   "source": [
    "### Intelligence Benchmark Scores\n",
    "\n",
    "<img src=\"../../assets/images/intelligence_benchmark.png\" width=\"70%\">"
   ]
  },
  {
   "cell_type": "markdown",
   "id": "2ced5c02-ae04-4272-9471-c0aab2174b90",
   "metadata": {},
   "source": [
    "### Model comparison table"
   ]
  },
  {
   "cell_type": "markdown",
   "id": "d7cbd13a-62ad-4198-b7d5-78490f4ff572",
   "metadata": {},
   "source": [
    "<table><thead><tr><th style=\"text-align: left;\"></th><th style=\"text-align: left;\">Claude 3.5 Sonnet</th><th style=\"text-align: left;\">Claude 3.5 Haiku</th><th style=\"text-align: left;\">Claude 3 Opus</th><th style=\"text-align: left;\">Claude 3 Sonnet</th><th style=\"text-align: left;\">Claude 3 Haiku</th></tr></thead><tbody><tr><td style=\"text-align: left;\"><strong>Description</strong></td><td style=\"text-align: left;\">Our most intelligent model</td><td style=\"text-align: left;\">Our fastest model</td><td style=\"text-align: left;\">Powerful model for highly complex tasks</td><td style=\"text-align: left;\">Balance of intelligence and speed</td><td style=\"text-align: left;\">Fastest and most compact model for near-instant responsiveness</td></tr><tr><td style=\"text-align: left;\"><strong>Strengths</strong></td><td style=\"text-align: left;\">Highest level of intelligence and capability</td><td style=\"text-align: left;\">Intelligence at blazing speeds</td><td style=\"text-align: left;\">Top-level intelligence, fluency, and understanding</td><td style=\"text-align: left;\">Strong utility, balanced for scaled deployments</td><td style=\"text-align: left;\">Quick and accurate targeted performance</td></tr><tr><td style=\"text-align: left;\"><strong>Multilingual</strong></td><td style=\"text-align: left;\">Yes</td><td style=\"text-align: left;\">Yes</td><td style=\"text-align: left;\">Yes</td><td style=\"text-align: left;\">Yes</td><td style=\"text-align: left;\">Yes</td></tr><tr><td style=\"text-align: left;\"><strong>Vision</strong></td><td style=\"text-align: left;\">Yes</td><td style=\"text-align: left;\">No</td><td style=\"text-align: left;\">Yes</td><td style=\"text-align: left;\">Yes</td><td style=\"text-align: left;\">Yes</td></tr><tr><td style=\"text-align: left;\"><strong>Message Batches API</strong></td><td style=\"text-align: left;\">Yes</td><td style=\"text-align: left;\">Yes</td><td style=\"text-align: left;\">Yes</td><td style=\"text-align: left;\">No</td><td style=\"text-align: left;\">Yes</td></tr><tr><td style=\"text-align: left;\"><strong>API model name</strong></td><td style=\"text-align: left;\"><strong>Upgraded version:</strong> <code>claude-3-5-sonnet-20241022</code>      <br><br><strong>Previous version:</strong><code>claude-3-5-sonnet-20240620</code></td><td style=\"text-align: left;\"><code>claude-3-5-haiku-20241022</code></td><td style=\"text-align: left;\"><code>claude-3-opus-20240229</code></td><td style=\"text-align: left;\"><code>claude-3-sonnet-20240229</code></td><td style=\"text-align: left;\"><code>claude-3-haiku-20240307</code></td></tr><tr><td style=\"text-align: left;\"><strong>Comparative latency</strong></td><td style=\"text-align: left;\">Fast</td><td style=\"text-align: left;\">Fastest</td><td style=\"text-align: left;\">Moderately fast</td><td style=\"text-align: left;\">Fast</td><td style=\"text-align: left;\">Fastest</td></tr><tr><td style=\"text-align: left;\"><strong>Context window</strong></td><td style=\"text-align: left;\"><button data-state=\"closed\"><span style=\"text-decoration-style: dotted;\">200K</span></button></td><td style=\"text-align: left;\"><button data-state=\"closed\"><span style=\"text-decoration-style: dotted;\">200K</span></button></td><td style=\"text-align: left;\"><button data-state=\"closed\"><span style=\"text-decoration-style: dotted;\">200K</span></button></td><td style=\"text-align: left;\"><button data-state=\"closed\"><span style=\"text-decoration-style: dotted;\">200K</span></button></td><td style=\"text-align: left;\"><button data-state=\"closed\"><span style=\"text-decoration-style: dotted;\">200K</span></button></td></tr><tr><td style=\"text-align: left;\"><strong>Max output</strong></td><td style=\"text-align: left;\"><button data-state=\"closed\"><span style=\"text-decoration-style: dotted;\">8192 tokens</span></button></td><td style=\"text-align: left;\"><button data-state=\"closed\"><span style=\"text-decoration-style: dotted;\">8192 tokens</span></button></td><td style=\"text-align: left;\"><button data-state=\"closed\"><span style=\"text-decoration-style: dotted;\">4096 tokens</span></button></td><td style=\"text-align: left;\"><button data-state=\"closed\"><span style=\"text-decoration-style: dotted;\">4096 tokens</span></button></td><td style=\"text-align: left;\"><button data-state=\"closed\"><span style=\"text-decoration-style: dotted;\">4096 tokens</span></button></td></tr><tr><td style=\"text-align: left;\"><strong>Cost (Input / Output per <button data-state=\"closed\"><span style=\"text-decoration-style: dotted;\">MTok</span></button>)</strong></td><td style=\"text-align: left;\">\\$3.00 / \\$15.00</td><td style=\"text-align: left;\">\\$0.80 / \\$4.00</td><td style=\"text-align: left;\">\\$15.00 / \\$75.00</td><td style=\"text-align: left;\">\\$3.00 / \\$15.00</td><td style=\"text-align: left;\">\\$0.25 / \\$1.25</td></tr><tr><td style=\"text-align: left;\"><strong>Training data cut-off</strong></td><td style=\"text-align: left;\">Apr 2024</td><td style=\"text-align: left;\">July 2024</td><td style=\"text-align: left;\">Aug 2023</td><td style=\"text-align: left;\">Aug 2023</td><td style=\"text-align: left;\">Aug 2023</td></tr></tbody></table>\n",
    "\n",
    "*(Source: https://docs.anthropic.com/en/docs/about-claude/models#model-comparison-table)*"
   ]
  },
  {
   "cell_type": "markdown",
   "id": "dee93549-7a11-496f-b7bf-e278394e877b",
   "metadata": {},
   "source": [
    "### Demonstrating capabilities"
   ]
  },
  {
   "cell_type": "markdown",
   "id": "49904b4b-9f8a-4213-8bc4-7ad2d917bef0",
   "metadata": {},
   "source": [
    "We we ask each of the three models to solve the following math problem:\n",
    "```\n",
    "What is the geometric monthly fecal coliform mean of a distribution system with the following FC\n",
    "counts: 24, 15, 7, 16, 31 and 23? The result will be inputted into a NPDES DMR, therefore, round\n",
    "to the nearest whole number\n",
    "```"
   ]
  },
  {
   "cell_type": "code",
   "execution_count": 11,
   "id": "14458e42-7dc8-46a9-8e21-d5582d4fcc11",
   "metadata": {},
   "outputs": [],
   "source": [
    "def compare_model_capabilities():\n",
    "    models = [\"claude-3-5-sonnet-20240620\", \"claude-3-opus-20240229\", \"claude-3-sonnet-20240229\", \"claude-3-haiku-20240307\"]\n",
    "    task = \"\"\"\n",
    "    What is the geometric monthly fecal coliform mean of a distribution system with the following FC\n",
    " counts: 24, 15, 7, 16, 31 and 23? The result will be inputted into a NPDES DMR, therefore, round\n",
    " to the nearest whole number.  Respond only with a number and nothing else.\n",
    "    \"\"\"\n",
    "\n",
    "    for model in models:\n",
    "        answers = []\n",
    "        for attempt in range(7):\n",
    "            response = client.messages.create(\n",
    "                model=model,\n",
    "                max_tokens=1000,\n",
    "                messages=[{\"role\": \"user\", \"content\": task}]\n",
    "            )\n",
    "            answers.append(response.content[0].text)\n",
    "\n",
    "        print(f\"Model: {model}\")\n",
    "        print(f\"Answers: \", answers)"
   ]
  },
  {
   "cell_type": "code",
   "execution_count": 12,
   "id": "dc1cbbe7-08e6-44fc-b429-6f96acbbeaa8",
   "metadata": {},
   "outputs": [
    {
     "name": "stdout",
     "output_type": "stream",
     "text": [
      "Model: claude-3-5-sonnet-20240620\n",
      "Answers:  ['18', '18', '18', '18', '18', '18', '18']\n",
      "Model: claude-3-opus-20240229\n",
      "Answers:  ['18', '18', '18', '18', '18', '19', '18']\n"
     ]
    },
    {
     "name": "stderr",
     "output_type": "stream",
     "text": [
      "/var/folders/7c/6tn50bjd30l3zb0p8_7mr94m0000gn/T/ipykernel_85190/2012478413.py:12: DeprecationWarning: The model 'claude-3-sonnet-20240229' is deprecated and will reach end-of-life on July 21st, 2025.\n",
      "Please migrate to a newer model. Visit https://docs.anthropic.com/en/docs/resources/model-deprecations for more information.\n",
      "  response = client.messages.create(\n"
     ]
    },
    {
     "name": "stdout",
     "output_type": "stream",
     "text": [
      "Model: claude-3-sonnet-20240229\n",
      "Answers:  ['17', '17', '18', '18', '18', '18', '18']\n",
      "Model: claude-3-haiku-20240307\n",
      "Answers:  ['18', '17', '17', '17', '17', '18', '17']\n"
     ]
    }
   ],
   "source": [
    "compare_model_capabilities()"
   ]
  },
  {
   "cell_type": "markdown",
   "id": "be5c6f38-a638-47ce-a32c-c55c3da5b972",
   "metadata": {},
   "source": [
    "__Clearly Claude 3.5 Sonnet and Claude 3 Opus perform best on this particular math problem.__"
   ]
  },
  {
   "cell_type": "code",
   "execution_count": null,
   "id": "309a5682-a313-4ea4-9e77-908b1da990d3",
   "metadata": {},
   "outputs": [],
   "source": []
  }
 ],
 "metadata": {
  "kernelspec": {
   "display_name": "Python 3 (ipykernel)",
   "language": "python",
   "name": "python3"
  },
  "language_info": {
   "codemirror_mode": {
    "name": "ipython",
    "version": 3
   },
   "file_extension": ".py",
   "mimetype": "text/x-python",
   "name": "python",
   "nbconvert_exporter": "python",
   "pygments_lexer": "ipython3",
   "version": "3.12.7"
  }
 },
 "nbformat": 4,
 "nbformat_minor": 5
}
