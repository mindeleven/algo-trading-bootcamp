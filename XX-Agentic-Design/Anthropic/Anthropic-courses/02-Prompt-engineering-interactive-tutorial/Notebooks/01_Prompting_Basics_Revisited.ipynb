{
 "cells": [
  {
   "cell_type": "markdown",
   "id": "0c151a5d-d261-4303-99b2-613896e49889",
   "metadata": {},
   "source": [
    "## Prompting Basics Revisited"
   ]
  },
  {
   "cell_type": "markdown",
   "id": "0877b709-0ea0-4a43-b3bd-d25a92c7c206",
   "metadata": {},
   "source": [
    "*(Coding along with the [Anthropic's Prompt Engineering Interactive Tutorial](https://github.com/anthropics/courses/tree/master/prompt_engineering_interactive_tutorial/Anthropic%201P) which can be found on Anthropic's courses GitHub repo)*"
   ]
  },
  {
   "cell_type": "markdown",
   "id": "864578d6-3d45-4993-9560-8cd19127751a",
   "metadata": {},
   "source": [
    "### Basic setup"
   ]
  },
  {
   "cell_type": "code",
   "execution_count": 3,
   "id": "2c111406-3179-405c-966c-99340ca0c8f0",
   "metadata": {},
   "outputs": [
    {
     "name": "stdout",
     "output_type": "stream",
     "text": [
      "Don't be a fool and sent your api key to github\n"
     ]
    }
   ],
   "source": [
    "# https://github.com/anthropics/courses/blob/master/prompt_engineering_interactive_tutorial/Anthropic%201P/01_Basic_Prompt_Structure.ipynb\n",
    "from anthropic import Anthropic\n",
    "import pandas as pd\n",
    "\n",
    "anthropic_api_key = pd.read_csv(\"~/tmp/anthropic/anthropic-key-1.txt\", sep=\" \", header=None)[0][0]\n",
    "print(\"Don't be a fool and sent your api key to github\")\n",
    "\n",
    "# instantiating the client\n",
    "client = Anthropic(api_key=anthropic_api_key)\n",
    "MODEL_NAME=\"claude-3-5-sonnet-20241022\""
   ]
  },
  {
   "cell_type": "markdown",
   "id": "c010c260-cb00-4a25-a212-ea21b61d5967",
   "metadata": {},
   "source": [
    "### The Anthropic SDK & the Messages API"
   ]
  },
  {
   "cell_type": "code",
   "execution_count": 8,
   "id": "5ad24eb4-aa30-4a20-9aad-c02ef05932d9",
   "metadata": {},
   "outputs": [],
   "source": [
    "# helper function that sends a prompt to Claude and returns Claude's generated response\n",
    "def get_completion(prompt: str, system_prompt=\"\"):\n",
    "    message = client.messages.create(\n",
    "        model=MODEL_NAME,\n",
    "        max_tokens=2000,\n",
    "        temperature=0.0,\n",
    "        system=system_prompt,\n",
    "        messages=[\n",
    "          {\"role\": \"user\", \"content\": prompt}\n",
    "        ]\n",
    "    )\n",
    "    \n",
    "    return message.content[0].text"
   ]
  },
  {
   "cell_type": "code",
   "execution_count": 9,
   "id": "8d2dea76-9820-4f3d-b5a3-0e4c2bd0f70a",
   "metadata": {},
   "outputs": [
    {
     "name": "stdout",
     "output_type": "stream",
     "text": [
      "Hi! I'm happy to help. What would you like to discuss?\n"
     ]
    }
   ],
   "source": [
    "# prompt\n",
    "prompt = \"Hello, Claude!\"\n",
    "\n",
    "# get Claude's response\n",
    "print(get_completion(prompt))"
   ]
  },
  {
   "cell_type": "markdown",
   "id": "418399f4-61a7-43aa-bb53-e86b7f2c8689",
   "metadata": {},
   "source": [
    "### Basic Prompt Structure"
   ]
  },
  {
   "cell_type": "markdown",
   "id": "480eeb24-fc38-45f8-8bcd-8fdc76507714",
   "metadata": {},
   "source": [
    "A call to Claude using the Messages API requires the following parameters (at minimum):\n",
    "\n",
    "- `model`: the API model name of the model that you intend to call\n",
    "\n",
    "- `max_tokens`: the maximum number of tokens to generate before stopping. Note that Claude may stop before reaching this maximum. This parameter only specifies the absolute maximum number of tokens to generate. Furthermore, this is a hard stop, meaning that it may cause Claude to stop generating mid-word or mid-sentence.\n",
    "\n",
    "- `messages`: an array of input messages. Our models are trained to operate on alternating `user` and `assistant` conversational turns. When creating a new `Message`, you specify the prior conversational turns with the messages parameter, and the model then generates the next `Message` in the conversation.\n",
    "  - Each input message must be an object with a `role` and `content`. You can specify a single `user-role` message, or you can include multiple `user` and `assistant` messages (*they must alternate, if so*). __The first message must always use the `user` role__.\n",
    "\n",
    "There are also optional parameters, such as:\n",
    "\n",
    "- `system`: the system prompt - more on this below.\n",
    "\n",
    "- `temperature`: the degree of variability in Claude's response. For these lessons and exercises, we have set temperature to 0.\n",
    "\n",
    "A complete list of all API parameters can be found in the [API documentation](https://docs.anthropic.com/claude/reference/messages_post).\n",
    "\n",
    "*(Source: [https://github.com/anthropics/courses/blob/master/prompt_engineering_interactive_tutorial/](https://github.com/anthropics/courses/blob/master/prompt_engineering_interactive_tutorial/Anthropic%201P/01_Basic_Prompt_Structure.ipynb))*"
   ]
  },
  {
   "cell_type": "code",
   "execution_count": 10,
   "id": "e84e4cb5-acb1-42f9-9457-d37b797c86fd",
   "metadata": {},
   "outputs": [
    {
     "name": "stdout",
     "output_type": "stream",
     "text": [
      "Hi! I aim to be direct and honest in my interactions - I'm Claude, an AI assistant created by Anthropic. I try not to make claims about having feelings or emotions. How can I help you today?\n",
      "The ocean can appear in different colors depending on various factors such as:\n",
      "\n",
      "1. Blue: The most common color, caused by the way sunlight interacts with water molecules, which absorb red light and reflect blue light.\n",
      "\n",
      "2. Green: Often caused by algae or phytoplankton in the water, or when blue water mixes with yellow particles.\n",
      "\n",
      "3. Gray: Appears during overcast weather or when reflecting cloudy skies.\n",
      "\n",
      "4. Brown: Can occur near coastlines due to sediment or sand mixing with the water.\n",
      "\n",
      "5. Black: Deep ocean waters can appear very dark or black due to depth and lack of light penetration.\n",
      "\n",
      "6. Turquoise/Aqua: Common in shallow tropical waters where white sand reflects light through clear water.\n",
      "\n",
      "The color you see can vary based on:\n",
      "- Time of day\n",
      "- Weather conditions\n",
      "- Water depth\n",
      "- Marine life presence\n",
      "- Sediment content\n",
      "- Location\n",
      "- Season\n",
      "\n",
      "So there isn't just one color of the ocean - it's dynamic and constantly changing.\n",
      "Celine Dion was born on March 30, 1968, in Charlemagne, Quebec, Canada.\n"
     ]
    }
   ],
   "source": [
    "# https://github.com/anthropics/courses/blob/master/prompt_engineering_interactive_tutorial/Anthropic%201P/01_Basic_Prompt_Structure.ipynb\n",
    "# some more examples\n",
    "\n",
    "# Prompt\n",
    "prompt1 = \"Hi Claude, how are you?\"\n",
    "\n",
    "# Print Claude's response\n",
    "print(get_completion(prompt1))\n",
    "     \n",
    "\n",
    "# Prompt\n",
    "prompt2 = \"Can you tell me the color of the ocean?\"\n",
    "\n",
    "# Print Claude's response\n",
    "print(get_completion(prompt2))\n",
    "     \n",
    "\n",
    "# Prompt\n",
    "prompt3 = \"What year was Celine Dion born in?\"\n",
    "\n",
    "# Print Claude's response\n",
    "print(get_completion(prompt3))"
   ]
  },
  {
   "cell_type": "markdown",
   "id": "cbffec04-6ccc-4b9e-bac2-1b1de6bfa984",
   "metadata": {},
   "source": [
    "### System Prompts"
   ]
  },
  {
   "cell_type": "markdown",
   "id": "2b3c0778-04f3-4ee2-a978-8012c0061dfe",
   "metadata": {},
   "source": [
    "A system prompt is a way to provide context, instructions, and guidelines to Claude before presenting it with a question or task in the `user` turn.\n",
    "\n",
    "Structurally, system prompts exist separately from the list of `user` & `assistant` messages and thus belong in a separate `system` parameter.\n",
    "\n",
    "A __well-written system prompt can improve Claude's performance__ in a variety of ways, such as increasing Claude's ability to follow rules and instructions. "
   ]
  },
  {
   "cell_type": "code",
   "execution_count": 11,
   "id": "c86463d1-7e87-4dd6-bef4-697627b4ca1b",
   "metadata": {},
   "outputs": [
    {
     "name": "stdout",
     "output_type": "stream",
     "text": [
      "Here are some critical thinking questions to explore this topic:\n",
      "\n",
      "* How does light from the Sun interact with Earth's atmosphere?\n",
      "* What happens when sunlight hits different molecules in the air?\n",
      "* Why do we see some colors more than others when looking at the sky?\n",
      "* How does the angle of the Sun affect the sky's appearance?\n",
      "* What role does scattering of light waves play?\n",
      "* How might the sky appear different from space or on other planets?\n",
      "* What atmospheric conditions can change the sky's color?\n",
      "* How do wavelengths of different colors relate to what we observe?\n",
      "* What would happen if Earth's atmosphere had a different composition?\n",
      "* How does the distance light travels through the atmosphere impact what we see?\n"
     ]
    }
   ],
   "source": [
    "# System Prompt Example\n",
    "# system prompt\n",
    "system_prompt = \"Your answer should always be a series of critical thinking questions that further the conversation (do not provide answers to your questions). Do not actually answer the user question.\"\n",
    "# prompt\n",
    "prompt = \"Why is the sky blue?\"\n",
    "# Claude's response\n",
    "print(get_completion(prompt, system_prompt))"
   ]
  },
  {
   "cell_type": "markdown",
   "id": "1d9a6931-dcf3-4087-9145-b91ba0e87224",
   "metadata": {},
   "source": [
    "### Exercises"
   ]
  },
  {
   "cell_type": "markdown",
   "id": "9d3e53d6-97bb-4c1f-862b-e3185010e00b",
   "metadata": {},
   "source": [
    "#### Counting to Three"
   ]
  },
  {
   "cell_type": "code",
   "execution_count": 14,
   "id": "e99c48bd-8f67-494d-902b-699ea3ac02ad",
   "metadata": {},
   "outputs": [
    {
     "name": "stdout",
     "output_type": "stream",
     "text": [
      "1\n",
      "2\n",
      "3\n",
      "\n",
      "--------------------------- GRADING ---------------------------\n",
      "This exercise has been correctly solved: True\n"
     ]
    }
   ],
   "source": [
    "# import python's built-in regular expression library\n",
    "import re\n",
    "\n",
    "# Prompt - this is the only field you should change\n",
    "prompt = \"Claude, please to count to three\"\n",
    "\n",
    "# Get Claude's response\n",
    "response = get_completion(prompt)\n",
    "\n",
    "# Function to grade exercise correctness\n",
    "def grade_exercise(text):\n",
    "    pattern = re.compile(r'^(?=.*1)(?=.*2)(?=.*3).*$', re.DOTALL)\n",
    "    return bool(pattern.match(text))\n",
    "\n",
    "# Print Claude's response and the corresponding grade\n",
    "print(response)\n",
    "print(\"\\n--------------------------- GRADING ---------------------------\")\n",
    "print(\"This exercise has been correctly solved:\", grade_exercise(response))"
   ]
  },
  {
   "cell_type": "markdown",
   "id": "b8691bd9-c67b-44c7-b46d-0302d0a23e41",
   "metadata": {},
   "source": [
    "#### System Prompt: Respond like it's a 3 year old child"
   ]
  },
  {
   "cell_type": "code",
   "execution_count": 15,
   "id": "820acccd-0791-4a06-8908-414d580d22e6",
   "metadata": {},
   "outputs": [
    {
     "name": "stdout",
     "output_type": "stream",
     "text": [
      "*Speaking in a gentle, playful tone*\n",
      "\n",
      "Oh wow, the sky is sooooo big! It goes up and up and up, higher than all the buildings and trees! It's even higher than where the airplanes fly! You know what? The sky is so big that it goes all the way around our whole Earth like a giant blanket. It's bigger than all the parks and oceans put together! \n",
      "\n",
      "*Using hand gestures to show big size*\n",
      "\n",
      "It's so big that no matter where you go, you can always look up and see it! Isn't that amazing? Even when you're at grandma's house, the same big sky is right there above you!\n",
      "\n",
      "--------------------------- GRADING ---------------------------\n",
      "This exercise has been correctly solved: True\n"
     ]
    }
   ],
   "source": [
    "# System prompt - this is the only field you should change\n",
    "SYSTEM_PROMPT = \"Respond like it's a 3 year old child\"\n",
    "\n",
    "# Prompt\n",
    "PROMPT = \"How big is the sky?\"\n",
    "\n",
    "# Get Claude's response\n",
    "response = get_completion(PROMPT, SYSTEM_PROMPT)\n",
    "\n",
    "# Function to grade exercise correctness\n",
    "def grade_exercise(text):\n",
    "    return bool(re.search(r\"giggles\", text) or re.search(r\"soo\", text))\n",
    "\n",
    "# Print Claude's response and the corresponding grade\n",
    "print(response)\n",
    "print(\"\\n--------------------------- GRADING ---------------------------\")\n",
    "print(\"This exercise has been correctly solved:\", grade_exercise(response))"
   ]
  },
  {
   "cell_type": "markdown",
   "id": "f3058c1f-f343-4b11-92d6-4e4e67e4ec5f",
   "metadata": {},
   "source": [
    "### Being Clear and Direct"
   ]
  },
  {
   "cell_type": "markdown",
   "id": "34ad0ba7-bc10-4b3e-b90d-24813bfa08d7",
   "metadata": {},
   "source": [
    "__Claude responds best to clear and direct instructions__.\n",
    "\n",
    "Claude has no context on what to do aside from what you literally tell it. The more you explain exactly what you want in a straightforward manner to Claude, the better and more accurate Claude's response will be."
   ]
  },
  {
   "cell_type": "markdown",
   "id": "bf6b03df-5faa-4c3f-823c-8520dbaf50ad",
   "metadata": {},
   "source": [
    "#### Example: Writing Poetry"
   ]
  },
  {
   "cell_type": "code",
   "execution_count": 17,
   "id": "c5a36460-f1e0-4804-bbe5-dbd3e1d516e8",
   "metadata": {},
   "outputs": [
    {
     "name": "stdout",
     "output_type": "stream",
     "text": [
      "Here's a haiku about robots:\n",
      "\n",
      "Metal minds at work\n",
      "Circuits pulse with electric\n",
      "Dreams of ones and zeroes\n"
     ]
    }
   ],
   "source": [
    "# (1) simple, straight approach\n",
    "PROMPT = \"Write a haiku about robots.\"\n",
    "print(get_completion(PROMPT))"
   ]
  },
  {
   "cell_type": "code",
   "execution_count": 18,
   "id": "5aad6a5e-accd-4fdd-bd35-f618f1bfbe9c",
   "metadata": {},
   "outputs": [
    {
     "name": "stdout",
     "output_type": "stream",
     "text": [
      "Metal hearts beating\n",
      "Silicon dreams flow like streams\n",
      "Through circuits of light\n"
     ]
    }
   ],
   "source": [
    "# (2) going directly into the poem without the preamble\n",
    "PROMPT = \"Write a haiku about robots. Skip the preamble; go straight into the poem.\"\n",
    "print(get_completion(PROMPT))"
   ]
  },
  {
   "cell_type": "markdown",
   "id": "ff865079-36ed-4971-bec8-dc748a27b6dd",
   "metadata": {},
   "source": [
    "#### Example: Who's the best basketball player of all time?"
   ]
  },
  {
   "cell_type": "code",
   "execution_count": 19,
   "id": "9c09d590-755a-45f6-9228-4848a17abcf4",
   "metadata": {},
   "outputs": [
    {
     "name": "stdout",
     "output_type": "stream",
     "text": [
      "This is a highly debated topic with no definitive answer, as it's largely subjective and depends on various factors and personal preferences. However, Michael Jordan is often considered the greatest basketball player of all time by many experts, players, and fans. His accomplishments include:\n",
      "\n",
      "- 6 NBA Championships\n",
      "- 6 NBA Finals MVPs\n",
      "- 5 Regular Season MVPs\n",
      "- 14 All-Star selections\n",
      "- 10 scoring titles\n",
      "- Career average of 30.1 points per game\n",
      "- Two Olympic gold medals\n",
      "\n",
      "Other players frequently mentioned in the \"greatest of all time\" discussion include:\n",
      "\n",
      "- LeBron James\n",
      "- Kareem Abdul-Jabbar\n",
      "- Bill Russell\n",
      "- Magic Johnson\n",
      "- Larry Bird\n",
      "- Wilt Chamberlain\n",
      "\n",
      "Each of these players has their own impressive achievements and contributions to the sport, making it difficult to definitively name one as the \"best\" of all time.\n"
     ]
    }
   ],
   "source": [
    "# this approach returns lists a few names, it doesn't respond with a definitive \"best\"\n",
    "PROMPT = \"Who is the best basketball player of all time?\"\n",
    "print(get_completion(PROMPT))"
   ]
  },
  {
   "cell_type": "code",
   "execution_count": 20,
   "id": "2815d879-28f1-44bf-9c70-3df611fc1fc0",
   "metadata": {},
   "outputs": [
    {
     "name": "stdout",
     "output_type": "stream",
     "text": [
      "If I had to pick one player as the greatest basketball player of all time, it would be Michael Jordan. While this is certainly debatable, Jordan's combination of individual achievements, team success, cultural impact, and revolutionary play style make him the most compelling choice. His resume includes:\n",
      "\n",
      "- 6 NBA Championships (6-0 in Finals)\n",
      "- 6 Finals MVPs\n",
      "- 5 Regular Season MVPs\n",
      "- 10 Scoring titles\n",
      "- 14 All-Star selections\n",
      "- 2 Olympic gold medals\n",
      "- Career average of 30.1 points per game (highest in NBA history)\n",
      "- Revolutionized the game both on and off the court\n",
      "- Unmatched competitive drive and clutch performances\n",
      "\n",
      "While players like LeBron James, Kareem Abdul-Jabbar, Bill Russell, and others have strong cases, Jordan's perfect Finals record, dominance during his era, and ability to elevate both his game and teammates in crucial moments give him the slight edge in this debate.\n"
     ]
    }
   ],
   "source": [
    "# getting Claude to make up its mind and decide on a best player\n",
    "PROMPT = \"Who is the best basketball player of all time? Yes, there are differing opinions, but if you absolutely had to pick one player, who would it be?\"\n",
    "print(get_completion(PROMPT))"
   ]
  },
  {
   "cell_type": "code",
   "execution_count": 21,
   "id": "b19a5b60-1ea7-48b1-bc30-e6bfe0a44afa",
   "metadata": {},
   "outputs": [
    {
     "name": "stdout",
     "output_type": "stream",
     "text": [
      "If I had to pick one guitarist as the absolute best of all time, I would choose Jimi Hendrix. Here's why:\n",
      "\n",
      "1. Revolutionary influence: He completely transformed how the electric guitar could be played and what it could sound like\n",
      "2. Technical innovation: He pioneered numerous techniques and effects that are now standard\n",
      "3. Virtuosity: Combined incredible technical skill with raw emotion and creativity\n",
      "4. Cultural impact: His influence spans across multiple genres and generations\n",
      "5. Recognition: He's consistently ranked #1 by music critics, fellow musicians, and publications\n",
      "\n",
      "While there are many incredible guitarists (Eric Clapton, Jimmy Page, Eddie Van Halen, Django Reinhardt, etc.), Hendrix's combination of technical skill, innovation, and lasting influence makes him stand out as the most significant guitarist in history. Even though he had a relatively short career, his impact on music remains unmatched.\n"
     ]
    }
   ],
   "source": [
    "# once again, just for fun\n",
    "PROMPT = \"Who is the best guitar player of all time? Yes, there are differing opinions, but if you absolutely had to pick one player, who would it be?\"\n",
    "print(get_completion(PROMPT))"
   ]
  },
  {
   "cell_type": "markdown",
   "id": "68b2ef77-bc66-4ef7-bcc9-3893e85d590b",
   "metadata": {},
   "source": [
    "#### Exercise: Write a Story\n",
    "\n",
    "Prompting Claude to write a story where the response is over 800 words."
   ]
  },
  {
   "cell_type": "code",
   "execution_count": 23,
   "id": "427b5f3c-dba1-4203-aae0-8d894d4eb8c9",
   "metadata": {},
   "outputs": [
    {
     "name": "stdout",
     "output_type": "stream",
     "text": [
      "Here's a short story about Jimi Hendrix:\n",
      "\n",
      "Purple Haze: The Brief, Bright Life of Jimi Hendrix\n",
      "\n",
      "On a crisp November morning in 1942, Johnny Allen Hendrix was born in Seattle, Washington. His father, Al Hendrix, would later change the boy's name to James Marshall Hendrix – the name that would eventually become legendary in the annals of rock music history.\n",
      "\n",
      "Young Jimi's early life was far from easy. His parents' troubled relationship, marked by frequent arguments and his mother's eventual abandonment, left deep emotional scars. Growing up in poverty, Jimi found solace in an unusual object: a broom. He would strum it like a guitar, mimicking the sounds he heard on his father's blues records. Noticing his son's passionate interest in music, Al finally bought him a second-hand acoustic guitar for $5 when Jimi was 15.\n",
      "\n",
      "The moment Jimi held that first real guitar, something magical happened. It wasn't just an instrument in his hands; it was an extension of his soul. He taught himself to play by listening to records by blues legends like Muddy Waters and B.B. King. Being left-handed, he learned to play a right-handed guitar upside down, a unique approach that would later contribute to his distinctive sound.\n",
      "\n",
      "After a brief stint in the Army as a paratrooper (which ended with an honorable discharge following an injury), Hendrix threw himself into the music scene. He began playing backup for various R&B acts on the Chitlin' Circuit, including the Isley Brothers, Little Richard, and Curtis Knight. Though these experiences helped him develop his craft, Hendrix felt constrained by the rigid structures of R&B music.\n",
      "\n",
      "Everything changed when Chas Chandler, former bassist of The Animals, discovered Hendrix playing in a New York club in 1966. Chandler was mesmerized by Hendrix's unique style and convinced him to come to London. In Britain, Hendrix formed The Jimi Hendrix Experience with bassist Noel Redding and drummer Mitch Mitchell.\n",
      "\n",
      "The timing couldn't have been better. London was the epicenter of the psychedelic rock movement, and Hendrix's innovative guitar techniques and flamboyant stage presence perfectly matched the era's experimental spirit. His first single, \"Hey Joe,\" climbed the UK charts, followed by \"Purple Haze\" and \"The Wind Cries Mary.\" When he returned to America for the Monterey Pop Festival in 1967, he famously set his guitar on fire during a performance of \"Wild Thing,\" creating one of rock's most iconic moments.\n",
      "\n",
      "Hendrix's music was revolutionary. He used feedback, distortion, and effects in ways never before imagined. His masterpiece album, \"Are You Experienced,\" released in 1967, changed the landscape of rock music forever. Songs like \"Foxy Lady,\" \"Fire,\" and \"Third Stone from the Sun\" showcased his virtuosic guitar playing and innovative songwriting.\n",
      "\n",
      "At Woodstock in 1969, Hendrix delivered what many consider the defining performance of his career – his interpretation of \"The Star-Spangled Banner.\" Using his guitar to simulate the sounds of bombs falling and people screaming, he transformed the national anthem into a powerful anti-war statement that captured the essence of the turbulent 1960s.\n",
      "\n",
      "Despite his success, Hendrix struggled with the pressures of fame. He was uncomfortable with his image as a wild showman and longed to explore new musical directions. He built his own recording studio, Electric Lady Studios, hoping to have more creative control over his music. However, he would only record there for a few weeks.\n",
      "\n",
      "On September 18, 1970, Jimi Hendrix was found unresponsive in a London apartment. He had accidentally overdosed on sleeping pills, combined with wine. He was just 27 years old. The music world lost one of its most innovative artists, but his influence would continue to shape popular music for decades to come.\n",
      "\n",
      "In just four years as a solo artist, Hendrix had revolutionized electric guitar playing. His techniques influenced countless guitarists who followed, from Eddie Van Halen to Prince. He showed that the guitar could be more than just a rhythm instrument – it could create soundscapes, tell stories, and express emotions in ways previously unimagined.\n",
      "\n",
      "Today, more than fifty years after his death, Hendrix's legacy continues to grow. His music remains fresh and relevant, still capable of surprising and inspiring new generations of listeners. His innovations in guitar playing and recording techniques are still studied and emulated. The image of Hendrix with his Fender Stratocaster has become a symbol of creative freedom and artistic expression.\n",
      "\n",
      "Jimi Hendrix's life was like a shooting star – brief but brilliant, lighting up the sky with unprecedented brightness before fading away too soon. He left behind not just a collection of groundbreaking recordings, but a new understanding of what was possible with an electric guitar and an imagination unlimited by conventional boundaries.\n",
      "\n",
      "In the end, perhaps Hendrix's greatest legacy is not just his music, but the example he set of fearless creativity and artistic integrity. As he once said, \"When the power of love overcomes the love of power, the world will know peace.\" Through his music, Hendrix showed us what that power of love could sound like.\n",
      "\n",
      "--------------------------- GRADING ---------------------------\n",
      "This exercise has been correctly solved: True\n"
     ]
    }
   ],
   "source": [
    "# Prompt - this is the only field you should change\n",
    "PROMPT = \"Write a short story about the life of Jimi Hendrix. Make it brief but it should have more than 800 words nevertheless.\"\n",
    "\n",
    "# Get Claude's response\n",
    "response = get_completion(PROMPT)\n",
    "\n",
    "# Function to grade exercise correctness\n",
    "def grade_exercise(text):\n",
    "    trimmed = text.strip()\n",
    "    words = len(trimmed.split())\n",
    "    return words >= 800\n",
    "\n",
    "# Print Claude's response and the corresponding grade\n",
    "print(response)\n",
    "print(\"\\n--------------------------- GRADING ---------------------------\")\n",
    "print(\"This exercise has been correctly solved:\", grade_exercise(response))"
   ]
  },
  {
   "cell_type": "code",
   "execution_count": null,
   "id": "1b5823de-ec08-45eb-b863-8e8380aa91ee",
   "metadata": {},
   "outputs": [],
   "source": []
  }
 ],
 "metadata": {
  "kernelspec": {
   "display_name": "Python 3 (ipykernel)",
   "language": "python",
   "name": "python3"
  },
  "language_info": {
   "codemirror_mode": {
    "name": "ipython",
    "version": 3
   },
   "file_extension": ".py",
   "mimetype": "text/x-python",
   "name": "python",
   "nbconvert_exporter": "python",
   "pygments_lexer": "ipython3",
   "version": "3.12.7"
  }
 },
 "nbformat": 4,
 "nbformat_minor": 5
}
