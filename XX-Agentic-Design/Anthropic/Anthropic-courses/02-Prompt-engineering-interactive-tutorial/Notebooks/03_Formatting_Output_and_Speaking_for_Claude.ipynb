{
 "cells": [
  {
   "cell_type": "markdown",
   "id": "d64c2b3f-1375-447e-be77-1ba5cc461ce4",
   "metadata": {},
   "source": [
    "## Formatting Output and Speaking for Claude"
   ]
  },
  {
   "cell_type": "markdown",
   "id": "44abc253-3808-4077-ad09-b80fad71ff19",
   "metadata": {},
   "source": [
    "*(Coding along with the [Anthropic's Prompt Engineering Interactive Tutorial](https://github.com/anthropics/courses/tree/master/prompt_engineering_interactive_tutorial/Anthropic%201P) which can be found on Anthropic's courses GitHub repo)*"
   ]
  },
  {
   "cell_type": "markdown",
   "id": "030bdf25-2433-4ea9-a53d-44e47eb917f4",
   "metadata": {},
   "source": [
    "### Basic setup"
   ]
  },
  {
   "cell_type": "code",
   "execution_count": 1,
   "id": "93dd889c-5770-464d-b363-62d3c0122785",
   "metadata": {},
   "outputs": [
    {
     "name": "stdout",
     "output_type": "stream",
     "text": [
      "Don't be a fool and sent your api key to github\n"
     ]
    }
   ],
   "source": [
    "# https://github.com/anthropics/courses/blob/master/prompt_engineering_interactive_tutorial/Anthropic%201P/01_Basic_Prompt_Structure.ipynb\n",
    "from anthropic import Anthropic\n",
    "import pandas as pd\n",
    "import re\n",
    "\n",
    "anthropic_api_key = pd.read_csv(\"~/tmp/anthropic/anthropic-key-1.txt\", sep=\" \", header=None)[0][0]\n",
    "print(\"Don't be a fool and sent your api key to github\")\n",
    "\n",
    "# instantiating the client\n",
    "client = Anthropic(api_key=anthropic_api_key)\n",
    "MODEL_NAME=\"claude-3-5-sonnet-20241022\""
   ]
  },
  {
   "cell_type": "code",
   "execution_count": 2,
   "id": "c20dc189-cb59-47bf-afab-2db0ef3e51b4",
   "metadata": {},
   "outputs": [],
   "source": [
    "# helper function that sends a prompt to Claude and returns Claude's generated response\n",
    "# new argument added for prefill text, with a default value of an empty string\n",
    "def get_completion(prompt: str, system_prompt=\"\", prefill=\"\"):\n",
    "    message = client.messages.create(\n",
    "        model=MODEL_NAME,\n",
    "        max_tokens=2000,\n",
    "        temperature=0.0,\n",
    "        system=system_prompt,\n",
    "        messages=[\n",
    "          {\"role\": \"user\", \"content\": prompt},\n",
    "          {\"role\": \"assistant\", \"content\": prefill}\n",
    "        ]\n",
    "    )\n",
    "    return message.content[0].text"
   ]
  },
  {
   "cell_type": "markdown",
   "id": "b2c17be3-8b84-41ed-b6a2-3566f27773c5",
   "metadata": {},
   "source": [
    "We can use XML tags to make your prompt clearer and more parseable to Claude, but we can also __ask Claude to use XML tags to make its output clearer__ and more easily understandable to humans."
   ]
  },
  {
   "cell_type": "markdown",
   "id": "68f86c8a-0194-426f-b21d-565631a9e6a6",
   "metadata": {},
   "source": [
    "#### Examples: `poem preamble problem`\n",
    "\n",
    "- Asking Claude to skip the preamble entirely by telling Claude to put the poem in XML tags.\n",
    "- Having the output in XML tags allows the end user to reliably get the poem and only the poem by writing a short program to extract the content between XML tags."
   ]
  },
  {
   "cell_type": "code",
   "execution_count": 3,
   "id": "c6478b79-fe55-4760-89d0-1a186a0efbd5",
   "metadata": {},
   "outputs": [
    {
     "name": "stdout",
     "output_type": "stream",
     "text": [
      "--------------------------- Full prompt with variable substutions ---------------------------\n",
      "Please write a haiku about Rabbit. Put it in  tags.\n",
      "\n",
      "------------------------------------- Claude's response -------------------------------------\n",
      "<haiku>\n",
      "Soft cotton tail hops\n",
      "Through dewy morning meadow\n",
      "Whiskers twitch with joy\n",
      "</haiku>\n"
     ]
    }
   ],
   "source": [
    "# Variable content\n",
    "ANIMAL = \"Rabbit\"\n",
    "\n",
    "# Prompt template with a placeholder for the variable content\n",
    "PROMPT = f\"Please write a haiku about {ANIMAL}. Put it in  tags.\"\n",
    "\n",
    "# Print Claude's response\n",
    "print(\"--------------------------- Full prompt with variable substutions ---------------------------\")\n",
    "print(PROMPT)\n",
    "print(\"\\n------------------------------------- Claude's response -------------------------------------\")\n",
    "print(get_completion(PROMPT))"
   ]
  },
  {
   "cell_type": "markdown",
   "id": "b51be5d1-fc13-4e25-a182-b1b59b9b314f",
   "metadata": {},
   "source": [
    "#### Extension: Putting the first XML tag in the assistant turn\n",
    "\n",
    "\"Speaking for Claude\" or \"prefilling Claude's response\": We're putting the first XML tag in the assistant turn, basically telling Claude that it has already said something, and that it should continue from that point onward."
   ]
  },
  {
   "cell_type": "code",
   "execution_count": 7,
   "id": "4d652d0d-1722-493d-be04-c48994e21303",
   "metadata": {},
   "outputs": [
    {
     "name": "stdout",
     "output_type": "stream",
     "text": [
      "--------------------------- Full prompt with variable substutions ---------------------------\n",
      "USER TURN:\n",
      "Please write a haiku about Cat.\n",
      "\n",
      "ASSISTANT TURN:\n",
      "<haiku_tag>\n",
      "\n",
      "------------------------------------- Claude's response -------------------------------------\n",
      "\n",
      "Soft paws pad silent\n",
      "Whiskers twitch in morning light\n",
      "Napping in sunbeams\n",
      "</haiku_tag>\n"
     ]
    }
   ],
   "source": [
    "# Variable content\n",
    "ANIMAL = \"Cat\"\n",
    "\n",
    "# Prompt template with a placeholder for the variable content\n",
    "# no need to ask to put it in tags if we provide the first tag with the assistant message\n",
    "PROMPT = f\"Please write a haiku about {ANIMAL}.\"\n",
    "\n",
    "# Prefill for Claude's response\n",
    "PREFILL = \"<haiku_tag>\"\n",
    "\n",
    "# Print Claude's response\n",
    "print(\"--------------------------- Full prompt with variable substutions ---------------------------\")\n",
    "print(\"USER TURN:\")\n",
    "print(PROMPT)\n",
    "print(\"\\nASSISTANT TURN:\")\n",
    "print(PREFILL)\n",
    "print(\"\\n------------------------------------- Claude's response -------------------------------------\")\n",
    "print(get_completion(PROMPT, prefill=PREFILL))"
   ]
  },
  {
   "cell_type": "markdown",
   "id": "321edb66-82ea-471d-8f06-682b8ce6ab97",
   "metadata": {},
   "source": [
    "#### Enforcing JSON output\n",
    "\n",
    "If we want to enforce JSON output, we can prefill Claude's response with the opening bracket, `{}`."
   ]
  },
  {
   "cell_type": "code",
   "execution_count": 9,
   "id": "7677a917-d482-4512-9bb7-e3fc9ec6a07d",
   "metadata": {},
   "outputs": [
    {
     "name": "stdout",
     "output_type": "stream",
     "text": [
      "--------------------------- Full prompt with variable substutions ---------------------------\n",
      "USER TURN\n",
      "Please write a haiku about Cat. Use JSON format with the keys as \"first_line\", \"second_line\", and \"third_line\".\n",
      "\n",
      "ASSISTANT TURN\n",
      "\n",
      "\n",
      "------------------------------------- Claude's response -------------------------------------\n",
      "{\n",
      "  \"first_line\": \"Soft paws on window\",\n",
      "  \"second_line\": \"Whiskers twitch in morning light\",\n",
      "  \"third_line\": \"Napping in the sun\"\n",
      "}\n"
     ]
    }
   ],
   "source": [
    "\n",
    "\n",
    "# Variable content\n",
    "ANIMAL = \"Cat\"\n",
    "\n",
    "# Prompt template with a placeholder for the variable content\n",
    "PROMPT = f\"Please write a haiku about {ANIMAL}. Use JSON format with the keys as \\\"first_line\\\", \\\"second_line\\\", and \\\"third_line\\\".\"\n",
    "\n",
    "# Prefill for Claude's response\n",
    "PREFILL = \"{\" # works with and without prefill\n",
    "\n",
    "# Print Claude's response\n",
    "print(\"--------------------------- Full prompt with variable substutions ---------------------------\")\n",
    "print(\"USER TURN\")\n",
    "print(PROMPT)\n",
    "print(\"\\nASSISTANT TURN\")\n",
    "print(PREFILL)\n",
    "print(\"\\n------------------------------------- Claude's response -------------------------------------\")\n",
    "print(get_completion(PROMPT, prefill=PREFILL))"
   ]
  },
  {
   "cell_type": "markdown",
   "id": "432618d5-8dec-44fc-b106-f01e29aaa9c4",
   "metadata": {},
   "source": [
    "#### Example of multiple input variables in the same prompt & output formatting specification"
   ]
  },
  {
   "cell_type": "code",
   "execution_count": 10,
   "id": "0ac78526-737d-4023-aff3-e638bfca6bde",
   "metadata": {},
   "outputs": [
    {
     "name": "stdout",
     "output_type": "stream",
     "text": [
      "--------------------------- Full prompt with variable substutions ---------------------------\n",
      "USER TURN\n",
      "Hey Claude. Here is an email: Hi Zack, just pinging you for a quick update on that prompt you were supposed to write.. Make this email more olde english. Write the new version in <olde english_email> XML tags.\n",
      "\n",
      "ASSISTANT TURN\n",
      "<olde english_email>\n",
      "\n",
      "------------------------------------- Claude's response -------------------------------------\n",
      "\n",
      "Dearest Zack,\n",
      "\n",
      "I do hope this missive finds thee in good health and spirits. I write to thee on this fine day to humbly inquire about the status of yon prompt which thou were tasked to compose.\n",
      "\n",
      "Pray tell, might thou grace me with news of its progress?\n",
      "\n",
      "With warmest regards,\n",
      "Thy faithful correspondent\n",
      "</olde english_email>\n"
     ]
    }
   ],
   "source": [
    "# example of multiple input variables in the same prompt AND output formatting specification\n",
    "# all done using XML tags\n",
    "# First input variable\n",
    "EMAIL = \"Hi Zack, just pinging you for a quick update on that prompt you were supposed to write.\"\n",
    "\n",
    "# Second input variable\n",
    "ADJECTIVE = \"olde english\"\n",
    "\n",
    "# Prompt template with a placeholder for the variable content\n",
    "PROMPT = f\"Hey Claude. Here is an email: {EMAIL}. Make this email more {ADJECTIVE}. Write the new version in <{ADJECTIVE}_email> XML tags.\"\n",
    "\n",
    "# Prefill for Claude's response (now as an f-string with a variable)\n",
    "PREFILL = f\"<{ADJECTIVE}_email>\"\n",
    "\n",
    "# Print Claude's response\n",
    "print(\"--------------------------- Full prompt with variable substutions ---------------------------\")\n",
    "print(\"USER TURN\")\n",
    "print(PROMPT)\n",
    "print(\"\\nASSISTANT TURN\")\n",
    "print(PREFILL)\n",
    "print(\"\\n------------------------------------- Claude's response -------------------------------------\")\n",
    "print(get_completion(PROMPT, prefill=PREFILL))"
   ]
  },
  {
   "cell_type": "code",
   "execution_count": null,
   "id": "64c48ae9-79d3-451b-8d0b-b7aeff34daa6",
   "metadata": {},
   "outputs": [],
   "source": []
  }
 ],
 "metadata": {
  "kernelspec": {
   "display_name": "Python 3 (ipykernel)",
   "language": "python",
   "name": "python3"
  },
  "language_info": {
   "codemirror_mode": {
    "name": "ipython",
    "version": 3
   },
   "file_extension": ".py",
   "mimetype": "text/x-python",
   "name": "python",
   "nbconvert_exporter": "python",
   "pygments_lexer": "ipython3",
   "version": "3.12.7"
  }
 },
 "nbformat": 4,
 "nbformat_minor": 5
}
