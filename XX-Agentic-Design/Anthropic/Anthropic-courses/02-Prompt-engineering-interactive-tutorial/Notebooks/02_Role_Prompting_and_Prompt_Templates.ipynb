{
 "cells": [
  {
   "cell_type": "markdown",
   "id": "c3779973-a283-4524-9685-68ffa9be9008",
   "metadata": {},
   "source": [
    "## Role Prompting & Prompt Templates"
   ]
  },
  {
   "cell_type": "markdown",
   "id": "2e3104db-f7d3-4b0b-a998-c083c9c8bb42",
   "metadata": {},
   "source": [
    "*(Coding along with the [Anthropic's Prompt Engineering Interactive Tutorial](https://github.com/anthropics/courses/tree/master/prompt_engineering_interactive_tutorial/Anthropic%201P) which can be found on Anthropic's courses GitHub repo)*"
   ]
  },
  {
   "cell_type": "markdown",
   "id": "292c9b8e-73b8-4ca3-bba8-7f22a0a5adaa",
   "metadata": {},
   "source": [
    "### Basic Setup"
   ]
  },
  {
   "cell_type": "code",
   "execution_count": 4,
   "id": "23d48a83-fe24-42c6-b982-33306e3906d2",
   "metadata": {},
   "outputs": [
    {
     "name": "stdout",
     "output_type": "stream",
     "text": [
      "Don't be a fool and sent your api key to github\n"
     ]
    }
   ],
   "source": [
    "# https://github.com/anthropics/courses/blob/master/prompt_engineering_interactive_tutorial/Anthropic%201P/01_Basic_Prompt_Structure.ipynb\n",
    "from anthropic import Anthropic\n",
    "import pandas as pd\n",
    "import re\n",
    "\n",
    "anthropic_api_key = pd.read_csv(\"~/tmp/anthropic/anthropic-key-1.txt\", sep=\" \", header=None)[0][0]\n",
    "print(\"Don't be a fool and sent your api key to github\")\n",
    "\n",
    "# instantiating the client\n",
    "client = Anthropic(api_key=anthropic_api_key)\n",
    "MODEL_NAME=\"claude-3-5-sonnet-20241022\""
   ]
  },
  {
   "cell_type": "code",
   "execution_count": 5,
   "id": "bb48870d-303e-4343-8162-0fdc8cfaa50c",
   "metadata": {},
   "outputs": [],
   "source": [
    "# helper function that sends a prompt to Claude and returns Claude's generated response\n",
    "def get_completion(prompt: str, system_prompt=\"\"):\n",
    "    message = client.messages.create(\n",
    "        model=MODEL_NAME,\n",
    "        max_tokens=2000,\n",
    "        temperature=0.0,\n",
    "        system=system_prompt,\n",
    "        messages=[\n",
    "          {\"role\": \"user\", \"content\": prompt}\n",
    "        ]\n",
    "    )\n",
    "    \n",
    "    return message.content[0].text"
   ]
  },
  {
   "cell_type": "markdown",
   "id": "578448a2-af7d-4f9d-b957-702ddd726c46",
   "metadata": {},
   "source": [
    "## Role Prompting"
   ]
  },
  {
   "cell_type": "markdown",
   "id": "f547b7ec-1407-4a85-b346-a8e6b0403bf6",
   "metadata": {},
   "source": [
    "__Role Prompting:__\n",
    "\n",
    "- To give Claude context, it is possible to prompt it to inhabit a specific role. \n",
    "- The more detail to the role context, the better.\n",
    "- Priming Claude with a role can improve it's performance in a variety of fields. \n",
    "- Role prompting can also change the style, tone, and manner of Claude's response.\n",
    "- Role prompting can happen either in the system prompt or as part of the User message turn."
   ]
  },
  {
   "cell_type": "markdown",
   "id": "c49f7991-18b3-49c0-89f3-031fb299d8bc",
   "metadata": {},
   "source": [
    "### Examples"
   ]
  },
  {
   "cell_type": "code",
   "execution_count": 6,
   "id": "e8c155c5-afd7-499d-af1b-77a7b8e9bfc4",
   "metadata": {},
   "outputs": [
    {
     "name": "stdout",
     "output_type": "stream",
     "text": [
      "Skateboarding is an impressive blend of athleticism, creativity, and self-expression that has evolved from a counter-culture activity into a respected sport and art form.\n"
     ]
    }
   ],
   "source": [
    "# (1) no role prompting\n",
    "# Claude provides a straightforward and non-stylized answer\n",
    "PROMPT = \"In one sentence, what do you think about skateboarding?\"\n",
    "print(get_completion(PROMPT))"
   ]
  },
  {
   "cell_type": "code",
   "execution_count": 8,
   "id": "9a423a0a-67f4-4820-8450-af4641583220",
   "metadata": {},
   "outputs": [
    {
     "name": "stdout",
     "output_type": "stream",
     "text": [
      "*Flicks tail dismissively* Those noisy rolling things look dangerous and completely inferior to gracefully leaping from high places, which is what any sensible creature would do.\n"
     ]
    }
   ],
   "source": [
    "# (2) same user question, now with role prompting\n",
    "SYSTEM_PROMPT = \"You are a cat.\"\n",
    "PROMPT = \"In one sentence, what do you think about skateboarding?\"\n",
    "print(get_completion(PROMPT, SYSTEM_PROMPT))"
   ]
  },
  {
   "cell_type": "markdown",
   "id": "5dd9b311-f6bf-434a-8187-0743eefa9537",
   "metadata": {},
   "source": [
    "#### Role prompting can make Claude better at performing math or logic tasks"
   ]
  },
  {
   "cell_type": "code",
   "execution_count": 11,
   "id": "7f7ac7b6-8e8c-41d9-9103-4c5dae405c72",
   "metadata": {},
   "outputs": [
    {
     "name": "stdout",
     "output_type": "stream",
     "text": [
      "Let me solve this step by step:\n",
      "\n",
      "1) We know:\n",
      "   * Jack is looking at Anne\n",
      "   * Anne is looking at George\n",
      "   * Jack is married\n",
      "   * George is unmarried\n",
      "   * Anne's marital status is unknown\n",
      "\n",
      "2) To answer if a married person is looking at an unmarried person, we need to consider two cases:\n",
      "\n",
      "   Case 1: If Anne is married\n",
      "   * Jack (married) is looking at Anne (married)\n",
      "   * Anne (married) is looking at George (unmarried)\n",
      "   * In this case, YES - a married person (Anne) is looking at an unmarried person (George)\n",
      "\n",
      "   Case 2: If Anne is unmarried\n",
      "   * Jack (married) is looking at Anne (unmarried)\n",
      "   * Anne (unmarried) is looking at George (unmarried)\n",
      "   * In this case, YES - a married person (Jack) is looking at an unmarried person (Anne)\n",
      "\n",
      "3) In both cases, regardless of Anne's marital status, a married person is looking at an unmarried person.\n",
      "\n",
      "Therefore, the answer is YES, a married person is definitely looking at an unmarried person.\n"
     ]
    }
   ],
   "source": [
    "# in the example below, there is a definitive correct answer, which is yes\n",
    "# however, Claude gets it wrong and thinks it lacks information, which it doesn't\n",
    "PROMPT = \"Jack is looking at Anne. Anne is looking at George. Jack is married, George is not, and we don’t know if Anne is married. Is a married person looking at an unmarried person?\"\n",
    "print(get_completion(PROMPT)) # Claude is actually getting it right wich differs from the tutorial result"
   ]
  },
  {
   "cell_type": "code",
   "execution_count": 10,
   "id": "f20b290d-75dd-42d4-af98-93d15d15617a",
   "metadata": {},
   "outputs": [
    {
     "name": "stdout",
     "output_type": "stream",
     "text": [
      "Let me solve this step by step.\n",
      "\n",
      "1) We know:\n",
      "   * Jack is looking at Anne\n",
      "   * Anne is looking at George\n",
      "   * Jack is married\n",
      "   * George is unmarried\n",
      "   * Anne's marital status is unknown\n",
      "\n",
      "2) To answer if a married person is looking at an unmarried person, we need to consider both:\n",
      "   * Jack looking at Anne\n",
      "   * Anne looking at George\n",
      "\n",
      "3) Let's analyze each case:\n",
      "   * Jack (married) is looking at Anne (unknown)\n",
      "   * Anne (unknown) is looking at George (unmarried)\n",
      "\n",
      "4) For Jack looking at Anne:\n",
      "   * If Anne is married → married person looking at married person\n",
      "   * If Anne is unmarried → married person looking at unmarried person\n",
      "\n",
      "5) For Anne looking at George:\n",
      "   * If Anne is married → married person looking at unmarried person\n",
      "   * If Anne is unmarried → unmarried person looking at unmarried person\n",
      "\n",
      "6) Conclusion:\n",
      "   * If Anne is married → Yes (Anne looking at George)\n",
      "   * If Anne is unmarried → Yes (Jack looking at Anne)\n",
      "\n",
      "Therefore, regardless of Anne's marital status, the answer is YES - a married person is definitely looking at an unmarried person.\n"
     ]
    }
   ],
   "source": [
    "# with role assignment, Claude gets it right\n",
    "SYSTEM_PROMPT = \"You are a logic bot designed to answer complex logic problems.\"\n",
    "PROMPT = \"Jack is looking at Anne. Anne is looking at George. Jack is married, George is not, and we don’t know if Anne is married. Is a married person looking at an unmarried person?\"\n",
    "print(get_completion(PROMPT, SYSTEM_PROMPT))"
   ]
  },
  {
   "cell_type": "markdown",
   "id": "f7cd0459-8cbc-4660-8a63-1620c542b2ae",
   "metadata": {},
   "source": [
    "### Exercise: Math Correction"
   ]
  },
  {
   "cell_type": "code",
   "execution_count": 12,
   "id": "29176d18-0511-450b-9d91-2d74dc8ada0b",
   "metadata": {},
   "outputs": [
    {
     "name": "stdout",
     "output_type": "stream",
     "text": [
      "No, this equation is not solved correctly. Let me show you the correct solution:\n",
      "\n",
      "2x - 3 = 9\n",
      "\n",
      "First, add 3 to both sides to isolate the term with x:\n",
      "2x - 3 + 3 = 9 + 3\n",
      "2x = 12\n",
      "\n",
      "Then, divide both sides by 2:\n",
      "2x ÷ 2 = 12 ÷ 2\n",
      "x = 6\n",
      "\n",
      "The error in the original solution was going from 2x - 3 = 9 to 2x = 6. This step skipped the proper addition of 3 to both sides and incorrectly changed 9 to 6.\n",
      "\n",
      "You can verify the answer by plugging x = 6 back into the original equation:\n",
      "2(6) - 3 = 9\n",
      "12 - 3 = 9\n",
      "9 = 9 ✓\n",
      "\n",
      "--------------------------- GRADING ---------------------------\n",
      "This exercise has been correctly solved: True\n"
     ]
    }
   ],
   "source": [
    "# System prompt - if you don't want to use a system prompt, you can leave this variable set to an empty string\n",
    "# the tutorial says: below, Claude incorrectly assesses the math problem as correctly solved\n",
    "# this is wrong, Claude gets it right without system prompt\n",
    "SYSTEM_PROMPT = \"\"\n",
    "\n",
    "# Prompt\n",
    "PROMPT = \"\"\"Is this equation solved correctly below?\n",
    "\n",
    "2x - 3 = 9\n",
    "2x = 6\n",
    "x = 3\"\"\"\n",
    "\n",
    "# Get Claude's response\n",
    "response = get_completion(PROMPT, SYSTEM_PROMPT)\n",
    "\n",
    "# Function to grade exercise correctness\n",
    "def grade_exercise(text):\n",
    "    if \"incorrect\" in text or \"not correct\" in text.lower():\n",
    "        return True\n",
    "    else:\n",
    "        return False\n",
    "\n",
    "# Print Claude's response and the corresponding grade\n",
    "print(response)\n",
    "print(\"\\n--------------------------- GRADING ---------------------------\")\n",
    "print(\"This exercise has been correctly solved:\", grade_exercise(response))"
   ]
  },
  {
   "cell_type": "markdown",
   "id": "6702996e-3bd5-497e-b24b-dc8364827178",
   "metadata": {},
   "source": [
    "## Prompt Templates: Separating Data and Instructions"
   ]
  },
  {
   "cell_type": "markdown",
   "id": "68ef3114-fc95-45f3-ab23-49df9defb774",
   "metadata": {},
   "source": [
    "__Writing a substitutable prompt template:__\n",
    "\n",
    "- We want a prompt templates that can be modified later with additional input data before submitting to Claude.\n",
    "- This is useful if we want Claude to do the same thing repeatedly but with different data each time: __prompt templates simplify repetitive tasks.__ \n",
    "- We can achieve this by separating the fixed skeleton of the prompt from variable user input.\n",
    "- We do this substitution using variables and f-strings, but you can also do it with the format() method.\n",
    "- It is very important to make sure Claude knows where variables start and end: __wrap the input in XML tags__."
   ]
  },
  {
   "cell_type": "markdown",
   "id": "7b8d1b6e-e9d8-4cce-816c-2257659ea711",
   "metadata": {},
   "source": [
    "### Example: Asking Claude to act as an animal noise generator\n",
    "\n",
    "The full prompt submitted to Claude is a `PROMPT_TEMPLATE` substituted with the input that replaces the `ANIMAL` placeholder via an f-string when we print out the full prompt."
   ]
  },
  {
   "cell_type": "code",
   "execution_count": 13,
   "id": "51738a60-796e-4d7c-ac63-64613994f76d",
   "metadata": {},
   "outputs": [
    {
     "name": "stdout",
     "output_type": "stream",
     "text": [
      "--------------------------- Full prompt with variable substutions ---------------------------\n",
      "I will tell you the name of an animal. Please respond with the noise that animal makes. Cow\n",
      "\n",
      "------------------------------------- Claude's response -------------------------------------\n",
      "Moo!\n"
     ]
    }
   ],
   "source": [
    "# Variable content\n",
    "ANIMAL = \"Cow\"\n",
    "\n",
    "# Prompt template with a placeholder for the variable content\n",
    "PROMPT = f\"I will tell you the name of an animal. Please respond with the noise that animal makes. {ANIMAL}\"\n",
    "\n",
    "# Print Claude's response\n",
    "print(\"--------------------------- Full prompt with variable substutions ---------------------------\")\n",
    "print(PROMPT)\n",
    "print(\"\\n------------------------------------- Claude's response -------------------------------------\")\n",
    "print(get_completion(PROMPT))"
   ]
  },
  {
   "cell_type": "markdown",
   "id": "dd68d621-f54a-441c-969c-f10c9d9a24ce",
   "metadata": {},
   "source": [
    "Example for surrounding the user input sentences in XML tags. This shows Claude where the input data begins and ends despite the misleading hyphen before `Each is about an animal, like rabbits`."
   ]
  },
  {
   "cell_type": "code",
   "execution_count": 18,
   "id": "4203d57d-732f-4d31-b9fa-c70592f33d57",
   "metadata": {},
   "outputs": [
    {
     "name": "stdout",
     "output_type": "stream",
     "text": [
      "--------------------------- Full prompt with variable substutions ---------------------------\n",
      "Below is a list of sentences. Tell me the second item on the list.\n",
      "\n",
      "- Each is about an animal, like rabbits.\n",
      "<sentences>- I like how cows sound\n",
      "- This sentence is about spiders\n",
      "- This sentence may appear to be about dogs but it's actually about pigs</sentences>\n",
      "\n",
      "------------------------------------- Claude's response -------------------------------------\n",
      "The second sentence in the list is: \"This sentence is about spiders\"\n"
     ]
    }
   ],
   "source": [
    "# Variable content\n",
    "SENTENCES = \"\"\"- I like how cows sound\n",
    "- This sentence is about spiders\n",
    "- This sentence may appear to be about dogs but it's actually about pigs\"\"\"\n",
    "\n",
    "# Prompt template with a placeholder for the variable content\n",
    "# setting the placeholder in XML tags\n",
    "# otherwise Claude gets confused by the hyphen before \"Each\" and takes it as part of the list\n",
    "PROMPT = f\"\"\"Below is a list of sentences. Tell me the second item on the list.\n",
    "\n",
    "- Each is about an animal, like rabbits.\n",
    "<sentences>{SENTENCES}</sentences>\"\"\"\n",
    "\n",
    "# Print Claude's response\n",
    "print(\"--------------------------- Full prompt with variable substutions ---------------------------\")\n",
    "print(PROMPT)\n",
    "print(\"\\n------------------------------------- Claude's response -------------------------------------\")\n",
    "print(get_completion(PROMPT))\n",
    "     "
   ]
  },
  {
   "cell_type": "markdown",
   "id": "e4140656-9d10-4e6c-bf04-2502db35206f",
   "metadata": {},
   "source": [
    "### Exercise: Dog Question with Typos"
   ]
  },
  {
   "cell_type": "code",
   "execution_count": 22,
   "id": "37fd3a43-f5cb-4de1-bfd5-552124a5064a",
   "metadata": {},
   "outputs": [
    {
     "name": "stdout",
     "output_type": "stream",
     "text": [
      "--------------------------- Full prompt with variable substutions ---------------------------\n",
      "Hia its me i have a q about dogs jkaerjv <question>ar cn brown?</question> jklmvca tx it help me muhch much atx fst fst answer short short tx\n",
      "\n",
      "------------------------------------- Claude's response -------------------------------------\n",
      "Yes, dogs can be brown. Brown is a very common color for dogs.\n",
      "\n",
      "------------------------------------------ GRADING ------------------------------------------\n",
      "This exercise has been correctly solved: True\n"
     ]
    }
   ],
   "source": [
    "# the messy and mistake-ridden writing is intentional here\n",
    "# so you can see how Claude reacts to such mistakes\n",
    "\n",
    "# Variable content\n",
    "QUESTION = \"ar cn brown?\"\n",
    "\n",
    "# Prompt template with a placeholder for the variable content\n",
    "PROMPT = f\"Hia its me i have a q about dogs jkaerjv <question>{QUESTION}</question> jklmvca tx it help me muhch much atx fst fst answer short short tx\"\n",
    "\n",
    "# Get Claude's response\n",
    "response = get_completion(PROMPT)\n",
    "\n",
    "# Function to grade exercise correctness\n",
    "def grade_exercise(text):\n",
    "    return bool(re.search(\"brown\", text.lower()))\n",
    "\n",
    "# Print Claude's response\n",
    "print(\"--------------------------- Full prompt with variable substutions ---------------------------\")\n",
    "print(PROMPT)\n",
    "print(\"\\n------------------------------------- Claude's response -------------------------------------\")\n",
    "print(response)\n",
    "print(\"\\n------------------------------------------ GRADING ------------------------------------------\")\n",
    "print(\"This exercise has been correctly solved:\", grade_exercise(response))"
   ]
  },
  {
   "cell_type": "code",
   "execution_count": null,
   "id": "b5704cb5-5004-48c0-a320-2842ace516ea",
   "metadata": {},
   "outputs": [],
   "source": []
  }
 ],
 "metadata": {
  "kernelspec": {
   "display_name": "Python 3 (ipykernel)",
   "language": "python",
   "name": "python3"
  },
  "language_info": {
   "codemirror_mode": {
    "name": "ipython",
    "version": 3
   },
   "file_extension": ".py",
   "mimetype": "text/x-python",
   "name": "python",
   "nbconvert_exporter": "python",
   "pygments_lexer": "ipython3",
   "version": "3.12.7"
  }
 },
 "nbformat": 4,
 "nbformat_minor": 5
}
