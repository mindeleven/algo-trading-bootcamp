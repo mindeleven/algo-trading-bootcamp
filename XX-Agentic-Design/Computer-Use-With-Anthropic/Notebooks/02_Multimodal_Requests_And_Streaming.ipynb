{
 "cells": [
  {
   "cell_type": "markdown",
   "id": "d235f951-b209-4d64-9743-84946eba713b",
   "metadata": {},
   "source": [
    "## Multimodal Requests & Streaming"
   ]
  },
  {
   "cell_type": "markdown",
   "id": "4dd2e0b6-0f6e-4014-8f06-a99653431290",
   "metadata": {},
   "source": [
    "*(Coding along with deeplearning.ai's online course [Building toward Computer Use with Anthropic - Learn how an AI Assistant is built to use and accomplish tasks on computers](https://learn.deeplearning.ai/courses/building-toward-computer-use-with-anthropic/lesson/1/introduction) taught by Colt Steele)*"
   ]
  },
  {
   "cell_type": "code",
   "execution_count": 1,
   "id": "56c7b1ab-bdc6-464f-bcc4-c7b9dce9e48e",
   "metadata": {},
   "outputs": [
    {
     "name": "stdout",
     "output_type": "stream",
     "text": [
      "Don't be a fool and sent your api key to github\n"
     ]
    }
   ],
   "source": [
    "# https://learn.deeplearning.ai/courses/building-toward-computer-use-with-anthropic/lesson/3/working-with-the-api\n",
    "from anthropic import Anthropic\n",
    "import pandas as pd\n",
    "\n",
    "anthropic_api_key = pd.read_csv(\"~/tmp/anthropic/anthropic-key-1.txt\", sep=\" \", header=None)[0][0]\n",
    "print(\"Don't be a fool and sent your api key to github\")\n",
    "\n",
    "client = Anthropic(api_key=anthropic_api_key)\n",
    "MODEL_NAME=\"claude-3-5-sonnet-20241022\""
   ]
  },
  {
   "cell_type": "markdown",
   "id": "65914b77-9d54-4aaa-89fe-4469612edbd8",
   "metadata": {},
   "source": [
    "### Content Blocks"
   ]
  },
  {
   "cell_type": "code",
   "execution_count": 2,
   "id": "a4314369-f265-4e6a-9d9f-1a6a24c35249",
   "metadata": {},
   "outputs": [
    {
     "name": "stdout",
     "output_type": "stream",
     "text": [
      "Here's a classic one:\n",
      "\n",
      "Why don't scientists trust atoms?\n",
      "Because they make up everything! 😄\n"
     ]
    }
   ],
   "source": [
    "# taking a closer look at the message structure\n",
    "messages = [\n",
    "    {\n",
    "        \"role\": \"user\",\n",
    "        # here we're setting content to a string which is a shortcut\n",
    "        \"content\": \"tell me a joke\"\n",
    "    }\n",
    "]\n",
    "\n",
    "response = client.messages.create(\n",
    "    messages=messages,\n",
    "    model=MODEL_NAME,\n",
    "    max_tokens=200\n",
    ")\n",
    "\n",
    "print(response.content[0].text)"
   ]
  },
  {
   "cell_type": "code",
   "execution_count": 3,
   "id": "0371ae53-0fda-47bf-8668-0e18d77a7480",
   "metadata": {},
   "outputs": [
    {
     "name": "stdout",
     "output_type": "stream",
     "text": [
      "Here's one:\n",
      "\n",
      "Why did the crypto trader get kicked out of the gym?\n",
      "\n",
      "Because he kept doing too many pump and dumps!\n"
     ]
    }
   ],
   "source": [
    "messages = [\n",
    "    {\n",
    "        \"role\": \"user\",\n",
    "        # here we're setting content to a list\n",
    "        # having just one string like above is a shortcut\n",
    "        \"content\": [\n",
    "            # single content block\n",
    "            {\"type\": \"text\", \"text\": \"tell me a joke about crypto trading\"},\n",
    "        ]\n",
    "    }\n",
    "]\n",
    "\n",
    "response = client.messages.create(\n",
    "    messages=messages,\n",
    "    model=MODEL_NAME,\n",
    "    max_tokens=200\n",
    ")\n",
    "\n",
    "print(response.content[0].text)"
   ]
  },
  {
   "cell_type": "code",
   "execution_count": 4,
   "id": "e2b7399b-d946-488b-bc6c-9447757534e2",
   "metadata": {},
   "outputs": [
    {
     "name": "stdout",
     "output_type": "stream",
     "text": [
      "I'm Claude, an AI assistant created by Anthropic. I aim to be direct and honest about this.\n"
     ]
    }
   ],
   "source": [
    "messages = [\n",
    "    {\n",
    "        \"role\": \"user\",\n",
    "        # now we have a list of content blocks in a single message\n",
    "        # all list items are combined and turned into a single input block\n",
    "        \"content\": [\n",
    "            {\"type\": \"text\", \"text\": \"who\"},\n",
    "            {\"type\": \"text\", \"text\": \"made\"},\n",
    "            {\"type\": \"text\", \"text\": \"you?\"},\n",
    "        ]\n",
    "    }\n",
    "]\n",
    "\n",
    "response = client.messages.create(\n",
    "    messages=messages,\n",
    "    model=MODEL_NAME,\n",
    "    max_tokens=200\n",
    ")\n",
    "\n",
    "print(response.content[0].text)"
   ]
  },
  {
   "cell_type": "markdown",
   "id": "00907303-49ff-4049-aade-3cd9fdb1e63f",
   "metadata": {},
   "source": [
    "### Image Prompts"
   ]
  },
  {
   "cell_type": "code",
   "execution_count": 5,
   "id": "cbf6e363-1be8-4bfc-91c1-f84e1820b9cb",
   "metadata": {},
   "outputs": [],
   "source": [
    "# from IPython.display import Image\n",
    "# Image(filename='../assets/images/food.png') "
   ]
  },
  {
   "cell_type": "markdown",
   "id": "3da34455-6a46-49c6-bdc9-4ba34d6d0bbc",
   "metadata": {},
   "source": [
    "<img src=\"../assets/images/food.png\" width=\"50%\" />"
   ]
  },
  {
   "cell_type": "markdown",
   "id": "fc7a7755-aaf7-46ba-9a90-a2209f4adee5",
   "metadata": {},
   "source": [
    "#### __Image Messages__"
   ]
  },
  {
   "cell_type": "code",
   "execution_count": 6,
   "id": "541c5fb4-14f2-4098-8ef5-4e4e9cfec87f",
   "metadata": {},
   "outputs": [],
   "source": [
    "import base64\n",
    "# opens the image file in \"read binary\" mode\n",
    "with open(\"../assets/images/food.png\", \"rb\") as image_file:\n",
    "    # reads the contents of the image as a bytes object\n",
    "    binary_data = image_file.read() \n",
    "    # encodes the binary data using Base64 encoding\n",
    "    base_64_encoded_data = base64.b64encode(binary_data) \n",
    "    # decodes base_64_encoded_data from bytes to a string\n",
    "    base64_string = base_64_encoded_data.decode('utf-8')"
   ]
  },
  {
   "cell_type": "code",
   "execution_count": 7,
   "id": "dfadcfe3-5e9a-4773-8bb1-4cc53daafc3e",
   "metadata": {},
   "outputs": [
    {
     "data": {
      "text/plain": [
       "'iVBORw0KGgoAAAANSUhEUgAACIIAAAW8CAYAAABciLjCAAAMTGlDQ1BJQ0MgUHJvZmlsZQAASImVVwdYU1cbPndkQggQiICMsJcg'"
      ]
     },
     "execution_count": 7,
     "metadata": {},
     "output_type": "execute_result"
    }
   ],
   "source": [
    "base64_string[:100] # encoded image data"
   ]
  },
  {
   "cell_type": "markdown",
   "id": "70494fed-b580-4bd7-8468-f969b6f31802",
   "metadata": {},
   "source": [
    "__How to structure a message that contains an image ?__"
   ]
  },
  {
   "cell_type": "code",
   "execution_count": 10,
   "id": "353035b6-53dc-4086-9755-63db23cf0c56",
   "metadata": {},
   "outputs": [],
   "source": [
    "messages = [\n",
    "    {\n",
    "        \"role\": \"user\",\n",
    "        \"content\": [{  \n",
    "            # first item of content list\n",
    "            \"type\": \"image\", # new type, above we just had 'text'\n",
    "            \"source\": { # source key set to dictionary\n",
    "                \"type\": \"base64\", # encoding format, currently only base64 is supported\n",
    "                \"media_type\": \"image/png\", # the image media type\n",
    "                \"data\": base64_string # the actual image data\n",
    "            },\n",
    "        },\n",
    "        {\n",
    "            # second content block\n",
    "            \"type\": \"text\",\n",
    "            \"text\": \"\"\"How many to-go containers of each type \n",
    "            are in this image?\"\"\"\n",
    "        }]\n",
    "    }\n",
    "]"
   ]
  },
  {
   "cell_type": "code",
   "execution_count": 11,
   "id": "a6b211d8-1fee-46e1-becd-502a351c5e8b",
   "metadata": {},
   "outputs": [
    {
     "name": "stdout",
     "output_type": "stream",
     "text": [
      "In this image, there are:\n",
      "- 3 rectangular plastic containers with clear lids (appears to be standard takeout containers)\n",
      "- 3 white paper/cardboard folded takeout boxes (often called \"Chinese takeout boxes\" or \"oyster pails\")\n",
      "\n",
      "So there's a total of 6 containers shown on what appears to be a dark wooden table surface.\n"
     ]
    }
   ],
   "source": [
    "response = client.messages.create(\n",
    "    messages=messages,\n",
    "    model=MODEL_NAME,\n",
    "    max_tokens=200\n",
    ")\n",
    "print(response.content[0].text)"
   ]
  },
  {
   "cell_type": "markdown",
   "id": "dfc73337-ff56-4a5d-8493-3eae8ea84865",
   "metadata": {},
   "source": [
    "#### __Image Block Helper Function__"
   ]
  },
  {
   "cell_type": "code",
   "execution_count": 12,
   "id": "2ffe5d5c-aadc-42f6-a28a-bbe51dd58279",
   "metadata": {},
   "outputs": [],
   "source": [
    "import base64\n",
    "import mimetypes\n",
    "\n",
    "def create_image_message(image_path):\n",
    "    # open the image file in \"read binary\" mode\n",
    "    with open(image_path, \"rb\") as image_file:\n",
    "        # Read the contents of the image as a bytes object\n",
    "        binary_data = image_file.read()\n",
    "    # encode the binary data using Base64 encoding\n",
    "    base64_encoded_data = base64.b64encode(binary_data)\n",
    "    # decode base64_encoded_data from bytes to a string\n",
    "    base64_string = base64_encoded_data.decode('utf-8')\n",
    "    # get the MIME type of the image based on its file extension\n",
    "    mime_type, _ = mimetypes.guess_type(image_path)\n",
    "    # create the image block\n",
    "    image_block = {\n",
    "        \"type\": \"image\",\n",
    "        \"source\": {\n",
    "            \"type\": \"base64\",\n",
    "            \"media_type\": mime_type,\n",
    "            \"data\": base64_string\n",
    "        }\n",
    "    }\n",
    "    \n",
    "    \n",
    "    return image_block"
   ]
  },
  {
   "cell_type": "markdown",
   "id": "35dd1d78-74ea-455a-be08-51deaa68d751",
   "metadata": {},
   "source": [
    "<img src=\"../assets/images/plant.png\" width=\"50%\" />"
   ]
  },
  {
   "cell_type": "code",
   "execution_count": 14,
   "id": "d5ee6389-773c-46de-9277-3fe88a6c62cb",
   "metadata": {},
   "outputs": [
    {
     "name": "stdout",
     "output_type": "stream",
     "text": [
      "This appears to be a Nepenthes pitcher plant, which is a type of carnivorous plant. The image shows the distinctive pitcher-shaped trap that these plants use to catch and digest insects. The pitcher has a yellowish-green coloration with reddish striping, which is typical of many Nepenthes species. Without more detailed views of the plant's overall structure and growing conditions, it would be difficult to identify the exact species, as there are over 170 known species of Nepenthes. These plants are native to Southeast Asia and are also known as tropical pitcher plants or monkey cups.\n"
     ]
    }
   ],
   "source": [
    "messages = [\n",
    "    {\n",
    "        \"role\": \"user\",\n",
    "        \"content\": [\n",
    "            create_image_message(\"../assets/images/plant.png\"),\n",
    "            {\"type\": \"text\", \"text\": \"What species is this?\"}\n",
    "        ]\n",
    "    }\n",
    "]\n",
    "\n",
    "response = client.messages.create(\n",
    "    model=MODEL_NAME,\n",
    "    max_tokens=2048,\n",
    "    messages=messages\n",
    ")\n",
    "print(response.content[0].text)"
   ]
  },
  {
   "cell_type": "markdown",
   "id": "d312dc03-94d4-4033-8205-dc61be1a3d51",
   "metadata": {},
   "source": [
    "#### __A Real World Use Case__"
   ]
  },
  {
   "cell_type": "markdown",
   "id": "a87a4c33-c463-4f3d-9486-6b915d58aaef",
   "metadata": {},
   "source": [
    "<img src=\"../assets/images/invoice.png\" width=\"50%\" />"
   ]
  },
  {
   "cell_type": "code",
   "execution_count": 17,
   "id": "37e1d862-ad46-40df-9678-69b99dccd901",
   "metadata": {},
   "outputs": [
    {
     "name": "stdout",
     "output_type": "stream",
     "text": [
      "{\n",
      "  \"invoice_number\": \"INV-2024-0042\",\n",
      "  \"date\": \"2025-03-17\",\n",
      "  \"due_date\": \"2025-04-16\",\n",
      "  \"company\": {\n",
      "    \"name\": \"ACME CORPORATION\",\n",
      "    \"address\": \"123 Business Avenue\",\n",
      "    \"city\": \"Silicon Valley\",\n",
      "    \"state\": \"CA\",\n",
      "    \"zip\": \"94025\",\n",
      "    \"email\": \"accounts@acmecorp.com\"\n",
      "  },\n",
      "  \"bill_to\": {\n",
      "    \"address\": \"789 Market Street, Suite 500\",\n",
      "    \"city\": \"Los Angeles\",\n",
      "    \"state\": \"CA\",\n",
      "    \"zip\": \"90015\"\n",
      "  },\n",
      "  \"line_items\": [\n",
      "    {\n",
      "      \"description\": \"Enterprise Software License\",\n",
      "      \"quantity\": 1,\n",
      "      \"unit_price\": 5000.00,\n",
      "      \"amount\": 5000.00\n",
      "    },\n",
      "    {\n",
      "      \"description\": \"Implementation Services\",\n",
      "      \"quantity\": 40,\n",
      "      \"unit_price\": 150.00,\n",
      "      \"amount\": 6000.00\n",
      "    },\n",
      "    {\n",
      "      \"description\": \"Premium Support Plan (Annual)\",\n",
      "      \"quantity\": 1,\n",
      "      \"unit_price\": 2500.00,\n",
      "      \"amount\": 2500.00\n",
      "    }\n",
      "  ],\n",
      "  \"subtotal\": 13500.00,\n",
      "  \"tax_rate\": 8.5,\n",
      "  \"tax_amount\": 1147.50,\n",
      "  \"total\": 14647.50,\n",
      "  \"payment_terms\": \"Net 30\",\n",
      "  \"late_fee_rate\": 1.5\n",
      "}\n"
     ]
    }
   ],
   "source": [
    "messages = [\n",
    "    {\n",
    "        \"role\": \"user\",\n",
    "        \"content\": [\n",
    "            create_image_message(\"../assets/images/invoice.png\"),\n",
    "            {\"type\": \"text\", \"text\": \"\"\"\n",
    "                Generate a JSON object representing the contents\n",
    "                of this invoice.  It should include all dates,\n",
    "                dollar amounts, and addresses. \n",
    "                Only respond with the JSON itself.\n",
    "            \"\"\"\n",
    "            }\n",
    "        ]\n",
    "    }\n",
    "]\n",
    "\n",
    "response = client.messages.create(\n",
    "    model=MODEL_NAME,\n",
    "    max_tokens=2048,\n",
    "    messages=messages\n",
    ")\n",
    "print(response.content[0].text)"
   ]
  },
  {
   "cell_type": "markdown",
   "id": "5ccd2686-3583-471e-860a-b74429f5d6a5",
   "metadata": {},
   "source": [
    "### Streaming"
   ]
  },
  {
   "cell_type": "code",
   "execution_count": 18,
   "id": "748173da-234a-43f4-8c6d-01d54df469c8",
   "metadata": {},
   "outputs": [
    {
     "name": "stdout",
     "output_type": "stream",
     "text": [
      "Here's an original poem for you:\n",
      "\n",
      "\"Whispers of Dawn\"\n",
      "\n",
      "Morning light breaks through silver clouds,\n",
      "As dewdrops dance on emerald leaves,\n",
      "The world awakens from its shroud,\n",
      "While gentle winds whisper through trees.\n",
      "\n",
      "Birds paint melodies in the air,\n",
      "Their songs a gift to greet the day,\n",
      "Nature's symphony beyond compare,\n",
      "Chasing shadows of night away.\n",
      "\n",
      "In this moment, time stands still,\n",
      "As beauty unfolds, pure and bright,\n",
      "Promise lingers on the hill,\n",
      "Where darkness yields to golden light.\n"
     ]
    }
   ],
   "source": [
    "response = client.messages.create(\n",
    "    max_tokens=1024,\n",
    "    messages=[{\"role\": \"user\", \"content\": \"write a poem\"}],\n",
    "    model=MODEL_NAME,\n",
    ")\n",
    "\n",
    "# usually we're waiting for a response until the entire response is generated\n",
    "print(response.content[0].text)"
   ]
  },
  {
   "cell_type": "code",
   "execution_count": 24,
   "id": "43f94c31-fd77-4639-916d-ce45096c9418",
   "metadata": {},
   "outputs": [
    {
     "name": "stdout",
     "output_type": "stream",
     "text": [
      " Island, located in Chesapeake Bay,\n",
      " by day.y sinking into the waves day\n",
      " lived there for hundreds of years,\n",
      " watermen, crabbers - now facing their fears.\n",
      "\n",
      " seas threaten this unique way of life,\n",
      " storms grow stronger, bringing more strife.\n",
      " distinct dialect, a piece of history so rare,\n",
      " soon be lost to the sea's relentless stare.\n",
      "\n",
      " ancestral home,ing to their\n",
      " still roam.es erode and waters\n",
      " others must leave,, while\n",
      " to grieve.erished island continues\n",
      "\n",
      " this vanishing land,\n",
      " and sand?nity built on water\n",
      " one we all should know,\n",
      " climate change and the tides' ebb and flow.\n",
      "\n",
      " the physical disappearance of Tangier Island due to sea level rise and erosion, as well as the cultural loss that accompanies it. The island's unique community and dialect represent a living connection to early American history that is at risk of being lost.]"
     ]
    }
   ],
   "source": [
    "# with streaming we can get content back as the content is generated\n",
    "# speeds up the time till we see the first words of the response, not the response itself\n",
    "with client.messages.stream(\n",
    "    max_tokens=1024,\n",
    "    messages=[\n",
    "        {\"role\": \"user\", \"content\": \"Write a poem about trees\"},\n",
    "        {\"role\": \"assistant\", \"content\": \"Tangier\"}\n",
    "    ],\n",
    "    model=MODEL_NAME,\n",
    ") as stream:\n",
    "  for text in stream.text_stream:\n",
    "      print(text, end=\"\", flush=True)"
   ]
  },
  {
   "cell_type": "code",
   "execution_count": null,
   "id": "72456ed2-52f3-4718-987b-97f55b2d3f5d",
   "metadata": {},
   "outputs": [],
   "source": []
  }
 ],
 "metadata": {
  "kernelspec": {
   "display_name": "Python 3 (ipykernel)",
   "language": "python",
   "name": "python3"
  },
  "language_info": {
   "codemirror_mode": {
    "name": "ipython",
    "version": 3
   },
   "file_extension": ".py",
   "mimetype": "text/x-python",
   "name": "python",
   "nbconvert_exporter": "python",
   "pygments_lexer": "ipython3",
   "version": "3.12.7"
  }
 },
 "nbformat": 4,
 "nbformat_minor": 5
}
