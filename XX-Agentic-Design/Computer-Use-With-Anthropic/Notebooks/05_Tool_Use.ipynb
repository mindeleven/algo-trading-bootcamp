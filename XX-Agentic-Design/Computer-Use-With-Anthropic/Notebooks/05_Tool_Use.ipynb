{
 "cells": [
  {
   "cell_type": "markdown",
   "id": "989c93fc-ba57-4a98-acff-7797b7eb79b6",
   "metadata": {},
   "source": [
    "## Tool Use"
   ]
  },
  {
   "cell_type": "markdown",
   "id": "a10e2120-967e-4f79-8e7c-ae0bafdc2588",
   "metadata": {},
   "source": [
    "*(Coding along with deeplearning.ai's online course [Building toward Computer Use with Anthropic - Learn how an AI Assistant is built to use and accomplish tasks on computers](https://learn.deeplearning.ai/courses/building-toward-computer-use-with-anthropic/lesson/1/introduction) taught by Colt Steele)*"
   ]
  },
  {
   "cell_type": "code",
   "execution_count": 1,
   "id": "e620f3b7-f38d-4b5e-bdc1-673bbc3a3304",
   "metadata": {},
   "outputs": [
    {
     "name": "stdout",
     "output_type": "stream",
     "text": [
      "Don't be a fool and sent your api key to github\n"
     ]
    }
   ],
   "source": [
    "# https://learn.deeplearning.ai/courses/building-toward-computer-use-with-anthropic/lesson/3/working-with-the-api\n",
    "from anthropic import Anthropic\n",
    "import pandas as pd\n",
    "\n",
    "anthropic_api_key = pd.read_csv(\"~/tmp/anthropic/anthropic-key-1.txt\", sep=\" \", header=None)[0][0]\n",
    "print(\"Don't be a fool and sent your api key to github\")\n",
    "\n",
    "client = Anthropic(api_key=anthropic_api_key)\n",
    "MODEL_NAME=\"claude-3-5-sonnet-20241022\""
   ]
  },
  {
   "cell_type": "markdown",
   "id": "1d112119-b26c-4fc8-a2eb-878c96b07d63",
   "metadata": {},
   "source": [
    "#### __What Can You Do With Tool Use?__ \n",
    "\n",
    "- Retrieve data\n",
    "- Query databases\n",
    "- Interact with APIs\n",
    "- Execute code\n",
    "- Search the web\n",
    "- Control a computer"
   ]
  },
  {
   "cell_type": "markdown",
   "id": "438d3470-dda8-48d2-8851-81db8b87f044",
   "metadata": {},
   "source": [
    "#### __Tool Use Flow__\n",
    "\n",
    "1. Claude wants to call a tool like inventory_lookup()\n",
    "2. We run the underlying tool, querying the database\n",
    "3. Database returns matching data\n",
    "4. We provide Claude with the result\n",
    "\n",
    "<img src=\"../assets/images/tool_use.png\" width=\"70%\" />"
   ]
  },
  {
   "cell_type": "markdown",
   "id": "624e7162-dc2b-45fb-8969-3a77e72dcc05",
   "metadata": {},
   "source": [
    "#### __Our Fake Database__"
   ]
  },
  {
   "cell_type": "code",
   "execution_count": 23,
   "id": "482158b9-990b-4abe-ba0f-cf7ff2720a86",
   "metadata": {},
   "outputs": [],
   "source": [
    "class FakeDatabase:\n",
    "    def __init__(self):\n",
    "        self.customers = [\n",
    "            {\"id\": \"1213210\", \"name\": \"John Doe\", \"email\": \"john@gmail.com\", \"phone\": \"123-456-7890\", \"username\": \"johndoe\"},\n",
    "            {\"id\": \"2837622\", \"name\": \"Priya Patel\", \"email\": \"priya@candy.com\", \"phone\": \"987-654-3210\", \"username\": \"priya123\"},\n",
    "            {\"id\": \"3924156\", \"name\": \"Liam Nguyen\", \"email\": \"lnguyen@yahoo.com\", \"phone\": \"555-123-4567\", \"username\": \"liamn\"},\n",
    "            {\"id\": \"4782901\", \"name\": \"Aaliyah Davis\", \"email\": \"aaliyahd@hotmail.com\", \"phone\": \"111-222-3333\", \"username\": \"adavis\"},\n",
    "            {\"id\": \"5190753\", \"name\": \"Hiroshi Nakamura\", \"email\": \"hiroshi@gmail.com\", \"phone\": \"444-555-6666\", \"username\": \"hiroshin\"},\n",
    "            {\"id\": \"6824095\", \"name\": \"Fatima Ahmed\", \"email\": \"fatimaa@outlook.com\", \"phone\": \"777-888-9999\", \"username\": \"fatimaahmed\"},\n",
    "            {\"id\": \"7135680\", \"name\": \"Alejandro Rodriguez\", \"email\": \"arodriguez@protonmail.com\", \"phone\": \"222-333-4444\", \"username\": \"alexr\"},\n",
    "            {\"id\": \"8259147\", \"name\": \"Megan Anderson\", \"email\": \"megana@gmail.com\", \"phone\": \"666-777-8888\", \"username\": \"manderson\"},\n",
    "            {\"id\": \"9603481\", \"name\": \"Kwame Osei\", \"email\": \"kwameo@yahoo.com\", \"phone\": \"999-000-1111\", \"username\": \"kwameo\"},\n",
    "            {\"id\": \"1057426\", \"name\": \"Mei Lin\", \"email\": \"meilin@gmail.com\", \"phone\": \"333-444-5555\", \"username\": \"mlin\"}\n",
    "        ]\n",
    "\n",
    "        self.orders = [\n",
    "            {\"id\": \"24601\", \"customer_id\": \"1213210\", \"product\": \"Wireless Headphones\", \"quantity\": 1, \"price\": 79.99, \"status\": \"Shipped\"},\n",
    "            {\"id\": \"13579\", \"customer_id\": \"1213210\", \"product\": \"Smartphone Case\", \"quantity\": 2, \"price\": 19.99, \"status\": \"Processing\"},\n",
    "            {\"id\": \"97531\", \"customer_id\": \"2837622\", \"product\": \"Bluetooth Speaker\", \"quantity\": 1, \"price\": \"49.99\", \"status\": \"Shipped\"}, \n",
    "            {\"id\": \"86420\", \"customer_id\": \"3924156\", \"product\": \"Fitness Tracker\", \"quantity\": 1, \"price\": 129.99, \"status\": \"Delivered\"},\n",
    "            {\"id\": \"54321\", \"customer_id\": \"4782901\", \"product\": \"Laptop Sleeve\", \"quantity\": 3, \"price\": 24.99, \"status\": \"Shipped\"},\n",
    "            {\"id\": \"19283\", \"customer_id\": \"5190753\", \"product\": \"Wireless Mouse\", \"quantity\": 1, \"price\": 34.99, \"status\": \"Processing\"},\n",
    "            {\"id\": \"74651\", \"customer_id\": \"6824095\", \"product\": \"Gaming Keyboard\", \"quantity\": 1, \"price\": 89.99, \"status\": \"Delivered\"},\n",
    "            {\"id\": \"30298\", \"customer_id\": \"7135680\", \"product\": \"Portable Charger\", \"quantity\": 2, \"price\": 29.99, \"status\": \"Shipped\"},\n",
    "            {\"id\": \"47652\", \"customer_id\": \"8259147\", \"product\": \"Smartwatch\", \"quantity\": 1, \"price\": 199.99, \"status\": \"Processing\"},\n",
    "            {\"id\": \"61984\", \"customer_id\": \"9603481\", \"product\": \"Noise-Cancelling Headphones\", \"quantity\": 1, \"price\": 149.99, \"status\": \"Shipped\"},\n",
    "            {\"id\": \"58243\", \"customer_id\": \"1057426\", \"product\": \"Wireless Earbuds\", \"quantity\": 2, \"price\": 99.99, \"status\": \"Delivered\"},\n",
    "            {\"id\": \"90357\", \"customer_id\": \"1213210\", \"product\": \"Smartphone Case\", \"quantity\": 1, \"price\": 19.99, \"status\": \"Shipped\"},\n",
    "            {\"id\": \"28164\", \"customer_id\": \"2837622\", \"product\": \"Wireless Headphones\", \"quantity\": 2, \"price\": 79.99, \"status\": \"Processing\"}\n",
    "        ]\n",
    "\n",
    "    def get_user(self, key, value):\n",
    "        if key in {\"email\", \"phone\", \"username\"}:\n",
    "            for customer in self.customers:\n",
    "                if customer[key] == value:\n",
    "                    return customer\n",
    "            return f\"Couldn't find a user with {key} of {value}\"\n",
    "        else:\n",
    "            raise ValueError(f\"Invalid key: {key}\")\n",
    "        \n",
    "        return None\n",
    "\n",
    "    def get_order_by_id(self, order_id):\n",
    "        for order in self.orders:\n",
    "            if order[\"id\"] == order_id:\n",
    "                return order\n",
    "        return None\n",
    "    \n",
    "    def get_customer_orders(self, customer_id):\n",
    "        return [order for order in self.orders if order[\"customer_id\"] == customer_id]\n",
    "\n",
    "    def cancel_order(self, order_id):\n",
    "        order = self.get_order_by_id(order_id)\n",
    "        if order:\n",
    "            if order[\"status\"] == \"Processing\":\n",
    "                order[\"status\"] = \"Cancelled\"\n",
    "                return \"Cancelled the order\"\n",
    "            else:\n",
    "                return \"Order has already shipped.  Can't cancel it.\"\n",
    "        return \"Can't find that order!\""
   ]
  },
  {
   "cell_type": "code",
   "execution_count": 24,
   "id": "fd3dcb3b-7434-4292-9a0d-cd62b0be0a11",
   "metadata": {},
   "outputs": [],
   "source": [
    "# instantiating the fake database\n",
    "db = FakeDatabase()"
   ]
  },
  {
   "cell_type": "code",
   "execution_count": 25,
   "id": "e4438a02-9696-4f99-a4fc-d639a8c3b267",
   "metadata": {},
   "outputs": [
    {
     "data": {
      "text/plain": [
       "{'id': '1213210',\n",
       " 'name': 'John Doe',\n",
       " 'email': 'john@gmail.com',\n",
       " 'phone': '123-456-7890',\n",
       " 'username': 'johndoe'}"
      ]
     },
     "execution_count": 25,
     "metadata": {},
     "output_type": "execute_result"
    }
   ],
   "source": [
    "# getting customer in order to find his orders\n",
    "db.get_user(\"email\",\"john@gmail.com\")"
   ]
  },
  {
   "cell_type": "code",
   "execution_count": 6,
   "id": "8473f134-94ff-4b27-8cc7-33d6479fe179",
   "metadata": {},
   "outputs": [
    {
     "data": {
      "text/plain": [
       "[{'id': '24601',\n",
       "  'customer_id': '1213210',\n",
       "  'product': 'Wireless Headphones',\n",
       "  'quantity': 1,\n",
       "  'price': 79.99,\n",
       "  'status': 'Shipped'},\n",
       " {'id': '13579',\n",
       "  'customer_id': '1213210',\n",
       "  'product': 'Smartphone Case',\n",
       "  'quantity': 2,\n",
       "  'price': 19.99,\n",
       "  'status': 'Processing'},\n",
       " {'id': '90357',\n",
       "  'customer_id': '1213210',\n",
       "  'product': 'Smartphone Case',\n",
       "  'quantity': 1,\n",
       "  'price': 19.99,\n",
       "  'status': 'Shipped'}]"
      ]
     },
     "execution_count": 6,
     "metadata": {},
     "output_type": "execute_result"
    }
   ],
   "source": [
    "# getting our customer's order\n",
    "db.get_customer_orders('1213210')"
   ]
  },
  {
   "cell_type": "code",
   "execution_count": 7,
   "id": "5adee8ce-6611-45a5-92df-33b985b96782",
   "metadata": {},
   "outputs": [
    {
     "data": {
      "text/plain": [
       "'Cancelled the order'"
      ]
     },
     "execution_count": 7,
     "metadata": {},
     "output_type": "execute_result"
    }
   ],
   "source": [
    "# cancelling the order\n",
    "db.cancel_order('13579')"
   ]
  },
  {
   "cell_type": "code",
   "execution_count": 8,
   "id": "cc8d4024-63df-4468-95e6-47c16812a8e1",
   "metadata": {},
   "outputs": [
    {
     "data": {
      "text/plain": [
       "{'id': '13579',\n",
       " 'customer_id': '1213210',\n",
       " 'product': 'Smartphone Case',\n",
       " 'quantity': 2,\n",
       " 'price': 19.99,\n",
       " 'status': 'Cancelled'}"
      ]
     },
     "execution_count": 8,
     "metadata": {},
     "output_type": "execute_result"
    }
   ],
   "source": [
    "db.get_order_by_id('13579')"
   ]
  },
  {
   "cell_type": "markdown",
   "id": "8cd642f9-d8dd-4da6-aa44-0c45b8967c11",
   "metadata": {},
   "source": [
    "### Defining Tool Schemas"
   ]
  },
  {
   "cell_type": "code",
   "execution_count": 9,
   "id": "65c15395-1883-4537-b775-8e64e63de869",
   "metadata": {},
   "outputs": [
    {
     "data": {
      "text/plain": [
       "{'name': 'get_user',\n",
       " 'description': 'Looks up a user by email, phone, or username.',\n",
       " 'input_schema': {'type': 'object',\n",
       "  'properties': {'key': {'type': 'string',\n",
       "    'enum': ['email', 'phone', 'username'],\n",
       "    'description': 'The attribute to search for a user by (email, phone, or username).'},\n",
       "   'value': {'type': 'string',\n",
       "    'description': 'The value to match for the specified attribute.'}},\n",
       "  'required': ['key', 'value']}}"
      ]
     },
     "execution_count": 9,
     "metadata": {},
     "output_type": "execute_result"
    }
   ],
   "source": [
    "# hypothetical tool definition for the get_user method\n",
    "{\n",
    "    \"name\": \"get_user\",\n",
    "    \"description\": \"Looks up a user by email, phone, or username.\",\n",
    "    \"input_schema\": {\n",
    "        \"type\": \"object\",\n",
    "        \"properties\": {\n",
    "            \"key\": {\n",
    "                \"type\": \"string\",\n",
    "                \"enum\": [\"email\", \"phone\", \"username\"],\n",
    "                \"description\": \"The attribute to search for a user by (email, phone, or username).\"\n",
    "            },\n",
    "            \"value\": {\n",
    "                \"type\": \"string\",\n",
    "                \"description\": \"The value to match for the specified attribute.\"\n",
    "            }\n",
    "        },\n",
    "        \"required\": [\"key\", \"value\"]\n",
    "    }\n",
    "}"
   ]
  },
  {
   "cell_type": "markdown",
   "id": "c621ca01-219d-4190-9965-5e985b698fc9",
   "metadata": {},
   "source": [
    "### All Four Tools We're Using"
   ]
  },
  {
   "cell_type": "code",
   "execution_count": 11,
   "id": "0661a7e9-07b2-4d5a-ab46-3b2b192dc920",
   "metadata": {},
   "outputs": [],
   "source": [
    "tools = [\n",
    "    {\n",
    "        \"name\": \"get_user\",\n",
    "        \"description\": \"Looks up a user by email, phone, or username.\",\n",
    "        \"input_schema\": {\n",
    "            \"type\": \"object\",\n",
    "            \"properties\": {\n",
    "                \"key\": {\n",
    "                    \"type\": \"string\",\n",
    "                    \"enum\": [\"email\", \"phone\", \"username\"],\n",
    "                    \"description\": \"The attribute to search for a user by (email, phone, or username).\"\n",
    "                },\n",
    "                \"value\": {\n",
    "                    \"type\": \"string\",\n",
    "                    \"description\": \"The value to match for the specified attribute.\"\n",
    "                }\n",
    "            },\n",
    "            \"required\": [\"key\", \"value\"]\n",
    "        }\n",
    "    },\n",
    "    {\n",
    "        \"name\": \"get_order_by_id\",\n",
    "        \"description\": \"Retrieves the details of a specific order based on the order ID. Returns the order ID, product name, quantity, price, and order status.\",\n",
    "        \"input_schema\": {\n",
    "            \"type\": \"object\",\n",
    "            \"properties\": {\n",
    "                \"order_id\": {\n",
    "                    \"type\": \"string\",\n",
    "                    \"description\": \"The unique identifier for the order.\"\n",
    "                }\n",
    "            },\n",
    "            \"required\": [\"order_id\"]\n",
    "        }\n",
    "    },\n",
    "    {\n",
    "        \"name\": \"get_customer_orders\",\n",
    "        \"description\": \"Retrieves the list of orders belonging to a user based on a user's customer id.\",\n",
    "        \"input_schema\": {\n",
    "            \"type\": \"object\",\n",
    "            \"properties\": {\n",
    "                \"customer_id\": {\n",
    "                    \"type\": \"string\",\n",
    "                    \"description\": \"The customer_id belonging to the user\"\n",
    "                }\n",
    "            },\n",
    "            \"required\": [\"customer_id\"]\n",
    "        }\n",
    "    },\n",
    "    {\n",
    "        \"name\": \"cancel_order\",\n",
    "        \"description\": \"Cancels an order based on a provided order_id.  Only orders that are 'processing' can be cancelled\",\n",
    "        \"input_schema\": {\n",
    "            \"type\": \"object\",\n",
    "            \"properties\": {\n",
    "                \"order_id\": {\n",
    "                    \"type\": \"string\",\n",
    "                    \"description\": \"The order_id pertaining to a particular order\"\n",
    "                }\n",
    "            },\n",
    "            \"required\": [\"order_id\"]\n",
    "        }\n",
    "    }\n",
    "]"
   ]
  },
  {
   "cell_type": "markdown",
   "id": "c4e0acc2-69b1-4d9e-8d67-df55d6506c9f",
   "metadata": {},
   "source": [
    "### Giving Claude Tools"
   ]
  },
  {
   "cell_type": "code",
   "execution_count": 15,
   "id": "76d34f9a-83cc-4e4a-b962-b179351bc799",
   "metadata": {},
   "outputs": [],
   "source": [
    "messages = [\n",
    "    {\n",
    "        \"role\": \"user\",\n",
    "        \"content\": \"Show me my orders.  My username is priya123\"\n",
    "    }\n",
    "]\n",
    "\n",
    "response = client.messages.create(\n",
    "    model=MODEL_NAME,\n",
    "    max_tokens=4096,\n",
    "    # passing tools as additional parameters\n",
    "    tools=tools,\n",
    "    messages=messages\n",
    ")"
   ]
  },
  {
   "cell_type": "code",
   "execution_count": 16,
   "id": "ac8ef826-65c5-4b65-b3bd-5e763ab6f64b",
   "metadata": {},
   "outputs": [
    {
     "name": "stdout",
     "output_type": "stream",
     "text": [
      "[TextBlock(citations=None, text=\"I'll help you look up your orders. Let me first get your user information using your username, and then I'll retrieve your orders.\", type='text'), ToolUseBlock(id='toolu_013DTzSnx3xo4MHDUg3rjAFi', input={'key': 'username', 'value': 'priya123'}, name='get_user', type='tool_use')]\n"
     ]
    }
   ],
   "source": [
    "print(response.content) # inludes ToolUseBlock"
   ]
  },
  {
   "cell_type": "code",
   "execution_count": 17,
   "id": "0765de15-7581-4cfa-b43a-c300fa7ac425",
   "metadata": {},
   "outputs": [
    {
     "name": "stdout",
     "output_type": "stream",
     "text": [
      "ToolUseBlock(id='toolu_013DTzSnx3xo4MHDUg3rjAFi', input={'key': 'username', 'value': 'priya123'}, name='get_user', type='tool_use')\n"
     ]
    }
   ],
   "source": [
    "print(response.content[-1])"
   ]
  },
  {
   "cell_type": "code",
   "execution_count": 18,
   "id": "5e1053e2-c618-4476-939e-04e919b946d3",
   "metadata": {},
   "outputs": [],
   "source": [
    "# the model tells us in the ToolUseBlock what it wants to do\n",
    "# it's up to us now to actually execute this tool call\n",
    "def process_tool_call(tool_name, tool_input):\n",
    "    if tool_name == \"get_user\":\n",
    "        return db.get_user(tool_input[\"key\"], tool_input[\"value\"])\n",
    "    elif tool_name == \"get_order_by_id\":\n",
    "        return db.get_order_by_id(tool_input[\"order_id\"])\n",
    "    elif tool_name == \"get_customer_orders\":\n",
    "        return db.get_customer_orders(tool_input[\"customer_id\"])\n",
    "    elif tool_name == \"cancel_order\":\n",
    "        return db.cancel_order(tool_input[\"order_id\"])"
   ]
  },
  {
   "cell_type": "code",
   "execution_count": 19,
   "id": "0d22d69e-b7fa-49da-bc25-fb8c5dfbd654",
   "metadata": {},
   "outputs": [],
   "source": [
    "tool_use = response.content[-1] \n",
    "tool_name = tool_use.name\n",
    "tool_input = tool_use.input"
   ]
  },
  {
   "cell_type": "code",
   "execution_count": 20,
   "id": "58858e8f-a893-4f23-b718-913fa7d6456f",
   "metadata": {},
   "outputs": [],
   "source": [
    "tool_result = process_tool_call(tool_name, tool_input) # result the model expects"
   ]
  },
  {
   "cell_type": "code",
   "execution_count": 21,
   "id": "c1e36ffb-f223-4d88-b05e-c553758a9afd",
   "metadata": {},
   "outputs": [
    {
     "data": {
      "text/plain": [
       "{'role': 'user',\n",
       " 'content': [{'type': 'tool_result',\n",
       "   'tool_use_id': 'toolu_013DTzSnx3xo4MHDUg3rjAFi',\n",
       "   'content': \"{'id': '2837622', 'name': 'Priya Patel', 'email': 'priya@candy.com', 'phone': '987-654-3210', 'username': 'priya123'}\"}]}"
      ]
     },
     "execution_count": 21,
     "metadata": {},
     "output_type": "execute_result"
    }
   ],
   "source": [
    "# sending the result back to the model\n",
    "# structure of the follow up message we need to send\n",
    "{\n",
    "    \"role\": \"user\",\n",
    "    \"content\": [\n",
    "        {\n",
    "            \"type\": \"tool_result\", # important: content type is tool_result\n",
    "            \"tool_use_id\": tool_use.id, # the id from the ToolUseBlock from above\n",
    "            \"content\": str(tool_result), # here we need to send the actual content\n",
    "        }\n",
    "    ],\n",
    "}"
   ]
  },
  {
   "cell_type": "markdown",
   "id": "71115759-3223-4fe8-9f6f-bc7f87a1e56a",
   "metadata": {},
   "source": [
    "### The Complete Chatbot"
   ]
  },
  {
   "cell_type": "code",
   "execution_count": 22,
   "id": "6cf9174b-6777-408d-8299-e4a170dc4552",
   "metadata": {},
   "outputs": [],
   "source": [
    "import re\n",
    "def extract_reply(text):\n",
    "    pattern = r'<reply>(.*?)</reply>'\n",
    "    match = re.search(pattern, text, re.DOTALL)\n",
    "    if match:\n",
    "        return match.group(1)\n",
    "    else:\n",
    "        return None    \n",
    "    \n",
    "def simple_chat():\n",
    "    system_prompt = \"\"\"\n",
    "    You are a customer support chat bot for an online retailer\n",
    "    called Acme Co.Your job is to help users look up their account, \n",
    "    orders, and cancel orders.Be helpful and brief in your responses.\n",
    "    You have access to a set of tools, but only use them when needed.  \n",
    "    If you do not have enough information to use a tool correctly, \n",
    "    ask a user follow up questions to get the required inputs.\n",
    "    Do not call any of the tools unless you have the required \n",
    "    data from a user. \n",
    "\n",
    "    In each conversational turn, you will begin by thinking about \n",
    "    your response. Once you're done, you will write a user-facing \n",
    "    response. It's important to place all user-facing conversational \n",
    "    responses in <reply></reply> XML tags to make them easy to parse.\n",
    "    \"\"\"\n",
    "    user_message = input(\"\\nUser: \")\n",
    "    messages = [{\"role\": \"user\", \"content\": user_message}]\n",
    "    while True:\n",
    "        if user_message == \"quit\":\n",
    "            break\n",
    "        #If the last message is from the assistant, \n",
    "        # get another input from the user\n",
    "        if messages[-1].get(\"role\") == \"assistant\":\n",
    "            user_message = input(\"\\nUser: \")\n",
    "            messages.append({\"role\": \"user\", \"content\": user_message})\n",
    "\n",
    "        #Send a request to Claude\n",
    "        response = client.messages.create(\n",
    "            model=MODEL_NAME,\n",
    "            system=system_prompt,\n",
    "            max_tokens=4096,\n",
    "            tools=tools,\n",
    "            messages=messages\n",
    "        )\n",
    "        # Update messages to include Claude's response\n",
    "        messages.append(\n",
    "            {\"role\": \"assistant\", \"content\": response.content}\n",
    "        )\n",
    "\n",
    "        #If Claude stops because it wants to use a tool:\n",
    "        if response.stop_reason == \"tool_use\":\n",
    "            #Naive approach assumes only 1 tool is called at a time\n",
    "            tool_use = response.content[-1] \n",
    "            tool_name = tool_use.name\n",
    "            tool_input = tool_use.input\n",
    "            print(f\"=====Claude wants to use the {tool_name} tool=====\")\n",
    "\n",
    "\n",
    "            #Actually run the underlying tool functionality on our db\n",
    "            tool_result = process_tool_call(tool_name, tool_input)\n",
    "\n",
    "            #Add our tool_result message:\n",
    "            messages.append(\n",
    "                {\n",
    "                    \"role\": \"user\",\n",
    "                    \"content\": [\n",
    "                        {\n",
    "                            \"type\": \"tool_result\",\n",
    "                            \"tool_use_id\": tool_use.id,\n",
    "                            \"content\": str(tool_result),\n",
    "                        }\n",
    "                    ],\n",
    "                },\n",
    "            )\n",
    "        else: \n",
    "            #If Claude does NOT want to use a tool, \n",
    "            #just print out the text reponse\n",
    "            model_reply = extract_reply(response.content[0].text)\n",
    "            print(\"\\nAcme Co Support: \" + f\"{model_reply}\" )"
   ]
  },
  {
   "cell_type": "code",
   "execution_count": null,
   "id": "0426ec09-427d-44fe-99f5-d4cb93ea9ee9",
   "metadata": {},
   "outputs": [
    {
     "name": "stdin",
     "output_type": "stream",
     "text": [
      "\n",
      "User:  hello!\n"
     ]
    },
    {
     "name": "stdout",
     "output_type": "stream",
     "text": [
      "\n",
      "Acme Co Support: Hello! I'm the Acme Co. customer service bot. I can help you look up your account information, check your orders, or help with order cancellations. How can I assist you today?\n"
     ]
    },
    {
     "name": "stdin",
     "output_type": "stream",
     "text": [
      "\n",
      "User:  I want to check my order status\n"
     ]
    },
    {
     "name": "stdout",
     "output_type": "stream",
     "text": [
      "\n",
      "Acme Co Support: I'll be happy to help you check your order status. Could you please provide either:\n",
      "1. Your specific order ID\n",
      "or\n",
      "2. Your email, phone number, or username so I can look up your orders?\n"
     ]
    },
    {
     "name": "stdin",
     "output_type": "stream",
     "text": [
      "\n",
      "User:  I have my username which is priya123\n"
     ]
    },
    {
     "name": "stdout",
     "output_type": "stream",
     "text": [
      "=====Claude wants to use the get_user tool=====\n",
      "=====Claude wants to use the get_customer_orders tool=====\n",
      "\n",
      "Acme Co Support: I found your orders, Priya! You have 2 recent orders:\n",
      "1. Order #97531: 1 Bluetooth Speaker ($49.99) - Status: Shipped\n",
      "2. Order #28164: 2 Wireless Headphones ($79.99) - Status: Processing\n",
      "\n",
      "Is there anything specific about these orders you'd like to know more about?\n"
     ]
    },
    {
     "name": "stdin",
     "output_type": "stream",
     "text": [
      "\n",
      "User:  I want to cancel order #28164\n"
     ]
    },
    {
     "name": "stdout",
     "output_type": "stream",
     "text": [
      "=====Claude wants to use the cancel_order tool=====\n",
      "\n",
      "Acme Co Support: I've successfully cancelled your order #28164 for the Wireless Headphones. The cancellation has been processed and you should receive a confirmation email shortly. Is there anything else I can help you with?\n"
     ]
    },
    {
     "name": "stdin",
     "output_type": "stream",
     "text": [
      "\n",
      "User:  Please check the order status for my username which is priya123 \n"
     ]
    },
    {
     "name": "stdout",
     "output_type": "stream",
     "text": [
      "=====Claude wants to use the get_user tool=====\n",
      "=====Claude wants to use the get_customer_orders tool=====\n",
      "\n",
      "Acme Co Support: Here are your current orders:\n",
      "1. Order #97531: 1 Bluetooth Speaker ($49.99) - Status: Shipped\n",
      "2. Order #28164: 2 Wireless Headphones ($79.99) - Status: Cancelled\n",
      "\n",
      "As you can see, your Bluetooth Speaker has been shipped, and your Wireless Headphones order has been successfully cancelled as requested. Can I help you with anything else?\n"
     ]
    },
    {
     "name": "stdin",
     "output_type": "stream",
     "text": [
      "\n",
      "User:  Thank you, let's just quit\n"
     ]
    },
    {
     "name": "stdout",
     "output_type": "stream",
     "text": [
      "\n",
      "Acme Co Support: You're welcome! Thanks for chatting with Acme Co. customer service. Have a great day! 👋\n"
     ]
    }
   ],
   "source": [
    "# user input:\n",
    "# hello!\n",
    "# I want to check my order status\n",
    "# I have my username which is priya123\n",
    "# \n",
    "simple_chat()"
   ]
  },
  {
   "cell_type": "code",
   "execution_count": null,
   "id": "e140ee89-9283-4fc3-9a07-c23d5aaa23fb",
   "metadata": {},
   "outputs": [],
   "source": []
  }
 ],
 "metadata": {
  "kernelspec": {
   "display_name": "Python 3 (ipykernel)",
   "language": "python",
   "name": "python3"
  },
  "language_info": {
   "codemirror_mode": {
    "name": "ipython",
    "version": 3
   },
   "file_extension": ".py",
   "mimetype": "text/x-python",
   "name": "python",
   "nbconvert_exporter": "python",
   "pygments_lexer": "ipython3",
   "version": "3.12.7"
  }
 },
 "nbformat": 4,
 "nbformat_minor": 5
}
