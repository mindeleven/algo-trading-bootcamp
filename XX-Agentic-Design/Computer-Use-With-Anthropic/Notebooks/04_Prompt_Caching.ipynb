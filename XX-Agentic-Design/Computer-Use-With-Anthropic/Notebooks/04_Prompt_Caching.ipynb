{
 "cells": [
  {
   "cell_type": "markdown",
   "id": "a132ccc4-f0f7-4585-a757-79f36ebe7976",
   "metadata": {},
   "source": [
    "## Prompt Caching"
   ]
  },
  {
   "cell_type": "markdown",
   "id": "3b04542c-780d-4894-84ac-94ab3b6f7870",
   "metadata": {},
   "source": [
    "*(Coding along with deeplearning.ai's online course [Building toward Computer Use with Anthropic - Learn how an AI Assistant is built to use and accomplish tasks on computers](https://learn.deeplearning.ai/courses/building-toward-computer-use-with-anthropic/lesson/1/introduction) taught by Colt Steele)*"
   ]
  },
  {
   "cell_type": "markdown",
   "id": "3ed0bc6a-d576-4ce4-8577-86488454d47e",
   "metadata": {},
   "source": [
    "Prompt caching is a technique in large language model (LLM) applications where previously used prompts and their responses are stored and reused, rather than making a new LLM API call for identical or similar prompts. This reduces API costs, improves response times, and decreases computational load. When a new prompt comes in, the system first checks if a matching or similar prompt exists in the cache before sending the request to the LLM."
   ]
  },
  {
   "cell_type": "code",
   "execution_count": 1,
   "id": "a85a4b39-e9f3-47c4-bc6e-a336754da780",
   "metadata": {},
   "outputs": [
    {
     "name": "stdout",
     "output_type": "stream",
     "text": [
      "Don't be a fool and sent your api key to github\n"
     ]
    }
   ],
   "source": [
    "# https://learn.deeplearning.ai/courses/building-toward-computer-use-with-anthropic/lesson/5/real-world-prompting\n",
    "from anthropic import Anthropic\n",
    "import pandas as pd\n",
    "\n",
    "anthropic_api_key = pd.read_csv(\"~/tmp/anthropic/anthropic-key-1.txt\", sep=\" \", header=None)[0][0]\n",
    "print(\"Don't be a fool and sent your api key to github\")\n",
    "\n",
    "client = Anthropic(api_key=anthropic_api_key)\n",
    "MODEL_NAME=\"claude-3-5-sonnet-20241022\""
   ]
  },
  {
   "cell_type": "markdown",
   "id": "ba4251e7-a203-4ae8-8cdc-04d4a7b40d5d",
   "metadata": {},
   "source": [
    "#### __Loading The Book__"
   ]
  },
  {
   "cell_type": "code",
   "execution_count": 2,
   "id": "fc56aca7-98b3-47ed-8d2d-b4d32c0f9989",
   "metadata": {},
   "outputs": [],
   "source": [
    "with open('../assets/files/frankenstein.txt', 'r') as file:\n",
    "    book_content = file.read()"
   ]
  },
  {
   "cell_type": "code",
   "execution_count": 3,
   "id": "cd7fcdea-6d0a-47cd-9950-ba87ffdfccfb",
   "metadata": {},
   "outputs": [
    {
     "data": {
      "text/plain": [
       "438804"
      ]
     },
     "execution_count": 3,
     "metadata": {},
     "output_type": "execute_result"
    }
   ],
   "source": [
    "len(book_content)"
   ]
  },
  {
   "cell_type": "code",
   "execution_count": 4,
   "id": "5693b404-688a-4cd9-ae9f-863000db6367",
   "metadata": {},
   "outputs": [
    {
     "data": {
      "text/plain": [
       "'by Mary Wollstonecraft (Godwin) Shelley\\n\\n\\n CONTENTS\\n\\n Letter 1\\n Letter 2\\n Letter 3\\n Letter 4\\n Chapter 1\\n Chapter 2\\n Chapter 3\\n Chapter 4\\n Chapter 5\\n Chapter 6\\n Chapter 7\\n Chapter 8\\n Chapter 9\\n Chapter 10\\n Chapter 11\\n Chapter 12\\n Chapter 13\\n Chapter 14\\n Chapter 15\\n Chapter 16\\n Chapter 17\\n Chapter 18\\n Chapter 19\\n Chapter 20\\n Chapter 21\\n Chapter 22\\n Chapter 23\\n Chapter 24\\n\\n\\n\\n\\nLetter 1\\n\\n_To Mrs. Saville, England._\\n\\n\\nSt. Petersburgh, Dec. 11th, 17—.\\n\\n\\nYou will rejoice to hear that no disaster has accompanied the\\ncommencement of an enterprise which you have regarded with such evil\\nforebodings. I arrived here yesterday, and my first task is to assure\\nmy dear sister of my welfare and increasing confidence in the success\\nof my undertaking.\\n\\nI am already far north of London, and as I walk in the streets of\\nPetersburgh, I feel a cold northern breeze play upon my cheeks, which\\nbraces my nerves and fills me with delight. Do you understand this\\nfeeling? This breeze, which has travelled from the regi'"
      ]
     },
     "execution_count": 4,
     "metadata": {},
     "output_type": "execute_result"
    }
   ],
   "source": [
    "book_content[1000:2000]"
   ]
  },
  {
   "cell_type": "markdown",
   "id": "53adb6a4-7271-461d-970e-7fe4165cc829",
   "metadata": {},
   "source": [
    "### Uncached Request"
   ]
  },
  {
   "cell_type": "code",
   "execution_count": 5,
   "id": "884a6327-ea9b-4bbc-bd3c-339f6e8dcc20",
   "metadata": {},
   "outputs": [],
   "source": [
    "import time\n",
    "def make_non_cached_api_call():\n",
    "    messages = [\n",
    "        {\n",
    "            \"role\": \"user\",\n",
    "            \"content\": [\n",
    "                {\n",
    "                    \"type\": \"text\",\n",
    "                    # marking the bounds of the book with xml\n",
    "                    \"text\": \"<book>\" + book_content + \"</book>\"\n",
    "                },\n",
    "                {\n",
    "                    # our actual question in a second message block\n",
    "                    \"type\": \"text\",\n",
    "                    \"text\": \"What happens in chapter 3?\"\n",
    "                }\n",
    "            ]\n",
    "        }\n",
    "    ]\n",
    "\n",
    "    start_time = time.time() # time request gets send\n",
    "    response = client.messages.create(\n",
    "        model=MODEL_NAME,\n",
    "        max_tokens=500,\n",
    "        messages=messages,\n",
    "    )\n",
    "    end_time = time.time() # time response is received \n",
    "\n",
    "    return response, end_time - start_time # returning response plus delta of time"
   ]
  },
  {
   "cell_type": "code",
   "execution_count": 6,
   "id": "e67288e1-ccd6-448a-9cb5-fe30a6540288",
   "metadata": {},
   "outputs": [
    {
     "name": "stdout",
     "output_type": "stream",
     "text": [
      "Non-cached time: 98.37 seconds\n",
      "\n",
      "Output (non-cached):\n",
      "[TextBlock(citations=None, text='In Chapter 3 of Frankenstein, several key events occur:\\n\\n1. Victor Frankenstein begins his studies at the University of Ingolstadt at age 17.\\n\\n2. He meets his first professor, M. Krempe, who harshly criticizes Victor\\'s previous studies of alchemists like Cornelius Agrippa, dismissing them as outdated and worthless.\\n\\n3. Victor then meets Professor M. Waldman, who has a much more encouraging and gentle approach. Unlike Krempe, Waldman acknowledges the contributions of the ancient alchemists while emphasizing the superiority of modern science.\\n\\n4. Waldman\\'s lecture inspires Victor, particularly when he speaks about how modern scientists can \"command the thunders of heaven, mimic the earthquake, and even mock the invisible world with its own shadows.\"\\n\\n5. Victor becomes deeply devoted to his studies, particularly chemistry and other branches of natural philosophy. He excels in his work and makes rapid progress, even making discoveries that impress his professors.\\n\\n6. Over the course of two years, Victor becomes increasingly absorbed in his scientific pursuits and gains significant knowledge and expertise in his field.\\n\\n7. The chapter marks the beginning of Victor\\'s obsession with understanding the principle of life and death, which will eventually lead to his creation of the monster.\\n\\nThe chapter is significant as it shows the transition of Victor from a student of outdated alchemical theories to a dedicated practitioner of modern science, setting the stage for his later experiments.', type='text')]\n"
     ]
    }
   ],
   "source": [
    "non_cached_response, non_cached_time = make_non_cached_api_call()\n",
    "print(f\"Non-cached time: {non_cached_time:.2f} seconds\") # time it took to get the response\n",
    "\n",
    "print(\"\\nOutput (non-cached):\") \n",
    "print(non_cached_response.content) # the non cached response"
   ]
  },
  {
   "cell_type": "code",
   "execution_count": 7,
   "id": "e7c83362-a632-45c7-b5a8-facaf392c6c5",
   "metadata": {},
   "outputs": [
    {
     "data": {
      "text/plain": [
       "[TextBlock(citations=None, text='In Chapter 3 of Frankenstein, several key events occur:\\n\\n1. Victor Frankenstein begins his studies at the University of Ingolstadt at age 17.\\n\\n2. He meets his first professor, M. Krempe, who harshly criticizes Victor\\'s previous studies of alchemists like Cornelius Agrippa, dismissing them as outdated and worthless.\\n\\n3. Victor then meets Professor M. Waldman, who has a much more encouraging and gentle approach. Unlike Krempe, Waldman acknowledges the contributions of the ancient alchemists while emphasizing the superiority of modern science.\\n\\n4. Waldman\\'s lecture inspires Victor, particularly when he speaks about how modern scientists can \"command the thunders of heaven, mimic the earthquake, and even mock the invisible world with its own shadows.\"\\n\\n5. Victor becomes deeply devoted to his studies, particularly chemistry and other branches of natural philosophy. He excels in his work and makes rapid progress, even making discoveries that impress his professors.\\n\\n6. Over the course of two years, Victor becomes increasingly absorbed in his scientific pursuits and gains significant knowledge and expertise in his field.\\n\\n7. The chapter marks the beginning of Victor\\'s obsession with understanding the principle of life and death, which will eventually lead to his creation of the monster.\\n\\nThe chapter is significant as it shows the transition of Victor from a student of outdated alchemical theories to a dedicated practitioner of modern science, setting the stage for his later experiments.', type='text')]"
      ]
     },
     "execution_count": 7,
     "metadata": {},
     "output_type": "execute_result"
    }
   ],
   "source": []
  },
  {
   "cell_type": "code",
   "execution_count": null,
   "id": "01ba97a7-cc7f-4def-a22c-af670f5a29d7",
   "metadata": {},
   "outputs": [],
   "source": []
  }
 ],
 "metadata": {
  "kernelspec": {
   "display_name": "Python 3 (ipykernel)",
   "language": "python",
   "name": "python3"
  },
  "language_info": {
   "codemirror_mode": {
    "name": "ipython",
    "version": 3
   },
   "file_extension": ".py",
   "mimetype": "text/x-python",
   "name": "python",
   "nbconvert_exporter": "python",
   "pygments_lexer": "ipython3",
   "version": "3.12.7"
  }
 },
 "nbformat": 4,
 "nbformat_minor": 5
}
