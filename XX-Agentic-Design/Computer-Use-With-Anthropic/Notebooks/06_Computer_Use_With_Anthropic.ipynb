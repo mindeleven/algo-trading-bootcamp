{
 "cells": [
  {
   "cell_type": "markdown",
   "id": "2c29c5ef-c05b-4a40-ad6b-a686c801182c",
   "metadata": {},
   "source": [
    "## Computer Use With Anthropic"
   ]
  },
  {
   "cell_type": "markdown",
   "id": "f0e5875a-bbee-4365-bdde-93323319fc70",
   "metadata": {},
   "source": [
    "*(Coding along with deeplearning.ai's online course [Building toward Computer Use with Anthropic - Learn how an AI Assistant is built to use and accomplish tasks on computers](https://learn.deeplearning.ai/courses/building-toward-computer-use-with-anthropic/lesson/1/introduction) taught by Colt Steele)*"
   ]
  },
  {
   "cell_type": "code",
   "execution_count": 1,
   "id": "a32b7663-82dc-48f7-add7-bb7e8156ce9d",
   "metadata": {},
   "outputs": [
    {
     "name": "stdout",
     "output_type": "stream",
     "text": [
      "Don't be a fool and sent your api key to github\n"
     ]
    }
   ],
   "source": [
    "# https://learn.deeplearning.ai/courses/building-toward-computer-use-with-anthropic/lesson/3/working-with-the-api\n",
    "from anthropic import Anthropic\n",
    "import pandas as pd\n",
    "\n",
    "anthropic_api_key = pd.read_csv(\"~/tmp/anthropic/anthropic-key-1.txt\", sep=\" \", header=None)[0][0]\n",
    "print(\"Don't be a fool and sent your api key to github\")\n",
    "\n",
    "client = Anthropic(api_key=anthropic_api_key)\n",
    "MODEL_NAME=\"claude-3-5-sonnet-20241022\""
   ]
  },
  {
   "cell_type": "markdown",
   "id": "a293aaaa-877b-4095-bb9c-d3337c7e43b1",
   "metadata": {},
   "source": [
    "### Building a Computer Using Agent with Anthropic"
   ]
  },
  {
   "cell_type": "markdown",
   "id": "5c2d4354-4f10-4174-aae4-0e4f5fd6f364",
   "metadata": {},
   "source": [
    "<img src=\"../assets/images/computer_use_into.png\" width=\"70%\" />"
   ]
  },
  {
   "cell_type": "markdown",
   "id": "7c81ed07-fada-4967-a8b3-8af0b9697adf",
   "metadata": {},
   "source": [
    "#### __[Anthropic Quickstarts](https://github.com/anthropics/anthropic-quickstarts):__\n",
    "\n",
    "\n",
    "Anthropic Quickstarts is a collection of projects on GitHub designed to help developers quickly get started with building applications using the Anthropic API. Each quickstart provides a foundation that you can easily build upon and customize for your specific needs.\n",
    "\n",
    "#### __[Computer Use Demo](https://github.com/anthropics/anthropic-quickstarts/tree/main/computer-use-demo):__\n",
    "\n",
    "An environment and tools that Claude can use to control a desktop computer. This project demonstrates how to leverage the computer use capabilities of the new Claude 3.5 Sonnet model."
   ]
  },
  {
   "cell_type": "code",
   "execution_count": null,
   "id": "5308c793-883b-44ee-b88f-66de38ae04a3",
   "metadata": {},
   "outputs": [],
   "source": []
  }
 ],
 "metadata": {
  "kernelspec": {
   "display_name": "Python 3 (ipykernel)",
   "language": "python",
   "name": "python3"
  },
  "language_info": {
   "codemirror_mode": {
    "name": "ipython",
    "version": 3
   },
   "file_extension": ".py",
   "mimetype": "text/x-python",
   "name": "python",
   "nbconvert_exporter": "python",
   "pygments_lexer": "ipython3",
   "version": "3.12.7"
  }
 },
 "nbformat": 4,
 "nbformat_minor": 5
}
