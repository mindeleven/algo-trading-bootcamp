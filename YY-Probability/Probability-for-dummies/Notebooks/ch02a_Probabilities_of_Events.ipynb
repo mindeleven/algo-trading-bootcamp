{
 "cells": [
  {
   "cell_type": "markdown",
   "id": "e52c1430-c802-4bc5-82e9-72a4ab721358",
   "metadata": {},
   "source": [
    "## Probabilities of Events"
   ]
  },
  {
   "cell_type": "markdown",
   "id": "48670a9e-d84d-43c3-82eb-1e1b6bd28000",
   "metadata": {},
   "source": [
    "*This is a notebook for working along with the Wiley book [Probability For Dummies](https://www.dummies.com/book/academics-the-arts/math/statistics/probability-for-dummies-282506/#) by Deborah J. Rumsey.<br />\n",
    "Explanations for certain terms are created by querying the Claude LLM web interface.*"
   ]
  },
  {
   "cell_type": "markdown",
   "id": "71c79ec4-a2cc-4770-aac0-6b6ed1c3921b",
   "metadata": {},
   "source": [
    "#### Prompt template used for Claude.ai \n",
    "```\n",
    "Please give me an explanation of what a <term>marginal probability<term> is. Please give me a <definition> that refers to the statistical meaning and the <notation> that is used as a shorthand. I need a brief explanation for each symbol use in the notation as <bullet_points>. Please also add a simple <example> like rolling a die. Please leave an empty line between each tag. If possible please add a simple Python code example that illustrates the notation. Python as a code section, not between XML tags and explanations for the code only as comments in the code example. Please add print statements to the Python code where it makes sense.\n",
    "````"
   ]
  },
  {
   "cell_type": "markdown",
   "id": "87047e06-9d5f-4ae0-b8ed-2645e2369ad6",
   "metadata": {},
   "source": [
    "### Marginal Probability"
   ]
  },
  {
   "cell_type": "markdown",
   "id": "8f7e6168-5a3b-4f9c-a52a-dd1f82524b5f",
   "metadata": {},
   "source": [
    "Marginal probability is the probability of an event occurring in a sample space.\n",
    "\n",
    "__Definition__<br/>\n",
    "In probability theory, the marginal probability of an event is simply the probability of that event occurring within its sample space, considering only this one event.\n",
    "\n",
    "__Notation__<br/>\n",
    "P(X = x) represents the marginal probability of event X taking the value x, where x is an element of the sample space.\n",
    "\n",
    "* P() denotes the probability function that maps events from the sample space to their probability values between 0 and 1\n",
    "* X represents a random variable defined on the sample space\n",
    "* x represents a specific value (outcome) that the random variable X can take from the sample space\n",
    "\n",
    "__Example__<br/>\n",
    "When rolling a fair six-sided die, the sample space consists of the outcomes {1,2,3,4,5,6}. The marginal probability P(X = 4) = 1/6, which is simply the probability of rolling a 4 in this sample space. Since we have a fair die with six sides, each outcome has an equal probability of 1/6."
   ]
  },
  {
   "cell_type": "code",
   "execution_count": 4,
   "id": "67f56d5a-8d35-4bd0-83bb-af0bf8026573",
   "metadata": {},
   "outputs": [
    {
     "name": "stdout",
     "output_type": "stream",
     "text": [
      "Marginal Probabilities P(X = x):\n",
      "P(X = 1) = 0.165\n",
      "P(X = 2) = 0.168\n",
      "P(X = 3) = 0.169\n",
      "P(X = 4) = 0.163\n",
      "P(X = 5) = 0.169\n",
      "P(X = 6) = 0.167\n",
      "\n",
      "Theoretical probability for each outcome:\n",
      "P(X = x) = 0.167 for all x in sample space\n"
     ]
    }
   ],
   "source": [
    "import numpy as np\n",
    "from collections import Counter\n",
    "\n",
    "# Create sample space by simulating 10000 die rolls\n",
    "rolls = np.random.randint(1, 7, size=10000)\n",
    "\n",
    "# Calculate marginal probabilities for each outcome\n",
    "counts = Counter(rolls)\n",
    "probabilities = {k: v/len(rolls) for k, v in counts.items()}\n",
    "\n",
    "print(\"Marginal Probabilities P(X = x):\")\n",
    "for outcome, prob in sorted(probabilities.items()):\n",
    "    print(f\"P(X = {outcome}) = {prob:.3f}\")\n",
    "\n",
    "# Theoretical probability for comparison\n",
    "print(\"\\nTheoretical probability for each outcome:\")\n",
    "print(f\"P(X = x) = {1/6:.3f} for all x in sample space\")"
   ]
  },
  {
   "cell_type": "markdown",
   "id": "5e89e408-a907-4d9f-ab80-ac923251a482",
   "metadata": {},
   "source": [
    "### Union probability"
   ]
  },
  {
   "cell_type": "markdown",
   "id": "e023f116-a98d-4dfb-a628-e4e60635bd7d",
   "metadata": {},
   "source": [
    "Union probability is the probability that at least one of two (or more) events occurs in a sample space.\n",
    "\n",
    "__Definition__<br/>\n",
    "In probability theory, the union probability represents the probability that either event A OR event B (or both) occur. It combines all possibilities where at least one of the specified events happens.\n",
    "\n",
    "__Notation>__<br/>\n",
    "P(A ∪ B) represents the union probability of events A and B, which is read as \"probability of A or B\". For two events: P(A ∪ B) = P(A) + P(B) - P(A ∩ B), where P(A ∩ B) accounts for double counting when both events occur.\n",
    "\n",
    "* P() denotes the probability function that maps events to their probability values between 0 and 1\n",
    "* ∪ represents the union operator, read as \"or\"\n",
    "* ∩ represents the intersection operator (\"and\") used to avoid double counting\n",
    "* The subtraction of P(A ∩ B) is necessary because events that satisfy both conditions would otherwise be counted twice\n",
    "\n",
    "__Example__<br/>\n",
    "When rolling a fair six-sided die, let's consider two events: A = \"rolling a 4\" and B = \"rolling an even number\". The union probability P(A ∪ B) = P(rolling a 4 OR an even number) = 4/6, because:\n",
    "- P(rolling a 4) = 1/6\n",
    "- P(rolling an even number) = 3/6\n",
    "- P(rolling both a 4 AND an even number) = 1/6\n",
    "Therefore: P(A ∪ B) = 1/6 + 3/6 - 1/6 = 3/6 = 0.5"
   ]
  },
  {
   "cell_type": "code",
   "execution_count": 5,
   "id": "78badaaf-e420-4d9b-9ff9-9e56417acd95",
   "metadata": {},
   "outputs": [
    {
     "name": "stdout",
     "output_type": "stream",
     "text": [
      "P(A) - Probability of rolling a 4: 0.167\n",
      "P(B) - Probability of rolling an even number: 0.494\n",
      "P(A ∩ B) - Probability of both events: 0.167\n",
      "P(A ∪ B) - Probability of either event: 0.494\n",
      "Verification: P(A) + P(B) - P(A ∩ B) = 0.494\n"
     ]
    }
   ],
   "source": [
    "import numpy as np\n",
    "from collections import Counter\n",
    "\n",
    "# Create sample space by simulating 10000 die rolls\n",
    "rolls = np.random.randint(1, 7, size=10000)\n",
    "\n",
    "# Define events\n",
    "event_A = (rolls == 4)  # rolling a 4\n",
    "event_B = (rolls % 2 == 0)  # rolling an even number\n",
    "\n",
    "# Calculate probabilities\n",
    "prob_A = np.mean(event_A)\n",
    "prob_B = np.mean(event_B)\n",
    "prob_A_and_B = np.mean(event_A & event_B)\n",
    "prob_union = np.mean(event_A | event_B)  # union using OR operator\n",
    "\n",
    "print(f\"P(A) - Probability of rolling a 4: {prob_A:.3f}\")\n",
    "print(f\"P(B) - Probability of rolling an even number: {prob_B:.3f}\")\n",
    "print(f\"P(A ∩ B) - Probability of both events: {prob_A_and_B:.3f}\")\n",
    "print(f\"P(A ∪ B) - Probability of either event: {prob_union:.3f}\")\n",
    "print(f\"Verification: P(A) + P(B) - P(A ∩ B) = {(prob_A + prob_B - prob_A_and_B):.3f}\")"
   ]
  },
  {
   "cell_type": "markdown",
   "id": "82e34065-4799-4326-930a-190335610dcb",
   "metadata": {},
   "source": [
    "### Intersection (Joint) Probability"
   ]
  },
  {
   "cell_type": "markdown",
   "id": "9402e10d-3e01-4d28-a9ce-4de5d7eab950",
   "metadata": {},
   "source": [
    "Intersection (joint) probability is the probability that two (or more) events occur together in a sample space.\n",
    "\n",
    "__Definition__<br/>\n",
    "P(A ∩ B) or P(A,B) represents the intersection probability of events A and B, which is read as \"probability of A and B\".<br/>\n",
    "__For independent events__: P(A ∩ B) = P(A) × P(B)<br/>\n",
    "__For dependent events__: P(A ∩ B) = P(A) × P(B|A)<br/>\n",
    "where P(B|A) is the conditional probability of B given that A has occurred.\n",
    "\n",
    "- P() denotes the probability function that maps events to their probability values between 0 and 1\n",
    "- ∩ represents the intersection operator, read as \"and\"\n",
    "- × represents multiplication\n",
    "- Independence means the occurrence of one event does not affect the probability of the other\n",
    "- For dependent events, we must consider how one event affects the other using conditional probability\n",
    "\n",
    "__Example__<br/>\n",
    "When rolling a fair six-sided die, let's consider two events: A = \"rolling a 4\" and B = \"rolling an even number\". <br/>These are dependent events, so:\n",
    "<br/>P(A ∩ B) = P(A) × P(B|A)\n",
    "<br/>= 1/6 × 1\n",
    "<br/>= 1/6\n",
    "<br/>because if we roll a 4 (P(A) = 1/6), it must be even (P(B|A) = 1)"
   ]
  },
  {
   "cell_type": "code",
   "execution_count": 6,
   "id": "d6d86513-6045-47c3-b8b6-e4669f105865",
   "metadata": {},
   "outputs": [
    {
     "name": "stdout",
     "output_type": "stream",
     "text": [
      "P(A) - Probability of rolling a 4: 0.170\n",
      "P(B) - Probability of rolling an even number: 0.500\n",
      "P(A ∩ B) - Probability of both events occurring: 0.170\n"
     ]
    }
   ],
   "source": [
    "import numpy as np\n",
    "from collections import Counter\n",
    "\n",
    "# Create sample space by simulating 10000 die rolls\n",
    "rolls = np.random.randint(1, 7, size=10000)\n",
    "\n",
    "# Define events\n",
    "event_A = (rolls == 4)  # rolling a 4\n",
    "event_B = (rolls % 2 == 0)  # rolling an even number\n",
    "\n",
    "# Calculate probabilities\n",
    "prob_A = np.mean(event_A)\n",
    "prob_B = np.mean(event_B)\n",
    "prob_intersection = np.mean(event_A & event_B)  # intersection using AND operator\n",
    "\n",
    "print(f\"P(A) - Probability of rolling a 4: {prob_A:.3f}\")\n",
    "print(f\"P(B) - Probability of rolling an even number: {prob_B:.3f}\")\n",
    "print(f\"P(A ∩ B) - Probability of both events occurring: {prob_intersection:.3f}\")"
   ]
  },
  {
   "cell_type": "markdown",
   "id": "7fd0d895-d170-430c-b2f5-184f69eaece8",
   "metadata": {},
   "source": [
    "### Intersection (Joint) Probability for Independent Events"
   ]
  },
  {
   "cell_type": "markdown",
   "id": "b48736ff-08c7-407b-9693-823e46aef254",
   "metadata": {},
   "source": [
    "Intersection (joint) probability for independent events is the probability that two (or more) events occur together, where the occurrence of one event does not affect the probability of the other.\n",
    "\n",
    "__Notation__<br/>\n",
    "P(A ∩ B) = P(A) × P(B) for independent events\n",
    "\n",
    "* Each event's probability remains unchanged regardless of other events\n",
    "* No need for conditional probability because events don't influence each other\n",
    "* The multiplication rule for independent events is simpler than for dependent events\n",
    "\n",
    "__Example__<br/>\n",
    "Let's consider rolling a die AND flipping a coin:<br/>\n",
    "A = \"rolling a 4\"<br/>\n",
    "B = \"getting heads\"<br/>\n",
    "<br/>\n",
    "P(A ∩ B) = P(A) × P(B)<br/>\n",
    "= 1/6 × 1/2<br/>\n",
    "= 1/12<br/>\n",
    "\n",
    "This makes sense because:\n",
    "- Rolling a 4 doesn't affect the coin flip\n",
    "- Getting heads doesn't affect the die roll\n",
    "- Among all possible combinations (6 die outcomes × 2 coin outcomes = 12 total outcomes), only one combination is \"4 AND heads\""
   ]
  },
  {
   "cell_type": "code",
   "execution_count": 9,
   "id": "2f15f236-39bc-451b-abfd-ed68862bd6d9",
   "metadata": {},
   "outputs": [
    {
     "name": "stdout",
     "output_type": "stream",
     "text": [
      "P(A) - Probability of rolling a 4: 0.158\n",
      "P(B) - Probability of getting heads: 0.497\n",
      "P(A ∩ B) - Observed probability of both: 0.080\n",
      "P(A) × P(B) - Expected probability: 0.078\n"
     ]
    }
   ],
   "source": [
    "import numpy as np\n",
    "\n",
    "# Simulate 10000 combined die rolls and coin flips\n",
    "trials = 10000\n",
    "die_rolls = np.random.randint(1, 7, size=trials)\n",
    "coin_flips = np.random.choice(['H', 'T'], size=trials)\n",
    "\n",
    "# Define events\n",
    "event_A = (die_rolls == 4)  # rolling a 4\n",
    "event_B = (coin_flips == 'H')  # getting heads\n",
    "\n",
    "# Calculate probabilities\n",
    "prob_A = np.mean(event_A)\n",
    "prob_B = np.mean(event_B)\n",
    "prob_intersection = np.mean(event_A & event_B)\n",
    "prob_expected = prob_A * prob_B  # multiplication rule for independent events\n",
    "\n",
    "print(f\"P(A) - Probability of rolling a 4: {prob_A:.3f}\")\n",
    "print(f\"P(B) - Probability of getting heads: {prob_B:.3f}\")\n",
    "print(f\"P(A ∩ B) - Observed probability of both: {prob_intersection:.3f}\")\n",
    "print(f\"P(A) × P(B) - Expected probability: {prob_expected:.3f}\")"
   ]
  },
  {
   "cell_type": "markdown",
   "id": "d74f9abe-a721-46eb-ad67-9802b3ef1322",
   "metadata": {},
   "source": [
    "### Complement Probability"
   ]
  },
  {
   "cell_type": "markdown",
   "id": "a494895c-11f2-40b7-ba95-4b5bd886a8ab",
   "metadata": {},
   "source": [
    "Complement probability is the probability that an event does NOT occur in a sample space.\n",
    "\n",
    "__Definition__<br/>\n",
    "In probability theory, the complement probability represents the probability of all outcomes in the sample space where the specified event does not occur. It is the probability of \"everything else\" happening.\n",
    "\n",
    "__Notation__<br/>\n",
    "P(A') or P(Ā) or P(not A) represents the complement probability of event A, which is calculated as P(A') = 1 - P(A). The apostrophe (') or bar (‾) above A denotes the complement.\n",
    "\n",
    "* P() denotes the probability function that maps events to their probability values between 0 and 1\n",
    "* A' or Ā represents the complement of event A, read as \"not A\"\n",
    "* 1 represents the total probability of all possible outcomes in the sample space\n",
    "* The complement includes all outcomes in the sample space except those in event A\n",
    "\n",
    "__Example__<br/>\n",
    "When rolling a fair six-sided die, let's consider event A = \"rolling a 4\". The complement probability P(A') = P(not rolling a 4) = 5/6, because:\n",
    "- P(rolling a 4) = 1/6\n",
    "- Therefore P(not rolling a 4) = 1 - 1/6 = 5/6\n",
    "This makes sense as it represents rolling any number except 4 (i.e., rolling 1, 2, 3, 5, or 6)"
   ]
  },
  {
   "cell_type": "code",
   "execution_count": 8,
   "id": "796ac4eb-9f69-42c1-9453-51d7e76f073c",
   "metadata": {},
   "outputs": [
    {
     "name": "stdout",
     "output_type": "stream",
     "text": [
      "Event A: [False False False ... False False False]\n",
      "Complement of event A: [ True  True  True ...  True  True  True]\n",
      "P(A) - Probability of rolling a 4: 0.170\n",
      "P(A') - Probability of not rolling a 4: 0.830\n",
      "Verification: 1 - P(A) = 0.830\n",
      "Sum of P(A) + P(A'): 1.000\n"
     ]
    }
   ],
   "source": [
    "import numpy as np\n",
    "from collections import Counter\n",
    "\n",
    "# Create sample space by simulating 10000 die rolls\n",
    "rolls = np.random.randint(1, 7, size=10000)\n",
    "\n",
    "# Define event\n",
    "event_A = (rolls == 4)  # rolling a 4\n",
    "event_A_complement = (rolls != 4)  # not rolling a 4\n",
    "print(f\"Event A: {event_A}\")\n",
    "print(f\"Complement of event A: {event_A_complement}\")\n",
    "\n",
    "# Calculate probabilities\n",
    "prob_A = np.mean(event_A)\n",
    "prob_A_complement = np.mean(event_A_complement)\n",
    "prob_complement_calc = 1 - prob_A  # alternative calculation\n",
    "\n",
    "print(f\"P(A) - Probability of rolling a 4: {prob_A:.3f}\")\n",
    "print(f\"P(A') - Probability of not rolling a 4: {prob_A_complement:.3f}\")\n",
    "print(f\"Verification: 1 - P(A) = {prob_complement_calc:.3f}\")\n",
    "print(f\"Sum of P(A) + P(A'): {(prob_A + prob_A_complement):.3f}\")  # should be 1"
   ]
  },
  {
   "cell_type": "markdown",
   "id": "cb4b6881-a51a-44fe-b596-a45fb435531f",
   "metadata": {},
   "source": [
    "### Conditional Probability"
   ]
  },
  {
   "cell_type": "markdown",
   "id": "c5c63c5e-fa7a-4424-927e-caa4117d92da",
   "metadata": {},
   "source": [
    "Conditional probability is the probability of an event occurring, given that another event has already occurred in the sample space.\n",
    "\n",
    "__Definition__<br/>\n",
    "In probability theory, conditional probability measures how likely event A is to occur when we know that event B has definitely occurred. __It represents an updated probability based on new information__.\n",
    "\n",
    "__Notation__<br/>\n",
    "P(A|B) represents the conditional probability of event A given that event B has occurred. It is calculated as P(A|B) = P(A ∩ B) / P(B), where P(A ∩ B) is the probability of both events occurring together.\n",
    "\n",
    "`P(A|B) = P(A ∩ B) / P(B)`\n",
    "\n",
    "* P(A|B) is read as \"probability of A given B\"\n",
    "* The vertical bar | means \"given that\"\n",
    "* The division by P(B) represents adjusting the probability for the fact that B has occurred\n",
    "* The new sample space becomes only those outcomes where B occurred\n",
    "\n",
    "__Example__<br/>\n",
    "When rolling a fair six-sided die, let's consider A = \"rolling a 4\" and B = \"rolling an even number\". The conditional probability P(A|B) = P(rolling a 4 given that we rolled an even number) = 1/3, because:\n",
    "- P(rolling a 4 AND an even number) = 1/6\n",
    "- P(rolling an even number) = 3/6\n",
    "- Therefore P(A|B) = (1/6)/(3/6) = 1/3\n",
    "<br/>This makes sense because if we know we rolled an even number (2,4,6), the probability of it being 4 is 1 out of these 3 possibilities\n",
    "\n",
    "\n",
    "\n",
    "```python\n",
    "import numpy as np\n",
    "from collections import Counter\n",
    "\n",
    "# Create sample space by simulating 10000 die rolls\n",
    "rolls = np.random.randint(1, 7, size=10000)\n",
    "\n",
    "# Define events\n",
    "event_A = (rolls == 4)  # rolling a 4\n",
    "event_B = (rolls % 2 == 0)  # rolling an even number\n",
    "\n",
    "# Calculate probabilities\n",
    "prob_B = np.mean(event_B)\n",
    "prob_A_and_B = np.mean(event_A & event_B)\n",
    "prob_A_given_B = prob_A_and_B / prob_B\n",
    "\n",
    "print(f\"P(B) - Probability of rolling an even number: {prob_B:.3f}\")\n",
    "print(f\"P(A ∩ B) - Probability of rolling a 4 and even: {prob_A_and_B:.3f}\")\n",
    "print(f\"P(A|B) - Probability of rolling a 4 given it's even: {prob_A_given_B:.3f}\")\n",
    "\n",
    "# Verify by looking only at even rolls\n",
    "even_rolls = rolls[event_B]\n",
    "prob_four_among_even = np.mean(even_rolls == 4)\n",
    "print(f\"Verification - Proportion of 4s among even rolls: {prob_four_among_even:.3f}\")\n",
    "```"
   ]
  },
  {
   "cell_type": "code",
   "execution_count": null,
   "id": "e291581a-aa8a-43ca-bed1-002af1589b27",
   "metadata": {},
   "outputs": [],
   "source": []
  }
 ],
 "metadata": {
  "kernelspec": {
   "display_name": "Python 3 (ipykernel)",
   "language": "python",
   "name": "python3"
  },
  "language_info": {
   "codemirror_mode": {
    "name": "ipython",
    "version": 3
   },
   "file_extension": ".py",
   "mimetype": "text/x-python",
   "name": "python",
   "nbconvert_exporter": "python",
   "pygments_lexer": "ipython3",
   "version": "3.12.7"
  }
 },
 "nbformat": 4,
 "nbformat_minor": 5
}
