{
 "cells": [
  {
   "cell_type": "markdown",
   "id": "d0b83f94-059b-479a-8947-cb719f1375d2",
   "metadata": {},
   "source": [
    "## Coming to Terms with Probability"
   ]
  },
  {
   "cell_type": "markdown",
   "id": "4ba95bf5-6173-498f-b20d-3c479b7884ef",
   "metadata": {},
   "source": [
    "*This is a notebook for working along with the Wiley book [Probability For Dummies](https://www.dummies.com/book/academics-the-arts/math/statistics/probability-for-dummies-282506/#) by Deborah J. Rumsey.<br />\n",
    "Explanations for certain terms are created by querying the Claude LLM web interface.*"
   ]
  },
  {
   "cell_type": "code",
   "execution_count": null,
   "id": "aea60dd3-6353-4710-b6a8-7f2f1cdfa5d9",
   "metadata": {},
   "outputs": [],
   "source": []
  }
 ],
 "metadata": {
  "kernelspec": {
   "display_name": "Python 3 (ipykernel)",
   "language": "python",
   "name": "python3"
  },
  "language_info": {
   "codemirror_mode": {
    "name": "ipython",
    "version": 3
   },
   "file_extension": ".py",
   "mimetype": "text/x-python",
   "name": "python",
   "nbconvert_exporter": "python",
   "pygments_lexer": "ipython3",
   "version": "3.12.7"
  }
 },
 "nbformat": 4,
 "nbformat_minor": 5
}
