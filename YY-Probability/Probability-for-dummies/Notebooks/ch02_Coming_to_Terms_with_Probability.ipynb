{
 "cells": [
  {
   "cell_type": "markdown",
   "id": "d0b83f94-059b-479a-8947-cb719f1375d2",
   "metadata": {},
   "source": [
    "## Coming to Terms with Probability"
   ]
  },
  {
   "cell_type": "markdown",
   "id": "4ba95bf5-6173-498f-b20d-3c479b7884ef",
   "metadata": {},
   "source": [
    "*This is a notebook for working along with the Wiley book [Probability For Dummies](https://www.dummies.com/book/academics-the-arts/math/statistics/probability-for-dummies-282506/#) by Deborah J. Rumsey.<br />\n",
    "Explanations for certain terms are created by querying the Claude LLM web interface.*"
   ]
  },
  {
   "cell_type": "markdown",
   "id": "5d002e9c-cfcf-45bf-82c9-3527b3a706c1",
   "metadata": {},
   "source": [
    "#### Prompt template used for Claude.ai \n",
    "```\n",
    "Please give me an explanation of what <term>sample spaces<term> in probability are. Please give me a <definition> that refers to the statistical meaning and the <notation> that is used as a shorthand. I need a brief explanation for each symbol use in the notation as <bullet_points>. Please leave an empty line between each tag. If possible please add a simple Python code example that illustrates the notation. Python as a code section, not between XML tags and explanations for the code only as comments in the code example. Please add print statements to the Python code where it makes sense.\n",
    "````"
   ]
  },
  {
   "cell_type": "markdown",
   "id": "40855c12-e36a-41cc-bf0c-66593dd23006",
   "metadata": {},
   "source": [
    "### Sample Space\n",
    "\n",
    "#### Definition\n",
    "A sample space is the collection of all possible outcomes that could occur in a given probability experiment or random process. Each outcome in the sample space is unique and mutually exclusive.\n",
    "\n",
    "#### Notation\n",
    "S = {s₁, s₂, s₃, ..., sₙ} or Ω = {s₁, s₂, s₃, ..., sₙ}\n",
    "\n",
    "* S or Ω (capital omega) - Standard symbols used to denote the sample space\n",
    "* { } - Curly braces indicate a set, showing that the sample space is a collection of elements\n",
    "* s₁, s₂, s₃, etc. - Individual elements or outcomes in the sample space\n",
    "* ... - Indicates continuation of the pattern when there are many outcomes\n",
    "* sₙ - The nth or final element in a finite sample space"
   ]
  },
  {
   "cell_type": "markdown",
   "id": "8d285faf-a636-4cc8-8221-719069ac7633",
   "metadata": {},
   "source": [
    "#### Define sample spaces using Python sets"
   ]
  },
  {
   "cell_type": "code",
   "execution_count": 2,
   "id": "0fd92b05-f0d3-444d-b78c-2495954fb835",
   "metadata": {},
   "outputs": [],
   "source": [
    "# Set notation matches mathematical notation with { }\n",
    "# Example 1: Sample space for a coin flip\n",
    "S_coin = {'heads', 'tails'}\n",
    "\n",
    "# Example 2: Sample space for a six-sided die\n",
    "S_die = {1, 2, 3, 4, 5, 6}\n",
    "\n",
    "# Example 3: Sample space for drawing a card suit\n",
    "S_suits = {'hearts', 'diamonds', 'clubs', 'spades'}\n",
    "\n",
    "# We can check if an outcome is in the sample space\n",
    "possible_outcome = 'hearts' in S_suits  # Returns True\n",
    "impossible_outcome = 'joker' in S_suits  # Returns False\n",
    "\n",
    "# We can get the size of the sample space\n",
    "sample_space_size = len(S_die)  # Returns 6"
   ]
  },
  {
   "cell_type": "markdown",
   "id": "75a60db9-0fc4-4a77-b087-f5b94b48c569",
   "metadata": {},
   "source": [
    "### Finite Sample Space\n",
    "\n",
    "#### Definition\n",
    "A finite sample space is a sample space that contains a countable number of outcomes that can be listed completely. The number of possible outcomes is limited and can be expressed as a positive integer n. This is in contrast to infinite sample spaces where outcomes are unlimited.\n",
    "\n",
    "#### Notation\n",
    "S = {s₁, s₂, s₃, ..., sₙ} where |S| = n\n",
    "\n",
    "* S - Symbol representing the sample space\n",
    "* { } - Curly braces indicating a set of elements\n",
    "* s₁, s₂, s₃ - Individual outcomes in the sample space\n",
    "* sₙ - The last element in the finite sequence\n",
    "* |S| - Cardinality notation, representing the size of the sample space\n",
    "* n - A positive integer indicating the total number of outcomes"
   ]
  },
  {
   "cell_type": "markdown",
   "id": "69288742-25a1-49a1-9aa7-c4e222bf74b5",
   "metadata": {},
   "source": [
    "#### Examples of finite sample spaces using Python sets"
   ]
  },
  {
   "cell_type": "code",
   "execution_count": 4,
   "id": "fe1c4d0a-8684-444a-b4b9-db63613ed36b",
   "metadata": {},
   "outputs": [
    {
     "name": "stdout",
     "output_type": "stream",
     "text": [
      "Dice sample space: {1, 2, 3, 4, 5, 6}\n",
      "Number of possible outcomes: 6\n",
      "\n",
      "Card suits sample space: {'diamonds', 'spades', 'clubs', 'hearts'}\n",
      "Number of possible outcomes: 4\n",
      "\n",
      "Binary sample space: {0, 1}\n",
      "Number of possible outcomes: 2\n",
      "\n",
      "Listing all outcomes in dice space:\n",
      "Possible outcome: 1\n",
      "Possible outcome: 2\n",
      "Possible outcome: 3\n",
      "Possible outcome: 4\n",
      "Possible outcome: 5\n",
      "Possible outcome: 6\n",
      "\n",
      "Is the dice space finite? True\n"
     ]
    }
   ],
   "source": [
    "# Example 1: Dice roll outcomes (finite set with 6 elements)\n",
    "dice_space = {1, 2, 3, 4, 5, 6}\n",
    "print(f\"Dice sample space: {dice_space}\")\n",
    "print(f\"Number of possible outcomes: {len(dice_space)}\")\n",
    "\n",
    "# Example 2: Card suits (finite set with 4 elements)\n",
    "suits_space = {'hearts', 'diamonds', 'clubs', 'spades'}\n",
    "print(f\"\\nCard suits sample space: {suits_space}\")\n",
    "print(f\"Number of possible outcomes: {len(suits_space)}\")\n",
    "\n",
    "# Example 3: Binary outcomes (finite set with 2 elements)\n",
    "binary_space = {0, 1}\n",
    "print(f\"\\nBinary sample space: {binary_space}\")\n",
    "print(f\"Number of possible outcomes: {len(binary_space)}\")\n",
    "\n",
    "# Demonstrating finiteness by iterating through all outcomes\n",
    "print(\"\\nListing all outcomes in dice space:\")\n",
    "for outcome in dice_space:\n",
    "    print(f\"Possible outcome: {outcome}\")\n",
    "\n",
    "# We can verify the sample space is finite\n",
    "is_finite = len(dice_space) < float('inf')\n",
    "print(f\"\\nIs the dice space finite? {is_finite}\")"
   ]
  },
  {
   "cell_type": "markdown",
   "id": "b4e9258d-93b8-42d2-b069-254496a421f9",
   "metadata": {},
   "source": [
    "### Countably Infinite Sample Space\n",
    "\n",
    "#### Definition\n",
    "A countably infinite sample space is a sample space whose outcomes can be put into a one-to-one correspondence with the natural numbers (ℕ), meaning we can \"count\" them using whole numbers, even though the counting never ends. While the space is infinite, its elements can be listed in a sequence that goes on forever.\n",
    "\n",
    "#### Notation\n",
    "S = {s₁, s₂, s₃, ...} or S = ℕ = {1, 2, 3, ...}\n",
    "\n",
    "* S - Symbol representing the sample space\n",
    "* { } - Curly braces indicating a set of elements\n",
    "* s₁, s₂, s₃ - Individual outcomes in the sequence\n",
    "* ... - Ellipsis indicating the sequence continues infinitely\n",
    "* ℕ - Symbol for the set of natural numbers\n",
    "* ∞ - Symbol indicating infinity"
   ]
  },
  {
   "cell_type": "markdown",
   "id": "2937362c-b28f-4b18-b705-66d472a9ee7f",
   "metadata": {},
   "source": [
    "### Examples of countably infinite sample spaces using Python generators"
   ]
  },
  {
   "cell_type": "code",
   "execution_count": 6,
   "id": "8427d3d1-f521-4f01-babf-8b83228819ea",
   "metadata": {},
   "outputs": [
    {
     "name": "stdout",
     "output_type": "stream",
     "text": [
      "First 10 elements of natural numbers:\n",
      "1 2 3 4 5 6 7 8 9 10 \n",
      "\n",
      "First 10 elements of even numbers:\n",
      "2 4 6 8 10 12 14 16 18 20 \n",
      "\n",
      "First 10 elements of powers of 2:\n",
      "1 2 4 8 16 32 64 128 256 512 \n",
      "\n",
      "Note: These sequences continue infinitely...\n"
     ]
    }
   ],
   "source": [
    "# Examples of countably infinite sample spaces using Python generators\n",
    "# Since we can't store infinite elements, we use generators to demonstrate the concept\n",
    "\n",
    "def natural_numbers():\n",
    "    \"\"\"Generator for natural numbers - a classic countably infinite set\"\"\"\n",
    "    n = 1\n",
    "    while True:\n",
    "        yield n\n",
    "        n += 1\n",
    "\n",
    "def even_numbers():\n",
    "    \"\"\"Generator for even numbers - another countably infinite set\"\"\"\n",
    "    n = 2\n",
    "    while True:\n",
    "        yield n\n",
    "        n += 2\n",
    "\n",
    "# Demonstrate first few elements of natural numbers\n",
    "print(\"First 10 elements of natural numbers:\")\n",
    "nat_nums = natural_numbers()\n",
    "for _ in range(10):\n",
    "    print(next(nat_nums), end=' ')\n",
    "\n",
    "print(\"\\n\\nFirst 10 elements of even numbers:\")\n",
    "even_nums = even_numbers()\n",
    "for _ in range(10):\n",
    "    print(next(even_nums), end=' ')\n",
    "\n",
    "# Example of a geometric sequence (powers of 2) - also countably infinite\n",
    "def geometric_sequence(base=2):\n",
    "    \"\"\"Generator for powers of a number\"\"\"\n",
    "    n = 0\n",
    "    while True:\n",
    "        yield base ** n\n",
    "        n += 1\n",
    "\n",
    "print(\"\\n\\nFirst 10 elements of powers of 2:\")\n",
    "geom_seq = geometric_sequence()\n",
    "for _ in range(10):\n",
    "    print(next(geom_seq), end=' ')\n",
    "\n",
    "# Note: We can't print the entire space as it's infinite\n",
    "print(\"\\n\\nNote: These sequences continue infinitely...\")"
   ]
  },
  {
   "cell_type": "markdown",
   "id": "9467d7b3-a2e8-4ed2-b358-3041ad0ef4c0",
   "metadata": {},
   "source": [
    "### Uncountably Infinite Sample Space\n",
    "\n",
    "#### Definition\n",
    "An uncountably infinite sample space is a sample space whose outcomes cannot be put into a one-to-one correspondence with the natural numbers. These spaces contain so many elements that they cannot be \"counted\" even with an infinite sequence. The most common examples are continuous intervals of real numbers, where between any two numbers there are infinitely many other numbers.\n",
    "\n",
    "#### Notation\n",
    "S = [a,b] or S = (a,b) or S = ℝ\n",
    "where [a,b] denotes a closed interval and (a,b) denotes an open interval\n",
    "\n",
    "* S - Symbol representing the sample space\n",
    "* [ ] - Square brackets indicating inclusion of endpoint values\n",
    "* ( ) - Parentheses indicating exclusion of endpoint values\n",
    "* a,b - Real numbers defining the interval boundaries\n",
    "* ℝ - Symbol for the set of all real numbers\n",
    "* ∞ - Symbol indicating infinity\n",
    "* [a,∞) - Interval from a to positive infinity"
   ]
  },
  {
   "cell_type": "markdown",
   "id": "fbd388ad-508c-47a3-bd3b-2144168345ee",
   "metadata": {},
   "source": [
    "#### Examples of uncountably infinite sample spaces using Python"
   ]
  },
  {
   "cell_type": "code",
   "execution_count": 7,
   "id": "8c7ba4ef-1c18-4978-8428-59686b36ec90",
   "metadata": {},
   "outputs": [
    {
     "name": "stdout",
     "output_type": "stream",
     "text": [
      "Random samples from [0,1]:\n",
      "[0.79493496 0.44786801 0.47960796 0.40430772 0.74816093]\n",
      "\n",
      "Between 0.1 and 0.2 lies 0.15000000000000002\n",
      "Between 0.1 and 0.15000000000000002 lies 0.125\n",
      "\n",
      "Even with 10 equally spaced points in [0,1]:\n",
      "[0.         0.11111111 0.22222222 0.33333333 0.44444444 0.55555556\n",
      " 0.66666667 0.77777778 0.88888889 1.        ]\n",
      "There are still infinitely many numbers between each pair of points\n",
      "\n",
      "Number of unique values in 1000 samples: 1000\n",
      "Note: Each sample is likely unique due to the uncountable nature of the interval\n"
     ]
    }
   ],
   "source": [
    "import numpy as np\n",
    "from decimal import Decimal, getcontext\n",
    "\n",
    "# Set precision for decimal calculations\n",
    "getcontext().prec = 50\n",
    "\n",
    "# Example 1: Sampling from an uncountable interval [0,1]\n",
    "# Note: We can only represent a finite subset of points\n",
    "samples = np.random.uniform(0, 1, 5)\n",
    "print(\"Random samples from [0,1]:\")\n",
    "print(samples)\n",
    "\n",
    "# Example 2: Demonstrating density of real numbers\n",
    "# Between any two numbers, we can always find another\n",
    "def find_middle(a, b):\n",
    "    return (a + b) / 2\n",
    "\n",
    "a, b = 0.1, 0.2\n",
    "middle = find_middle(a, b)\n",
    "print(f\"\\nBetween {a} and {b} lies {middle}\")\n",
    "middle2 = find_middle(a, middle)\n",
    "print(f\"Between {a} and {middle} lies {middle2}\")\n",
    "\n",
    "# Example 3: Demonstrating uncountability with intervals\n",
    "interval_start = 0.0\n",
    "interval_end = 1.0\n",
    "points = np.linspace(interval_start, interval_end, 10)\n",
    "print(\"\\nEven with 10 equally spaced points in [0,1]:\")\n",
    "print(points)\n",
    "print(\"There are still infinitely many numbers between each pair of points\")\n",
    "\n",
    "# Example 4: Approximating a continuous probability\n",
    "# Simulating drawing from a continuous uniform distribution\n",
    "continuous_samples = np.random.uniform(0, 1, 1000)\n",
    "print(f\"\\nNumber of unique values in 1000 samples: {len(np.unique(continuous_samples))}\")\n",
    "print(\"Note: Each sample is likely unique due to the uncountable nature of the interval\")\n"
   ]
  },
  {
   "cell_type": "code",
   "execution_count": null,
   "id": "1dd24525-92ec-4e84-942d-1aef10eccc22",
   "metadata": {},
   "outputs": [],
   "source": []
  }
 ],
 "metadata": {
  "kernelspec": {
   "display_name": "Python 3 (ipykernel)",
   "language": "python",
   "name": "python3"
  },
  "language_info": {
   "codemirror_mode": {
    "name": "ipython",
    "version": 3
   },
   "file_extension": ".py",
   "mimetype": "text/x-python",
   "name": "python",
   "nbconvert_exporter": "python",
   "pygments_lexer": "ipython3",
   "version": "3.12.7"
  }
 },
 "nbformat": 4,
 "nbformat_minor": 5
}
