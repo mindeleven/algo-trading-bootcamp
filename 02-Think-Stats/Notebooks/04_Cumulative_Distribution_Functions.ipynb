{
 "cells": [
  {
   "cell_type": "markdown",
   "id": "c2dab167-7b0c-458d-837c-ce291ac894ef",
   "metadata": {},
   "source": [
    "## Cumulative Distribution Functions"
   ]
  },
  {
   "cell_type": "markdown",
   "id": "ad8f99f0-170b-4c28-97af-d97bb031e968",
   "metadata": {},
   "source": [
    "*Coding along with third edition of the online version of __[Think Stats](https://allendowney.github.io/ThinkStats/chap04.html)__ by Allen Downey.*"
   ]
  },
  {
   "cell_type": "markdown",
   "id": "a1678fbb-03dd-4939-8fab-eefae7ebadbc",
   "metadata": {},
   "source": [
    "### Limitations of Frequency Tables and PMFs\n",
    "\n",
    "1. __Sensitivity to binning__: When creating histograms from continuous data, the choice of bin size and placement can significantly affect the visual interpretation.\n",
    "2. __Poor for comparing distributions__: Overlapping histograms or PMFs often become cluttered and difficult to interpret.\n",
    "3. __Difficult for identifying percentiles__: Finding specific percentiles requires additional calculation steps.\n",
    "4. __Noisy for small sample sizes__: With limited data, PMFs can appear jagged and make underlying patterns difficult to discern."
   ]
  },
  {
   "cell_type": "markdown",
   "id": "261f0c09-76e9-4ba9-9295-b0397322ec9a",
   "metadata": {},
   "source": [
    "### What is a Cumulative Distribution Function (CDF)?\n",
    "\n",
    "- A CDF shows the probability that a random variable is less than or equal to a given value. \n",
    "\n",
    "- Instead of showing the probability at each value (like a PMF does), a CDF shows the accumulated probability up to each value.\n",
    "\n",
    "- For a discrete random variable (like dice rolls or counts), the CDF at any point represents the sum of all the probabilities up to that point.\n",
    "\n",
    "- For a continuous random variable (like height or time), the CDF at any point represents the area under the probability density curve up to that point."
   ]
  },
  {
   "cell_type": "code",
   "execution_count": null,
   "id": "ec3fe4cc-dbac-48a2-ab38-70a275f21637",
   "metadata": {},
   "outputs": [],
   "source": []
  },
  {
   "cell_type": "markdown",
   "id": "c680bcf0-c668-43bf-86ac-a3ccaa845040",
   "metadata": {},
   "source": [
    "#### Cumulative Distribution Functions (CDFs) are fundamental tools in statistics \n",
    "\n",
    "__It's a tool that provides valuable insights beyond what you get from other statistical representations.__\n",
    "\n",
    "Here's why knowing about CDFs is important *according to Claude.ai*:\n",
    "\n",
    "__1. Complete probability information__: A CDF tells you the probability that a random variable takes a value less than or equal to a specific point. This gives you the full picture of a distribution in a single function.\n",
    "\n",
    "__2. Easier comparisons:__ CDFs make it simpler to compare different distributions visually. Unlike histograms or probability density functions (PDFs), CDFs are always monotonically increasing and bounded between 0 and 1, making visual comparisons more straightforward.\n",
    "\n",
    "__3. Finding percentiles and quantiles__: CDFs allow you to easily determine percentiles of a distribution. For example, if you want to know the median (50th percentile) of a distribution, you find where the CDF equals 0.5.\n",
    "\n",
    "__4. Handling empirical data__: When working with real-world data, empirical CDFs are often more robust and informative than histograms, especially for smaller datasets.\n",
    "\n",
    "__5. Statistical tests__: Many important statistical tests like the Kolmogorov-Smirnov test directly use CDFs to compare distributions.\n",
    "Risk analysis: In finance and insurance, CDFs help assess the probability of losses exceeding certain thresholds.\n",
    "\n",
    "__6. Transformation methods__: CDFs are used in techniques like inverse transform sampling to generate random numbers from arbitrary distributions.\n",
    "\n",
    "__7. Survival analysis__: In fields like medicine and reliability engineering, the complement of a CDF (known as the survival function) helps analyze time-to-event data.\n",
    "\n",
    "Even if you primarily work with other representations like PDFs or histograms, understanding CDFs gives you a more complete statistical toolkit and often provides insights that aren't immediately obvious from other representations."
   ]
  },
  {
   "cell_type": "code",
   "execution_count": null,
   "id": "42ae6367-8389-46c7-9161-c72923da95a5",
   "metadata": {},
   "outputs": [],
   "source": []
  }
 ],
 "metadata": {
  "kernelspec": {
   "display_name": "Python 3 (ipykernel)",
   "language": "python",
   "name": "python3"
  },
  "language_info": {
   "codemirror_mode": {
    "name": "ipython",
    "version": 3
   },
   "file_extension": ".py",
   "mimetype": "text/x-python",
   "name": "python",
   "nbconvert_exporter": "python",
   "pygments_lexer": "ipython3",
   "version": "3.12.7"
  }
 },
 "nbformat": 4,
 "nbformat_minor": 5
}
