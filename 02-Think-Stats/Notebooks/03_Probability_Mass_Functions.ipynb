{
 "cells": [
  {
   "cell_type": "markdown",
   "id": "cf7440fb-a023-4f0e-b785-234571369998",
   "metadata": {},
   "source": [
    "## Probability Mass Functions"
   ]
  },
  {
   "cell_type": "markdown",
   "id": "33c94575-9b8f-4a12-9a3d-2e38ce4b530a",
   "metadata": {},
   "source": [
    "*Coding along with third edition of the online version of __[Think Stats](https://allendowney.github.io/ThinkStats/chap03.html)__ by Allen Downey.*"
   ]
  },
  {
   "cell_type": "markdown",
   "id": "56bb4406-03f1-490d-9056-bcc8663345c9",
   "metadata": {},
   "source": [
    "In this chapter we'll introduce a probability mass function (PMF) to describe a distribution. A PMF contains a set of quantities and their probabilities."
   ]
  },
  {
   "cell_type": "markdown",
   "id": "cbd45820-f67b-476c-997b-9117217b3faf",
   "metadata": {},
   "source": [
    "A __probability mass function (PMF)__ describes the probability of each possible value occurring in a discrete random variable.\n",
    "\n",
    "Key characteristics:\n",
    "- Only applies to discrete variables (countable values like dice rolls, number of children)\n",
    "- For each possible value x, PMF(x) gives its probability of occurring\n",
    "- All probabilities must be between 0 and 1\n",
    "- Sum of all probabilities must equal 1\n",
    "\n",
    "For example, for a fair six-sided die:\n",
    "- PMF(1) = 1/6\n",
    "- PMF(2) = 1/6\n",
    "- And so on for each value\n",
    "- No probability for values like 1.5 or 7\n",
    "- Total probability = 1/6 + 1/6 + ... + 1/6 = 1\n",
    "\n",
    "This __differs from probability density functions (PDFs)__ which are used for continuous variables where individual point probabilities are zero.\n",
    "\n",
    "*(Source: Claude.ai)*"
   ]
  },
  {
   "cell_type": "code",
   "execution_count": 31,
   "id": "b0bf7aff-5ffb-4b0f-b244-104456f12d86",
   "metadata": {},
   "outputs": [],
   "source": [
    "import numpy as np\n",
    "import pandas as pd\n",
    "import matplotlib.pyplot as plt\n",
    "\n",
    "from thinkstats import decorate\n",
    "from empiricaldist import Hist\n",
    "from empiricaldist import Pmf"
   ]
  },
  {
   "cell_type": "markdown",
   "id": "9d141d42-805c-4f98-9212-4d5d3c8183b3",
   "metadata": {},
   "source": [
    "## PMFs"
   ]
  },
  {
   "cell_type": "markdown",
   "id": "cb705662-a487-4cc6-84d9-fdc83fcce161",
   "metadata": {},
   "source": [
    "A Pmf object is like a Hist that contains probabilities instead of frequencies. "
   ]
  },
  {
   "cell_type": "code",
   "execution_count": 32,
   "id": "d5ddded0-a5ff-4f0b-b3a3-595d3f6dc675",
   "metadata": {},
   "outputs": [
    {
     "data": {
      "text/html": [
       "<div>\n",
       "<style scoped>\n",
       "    .dataframe tbody tr th:only-of-type {\n",
       "        vertical-align: middle;\n",
       "    }\n",
       "\n",
       "    .dataframe tbody tr th {\n",
       "        vertical-align: top;\n",
       "    }\n",
       "\n",
       "    .dataframe thead th {\n",
       "        text-align: right;\n",
       "    }\n",
       "</style>\n",
       "<table border=\"1\" class=\"dataframe\">\n",
       "  <thead>\n",
       "    <tr style=\"text-align: right;\">\n",
       "      <th></th>\n",
       "      <th>freqs</th>\n",
       "    </tr>\n",
       "  </thead>\n",
       "  <tbody>\n",
       "    <tr>\n",
       "      <th>1</th>\n",
       "      <td>1</td>\n",
       "    </tr>\n",
       "    <tr>\n",
       "      <th>2</th>\n",
       "      <td>2</td>\n",
       "    </tr>\n",
       "    <tr>\n",
       "      <th>3</th>\n",
       "      <td>1</td>\n",
       "    </tr>\n",
       "    <tr>\n",
       "      <th>5</th>\n",
       "      <td>1</td>\n",
       "    </tr>\n",
       "  </tbody>\n",
       "</table>\n",
       "</div>"
      ],
      "text/plain": [
       "1    1\n",
       "2    2\n",
       "3    1\n",
       "5    1\n",
       "Name: , dtype: int64"
      ]
     },
     "execution_count": 32,
     "metadata": {},
     "output_type": "execute_result"
    }
   ],
   "source": [
    "# creating a Pmf is from a Hist\n",
    "# here's a Hist example that represents the distribution of values in a short sequence\n",
    "hist = Hist.from_seq([1, 2, 2, 3, 5])\n",
    "hist"
   ]
  },
  {
   "cell_type": "code",
   "execution_count": 33,
   "id": "c99ad842-c9c7-4760-81e3-135bdf35c182",
   "metadata": {},
   "outputs": [
    {
     "data": {
      "text/plain": [
       "np.int64(5)"
      ]
     },
     "execution_count": 33,
     "metadata": {},
     "output_type": "execute_result"
    }
   ],
   "source": [
    "# the sum of the frequencies is the size of the original sequence\n",
    "n = hist.sum()\n",
    "n"
   ]
  },
  {
   "cell_type": "code",
   "execution_count": 34,
   "id": "df4ab8d5-482d-4bac-bf7b-9ec01950d80b",
   "metadata": {},
   "outputs": [
    {
     "data": {
      "text/html": [
       "<div>\n",
       "<style scoped>\n",
       "    .dataframe tbody tr th:only-of-type {\n",
       "        vertical-align: middle;\n",
       "    }\n",
       "\n",
       "    .dataframe tbody tr th {\n",
       "        vertical-align: top;\n",
       "    }\n",
       "\n",
       "    .dataframe thead th {\n",
       "        text-align: right;\n",
       "    }\n",
       "</style>\n",
       "<table border=\"1\" class=\"dataframe\">\n",
       "  <thead>\n",
       "    <tr style=\"text-align: right;\">\n",
       "      <th></th>\n",
       "      <th>probs</th>\n",
       "    </tr>\n",
       "  </thead>\n",
       "  <tbody>\n",
       "    <tr>\n",
       "      <th>1</th>\n",
       "      <td>0.2</td>\n",
       "    </tr>\n",
       "    <tr>\n",
       "      <th>2</th>\n",
       "      <td>0.4</td>\n",
       "    </tr>\n",
       "    <tr>\n",
       "      <th>3</th>\n",
       "      <td>0.2</td>\n",
       "    </tr>\n",
       "    <tr>\n",
       "      <th>5</th>\n",
       "      <td>0.2</td>\n",
       "    </tr>\n",
       "  </tbody>\n",
       "</table>\n",
       "</div>"
      ],
      "text/plain": [
       "1    0.2\n",
       "2    0.4\n",
       "3    0.2\n",
       "5    0.2\n",
       "Name: , dtype: float64"
      ]
     },
     "execution_count": 34,
     "metadata": {},
     "output_type": "execute_result"
    }
   ],
   "source": [
    "# dividing the frequencies by n\n",
    "pmf = hist / n\n",
    "# now we have proportions (props) rather than counts\n",
    "pmf"
   ]
  },
  {
   "cell_type": "markdown",
   "id": "2dc56c12-203b-4fcf-8990-bcd4380d8690",
   "metadata": {},
   "source": [
    "The proportions we're getting i.e. indicate that 20% of the values in the sequence are 1 and 40% are 2.\n",
    "\n",
    "If we think of these proportions as probabilities then the probability that we we choose the value 1 is 0.2 and the probability that we choose the value 2 is 0.4.\n",
    "\n",
    "If we choose a random value from the original sequence, the probability we choose the value 1 is 0.2, and so on.\n",
    "\n",
    "*The sum of the probabilities is 1 which means that this distribution is __normalized__*.\n",
    "\n",
    "A normalized `Hist` object represents a **probability mass function** (PMF). The name indicates that probabilities associated with discrete quantities are also called \"probability masses\"."
   ]
  },
  {
   "cell_type": "code",
   "execution_count": 35,
   "id": "be6e266d-bef3-4e28-843f-cf647c0a2a63",
   "metadata": {},
   "outputs": [
    {
     "data": {
      "text/html": [
       "<div>\n",
       "<style scoped>\n",
       "    .dataframe tbody tr th:only-of-type {\n",
       "        vertical-align: middle;\n",
       "    }\n",
       "\n",
       "    .dataframe tbody tr th {\n",
       "        vertical-align: top;\n",
       "    }\n",
       "\n",
       "    .dataframe thead th {\n",
       "        text-align: right;\n",
       "    }\n",
       "</style>\n",
       "<table border=\"1\" class=\"dataframe\">\n",
       "  <thead>\n",
       "    <tr style=\"text-align: right;\">\n",
       "      <th></th>\n",
       "      <th>probs</th>\n",
       "    </tr>\n",
       "  </thead>\n",
       "  <tbody>\n",
       "    <tr>\n",
       "      <th>1</th>\n",
       "      <td>0.2</td>\n",
       "    </tr>\n",
       "    <tr>\n",
       "      <th>2</th>\n",
       "      <td>0.4</td>\n",
       "    </tr>\n",
       "    <tr>\n",
       "      <th>3</th>\n",
       "      <td>0.2</td>\n",
       "    </tr>\n",
       "    <tr>\n",
       "      <th>5</th>\n",
       "      <td>0.2</td>\n",
       "    </tr>\n",
       "  </tbody>\n",
       "</table>\n",
       "</div>"
      ],
      "text/plain": [
       "1    0.2\n",
       "2    0.4\n",
       "3    0.2\n",
       "5    0.2\n",
       "Name: , dtype: float64"
      ]
     },
     "execution_count": 35,
     "metadata": {},
     "output_type": "execute_result"
    }
   ],
   "source": [
    "# create a `Pmf` object directly with the `empiricaldist` library's `Pmf` functionality\n",
    "pmf = Pmf.from_seq([1, 2, 2, 3, 5])\n",
    "pmf"
   ]
  },
  {
   "cell_type": "code",
   "execution_count": 36,
   "id": "7e054f25-0251-4e6d-9bc5-6a9ce90d7b25",
   "metadata": {},
   "outputs": [
    {
     "data": {
      "text/plain": [
       "np.float64(1.0)"
      ]
     },
     "execution_count": 36,
     "metadata": {},
     "output_type": "execute_result"
    }
   ],
   "source": [
    "# the Pmf is normalized so the total probability is 1\n",
    "pmf.sum()"
   ]
  },
  {
   "cell_type": "code",
   "execution_count": 37,
   "id": "0e0f0389-46dd-489b-821a-4f1d01a9b5d7",
   "metadata": {},
   "outputs": [
    {
     "data": {
      "text/plain": [
       "np.float64(0.4)"
      ]
     },
     "execution_count": 37,
     "metadata": {},
     "output_type": "execute_result"
    }
   ],
   "source": [
    "# using the bracket operator to look up the probability associated with a value\n",
    "pmf[2]"
   ]
  },
  {
   "cell_type": "code",
   "execution_count": 38,
   "id": "e5bdb380-ce93-419e-a803-f122b699655b",
   "metadata": {},
   "outputs": [
    {
     "data": {
      "text/plain": [
       "np.float64(0.2)"
      ]
     },
     "execution_count": 38,
     "metadata": {},
     "output_type": "execute_result"
    }
   ],
   "source": [
    "# assigning a probability to a quantity\n",
    "pmf[2] = 0.2\n",
    "pmf(2)"
   ]
  },
  {
   "cell_type": "code",
   "execution_count": 39,
   "id": "e2b17cf6-073e-48df-b4f2-6923babddd41",
   "metadata": {},
   "outputs": [
    {
     "data": {
      "text/plain": [
       "np.float64(0.5)"
      ]
     },
     "execution_count": 39,
     "metadata": {},
     "output_type": "execute_result"
    }
   ],
   "source": [
    "# modifying an existing Pmf by incrementing the probability associated with a value\n",
    "pmf[2] += 0.3\n",
    "pmf[2]"
   ]
  },
  {
   "cell_type": "code",
   "execution_count": 40,
   "id": "bd3d903c-9b70-4cb4-ad66-187b6c7c952d",
   "metadata": {},
   "outputs": [
    {
     "data": {
      "text/plain": [
       "np.float64(0.25)"
      ]
     },
     "execution_count": 40,
     "metadata": {},
     "output_type": "execute_result"
    }
   ],
   "source": [
    "# multiplying a probability by a factor\n",
    "pmf[2] *= 0.5\n",
    "pmf[2]"
   ]
  },
  {
   "cell_type": "code",
   "execution_count": 41,
   "id": "336307bf-0f00-45eb-9d1c-6c7b3ca04719",
   "metadata": {},
   "outputs": [
    {
     "data": {
      "text/plain": [
       "np.float64(0.8500000000000001)"
      ]
     },
     "execution_count": 41,
     "metadata": {},
     "output_type": "execute_result"
    }
   ],
   "source": [
    "# when modifying a `Pmf` the result may not be normalized\n",
    "pmf.sum()"
   ]
  },
  {
   "cell_type": "code",
   "execution_count": 42,
   "id": "1043b2d3-6f8d-4cb5-b0f4-b864c2631ba4",
   "metadata": {},
   "outputs": [
    {
     "data": {
      "text/plain": [
       "np.float64(0.8500000000000001)"
      ]
     },
     "execution_count": 42,
     "metadata": {},
     "output_type": "execute_result"
    }
   ],
   "source": [
    "# getting the pmf back on track with the `normalize` method \n",
    "# it \"renormalizes\" the `Pmf` by dividing through by the sum\n",
    "pmf.normalize()"
   ]
  },
  {
   "cell_type": "code",
   "execution_count": 43,
   "id": "019cd016-cdc3-4af5-8622-8dfb5f72bd6e",
   "metadata": {},
   "outputs": [
    {
     "data": {
      "text/html": [
       "<div>\n",
       "<style scoped>\n",
       "    .dataframe tbody tr th:only-of-type {\n",
       "        vertical-align: middle;\n",
       "    }\n",
       "\n",
       "    .dataframe tbody tr th {\n",
       "        vertical-align: top;\n",
       "    }\n",
       "\n",
       "    .dataframe thead th {\n",
       "        text-align: right;\n",
       "    }\n",
       "</style>\n",
       "<table border=\"1\" class=\"dataframe\">\n",
       "  <thead>\n",
       "    <tr style=\"text-align: right;\">\n",
       "      <th></th>\n",
       "      <th>probs</th>\n",
       "    </tr>\n",
       "  </thead>\n",
       "  <tbody>\n",
       "    <tr>\n",
       "      <th>1</th>\n",
       "      <td>0.235294</td>\n",
       "    </tr>\n",
       "    <tr>\n",
       "      <th>2</th>\n",
       "      <td>0.294118</td>\n",
       "    </tr>\n",
       "    <tr>\n",
       "      <th>3</th>\n",
       "      <td>0.235294</td>\n",
       "    </tr>\n",
       "    <tr>\n",
       "      <th>5</th>\n",
       "      <td>0.235294</td>\n",
       "    </tr>\n",
       "  </tbody>\n",
       "</table>\n",
       "</div>"
      ],
      "text/plain": [
       "1    0.235294\n",
       "2    0.294118\n",
       "3    0.235294\n",
       "5    0.235294\n",
       "Name: , dtype: float64"
      ]
     },
     "execution_count": 43,
     "metadata": {},
     "output_type": "execute_result"
    }
   ],
   "source": [
    "pmf # let's check it"
   ]
  },
  {
   "cell_type": "code",
   "execution_count": 44,
   "id": "772f396a-4dd1-4a98-a1a4-d73e405c2d92",
   "metadata": {},
   "outputs": [
    {
     "data": {
      "text/plain": [
       "np.float64(1.0)"
      ]
     },
     "execution_count": 44,
     "metadata": {},
     "output_type": "execute_result"
    }
   ],
   "source": [
    "pmf.sum() # let's check the sum, should be 1.0 again"
   ]
  },
  {
   "cell_type": "code",
   "execution_count": 45,
   "id": "b2360a0f-1383-48e7-83c2-501358074645",
   "metadata": {},
   "outputs": [
    {
     "data": {
      "text/html": [
       "<div>\n",
       "<style scoped>\n",
       "    .dataframe tbody tr th:only-of-type {\n",
       "        vertical-align: middle;\n",
       "    }\n",
       "\n",
       "    .dataframe tbody tr th {\n",
       "        vertical-align: top;\n",
       "    }\n",
       "\n",
       "    .dataframe thead th {\n",
       "        text-align: right;\n",
       "    }\n",
       "</style>\n",
       "<table border=\"1\" class=\"dataframe\">\n",
       "  <thead>\n",
       "    <tr style=\"text-align: right;\">\n",
       "      <th></th>\n",
       "      <th>probs</th>\n",
       "    </tr>\n",
       "  </thead>\n",
       "  <tbody>\n",
       "    <tr>\n",
       "      <th>1</th>\n",
       "      <td>0.235294</td>\n",
       "    </tr>\n",
       "    <tr>\n",
       "      <th>2</th>\n",
       "      <td>0.294118</td>\n",
       "    </tr>\n",
       "    <tr>\n",
       "      <th>3</th>\n",
       "      <td>0.235294</td>\n",
       "    </tr>\n",
       "    <tr>\n",
       "      <th>5</th>\n",
       "      <td>0.235294</td>\n",
       "    </tr>\n",
       "  </tbody>\n",
       "</table>\n",
       "</div>"
      ],
      "text/plain": [
       "1    0.235294\n",
       "2    0.294118\n",
       "3    0.235294\n",
       "5    0.235294\n",
       "Name: , dtype: float64"
      ]
     },
     "execution_count": 45,
     "metadata": {},
     "output_type": "execute_result"
    }
   ],
   "source": [
    "# make a copy to modify it without affecting the original\n",
    "pmf.copy()"
   ]
  },
  {
   "cell_type": "code",
   "execution_count": 46,
   "id": "57d9155f-e1b7-4cb1-a228-4dbf8ee8a0bd",
   "metadata": {},
   "outputs": [
    {
     "data": {
      "text/plain": [
       "array([1, 2, 3, 5])"
      ]
     },
     "execution_count": 46,
     "metadata": {},
     "output_type": "execute_result"
    }
   ],
   "source": [
    "# a `Pmf` object has a `qs` attribute that accesses the quantities\n",
    "pmf.qs"
   ]
  },
  {
   "cell_type": "code",
   "execution_count": 47,
   "id": "7a1b524f-bfff-4e94-b358-595881b08502",
   "metadata": {},
   "outputs": [
    {
     "data": {
      "text/plain": [
       "array([0.23529412, 0.29411765, 0.23529412, 0.23529412])"
      ]
     },
     "execution_count": 47,
     "metadata": {},
     "output_type": "execute_result"
    }
   ],
   "source": [
    "# a `Pmf` object has a `ps` attribute that accesses the probabilities\n",
    "pmf.ps"
   ]
  },
  {
   "cell_type": "code",
   "execution_count": 48,
   "id": "2ef49f35-d690-49c3-ba62-df6967da115d",
   "metadata": {},
   "outputs": [
    {
     "data": {
      "image/png": "[encoded data removed]",
      "text/plain": [
       "<Figure size 600x450 with 1 Axes>"
      ]
     },
     "metadata": {},
     "output_type": "display_data"
    }
   ],
   "source": [
    "# how to use the bar method according to claude.ai\n",
    "plt.figure(figsize=(8, 6))\n",
    "pmf.bar(label='Quantities')\n",
    "plt.title('Probability Mass Function')\n",
    "plt.xlabel('Value')\n",
    "plt.ylabel('Probability')\n",
    "plt.grid(True, alpha=0.3)\n",
    "plt.legend()\n",
    "plt.show()"
   ]
  },
  {
   "cell_type": "code",
   "execution_count": 49,
   "id": "b77118fb-cb75-40c7-a3ee-d7bea2696c2b",
   "metadata": {},
   "outputs": [
    {
     "data": {
      "image/png": "[encoded data removed]",
      "text/plain": [
       "<Figure size 600x450 with 1 Axes>"
      ]
     },
     "metadata": {},
     "output_type": "display_data"
    }
   ],
   "source": [
    "# another example that simulates rolling a fair six-sided die 1000 times\n",
    "# create sample data - let's simulate rolling a die 1000 times\n",
    "rolls = np.random.choice([1, 2, 3, 4, 5, 6], size=1000)\n",
    "\n",
    "# create Pmf object from the data\n",
    "pmf = Pmf.from_seq(rolls)\n",
    "\n",
    "# create the bar plot\n",
    "plt.figure(figsize=(8, 6))\n",
    "pmf.bar(label='Die Rolls')\n",
    "\n",
    "# customize the plot\n",
    "plt.title('Probability Mass Function of Die Rolls')\n",
    "plt.xlabel('Value')\n",
    "plt.ylabel('Probability')\n",
    "plt.grid(True, alpha=0.3)\n",
    "plt.legend()\n",
    "\n",
    "plt.show()"
   ]
  },
  {
   "cell_type": "markdown",
   "id": "78639b93-e2b3-4501-b0c5-15de13f52b00",
   "metadata": {},
   "source": [
    "## Summary Statistics"
   ]
  },
  {
   "cell_type": "code",
   "execution_count": 51,
   "id": "9cf900db-1474-4924-a8f6-7b75aee2e31e",
   "metadata": {},
   "outputs": [
    {
     "data": {
      "text/plain": [
       "np.float64(2.6)"
      ]
     },
     "execution_count": 51,
     "metadata": {},
     "output_type": "execute_result"
    }
   ],
   "source": [
    "# computing the mean of a sample by adding up the elements and dividing by n\n",
    "seq = [1, 2, 2, 3, 5]\n",
    "mean = np.sum(seq) / len(seq)\n",
    "mean"
   ]
  },
  {
   "cell_type": "code",
   "execution_count": 52,
   "id": "03332de9-d87e-4966-a44e-fe54d112f0e6",
   "metadata": {},
   "outputs": [
    {
     "data": {
      "text/html": [
       "<div>\n",
       "<style scoped>\n",
       "    .dataframe tbody tr th:only-of-type {\n",
       "        vertical-align: middle;\n",
       "    }\n",
       "\n",
       "    .dataframe tbody tr th {\n",
       "        vertical-align: top;\n",
       "    }\n",
       "\n",
       "    .dataframe thead th {\n",
       "        text-align: right;\n",
       "    }\n",
       "</style>\n",
       "<table border=\"1\" class=\"dataframe\">\n",
       "  <thead>\n",
       "    <tr style=\"text-align: right;\">\n",
       "      <th></th>\n",
       "      <th>probs</th>\n",
       "    </tr>\n",
       "  </thead>\n",
       "  <tbody>\n",
       "    <tr>\n",
       "      <th>1</th>\n",
       "      <td>0.2</td>\n",
       "    </tr>\n",
       "    <tr>\n",
       "      <th>2</th>\n",
       "      <td>0.4</td>\n",
       "    </tr>\n",
       "    <tr>\n",
       "      <th>3</th>\n",
       "      <td>0.2</td>\n",
       "    </tr>\n",
       "    <tr>\n",
       "      <th>5</th>\n",
       "      <td>0.2</td>\n",
       "    </tr>\n",
       "  </tbody>\n",
       "</table>\n",
       "</div>"
      ],
      "text/plain": [
       "1    0.2\n",
       "2    0.4\n",
       "3    0.2\n",
       "5    0.2\n",
       "Name: , dtype: float64"
      ]
     },
     "execution_count": 52,
     "metadata": {},
     "output_type": "execute_result"
    }
   ],
   "source": [
    "# computing the PMF of the values in the sequence\n",
    "pmf = Pmf.from_seq(seq)\n",
    "pmf"
   ]
  },
  {
   "cell_type": "code",
   "execution_count": 53,
   "id": "40570133-3d70-4184-bba2-55c2ca9fabe3",
   "metadata": {},
   "outputs": [
    {
     "data": {
      "text/plain": [
       "np.float64(2.6)"
      ]
     },
     "execution_count": 53,
     "metadata": {},
     "output_type": "execute_result"
    }
   ],
   "source": [
    "# computing the mean from the pmf \n",
    "# process is different: we have to multiply the probabilities and quantities and add up the products\n",
    "mean = np.sum(pmf.ps * pmf.qs)\n",
    "mean"
   ]
  },
  {
   "cell_type": "markdown",
   "id": "a51bc1e4-ec01-49cc-942c-ebc2bcd83f0f",
   "metadata": {},
   "source": [
    "__We don't have to divide by n because we already did that when we normalized the Pmf.__"
   ]
  },
  {
   "cell_type": "code",
   "execution_count": 54,
   "id": "5ae49ba0-10f5-43f7-9af5-cef946771d53",
   "metadata": {},
   "outputs": [
    {
     "data": {
      "text/plain": [
       "np.float64(2.6)"
      ]
     },
     "execution_count": 54,
     "metadata": {},
     "output_type": "execute_result"
    }
   ],
   "source": [
    "# pmf objects have a mean method that does the same thing\n",
    "pmf.mean()"
   ]
  },
  {
   "cell_type": "code",
   "execution_count": 55,
   "id": "5d20ff18-9e8d-44ae-a258-e2a5a84a2540",
   "metadata": {},
   "outputs": [
    {
     "data": {
      "text/plain": [
       "array([-1.6, -0.6,  0.4,  2.4])"
      ]
     },
     "execution_count": 55,
     "metadata": {},
     "output_type": "execute_result"
    }
   ],
   "source": [
    "# computing the variance by (1) computing the deviation of each quantity from the mean\n",
    "deviations = pmf.qs - mean\n",
    "deviations"
   ]
  },
  {
   "cell_type": "code",
   "execution_count": 57,
   "id": "b9c57f44-ba9e-4a26-acc3-51aa5f9873d5",
   "metadata": {},
   "outputs": [
    {
     "data": {
      "text/plain": [
       "np.float64(1.84)"
      ]
     },
     "execution_count": 57,
     "metadata": {},
     "output_type": "execute_result"
    }
   ],
   "source": [
    "# (2) then multiplying the squared deviations by the probabilities and add up the products\n",
    "var = np.sum(pmf.ps * deviations**2)\n",
    "var"
   ]
  },
  {
   "cell_type": "code",
   "execution_count": 60,
   "id": "56df8d89-2a86-49be-9025-f2e45c27c3f3",
   "metadata": {},
   "outputs": [
    {
     "data": {
      "text/plain": [
       "np.float64(1.84)"
      ]
     },
     "execution_count": 60,
     "metadata": {},
     "output_type": "execute_result"
    }
   ],
   "source": [
    "# same with pmf.var()\n",
    "pmf.var()"
   ]
  },
  {
   "cell_type": "code",
   "execution_count": 58,
   "id": "c13a4320-50b8-4893-90f9-ec5ea97c9c10",
   "metadata": {},
   "outputs": [
    {
     "data": {
      "text/plain": [
       "np.float64(1.3564659966250536)"
      ]
     },
     "execution_count": 58,
     "metadata": {},
     "output_type": "execute_result"
    }
   ],
   "source": [
    "# computing the standard deviation from the variance\n",
    "std = np.sqrt(var)\n",
    "std"
   ]
  },
  {
   "cell_type": "code",
   "execution_count": 61,
   "id": "d729d7a4-63b7-472a-9440-fe1e57795356",
   "metadata": {},
   "outputs": [
    {
     "data": {
      "text/plain": [
       "np.float64(1.3564659966250536)"
      ]
     },
     "execution_count": 61,
     "metadata": {},
     "output_type": "execute_result"
    }
   ],
   "source": [
    "# same with pmf.std()\n",
    "pmf.std()"
   ]
  },
  {
   "cell_type": "code",
   "execution_count": 62,
   "id": "247710aa-261b-4306-9f0b-b25725121093",
   "metadata": {},
   "outputs": [
    {
     "data": {
      "text/plain": [
       "np.int64(2)"
      ]
     },
     "execution_count": 62,
     "metadata": {},
     "output_type": "execute_result"
    }
   ],
   "source": [
    "# finding the value with the highest probability with the mode method\n",
    "pmf.mode()"
   ]
  },
  {
   "cell_type": "code",
   "execution_count": null,
   "id": "0936f6be-91d3-4c49-891f-436c5b7ca832",
   "metadata": {},
   "outputs": [],
   "source": []
  }
 ],
 "metadata": {
  "kernelspec": {
   "display_name": "Python 3 (ipykernel)",
   "language": "python",
   "name": "python3"
  },
  "language_info": {
   "codemirror_mode": {
    "name": "ipython",
    "version": 3
   },
   "file_extension": ".py",
   "mimetype": "text/x-python",
   "name": "python",
   "nbconvert_exporter": "python",
   "pygments_lexer": "ipython3",
   "version": "3.12.7"
  }
 },
 "nbformat": 4,
 "nbformat_minor": 5
}
