{
 "cells": [
  {
   "cell_type": "markdown",
   "id": "41185d27-5e99-4c6d-a613-a1e1a81e862a",
   "metadata": {},
   "source": [
    "## Exploratory Data Analysis"
   ]
  },
  {
   "cell_type": "markdown",
   "id": "a8aadeab-7fd8-47a5-ba95-fd1a59dee1c6",
   "metadata": {},
   "source": [
    "*Coding along with third edition of the online version of __[Think Stats](https://allendowney.github.io/ThinkStats/chap01.html)__ by Allen Downey.*"
   ]
  },
  {
   "cell_type": "markdown",
   "id": "b8346177-1b6d-42ad-aec1-ce10d65eab95",
   "metadata": {},
   "source": [
    "#### __Tools of statistics that will be used:__\n",
    "\n",
    "1. __Data collection__: We will use data from a large national survey that was designed explicitly with the goal of generating statistically valid inferences about the U.S. population.\n",
    "\n",
    "2. __Descriptive statistics__: We will generate statistics that summarize the data concisely, and evaluate different ways to visualize data.\n",
    "\n",
    "3. __Exploratory data analysis__: We will look for patterns, differences, and other features that address the questions we are interested in. At the same time we will check for inconsistencies and identify limitations.\n",
    "\n",
    "4. __Estimation__: We will use data from a sample to estimate characteristics of the general population.\n",
    "\n",
    "4. __Hypothesis testing__: Where we see apparent effects, like a difference between two groups, we will evaluate whether the effect might have happened by chance.\n",
    "\n",
    "(Source: https://allendowney.github.io/ThinkStats/chap01.html)"
   ]
  },
  {
   "cell_type": "markdown",
   "id": "b2376cce-8d37-48bf-b80d-2d5e680df371",
   "metadata": {},
   "source": [
    "__Data collection__: The data used will be from surveys conducted by the __U.S. Centers for Disease Control and Prevention (CDC)__. Since 1973 their __National Survey of Family Growth (NSFG)__ is intended to gather “information on family life, marriage and divorce, pregnancy, infertility, use of contraception, and men’s and women’s health. \n",
    "\n",
    "The question we want to answer with the survey data that we'tre using is whether first babies tend to come late among some other questions."
   ]
  },
  {
   "cell_type": "code",
   "execution_count": 1,
   "id": "e453ef5a-deae-4100-bbc2-8a6ccd345c1c",
   "metadata": {},
   "outputs": [],
   "source": [
    "from statadict import parse_stata_dict\n",
    "import pandas as pd\n",
    "import numpy as np"
   ]
  },
  {
   "cell_type": "markdown",
   "id": "67861255-800c-4845-a12f-27f70ae10789",
   "metadata": {},
   "source": [
    "#### __The `statadict` Python Package__\n",
    "\n",
    "The `statadict` package is part of the book's supporting materials rather than a general-purpose Python package on PyPI. It can be found in the book's GitHub repository along with other code examples and datasets. It got installed with `poetry add statadict`.\n",
    "\n",
    "The `statadict` package in \"Think Stats\" is specifically designed to work with the National Survey of Family Growth (NSFG) dataset, which is a key dataset used throughout the book for teaching statistical concepts.\n",
    "\n",
    "Usage of `statadict` in the book:\n",
    "\n",
    "- Used primarily in the early chapters to load pregnancy data\n",
    "- Helps analyze demographic and health statistics\n",
    "- Forms the foundation for many statistical examples in the book\n",
    "\n",
    "Working with NSFG Data:\n",
    "\n",
    "- The NSFG is a national survey conducted by the CDC\n",
    "- Contains data about family life, marriage, divorce, pregnancy\n",
    "- The data files are in fixed-width format with accompanying .dct files\n",
    "- The package helps convert this into usable Python data structures"
   ]
  },
  {
   "cell_type": "markdown",
   "id": "2f6c7070-6fef-4841-a57a-599049ff7d03",
   "metadata": {},
   "source": [
    "#### __The .dct File Format__\n",
    "\n",
    "A .dct (dictionary) file is a format used by Stata to describe the structure of fixed-width data files. Here's why they're used and their advantages:\n",
    "\n",
    "1. Dictionary (.dct) File Structure:\n",
    "```stata\n",
    "dictionary using \"data.raw\" {\n",
    "    str20  name     %20s  \"Person's name\"\n",
    "    int    age      %2f   \"Age in years\"\n",
    "    float  income   %8.2f \"Annual income\"\n",
    "    *      _column(31)\n",
    "}\n",
    "```\n",
    "This tells us:\n",
    "- Variable names (name, age, income)\n",
    "- Data types (str20, int, float)\n",
    "- Column widths (%20s, %2f, %8.2f)\n",
    "- Variable descriptions (in quotes)\n",
    "- Column positions (_column)\n",
    "\n",
    "2. Advantages over CSV:\n",
    "   - Works with fixed-width files where data fields have precise character positions\n",
    "   - Handles legacy data formats that predate CSV\n",
    "   - Maintains exact field widths which can be crucial for certain data types\n",
    "   - Better handling of missing values and special codes\n",
    "   - Includes metadata like variable descriptions\n",
    "   - More precise control over data types\n",
    "\n",
    "3. Fixed-width vs CSV:\n",
    "```\n",
    "# Fixed-width format:\n",
    "John Smith           45  50000.00\n",
    "Jane Doe             32  65000.00\n",
    "\n",
    "# CSV format:\n",
    "name,age,income\n",
    "\"John Smith\",45,50000.00\n",
    "\"Jane Doe\",32,65000.00\n",
    "```\n",
    "\n",
    "The fixed-width format was common in older systems and is still used by some government agencies and research institutions, particularly for large datasets like census data or survey results. ***The NSFG data used in \"Think Stats\" uses this format, which is why the `statadict` package is needed to parse it.***"
   ]
  },
  {
   "cell_type": "code",
   "execution_count": 2,
   "id": "ad8038ea-b0d1-405a-b04c-941d615c2bd4",
   "metadata": {},
   "outputs": [],
   "source": [
    "dct_file = \"../assets/data/2002FemPreg.dct\"\n",
    "dat_file = \"../assets/data/2002FemPreg.dat.gz\""
   ]
  },
  {
   "cell_type": "markdown",
   "id": "4b3c510d-dc14-4f69-bacb-c6ca95789811",
   "metadata": {},
   "source": [
    "__The .dct file (2002FemPreg.dct):__\n",
    "- Contains the metadata/structure definition\n",
    "- Tells Python how to interpret the data file\n",
    "- Specifies column names, positions, and widths\n",
    "- Acts like a \"map\" or \"schema\" for reading the data\n",
    "\n",
    "\n",
    "__The .dat.gz file (2002FemPreg.dat.gz):__\n",
    "- Contains the actual data in fixed-width format\n",
    "- Compressed using gzip (.gz extension)\n",
    "- Raw data without any column headers or structure information\n",
    "- Just rows of data where each piece of information takes up a specific number of characters"
   ]
  },
  {
   "cell_type": "code",
   "execution_count": 19,
   "id": "2bdeb878-0207-4815-9980-f806026daed8",
   "metadata": {},
   "outputs": [],
   "source": [
    "# function takes meta data and actual data file names as arguments, \n",
    "# reads the dictionary (.dct),\n",
    "# uses the results to read the data file\n",
    "def read_stata(dct_file, dat_file):\n",
    "    stata_dict = parse_stata_dict(dct_file)\n",
    "    # read file with pandas' read_fwf\n",
    "    resp = pd.read_fwf(\n",
    "        dat_file,\n",
    "        names=stata_dict.names,\n",
    "        colspecs=stata_dict.colspecs,\n",
    "        compression=\"gzip\",\n",
    "    )\n",
    "    return resp"
   ]
  },
  {
   "cell_type": "markdown",
   "id": "00051a47-14ad-4ee5-a9ef-d5e15861b5e1",
   "metadata": {},
   "source": [
    "#### __The `pd.read_fwf()` function in pandas__\n",
    "\n",
    "The `pd.read_fwf()` function in pandas is specifically designed to read Fixed-Width Formatted (FWF) data files. Let's break down what it's doing in this context:\n",
    "\n",
    "1. What FWF means:\n",
    "```\n",
    "# Example of fixed-width format:\n",
    "John Smith    35   Chicago    \n",
    "Mary Johnson  42   New York   \n",
    "Tom Brown     28   Boston     \n",
    "```\n",
    "Each field takes up a fixed number of characters, including spaces. For example:\n",
    "- Name: 12 characters\n",
    "- Age: 4 characters\n",
    "- City: 11 characters\n",
    "\n",
    "2. In the code example:\n",
    "```python\n",
    "resp = pd.read_fwf(\n",
    "    dat_file,                # The data file to read\n",
    "    names=stata_dict.names,  # Column names from the .dct file\n",
    "    colspecs=stata_dict.colspecs,  # Where each column starts and ends\n",
    "    compression=\"gzip\"       # File is compressed\n",
    ")\n",
    "```\n",
    "\n",
    "The `colspecs` parameter is crucial - it's a list of tuples that specify the exact character positions where each column starts and ends. For example:\n",
    "```python\n",
    "# Example colspecs might look like:\n",
    "colspecs = [\n",
    "    (0, 12),    # First column: characters 0-11\n",
    "    (12, 16),   # Second column: characters 12-15\n",
    "    (16, 27)    # Third column: characters 16-26\n",
    "]\n",
    "```\n",
    "\n",
    "The function reads the fixed-width file line by line, splitting each line into columns based on these character positions, and creates a pandas DataFrame with the specified column names."
   ]
  },
  {
   "cell_type": "code",
   "execution_count": 20,
   "id": "91a763bb-8edb-4b21-bacf-f956684e84fa",
   "metadata": {},
   "outputs": [],
   "source": [
    "preg = read_stata(dct_file, dat_file)"
   ]
  },
  {
   "cell_type": "code",
   "execution_count": 21,
   "id": "b9c34e67-ad38-4d40-8840-1ae5cd9a8a91",
   "metadata": {},
   "outputs": [
    {
     "data": {
      "text/plain": [
       "(13593, 243)"
      ]
     },
     "execution_count": 21,
     "metadata": {},
     "output_type": "execute_result"
    }
   ],
   "source": [
    "# attribute shape contains the number of rows and columns\n",
    "preg.shape"
   ]
  },
  {
   "cell_type": "code",
   "execution_count": 22,
   "id": "0c9f1d22-202e-4309-85cc-c42e9b3d40cb",
   "metadata": {},
   "outputs": [
    {
     "data": {
      "text/html": [
       "<div>\n",
       "<style scoped>\n",
       "    .dataframe tbody tr th:only-of-type {\n",
       "        vertical-align: middle;\n",
       "    }\n",
       "\n",
       "    .dataframe tbody tr th {\n",
       "        vertical-align: top;\n",
       "    }\n",
       "\n",
       "    .dataframe thead th {\n",
       "        text-align: right;\n",
       "    }\n",
       "</style>\n",
       "<table border=\"1\" class=\"dataframe\">\n",
       "  <thead>\n",
       "    <tr style=\"text-align: right;\">\n",
       "      <th></th>\n",
       "      <th>caseid</th>\n",
       "      <th>pregordr</th>\n",
       "      <th>howpreg_n</th>\n",
       "      <th>howpreg_p</th>\n",
       "      <th>moscurrp</th>\n",
       "      <th>nowprgdk</th>\n",
       "      <th>pregend1</th>\n",
       "      <th>pregend2</th>\n",
       "      <th>nbrnaliv</th>\n",
       "      <th>multbrth</th>\n",
       "      <th>...</th>\n",
       "      <th>poverty_i</th>\n",
       "      <th>laborfor_i</th>\n",
       "      <th>religion_i</th>\n",
       "      <th>metro_i</th>\n",
       "      <th>basewgt</th>\n",
       "      <th>adj_mod_basewgt</th>\n",
       "      <th>finalwgt</th>\n",
       "      <th>secu_p</th>\n",
       "      <th>sest</th>\n",
       "      <th>cmintvw</th>\n",
       "    </tr>\n",
       "  </thead>\n",
       "  <tbody>\n",
       "    <tr>\n",
       "      <th>0</th>\n",
       "      <td>1</td>\n",
       "      <td>1</td>\n",
       "      <td>NaN</td>\n",
       "      <td>NaN</td>\n",
       "      <td>NaN</td>\n",
       "      <td>NaN</td>\n",
       "      <td>6.0</td>\n",
       "      <td>NaN</td>\n",
       "      <td>1.0</td>\n",
       "      <td>NaN</td>\n",
       "      <td>...</td>\n",
       "      <td>0</td>\n",
       "      <td>0</td>\n",
       "      <td>0</td>\n",
       "      <td>0</td>\n",
       "      <td>3410.389399</td>\n",
       "      <td>3869.349602</td>\n",
       "      <td>6448.271112</td>\n",
       "      <td>2</td>\n",
       "      <td>9</td>\n",
       "      <td>1231</td>\n",
       "    </tr>\n",
       "    <tr>\n",
       "      <th>1</th>\n",
       "      <td>1</td>\n",
       "      <td>2</td>\n",
       "      <td>NaN</td>\n",
       "      <td>NaN</td>\n",
       "      <td>NaN</td>\n",
       "      <td>NaN</td>\n",
       "      <td>6.0</td>\n",
       "      <td>NaN</td>\n",
       "      <td>1.0</td>\n",
       "      <td>NaN</td>\n",
       "      <td>...</td>\n",
       "      <td>0</td>\n",
       "      <td>0</td>\n",
       "      <td>0</td>\n",
       "      <td>0</td>\n",
       "      <td>3410.389399</td>\n",
       "      <td>3869.349602</td>\n",
       "      <td>6448.271112</td>\n",
       "      <td>2</td>\n",
       "      <td>9</td>\n",
       "      <td>1231</td>\n",
       "    </tr>\n",
       "    <tr>\n",
       "      <th>2</th>\n",
       "      <td>2</td>\n",
       "      <td>1</td>\n",
       "      <td>NaN</td>\n",
       "      <td>NaN</td>\n",
       "      <td>NaN</td>\n",
       "      <td>NaN</td>\n",
       "      <td>5.0</td>\n",
       "      <td>NaN</td>\n",
       "      <td>3.0</td>\n",
       "      <td>5.0</td>\n",
       "      <td>...</td>\n",
       "      <td>0</td>\n",
       "      <td>0</td>\n",
       "      <td>0</td>\n",
       "      <td>0</td>\n",
       "      <td>7226.301740</td>\n",
       "      <td>8567.549110</td>\n",
       "      <td>12999.542264</td>\n",
       "      <td>2</td>\n",
       "      <td>12</td>\n",
       "      <td>1231</td>\n",
       "    </tr>\n",
       "    <tr>\n",
       "      <th>3</th>\n",
       "      <td>2</td>\n",
       "      <td>2</td>\n",
       "      <td>NaN</td>\n",
       "      <td>NaN</td>\n",
       "      <td>NaN</td>\n",
       "      <td>NaN</td>\n",
       "      <td>6.0</td>\n",
       "      <td>NaN</td>\n",
       "      <td>1.0</td>\n",
       "      <td>NaN</td>\n",
       "      <td>...</td>\n",
       "      <td>0</td>\n",
       "      <td>0</td>\n",
       "      <td>0</td>\n",
       "      <td>0</td>\n",
       "      <td>7226.301740</td>\n",
       "      <td>8567.549110</td>\n",
       "      <td>12999.542264</td>\n",
       "      <td>2</td>\n",
       "      <td>12</td>\n",
       "      <td>1231</td>\n",
       "    </tr>\n",
       "    <tr>\n",
       "      <th>4</th>\n",
       "      <td>2</td>\n",
       "      <td>3</td>\n",
       "      <td>NaN</td>\n",
       "      <td>NaN</td>\n",
       "      <td>NaN</td>\n",
       "      <td>NaN</td>\n",
       "      <td>6.0</td>\n",
       "      <td>NaN</td>\n",
       "      <td>1.0</td>\n",
       "      <td>NaN</td>\n",
       "      <td>...</td>\n",
       "      <td>0</td>\n",
       "      <td>0</td>\n",
       "      <td>0</td>\n",
       "      <td>0</td>\n",
       "      <td>7226.301740</td>\n",
       "      <td>8567.549110</td>\n",
       "      <td>12999.542264</td>\n",
       "      <td>2</td>\n",
       "      <td>12</td>\n",
       "      <td>1231</td>\n",
       "    </tr>\n",
       "  </tbody>\n",
       "</table>\n",
       "<p>5 rows × 243 columns</p>\n",
       "</div>"
      ],
      "text/plain": [
       "   caseid  pregordr  howpreg_n  howpreg_p  moscurrp  nowprgdk  pregend1  \\\n",
       "0       1         1        NaN        NaN       NaN       NaN       6.0   \n",
       "1       1         2        NaN        NaN       NaN       NaN       6.0   \n",
       "2       2         1        NaN        NaN       NaN       NaN       5.0   \n",
       "3       2         2        NaN        NaN       NaN       NaN       6.0   \n",
       "4       2         3        NaN        NaN       NaN       NaN       6.0   \n",
       "\n",
       "   pregend2  nbrnaliv  multbrth  ...  poverty_i  laborfor_i  religion_i  \\\n",
       "0       NaN       1.0       NaN  ...          0           0           0   \n",
       "1       NaN       1.0       NaN  ...          0           0           0   \n",
       "2       NaN       3.0       5.0  ...          0           0           0   \n",
       "3       NaN       1.0       NaN  ...          0           0           0   \n",
       "4       NaN       1.0       NaN  ...          0           0           0   \n",
       "\n",
       "   metro_i      basewgt  adj_mod_basewgt      finalwgt  secu_p  sest  cmintvw  \n",
       "0        0  3410.389399      3869.349602   6448.271112       2     9     1231  \n",
       "1        0  3410.389399      3869.349602   6448.271112       2     9     1231  \n",
       "2        0  7226.301740      8567.549110  12999.542264       2    12     1231  \n",
       "3        0  7226.301740      8567.549110  12999.542264       2    12     1231  \n",
       "4        0  7226.301740      8567.549110  12999.542264       2    12     1231  \n",
       "\n",
       "[5 rows x 243 columns]"
      ]
     },
     "execution_count": 22,
     "metadata": {},
     "output_type": "execute_result"
    }
   ],
   "source": [
    "# method head displays the first few rows\n",
    "# first column is the index of the DataFrame\n",
    "preg.head()"
   ]
  },
  {
   "cell_type": "code",
   "execution_count": 23,
   "id": "ff1ed592-ddcf-4ef7-bd35-f8599bd6df6d",
   "metadata": {},
   "outputs": [
    {
     "data": {
      "text/plain": [
       "Index(['caseid', 'pregordr', 'howpreg_n', 'howpreg_p', 'moscurrp', 'nowprgdk',\n",
       "       'pregend1', 'pregend2', 'nbrnaliv', 'multbrth',\n",
       "       ...\n",
       "       'poverty_i', 'laborfor_i', 'religion_i', 'metro_i', 'basewgt',\n",
       "       'adj_mod_basewgt', 'finalwgt', 'secu_p', 'sest', 'cmintvw'],\n",
       "      dtype='object', length=243)"
      ]
     },
     "execution_count": 23,
     "metadata": {},
     "output_type": "execute_result"
    }
   ],
   "source": [
    "# attribute columns contains the names of the columns\n",
    "# column names are contained in an Index object (pandas data structure)\n",
    "preg.columns"
   ]
  },
  {
   "cell_type": "code",
   "execution_count": 24,
   "id": "ee212b3f-2e3e-4e51-b023-2d2749c5de0f",
   "metadata": {},
   "outputs": [
    {
     "data": {
      "text/plain": [
       "pandas.core.series.Series"
      ]
     },
     "execution_count": 24,
     "metadata": {},
     "output_type": "execute_result"
    }
   ],
   "source": [
    "# accessing a column from a DataFrame with the column name as a key\n",
    "pregordr = preg[\"pregordr\"]\n",
    "type(pregordr) # result isPandas Series which represents a sequence of values"
   ]
  },
  {
   "cell_type": "code",
   "execution_count": 25,
   "id": "9f5e470c-9b30-4814-85d4-72dcc6eaf71d",
   "metadata": {},
   "outputs": [
    {
     "data": {
      "text/plain": [
       "0    1\n",
       "1    2\n",
       "2    1\n",
       "3    2\n",
       "4    3\n",
       "Name: pregordr, dtype: int64"
      ]
     },
     "execution_count": 25,
     "metadata": {},
     "output_type": "execute_result"
    }
   ],
   "source": [
    "pregordr.head() # Series also provides head"
   ]
  },
  {
   "cell_type": "markdown",
   "id": "bc641829-1ece-4e3f-aa88-cbf233cc11e5",
   "metadata": {},
   "source": [
    "#### __Variables of The NSFG dataset we’ll use for the exploration:__\n",
    "\n",
    "- __caseid__ is the integer ID of the respondent\n",
    "\n",
    "- __pregordr__ is a pregnancy serial number; for example, the code for a respondent’s first pregnancy is 1, for the second pregnancy is 2, and so on\n",
    "\n",
    "- __prglngth__ is the integer duration of the pregnancy in weeks\n",
    "\n",
    "- __outcome__ is an integer code for the outcome of the pregnancy. The code 1 indicates a live birth\n",
    "\n",
    "- __birthord__ is a serial number for live births; the code for a respondent’s first child is 1, and so on; for outcomes other than live birth, this field is blank\n",
    "\n",
    "- __birthwgt_lb__ and __birthwgt_oz__ contain the pounds and ounces parts of the birth weight of the baby\n",
    "\n",
    "- __agepreg__ is the mother’s age at the end of the pregnancy\n",
    "\n",
    "- __finalwgt__ is the statistical weight associated with the respondent; it is a floating-point value that indicates the number of people in the U.S. population this respondent represents\n",
    "\n",
    "Many of the variables are __recodes__ - they are not part of the raw data collected by the survey but have been calculated using the raw data."
   ]
  },
  {
   "cell_type": "markdown",
   "id": "f4762845-3f1f-408b-a137-b2e81734a793",
   "metadata": {},
   "source": [
    "### Validation of the Data"
   ]
  },
  {
   "cell_type": "markdown",
   "id": "db5535d5-75df-4df3-923c-ea727f36eaa0",
   "metadata": {},
   "source": [
    "One way to validate data is to compute basic statistics and compare them with published results. The NSFG codebook includes the followimng table which encodes the outcome of each pregnancy. The “Total” column indicates the number of pregnancies with each outcome.\n",
    "\n",
    "<table border=\"1\" class=\"dataframe\" align=\"left\">\n",
    "  <thead>\n",
    "    <tr style=\"text-align: right;\">\n",
    "      <th>Value</th>\n",
    "      <th>Label</th>\n",
    "      <th>Total</th>\n",
    "    </tr>\n",
    "  </thead>\n",
    "  <tbody>\n",
    "    <tr>\n",
    "      <td>1</td>\n",
    "      <td>LIVE BIRTH</td>\n",
    "      <td>9148</td>\n",
    "    </tr>\n",
    "    <tr>\n",
    "      <td>2</td>\n",
    "      <td>INDUCED ABORTION</td>\n",
    "      <td>1862</td>\n",
    "    </tr>\n",
    "    <tr>\n",
    "      <td>3</td>\n",
    "      <td>STILLBIRTH</td>\n",
    "      <td>120</td>\n",
    "    </tr>\n",
    "    <tr>\n",
    "      <td>4</td>\n",
    "      <td>MISCARRIAGE</td>\n",
    "      <td>1921</td>\n",
    "    </tr>\n",
    "    <tr>\n",
    "      <td>5</td>\n",
    "      <td>ECTOPIC PREGNANCY</td>\n",
    "      <td>190</td>\n",
    "    </tr>\n",
    "    <tr>\n",
    "      <td>6</td>\n",
    "      <td>CURRENT PREGNANCY</td>\n",
    "      <td>352</td>\n",
    "    </tr>\n",
    "    <tr>\n",
    "      <td>Total</td>\n",
    "      <td></td>\n",
    "      <td>13593</td>\n",
    "    </tr>\n",
    "  </tbody>\n",
    "</table>"
   ]
  },
  {
   "cell_type": "code",
   "execution_count": 26,
   "id": "58463f91-dd57-48c9-9fd5-7cf569d31531",
   "metadata": {},
   "outputs": [
    {
     "data": {
      "text/plain": [
       "outcome\n",
       "1    9148\n",
       "2    1862\n",
       "3     120\n",
       "4    1921\n",
       "5     190\n",
       "6     352\n",
       "Name: count, dtype: int64"
      ]
     },
     "execution_count": 26,
     "metadata": {},
     "output_type": "execute_result"
    }
   ],
   "source": [
    "# checking the totals with the value_counts method\n",
    "# it counts the number of times each value appears\n",
    "# sort_index, which sorts the results according to the values in the Index (the left column)\n",
    "preg[\"outcome\"].value_counts().sort_index()"
   ]
  },
  {
   "cell_type": "markdown",
   "id": "4c9875bd-bd78-488b-8be5-cc923f98db55",
   "metadata": {},
   "source": [
    "Published table for `birthwgt_lb` (only recorded for pregnancies that ended in a live birth):\n",
    "\n",
    "<table border=\"1\" class=\"dataframe\" align=\"left\">\n",
    "  <thead>\n",
    "    <tr style=\"text-align: right;\">\n",
    "      <th>Value</th>\n",
    "      <th>Label</th>\n",
    "      <th>Total</th>\n",
    "    </tr>\n",
    "  </thead>\n",
    "  <tbody>\n",
    "    <tr>\n",
    "      <td>.</td>\n",
    "      <td>inapplicable</td>\n",
    "      <td>4449</td>\n",
    "    </tr>\n",
    "    <tr>\n",
    "      <td>0-5</td>\n",
    "      <td>UNDER 6 POUNDS</td>\n",
    "      <td>1125</td>\n",
    "    </tr>\n",
    "    <tr>\n",
    "      <td>6</td>\n",
    "      <td>6 POUNDS</td>\n",
    "      <td>2223</td>\n",
    "    </tr>\n",
    "    <tr>\n",
    "      <td>7</td>\n",
    "      <td>7 POUNDS</td>\n",
    "      <td>3049</td>\n",
    "    </tr>\n",
    "    <tr>\n",
    "      <td>8</td>\n",
    "      <td>8 POUNDS</td>\n",
    "      <td>1889</td>\n",
    "    </tr>\n",
    "    <tr>\n",
    "      <td>9-95</td>\n",
    "      <td>9 POUNDS OR MORE</td>\n",
    "      <td>799</td>\n",
    "    </tr>\n",
    "    <tr>\n",
    "      <td>97</td>\n",
    "      <td>Not ascertained</td>\n",
    "      <td>1</td>\n",
    "    </tr>\n",
    "    <tr>\n",
    "      <td>98</td>\n",
    "      <td>REFUSED</td>\n",
    "      <td>1</td>\n",
    "    </tr>\n",
    "    <tr>\n",
    "      <td>99</td>\n",
    "      <td>DON'T KNOW</td>\n",
    "      <td>57</td>\n",
    "    </tr>\n",
    "    <tr>\n",
    "      <td>Total</td>\n",
    "      <td></td>\n",
    "      <td>13593</td>\n",
    "    </tr>\n",
    "  </tbody>\n",
    "</table>"
   ]
  },
  {
   "cell_type": "code",
   "execution_count": 27,
   "id": "68c1bff2-3ef8-49f9-b16f-a5a46f766452",
   "metadata": {},
   "outputs": [
    {
     "data": {
      "text/plain": [
       "birthwgt_lb\n",
       "0.0        8\n",
       "1.0       40\n",
       "2.0       53\n",
       "3.0       98\n",
       "4.0      229\n",
       "5.0      697\n",
       "6.0     2223\n",
       "7.0     3049\n",
       "8.0     1889\n",
       "9.0      623\n",
       "10.0     132\n",
       "11.0      26\n",
       "12.0      10\n",
       "13.0       3\n",
       "14.0       3\n",
       "15.0       1\n",
       "51.0       1\n",
       "97.0       1\n",
       "98.0       1\n",
       "99.0      57\n",
       "NaN     4449\n",
       "Name: count, dtype: int64"
      ]
     },
     "execution_count": 27,
     "metadata": {},
     "output_type": "execute_result"
    }
   ],
   "source": [
    "# same as above, this time with dropna=False\n",
    "counts = preg[\"birthwgt_lb\"].value_counts(dropna=False).sort_index()\n",
    "counts"
   ]
  },
  {
   "cell_type": "code",
   "execution_count": 28,
   "id": "b189afd8-696d-4dfe-ac24-ceb04904cda8",
   "metadata": {},
   "outputs": [
    {
     "data": {
      "text/plain": [
       "birthwgt_lb\n",
       "0.0      8\n",
       "1.0     40\n",
       "2.0     53\n",
       "3.0     98\n",
       "4.0    229\n",
       "5.0    697\n",
       "Name: count, dtype: int64"
      ]
     },
     "execution_count": 28,
     "metadata": {},
     "output_type": "execute_result"
    }
   ],
   "source": [
    "# check the counts for the weight range from 0 to 5 pounds\n",
    "# using the loc attribute called loc\n",
    "# loc is short for “location” (slices index to select a subset of the counts)\n",
    "counts.loc[0:5]"
   ]
  },
  {
   "cell_type": "code",
   "execution_count": 29,
   "id": "51562313-bf9a-49d9-bfab-5af013a6c1ff",
   "metadata": {},
   "outputs": [
    {
     "data": {
      "text/plain": [
       "np.int64(1125)"
      ]
     },
     "execution_count": 29,
     "metadata": {},
     "output_type": "execute_result"
    }
   ],
   "source": [
    "# the sum over the slice\n",
    "counts.loc[0:5].sum() # same as in table above"
   ]
  },
  {
   "cell_type": "markdown",
   "id": "9dff2662-b941-4964-8d91-d0ecf35ef154",
   "metadata": {},
   "source": [
    "#### __Handling missing data__\n",
    "We have three cases where the birth weight is unknown: the values 97, 98, and 99. Plus once case where the value is clearly wrong: 51 pounds. The way to handle missing data we will use here is replacing these values with the NaN value from NumPy."
   ]
  },
  {
   "cell_type": "code",
   "execution_count": null,
   "id": "ca519dd6-978f-4e8f-9342-efc2566590e9",
   "metadata": {},
   "outputs": [],
   "source": [
    "preg[\"birthwgt_lb\"] = preg[\"birthwgt_lb\"].replace([51, 97, 98, 99], np.nan)"
   ]
  },
  {
   "cell_type": "markdown",
   "id": "e2c08a8b-8423-462f-a3ab-695bc6425ad7",
   "metadata": {},
   "source": [
    "### Transformation"
   ]
  },
  {
   "cell_type": "markdown",
   "id": "a7489ae4-4000-4e7c-8457-40aa756f3681",
   "metadata": {},
   "source": [
    "Transformation is a kind of data cleaning where we have to convert data into different formats to perform some kind of calculation with them.\n",
    "\n",
    "The variable `agepreg` contains the mother’s age at the end of the pregnancy. According to the codebook it is an integer number of centiyears (hundredths of a year)."
   ]
  },
  {
   "cell_type": "code",
   "execution_count": null,
   "id": "2bd18425-f3b0-481f-978a-ece5a60884f9",
   "metadata": {},
   "outputs": [],
   "source": [
    "preg[\"agepreg\"].mean()"
   ]
  },
  {
   "cell_type": "code",
   "execution_count": null,
   "id": "7116933e-f602-4d0a-a998-efeae18391a6",
   "metadata": {},
   "outputs": [],
   "source": [
    "# converting the mean to years by dividing the variable through 100\n",
    "preg[\"agepreg\"] /= 100\n",
    "preg[\"agepreg\"].mean()"
   ]
  },
  {
   "cell_type": "markdown",
   "id": "b851b87f-3bee-4fef-adb3-fb0586d3de54",
   "metadata": {},
   "source": [
    "The columns `birthwgt_lb` and `birthwgt_oz` contain birth weights with the pounds and ounces in separate columns. We'll combine them into as single column that contains weights in pounds and fractions of a pound."
   ]
  },
  {
   "cell_type": "code",
   "execution_count": null,
   "id": "a7a55ff8-3a75-4f60-986b-2fa590f220fa",
   "metadata": {},
   "outputs": [],
   "source": [
    "# cleaning birthwgt_oz as we did with birthwgt_lb\n",
    "preg[\"birthwgt_oz\"].value_counts(dropna=False).sort_index()"
   ]
  },
  {
   "cell_type": "code",
   "execution_count": null,
   "id": "cda0e923-300b-404b-ac8b-eae7ff6a62b9",
   "metadata": {},
   "outputs": [],
   "source": [
    "preg[\"birthwgt_oz\"] = preg[\"birthwgt_oz\"].replace([97, 98, 99], np.nan)"
   ]
  },
  {
   "cell_type": "code",
   "execution_count": null,
   "id": "56633937-1be7-48d1-8a8e-f7779e500267",
   "metadata": {},
   "outputs": [],
   "source": [
    "# using the cleaned values to create a new column that combines pounds and ounces into a single quantity\n",
    "preg[\"totalwgt_lb\"] = preg[\"birthwgt_lb\"] + preg[\"birthwgt_oz\"] / 16.0\n",
    "preg[\"totalwgt_lb\"].mean() # average of the result seems plausible"
   ]
  },
  {
   "cell_type": "markdown",
   "id": "15847802-fbba-4fc6-b030-55b89a1809b5",
   "metadata": {},
   "source": [
    "### Summary Statistics"
   ]
  },
  {
   "cell_type": "code",
   "execution_count": null,
   "id": "99a7fc85-81aa-41c5-9555-ac69ce3921ee",
   "metadata": {},
   "outputs": [],
   "source": [
    "# a Series object has a count method that returns the number of values that are not nan\n",
    "weights = preg[\"totalwgt_lb\"]\n",
    "n = weights.count()\n",
    "n"
   ]
  },
  {
   "cell_type": "code",
   "execution_count": null,
   "id": "784a0c89-a518-41c2-b8e3-c86717e07e4c",
   "metadata": {},
   "outputs": [],
   "source": [
    "# sum method that returns the sum of the values\n",
    "weights.sum()"
   ]
  },
  {
   "cell_type": "code",
   "execution_count": null,
   "id": "7d268667-19ca-4717-8525-d5c6026e1958",
   "metadata": {},
   "outputs": [],
   "source": [
    "# use the sum method to compute the mean\n",
    "mean = weights.sum() / n\n",
    "mean"
   ]
  },
  {
   "cell_type": "code",
   "execution_count": null,
   "id": "0ab7143b-9cba-4039-ae69-3812d2890af0",
   "metadata": {},
   "outputs": [],
   "source": [
    "weights.mean() # same with the mean method"
   ]
  },
  {
   "cell_type": "code",
   "execution_count": null,
   "id": "cc2a552a-2273-4d47-810b-05573bf4cf3e",
   "metadata": {},
   "outputs": [],
   "source": [
    "# variance is a statistic that quantifies the spread of a set of values\n",
    "# it is the mean of the squared deviations (which are the distances of each point from the mean)\n",
    "# squared deviations:\n",
    "squared_deviations = (weights - mean) ** 2\n",
    "squared_deviations"
   ]
  },
  {
   "cell_type": "code",
   "execution_count": null,
   "id": "2fb6a74b-b3b1-445d-93d6-190853e0b342",
   "metadata": {},
   "outputs": [],
   "source": [
    "# mean of the squared deviations -> variance\n",
    "var = squared_deviations.sum() / n"
   ]
  },
  {
   "cell_type": "code",
   "execution_count": null,
   "id": "60e00ba3-b7f2-4e80-838b-ce4a682f5ce8",
   "metadata": {},
   "outputs": [],
   "source": [
    "weights.var() # var method of Series does the same thing"
   ]
  },
  {
   "cell_type": "markdown",
   "id": "5bbe3182-2b89-45be-a24f-5e02bb83db15",
   "metadata": {},
   "source": [
    "The result of `weights.var()` is slightly different because when the var method computes the mean of the squared deviations, it divides by `n-1` rather than `n`. To get the variance with `n` in the denominator you can get it by passing `ddof=0` as a keyword argument to the var method."
   ]
  },
  {
   "cell_type": "code",
   "execution_count": null,
   "id": "470eae63-eb5f-4f25-9db3-4650f4d1e1eb",
   "metadata": {},
   "outputs": [],
   "source": [
    "weights.var(ddof=0)"
   ]
  },
  {
   "cell_type": "markdown",
   "id": "2601e881-7ac2-4dbc-b202-28b91f6559cd",
   "metadata": {},
   "source": [
    "So far we have variance of the birth weights (about 1.98) which is in units of pounds squared and therefore hard to interpret. A better option to describe a dataset is the __standard deviation__ which is the square root of variance. Informally values that are one or two standard deviations from the mean are common. On the other hand values farther from the mean are rare."
   ]
  },
  {
   "cell_type": "code",
   "execution_count": null,
   "id": "cca9a4fd-8d5e-4bdf-b023-2b5eeee38339",
   "metadata": {},
   "outputs": [],
   "source": [
    "std = np.sqrt(var)\n",
    "std"
   ]
  },
  {
   "cell_type": "code",
   "execution_count": null,
   "id": "f78b0029-7f8f-420f-8bbb-df093f1514ad",
   "metadata": {},
   "outputs": [],
   "source": [
    "weights.std(ddof=0) # same with the std method"
   ]
  },
  {
   "cell_type": "markdown",
   "id": "3becf68e-0047-4f71-8cab-93b2a93f8436",
   "metadata": {},
   "source": [
    "### Interpretation"
   ]
  },
  {
   "cell_type": "markdown",
   "id": "c1e76bcc-fe38-4b51-b82a-9f86972137e1",
   "metadata": {},
   "source": [
    "To work with data effectively you have to think on the *level of statistics* and the *level of context* at the same time. Let's have a look at a subset of the data table."
   ]
  },
  {
   "cell_type": "code",
   "execution_count": null,
   "id": "5ef2f3d9-c30e-4cff-8f10-180e6a384ff2",
   "metadata": {},
   "outputs": [],
   "source": [
    "# selecting the rows in the pregnancy file with caseid 10229\n",
    "# the query method takes a string that can contain column names, comparison operators, and numbers, among other things\n",
    "subset = preg.query(\"caseid == 10229\")\n",
    "subset.shape # the respondent reports seven pregnancies"
   ]
  },
  {
   "cell_type": "code",
   "execution_count": null,
   "id": "95851cbe-e03e-416d-a475-b29403149848",
   "metadata": {},
   "outputs": [],
   "source": [
    "subset[\"outcome\"].values # outcomes, which are recorded in chronological order\n",
    "# outcome code 1 indicates a live birth, code 4 indicates a miscarriage"
   ]
  },
  {
   "cell_type": "markdown",
   "id": "5a7d4ddc-a86d-4413-9617-48a80a775491",
   "metadata": {},
   "source": [
    "### Glossary"
   ]
  },
  {
   "cell_type": "markdown",
   "id": "65cf5ea4-36da-4309-8f6f-c258b20e2f51",
   "metadata": {},
   "source": [
    "__Anecdotal evidence__: Data collected informally from a small number of individual cases, often without systematic sampling.\n",
    "\n",
    "__Cross-sectional study__: A study that collects data from a representative sample of a population at a single point or interval in time.\n",
    "\n",
    "__Longitudinal study__: A study that collects data from the same group of respondents at more than one interval in time.\n",
    "\n",
    "__Cycle__: One data-collection interval in a study that collects data at multiple intervals in time.\n",
    "\n",
    "__Population__: The entire group of individuals or items that is the subject of a study.\n",
    "\n",
    "__Sample__: A subset of a population, often chosen at random.\n",
    "\n",
    "__Respondents__: People who participate in a survey and respond to questions.\n",
    "\n",
    "__Representative__: A sample is representative if it is similar to the population in ways that are important for the purposes of the study.\n",
    "\n",
    "__Stratified__: A sample is stratified if it deliberately oversamples some groups, usually to make sure that enough members are included to support valid conclusions.\n",
    "\n",
    "__Oversampled__: A subset of the population is oversampled if its members have a higher chance of appearing in a sample.\n",
    "\n",
    "__Codebook__: A document that describes the variables in a dataset, and provides other information about the data.\n",
    "\n",
    "__Recode__: A variable that is computed based on other variables in a dataset.\n",
    "\n",
    "__Raw data__: Data that has not been processed after collection.\n",
    "\n",
    "__Data cleaning__: A process for identifying and correcting errors in a dataset, dealing with missing values, and computing recodes.\n",
    "\n",
    "__Statistic__: A value that describes or summarizes a property of a sample.\n",
    "\n",
    "__Standard deviation__: A statistic that quantifies the spread of data around the mean.\n",
    "\n",
    "*(Source: https://allendowney.github.io/ThinkStats/chap01.html#glossary)*"
   ]
  },
  {
   "cell_type": "markdown",
   "id": "53808b8a-1603-4b73-a572-1240b8ad0844",
   "metadata": {},
   "source": [
    "### Exercises"
   ]
  },
  {
   "cell_type": "markdown",
   "id": "118fa72e-88ff-40a4-aa7d-c3f2a6e79d91",
   "metadata": {},
   "source": [
    "#### __Exercise # 1__\n",
    "Select the `birthord` column from preg, print the value counts, and compare to results published in the codebook at https://ftp.cdc.gov/pub/Health_Statistics/NCHS/Dataset_Documentation/NSFG/Cycle6Codebook-Pregnancy.pdf."
   ]
  },
  {
   "cell_type": "markdown",
   "id": "834bbd6f-569b-49d0-9ab2-6523d67b8d6f",
   "metadata": {},
   "source": [
    "<pre>\n",
    "BIRTHORD FROM CODEBOOK (278 - 279)\n",
    "Birth order (recode)\n",
    "Value Label Total\n",
    ". INAPPLICABLE 4445\n",
    "01 1ST BIRTH 4413\n",
    "02 2ND BIRTH 2874\n",
    "03 3RD BIRTH 1234\n",
    "04 4TH BIRTH 421\n",
    "05 5TH BIRTH 126\n",
    "06 6TH BIRTH 50\n",
    "07 7TH BIRTH 20\n",
    "08 8TH BIRTH 7\n",
    "09 9TH BIRTH 2\n",
    "10 10TH BIRTH 1\n",
    "Total 13593\n",
    "</pre>"
   ]
  },
  {
   "cell_type": "code",
   "execution_count": null,
   "id": "478acf52-da55-4bf2-a262-cfca800ad158",
   "metadata": {},
   "outputs": [],
   "source": [
    "birthord = preg[\"birthord\"].value_counts(dropna=False).sort_index()\n",
    "birthord # same as in codebook"
   ]
  },
  {
   "cell_type": "markdown",
   "id": "f974179f-18d2-40bf-883b-cbc9aec3057b",
   "metadata": {},
   "source": [
    "#### __Exercise # 2__\n",
    "\n",
    "Create a new column named `totalwgt_kg` that contains birth weight in kilograms (there are approximately 2.2 pounds per kilogram). Compute the mean and standard deviation of the new column."
   ]
  },
  {
   "cell_type": "code",
   "execution_count": null,
   "id": "3b489ddd-4820-4ae2-9c0e-fe5cd3308a84",
   "metadata": {},
   "outputs": [],
   "source": [
    "# above we've created the column totalwgt_lb with the total weight in pounds\n",
    "preg[\"totalwgt_lb\"]"
   ]
  },
  {
   "cell_type": "code",
   "execution_count": null,
   "id": "90a74c44-9c64-44af-af2b-9fa1f1725725",
   "metadata": {},
   "outputs": [],
   "source": [
    "# new column totalwgt_kg that contains birth weight in kilograms\n",
    "# there are approximately 2.2 pounds per kilogram\n",
    "preg[\"totalwgt_kg\"] = preg[\"totalwgt_lb\"] / 2.205\n",
    "preg[\"totalwgt_kg\"]"
   ]
  },
  {
   "cell_type": "code",
   "execution_count": null,
   "id": "89b41091-ee67-4aaa-b9b5-4c2ea395f369",
   "metadata": {},
   "outputs": [],
   "source": [
    "# Computing the mean of the new column\n",
    "preg[\"totalwgt_kg\"].mean()"
   ]
  },
  {
   "cell_type": "code",
   "execution_count": null,
   "id": "ea53231f-d397-49a2-8345-af8fe46bf746",
   "metadata": {},
   "outputs": [],
   "source": [
    "# computing the standard deviation\n",
    "preg[\"totalwgt_kg\"].std(ddof=0)"
   ]
  },
  {
   "cell_type": "markdown",
   "id": "cc6b2e2f-1d5f-436b-be2e-752f7d0ea571",
   "metadata": {},
   "source": [
    "#### __Exercise # 3__\n",
    "\n",
    "What are the pregnancy lengths for the respondent with caseid 2298?\n",
    "\n",
    "What was the birth weight of the first baby born to the respondent with caseid 5013? Hint: You can use and to check more than one condition in a query."
   ]
  },
  {
   "cell_type": "code",
   "execution_count": null,
   "id": "45ee16cf-6170-49ac-9dc3-772acc27748b",
   "metadata": {},
   "outputs": [],
   "source": [
    "preg.head()"
   ]
  },
  {
   "cell_type": "code",
   "execution_count": null,
   "id": "a1de72fa-4ff2-4525-873a-7e0d831c5815",
   "metadata": {},
   "outputs": [],
   "source": [
    "subset_2298 = preg.query(\"caseid == 2298\")\n",
    "subset_2298"
   ]
  },
  {
   "cell_type": "code",
   "execution_count": null,
   "id": "98f788f0-9ec0-485f-a4fd-6c914653d10b",
   "metadata": {},
   "outputs": [],
   "source": [
    "# wksgest (46 - 47): Gestational length of completed pregnancy (in weeks) (computed)\n",
    "subset_2298[\"wksgest\"] # length in weeks of all four pregnancies"
   ]
  },
  {
   "cell_type": "code",
   "execution_count": null,
   "id": "2523872f-bead-4821-9644-6d1196376be4",
   "metadata": {},
   "outputs": [],
   "source": [
    "subset_2298[\"wksgest\"].mean()"
   ]
  },
  {
   "cell_type": "code",
   "execution_count": null,
   "id": "02313860-5465-4484-b830-33b3e9ab9f8e",
   "metadata": {},
   "outputs": [],
   "source": [
    "# birth weight of the first baby born to the respondent with caseid 5013\n",
    "subset_5013 = preg.query(\"caseid == 5013 and pregordr == 1\")\n",
    "subset_5013"
   ]
  },
  {
   "cell_type": "code",
   "execution_count": null,
   "id": "15a58572-b375-4db7-a7d0-7c1ca1415dea",
   "metadata": {},
   "outputs": [],
   "source": [
    "subset_5013[\"totalwgt_kg\"]"
   ]
  },
  {
   "cell_type": "code",
   "execution_count": null,
   "id": "06a339b0-6b2f-4b1e-bc71-e689e5d292ab",
   "metadata": {},
   "outputs": [],
   "source": []
  }
 ],
 "metadata": {
  "kernelspec": {
   "display_name": "Python 3 (ipykernel)",
   "language": "python",
   "name": "python3"
  },
  "language_info": {
   "codemirror_mode": {
    "name": "ipython",
    "version": 3
   },
   "file_extension": ".py",
   "mimetype": "text/x-python",
   "name": "python",
   "nbconvert_exporter": "python",
   "pygments_lexer": "ipython3",
   "version": "3.12.7"
  }
 },
 "nbformat": 4,
 "nbformat_minor": 5
}
