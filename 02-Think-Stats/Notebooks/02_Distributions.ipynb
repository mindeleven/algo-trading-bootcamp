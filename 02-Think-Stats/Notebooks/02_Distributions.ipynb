{
 "cells": [
  {
   "cell_type": "markdown",
   "id": "8efda489-8822-40bc-a47f-5ca5b476f854",
   "metadata": {},
   "source": [
    "## Distributions"
   ]
  },
  {
   "cell_type": "markdown",
   "id": "c14dd095-2c6c-4cd8-9492-09b8a83624ee",
   "metadata": {},
   "source": [
    "*Coding along with third edition of the online version of __[Think Stats](https://allendowney.github.io/ThinkStats/chap02.html)__ by Allen Downey.*"
   ]
  },
  {
   "cell_type": "markdown",
   "id": "29267251-14a4-49b2-93a4-c9fdbfb61a51",
   "metadata": {},
   "source": [
    "#### __Distributions in Statistics__\n",
    "\n",
    "A distribution in statistics describes how data is spread out or arranged - essentially, it's a mathematical function that shows how often different values occur in a dataset. Think of it as a way to understand the \"shape\" of your data.\n",
    "\n",
    "Here are the key aspects of distributions:\n",
    "\n",
    "***Central Tendency*** - This shows where the data tends to cluster, typically measured by:\n",
    "- Mean (average)\n",
    "- Median (middle value)\n",
    "- Mode (most frequent value)\n",
    "\n",
    "***Spread*** - This indicates how dispersed the data is, measured by:\n",
    "- Range (difference between highest and lowest values)\n",
    "- Standard deviation (average distance from the mean)\n",
    "- Variance (standard deviation squared)\n",
    "\n",
    "__Some common types of distributions include:__\n",
    "\n",
    "***Normal Distribution (Bell Curve):***\n",
    "- Symmetrical shape with most data clustered in the middle\n",
    "- Examples: heights in a population, test scores\n",
    "- Often occurs naturally in many phenomena\n",
    "\n",
    "***Uniform Distribution:***\n",
    "- All values have equal probability of occurring\n",
    "- Example: rolling a fair die\n",
    "\n",
    "***Skewed Distributions:***\n",
    "- Right-skewed: tail extends to the right (higher values)\n",
    "- Left-skewed: tail extends to the left (lower values)\n",
    "- Example: income distributions are often right-skewed\n",
    "\n",
    "Understanding distributions helps us:\n",
    "- Make predictions about future data\n",
    "- Identify unusual values or outliers\n",
    "- Choose appropriate statistical tests\n",
    "- Make informed decisions based on data patterns\n",
    "\n",
    "*(Source: Claude.ai)*"
   ]
  },
  {
   "cell_type": "code",
   "execution_count": 83,
   "id": "fc399936-c4c1-4f7f-923c-0f2c7723da07",
   "metadata": {},
   "outputs": [],
   "source": [
    "import empiricaldist\n",
    "import numpy as np\n",
    "import matplotlib.pyplot as plt\n",
    "# https://github.com/AllenDowney/ThinkBayes/blob/master/code/thinkstats.py\n",
    "from thinkstats import decorate"
   ]
  },
  {
   "cell_type": "markdown",
   "id": "2bc18457-a260-44fc-9114-e2366e68bc21",
   "metadata": {},
   "source": [
    "## Histograms (Frequency Tables)"
   ]
  },
  {
   "cell_type": "markdown",
   "id": "acb74c67-d88f-4372-a6ee-04a155f4aeeb",
   "metadata": {},
   "source": [
    "A histogram is a visual representation of a distribution that shows the frequency of data points falling within specific ranges or \"bins.\" Think of it like a bar chart where each bar represents how many data points fall within a particular range.\n",
    "\n",
    "Here's why histograms are particularly useful:\n",
    "\n",
    "1. They give you an immediate visual sense of:\n",
    "   - Where most of your data is concentrated\n",
    "   - The overall shape of your distribution\n",
    "   - Any unusual patterns or outliers\n",
    "\n",
    "2. For example, if you measured the heights of 1000 adults:\n",
    "   - Each bar might represent a 2-inch range (60-62 inches, 62-64 inches, etc.)\n",
    "   - The height of each bar shows how many people fall within that range\n",
    "   - You might see a bell-shaped curve typical of height distributions\n",
    "\n",
    "What makes histograms especially powerful is that they transform raw numbers into a pattern you can understand at a glance. If someone handed you a spreadsheet with 1000 height measurements, it would be hard to spot patterns. But a histogram instantly shows you if the heights cluster around a central value, if they're skewed to one side, or if there are any unexpected gaps or peaks.\n",
    "\n",
    "*(Source: Claude.ai)*"
   ]
  },
  {
   "cell_type": "markdown",
   "id": "2b7f6f91-4249-4cbc-aa0c-58151947f39b",
   "metadata": {},
   "source": [
    "One way to desrcribe a variable are frequency tables. They contain the values the variable and their frequencies (number of times each value appears). Such a description is called the __distribution of the variable__."
   ]
  },
  {
   "cell_type": "code",
   "execution_count": 84,
   "id": "b61d142a-dad8-4758-987f-da6646b9693c",
   "metadata": {},
   "outputs": [],
   "source": [
    "from empiricaldist import Hist # library that represents distributions"
   ]
  },
  {
   "cell_type": "code",
   "execution_count": 85,
   "id": "e1d18cae-fea6-46a3-b9e1-0864cd83d615",
   "metadata": {},
   "outputs": [],
   "source": [
    "t = [1.0, 2.0, 2.0, 3.0, 5.0] # let's start with a small list of values"
   ]
  },
  {
   "cell_type": "code",
   "execution_count": 86,
   "id": "c1aefb61-cddb-4864-b0bc-a84fc49b3873",
   "metadata": {},
   "outputs": [
    {
     "data": {
      "text/html": [
       "<div>\n",
       "<style scoped>\n",
       "    .dataframe tbody tr th:only-of-type {\n",
       "        vertical-align: middle;\n",
       "    }\n",
       "\n",
       "    .dataframe tbody tr th {\n",
       "        vertical-align: top;\n",
       "    }\n",
       "\n",
       "    .dataframe thead th {\n",
       "        text-align: right;\n",
       "    }\n",
       "</style>\n",
       "<table border=\"1\" class=\"dataframe\">\n",
       "  <thead>\n",
       "    <tr style=\"text-align: right;\">\n",
       "      <th></th>\n",
       "      <th>freqs</th>\n",
       "    </tr>\n",
       "  </thead>\n",
       "  <tbody>\n",
       "    <tr>\n",
       "      <th>1.0</th>\n",
       "      <td>1</td>\n",
       "    </tr>\n",
       "    <tr>\n",
       "      <th>2.0</th>\n",
       "      <td>2</td>\n",
       "    </tr>\n",
       "    <tr>\n",
       "      <th>3.0</th>\n",
       "      <td>1</td>\n",
       "    </tr>\n",
       "    <tr>\n",
       "      <th>5.0</th>\n",
       "      <td>1</td>\n",
       "    </tr>\n",
       "  </tbody>\n",
       "</table>\n",
       "</div>"
      ],
      "text/plain": [
       "1.0    1\n",
       "2.0    2\n",
       "3.0    1\n",
       "5.0    1\n",
       "Name: , dtype: int64"
      ]
     },
     "execution_count": 86,
     "metadata": {},
     "output_type": "execute_result"
    }
   ],
   "source": [
    "# Hist from the empiricaldist package provides a method called `from_seq`\n",
    "# `from_seq` takes a sequence and makes a `Hist` object\n",
    "hist = Hist.from_seq(t)\n",
    "hist"
   ]
  },
  {
   "cell_type": "markdown",
   "id": "66689902-c427-4e8e-b6f5-211334cd8049",
   "metadata": {},
   "source": [
    "A `Hist` object is a kind of Pandas `Series` that contains quantities and their frequencies.\n",
    "In our example the quantity `1.0` corresponds to frequency 1, the quantity `2.0` corresponds to frequency 2, etc."
   ]
  },
  {
   "cell_type": "code",
   "execution_count": 87,
   "id": "a7d2da9e-a90e-4bde-acbb-140a08788a0a",
   "metadata": {},
   "outputs": [
    {
     "data": {
      "text/html": [
       "<div>\n",
       "<style scoped>\n",
       "    .dataframe tbody tr th:only-of-type {\n",
       "        vertical-align: middle;\n",
       "    }\n",
       "\n",
       "    .dataframe tbody tr th {\n",
       "        vertical-align: top;\n",
       "    }\n",
       "\n",
       "    .dataframe thead th {\n",
       "        text-align: right;\n",
       "    }\n",
       "</style>\n",
       "<table border=\"1\" class=\"dataframe\">\n",
       "  <thead>\n",
       "    <tr style=\"text-align: right;\">\n",
       "      <th></th>\n",
       "      <th>freqs</th>\n",
       "    </tr>\n",
       "  </thead>\n",
       "  <tbody>\n",
       "    <tr>\n",
       "      <th>1.0</th>\n",
       "      <td>1</td>\n",
       "    </tr>\n",
       "    <tr>\n",
       "      <th>2.0</th>\n",
       "      <td>2</td>\n",
       "    </tr>\n",
       "    <tr>\n",
       "      <th>3.0</th>\n",
       "      <td>1</td>\n",
       "    </tr>\n",
       "    <tr>\n",
       "      <th>5.0</th>\n",
       "      <td>1</td>\n",
       "    </tr>\n",
       "  </tbody>\n",
       "</table>\n",
       "</div>"
      ],
      "text/plain": [
       "1.0    1\n",
       "2.0    2\n",
       "3.0    1\n",
       "5.0    1\n",
       "Name: , dtype: int64"
      ]
     },
     "execution_count": 87,
     "metadata": {},
     "output_type": "execute_result"
    }
   ],
   "source": [
    "# another way to compute and plot frequency tables is a class called FreqTab\n",
    "from empiricaldist import FreqTab\n",
    "ftab = FreqTab.from_seq(t)\n",
    "ftab"
   ]
  },
  {
   "cell_type": "code",
   "execution_count": 88,
   "id": "de1b9c84-1249-4bdb-8d3f-adb5ae9acfa0",
   "metadata": {},
   "outputs": [
    {
     "data": {
      "image/png": "[encoded data removed]",
      "text/plain": [
       "<Figure size 450x262.5 with 1 Axes>"
      ]
     },
     "metadata": {},
     "output_type": "display_data"
    }
   ],
   "source": [
    "# `Hist` provides a method called `bar` that plots the histogram as a bar chart\n",
    "hist.bar()\n",
    "decorate(xlabel=\"Quantity\", ylabel=\"Frequency\") # naming the axes"
   ]
  },
  {
   "cell_type": "code",
   "execution_count": 89,
   "id": "77f41a22-e5c4-42ea-8aae-d4f1d92c3dff",
   "metadata": {},
   "outputs": [
    {
     "data": {
      "text/plain": [
       "np.int64(2)"
      ]
     },
     "execution_count": 89,
     "metadata": {},
     "output_type": "execute_result"
    }
   ],
   "source": [
    "hist[2.0] # looking up a quantity to get its frequency"
   ]
  },
  {
   "cell_type": "code",
   "execution_count": 90,
   "id": "a008ff04-39ee-41d8-9c8e-06ba1ffbf63d",
   "metadata": {},
   "outputs": [
    {
     "data": {
      "text/plain": [
       "np.int64(2)"
      ]
     },
     "execution_count": 90,
     "metadata": {},
     "output_type": "execute_result"
    }
   ],
   "source": [
    "hist(2.0) # can also be called like a function"
   ]
  },
  {
   "cell_type": "code",
   "execution_count": 91,
   "id": "e6d66851-8327-4502-9e63-aaf6f38a8a08",
   "metadata": {},
   "outputs": [
    {
     "data": {
      "text/plain": [
       "0"
      ]
     },
     "execution_count": 91,
     "metadata": {},
     "output_type": "execute_result"
    }
   ],
   "source": [
    "hist(4.0) # looking up a quantity that has no frequency returns 0"
   ]
  },
  {
   "cell_type": "code",
   "execution_count": 92,
   "id": "3b3b4999-9cdd-477a-853c-c05dc71edb66",
   "metadata": {},
   "outputs": [
    {
     "data": {
      "text/plain": [
       "array([1., 2., 3., 5.])"
      ]
     },
     "execution_count": 92,
     "metadata": {},
     "output_type": "execute_result"
    }
   ],
   "source": [
    "# qs attribute returns an array of quantities\n",
    "hist.qs"
   ]
  },
  {
   "cell_type": "code",
   "execution_count": 93,
   "id": "42269000-59a6-4390-9477-dccb238dcb32",
   "metadata": {},
   "outputs": [
    {
     "data": {
      "text/plain": [
       "array([1, 2, 1, 1])"
      ]
     },
     "execution_count": 93,
     "metadata": {},
     "output_type": "execute_result"
    }
   ],
   "source": [
    "# ps attribute returns an array of frequencies\n",
    "hist.ps"
   ]
  },
  {
   "cell_type": "code",
   "execution_count": 94,
   "id": "c526254e-776e-4995-96b2-100a3eb283d8",
   "metadata": {},
   "outputs": [
    {
     "name": "stdout",
     "output_type": "stream",
     "text": [
      "1.0 1\n",
      "2.0 2\n",
      "3.0 1\n",
      "5.0 1\n"
     ]
    }
   ],
   "source": [
    "# items method allows to loop through quantity-frequency pairs\n",
    "for (x, freq) in hist.items():\n",
    "    print(x, freq)"
   ]
  },
  {
   "cell_type": "markdown",
   "id": "44e75b81-bd0e-402d-ae05-b58cc20e19a5",
   "metadata": {},
   "source": [
    "## NSFG Distributions"
   ]
  },
  {
   "cell_type": "markdown",
   "id": "3568abb7-0d88-46d3-9dbe-eef9c29410fb",
   "metadata": {},
   "source": [
    "Exploring the variables we are planning to use one at a time by looking at histograms. Once again our example is a dataset from the National Survey of Family Growth (NSFG). This time we're using a module called `nsfg.py` to load and clean the data (kindly provided by the author of the *Think Stats* book)."
   ]
  },
  {
   "cell_type": "code",
   "execution_count": 95,
   "id": "bc5ef308-01ff-4775-b379-57cbfce81e9e",
   "metadata": {},
   "outputs": [],
   "source": [
    "from nsfg import read_fem_preg"
   ]
  },
  {
   "cell_type": "code",
   "execution_count": 96,
   "id": "d579242a-710b-4c59-9242-d901b7e56848",
   "metadata": {},
   "outputs": [
    {
     "data": {
      "text/html": [
       "<div>\n",
       "<style scoped>\n",
       "    .dataframe tbody tr th:only-of-type {\n",
       "        vertical-align: middle;\n",
       "    }\n",
       "\n",
       "    .dataframe tbody tr th {\n",
       "        vertical-align: top;\n",
       "    }\n",
       "\n",
       "    .dataframe thead th {\n",
       "        text-align: right;\n",
       "    }\n",
       "</style>\n",
       "<table border=\"1\" class=\"dataframe\">\n",
       "  <thead>\n",
       "    <tr style=\"text-align: right;\">\n",
       "      <th></th>\n",
       "      <th>caseid</th>\n",
       "      <th>pregordr</th>\n",
       "      <th>howpreg_n</th>\n",
       "      <th>howpreg_p</th>\n",
       "      <th>moscurrp</th>\n",
       "      <th>nowprgdk</th>\n",
       "      <th>pregend1</th>\n",
       "      <th>pregend2</th>\n",
       "      <th>nbrnaliv</th>\n",
       "      <th>multbrth</th>\n",
       "      <th>...</th>\n",
       "      <th>laborfor_i</th>\n",
       "      <th>religion_i</th>\n",
       "      <th>metro_i</th>\n",
       "      <th>basewgt</th>\n",
       "      <th>adj_mod_basewgt</th>\n",
       "      <th>finalwgt</th>\n",
       "      <th>secu_p</th>\n",
       "      <th>sest</th>\n",
       "      <th>cmintvw</th>\n",
       "      <th>totalwgt_lb</th>\n",
       "    </tr>\n",
       "  </thead>\n",
       "  <tbody>\n",
       "    <tr>\n",
       "      <th>0</th>\n",
       "      <td>1</td>\n",
       "      <td>1</td>\n",
       "      <td>NaN</td>\n",
       "      <td>NaN</td>\n",
       "      <td>NaN</td>\n",
       "      <td>NaN</td>\n",
       "      <td>6.0</td>\n",
       "      <td>NaN</td>\n",
       "      <td>1.0</td>\n",
       "      <td>NaN</td>\n",
       "      <td>...</td>\n",
       "      <td>0</td>\n",
       "      <td>0</td>\n",
       "      <td>0</td>\n",
       "      <td>3410.389399</td>\n",
       "      <td>3869.349602</td>\n",
       "      <td>6448.271112</td>\n",
       "      <td>2</td>\n",
       "      <td>9</td>\n",
       "      <td>1231</td>\n",
       "      <td>8.8125</td>\n",
       "    </tr>\n",
       "    <tr>\n",
       "      <th>1</th>\n",
       "      <td>1</td>\n",
       "      <td>2</td>\n",
       "      <td>NaN</td>\n",
       "      <td>NaN</td>\n",
       "      <td>NaN</td>\n",
       "      <td>NaN</td>\n",
       "      <td>6.0</td>\n",
       "      <td>NaN</td>\n",
       "      <td>1.0</td>\n",
       "      <td>NaN</td>\n",
       "      <td>...</td>\n",
       "      <td>0</td>\n",
       "      <td>0</td>\n",
       "      <td>0</td>\n",
       "      <td>3410.389399</td>\n",
       "      <td>3869.349602</td>\n",
       "      <td>6448.271112</td>\n",
       "      <td>2</td>\n",
       "      <td>9</td>\n",
       "      <td>1231</td>\n",
       "      <td>7.8750</td>\n",
       "    </tr>\n",
       "    <tr>\n",
       "      <th>2</th>\n",
       "      <td>2</td>\n",
       "      <td>1</td>\n",
       "      <td>NaN</td>\n",
       "      <td>NaN</td>\n",
       "      <td>NaN</td>\n",
       "      <td>NaN</td>\n",
       "      <td>5.0</td>\n",
       "      <td>NaN</td>\n",
       "      <td>3.0</td>\n",
       "      <td>5.0</td>\n",
       "      <td>...</td>\n",
       "      <td>0</td>\n",
       "      <td>0</td>\n",
       "      <td>0</td>\n",
       "      <td>7226.301740</td>\n",
       "      <td>8567.549110</td>\n",
       "      <td>12999.542264</td>\n",
       "      <td>2</td>\n",
       "      <td>12</td>\n",
       "      <td>1231</td>\n",
       "      <td>9.1250</td>\n",
       "    </tr>\n",
       "    <tr>\n",
       "      <th>3</th>\n",
       "      <td>2</td>\n",
       "      <td>2</td>\n",
       "      <td>NaN</td>\n",
       "      <td>NaN</td>\n",
       "      <td>NaN</td>\n",
       "      <td>NaN</td>\n",
       "      <td>6.0</td>\n",
       "      <td>NaN</td>\n",
       "      <td>1.0</td>\n",
       "      <td>NaN</td>\n",
       "      <td>...</td>\n",
       "      <td>0</td>\n",
       "      <td>0</td>\n",
       "      <td>0</td>\n",
       "      <td>7226.301740</td>\n",
       "      <td>8567.549110</td>\n",
       "      <td>12999.542264</td>\n",
       "      <td>2</td>\n",
       "      <td>12</td>\n",
       "      <td>1231</td>\n",
       "      <td>7.0000</td>\n",
       "    </tr>\n",
       "    <tr>\n",
       "      <th>4</th>\n",
       "      <td>2</td>\n",
       "      <td>3</td>\n",
       "      <td>NaN</td>\n",
       "      <td>NaN</td>\n",
       "      <td>NaN</td>\n",
       "      <td>NaN</td>\n",
       "      <td>6.0</td>\n",
       "      <td>NaN</td>\n",
       "      <td>1.0</td>\n",
       "      <td>NaN</td>\n",
       "      <td>...</td>\n",
       "      <td>0</td>\n",
       "      <td>0</td>\n",
       "      <td>0</td>\n",
       "      <td>7226.301740</td>\n",
       "      <td>8567.549110</td>\n",
       "      <td>12999.542264</td>\n",
       "      <td>2</td>\n",
       "      <td>12</td>\n",
       "      <td>1231</td>\n",
       "      <td>6.1875</td>\n",
       "    </tr>\n",
       "  </tbody>\n",
       "</table>\n",
       "<p>5 rows × 244 columns</p>\n",
       "</div>"
      ],
      "text/plain": [
       "   caseid  pregordr  howpreg_n  howpreg_p  moscurrp  nowprgdk  pregend1  \\\n",
       "0       1         1        NaN        NaN       NaN       NaN       6.0   \n",
       "1       1         2        NaN        NaN       NaN       NaN       6.0   \n",
       "2       2         1        NaN        NaN       NaN       NaN       5.0   \n",
       "3       2         2        NaN        NaN       NaN       NaN       6.0   \n",
       "4       2         3        NaN        NaN       NaN       NaN       6.0   \n",
       "\n",
       "   pregend2  nbrnaliv  multbrth  ...  laborfor_i  religion_i  metro_i  \\\n",
       "0       NaN       1.0       NaN  ...           0           0        0   \n",
       "1       NaN       1.0       NaN  ...           0           0        0   \n",
       "2       NaN       3.0       5.0  ...           0           0        0   \n",
       "3       NaN       1.0       NaN  ...           0           0        0   \n",
       "4       NaN       1.0       NaN  ...           0           0        0   \n",
       "\n",
       "       basewgt  adj_mod_basewgt      finalwgt  secu_p  sest  cmintvw  \\\n",
       "0  3410.389399      3869.349602   6448.271112       2     9     1231   \n",
       "1  3410.389399      3869.349602   6448.271112       2     9     1231   \n",
       "2  7226.301740      8567.549110  12999.542264       2    12     1231   \n",
       "3  7226.301740      8567.549110  12999.542264       2    12     1231   \n",
       "4  7226.301740      8567.549110  12999.542264       2    12     1231   \n",
       "\n",
       "   totalwgt_lb  \n",
       "0       8.8125  \n",
       "1       7.8750  \n",
       "2       9.1250  \n",
       "3       7.0000  \n",
       "4       6.1875  \n",
       "\n",
       "[5 rows x 244 columns]"
      ]
     },
     "execution_count": 96,
     "metadata": {},
     "output_type": "execute_result"
    }
   ],
   "source": [
    "preg = read_fem_preg()\n",
    "preg.head()"
   ]
  },
  {
   "cell_type": "code",
   "execution_count": 97,
   "id": "2500f6d6-b0d4-4bee-9116-8b781970a65a",
   "metadata": {},
   "outputs": [
    {
     "data": {
      "text/html": [
       "<div>\n",
       "<style scoped>\n",
       "    .dataframe tbody tr th:only-of-type {\n",
       "        vertical-align: middle;\n",
       "    }\n",
       "\n",
       "    .dataframe tbody tr th {\n",
       "        vertical-align: top;\n",
       "    }\n",
       "\n",
       "    .dataframe thead th {\n",
       "        text-align: right;\n",
       "    }\n",
       "</style>\n",
       "<table border=\"1\" class=\"dataframe\">\n",
       "  <thead>\n",
       "    <tr style=\"text-align: right;\">\n",
       "      <th></th>\n",
       "      <th>caseid</th>\n",
       "      <th>pregordr</th>\n",
       "      <th>howpreg_n</th>\n",
       "      <th>howpreg_p</th>\n",
       "      <th>moscurrp</th>\n",
       "      <th>nowprgdk</th>\n",
       "      <th>pregend1</th>\n",
       "      <th>pregend2</th>\n",
       "      <th>nbrnaliv</th>\n",
       "      <th>multbrth</th>\n",
       "      <th>...</th>\n",
       "      <th>laborfor_i</th>\n",
       "      <th>religion_i</th>\n",
       "      <th>metro_i</th>\n",
       "      <th>basewgt</th>\n",
       "      <th>adj_mod_basewgt</th>\n",
       "      <th>finalwgt</th>\n",
       "      <th>secu_p</th>\n",
       "      <th>sest</th>\n",
       "      <th>cmintvw</th>\n",
       "      <th>totalwgt_lb</th>\n",
       "    </tr>\n",
       "  </thead>\n",
       "  <tbody>\n",
       "    <tr>\n",
       "      <th>0</th>\n",
       "      <td>1</td>\n",
       "      <td>1</td>\n",
       "      <td>NaN</td>\n",
       "      <td>NaN</td>\n",
       "      <td>NaN</td>\n",
       "      <td>NaN</td>\n",
       "      <td>6.0</td>\n",
       "      <td>NaN</td>\n",
       "      <td>1.0</td>\n",
       "      <td>NaN</td>\n",
       "      <td>...</td>\n",
       "      <td>0</td>\n",
       "      <td>0</td>\n",
       "      <td>0</td>\n",
       "      <td>3410.389399</td>\n",
       "      <td>3869.349602</td>\n",
       "      <td>6448.271112</td>\n",
       "      <td>2</td>\n",
       "      <td>9</td>\n",
       "      <td>1231</td>\n",
       "      <td>8.8125</td>\n",
       "    </tr>\n",
       "    <tr>\n",
       "      <th>1</th>\n",
       "      <td>1</td>\n",
       "      <td>2</td>\n",
       "      <td>NaN</td>\n",
       "      <td>NaN</td>\n",
       "      <td>NaN</td>\n",
       "      <td>NaN</td>\n",
       "      <td>6.0</td>\n",
       "      <td>NaN</td>\n",
       "      <td>1.0</td>\n",
       "      <td>NaN</td>\n",
       "      <td>...</td>\n",
       "      <td>0</td>\n",
       "      <td>0</td>\n",
       "      <td>0</td>\n",
       "      <td>3410.389399</td>\n",
       "      <td>3869.349602</td>\n",
       "      <td>6448.271112</td>\n",
       "      <td>2</td>\n",
       "      <td>9</td>\n",
       "      <td>1231</td>\n",
       "      <td>7.8750</td>\n",
       "    </tr>\n",
       "    <tr>\n",
       "      <th>2</th>\n",
       "      <td>2</td>\n",
       "      <td>1</td>\n",
       "      <td>NaN</td>\n",
       "      <td>NaN</td>\n",
       "      <td>NaN</td>\n",
       "      <td>NaN</td>\n",
       "      <td>5.0</td>\n",
       "      <td>NaN</td>\n",
       "      <td>3.0</td>\n",
       "      <td>5.0</td>\n",
       "      <td>...</td>\n",
       "      <td>0</td>\n",
       "      <td>0</td>\n",
       "      <td>0</td>\n",
       "      <td>7226.301740</td>\n",
       "      <td>8567.549110</td>\n",
       "      <td>12999.542264</td>\n",
       "      <td>2</td>\n",
       "      <td>12</td>\n",
       "      <td>1231</td>\n",
       "      <td>9.1250</td>\n",
       "    </tr>\n",
       "    <tr>\n",
       "      <th>3</th>\n",
       "      <td>2</td>\n",
       "      <td>2</td>\n",
       "      <td>NaN</td>\n",
       "      <td>NaN</td>\n",
       "      <td>NaN</td>\n",
       "      <td>NaN</td>\n",
       "      <td>6.0</td>\n",
       "      <td>NaN</td>\n",
       "      <td>1.0</td>\n",
       "      <td>NaN</td>\n",
       "      <td>...</td>\n",
       "      <td>0</td>\n",
       "      <td>0</td>\n",
       "      <td>0</td>\n",
       "      <td>7226.301740</td>\n",
       "      <td>8567.549110</td>\n",
       "      <td>12999.542264</td>\n",
       "      <td>2</td>\n",
       "      <td>12</td>\n",
       "      <td>1231</td>\n",
       "      <td>7.0000</td>\n",
       "    </tr>\n",
       "    <tr>\n",
       "      <th>4</th>\n",
       "      <td>2</td>\n",
       "      <td>3</td>\n",
       "      <td>NaN</td>\n",
       "      <td>NaN</td>\n",
       "      <td>NaN</td>\n",
       "      <td>NaN</td>\n",
       "      <td>6.0</td>\n",
       "      <td>NaN</td>\n",
       "      <td>1.0</td>\n",
       "      <td>NaN</td>\n",
       "      <td>...</td>\n",
       "      <td>0</td>\n",
       "      <td>0</td>\n",
       "      <td>0</td>\n",
       "      <td>7226.301740</td>\n",
       "      <td>8567.549110</td>\n",
       "      <td>12999.542264</td>\n",
       "      <td>2</td>\n",
       "      <td>12</td>\n",
       "      <td>1231</td>\n",
       "      <td>6.1875</td>\n",
       "    </tr>\n",
       "    <tr>\n",
       "      <th>...</th>\n",
       "      <td>...</td>\n",
       "      <td>...</td>\n",
       "      <td>...</td>\n",
       "      <td>...</td>\n",
       "      <td>...</td>\n",
       "      <td>...</td>\n",
       "      <td>...</td>\n",
       "      <td>...</td>\n",
       "      <td>...</td>\n",
       "      <td>...</td>\n",
       "      <td>...</td>\n",
       "      <td>...</td>\n",
       "      <td>...</td>\n",
       "      <td>...</td>\n",
       "      <td>...</td>\n",
       "      <td>...</td>\n",
       "      <td>...</td>\n",
       "      <td>...</td>\n",
       "      <td>...</td>\n",
       "      <td>...</td>\n",
       "      <td>...</td>\n",
       "    </tr>\n",
       "    <tr>\n",
       "      <th>13581</th>\n",
       "      <td>12568</td>\n",
       "      <td>2</td>\n",
       "      <td>NaN</td>\n",
       "      <td>NaN</td>\n",
       "      <td>NaN</td>\n",
       "      <td>NaN</td>\n",
       "      <td>5.0</td>\n",
       "      <td>NaN</td>\n",
       "      <td>1.0</td>\n",
       "      <td>NaN</td>\n",
       "      <td>...</td>\n",
       "      <td>0</td>\n",
       "      <td>0</td>\n",
       "      <td>0</td>\n",
       "      <td>2734.687353</td>\n",
       "      <td>4258.980140</td>\n",
       "      <td>7772.212858</td>\n",
       "      <td>2</td>\n",
       "      <td>28</td>\n",
       "      <td>1234</td>\n",
       "      <td>6.3750</td>\n",
       "    </tr>\n",
       "    <tr>\n",
       "      <th>13584</th>\n",
       "      <td>12569</td>\n",
       "      <td>2</td>\n",
       "      <td>NaN</td>\n",
       "      <td>NaN</td>\n",
       "      <td>NaN</td>\n",
       "      <td>NaN</td>\n",
       "      <td>6.0</td>\n",
       "      <td>NaN</td>\n",
       "      <td>1.0</td>\n",
       "      <td>NaN</td>\n",
       "      <td>...</td>\n",
       "      <td>0</td>\n",
       "      <td>0</td>\n",
       "      <td>0</td>\n",
       "      <td>2580.967613</td>\n",
       "      <td>2925.167116</td>\n",
       "      <td>5075.164946</td>\n",
       "      <td>2</td>\n",
       "      <td>61</td>\n",
       "      <td>1234</td>\n",
       "      <td>6.3750</td>\n",
       "    </tr>\n",
       "    <tr>\n",
       "      <th>13588</th>\n",
       "      <td>12571</td>\n",
       "      <td>1</td>\n",
       "      <td>NaN</td>\n",
       "      <td>NaN</td>\n",
       "      <td>NaN</td>\n",
       "      <td>NaN</td>\n",
       "      <td>6.0</td>\n",
       "      <td>NaN</td>\n",
       "      <td>1.0</td>\n",
       "      <td>NaN</td>\n",
       "      <td>...</td>\n",
       "      <td>0</td>\n",
       "      <td>0</td>\n",
       "      <td>0</td>\n",
       "      <td>4670.540953</td>\n",
       "      <td>5795.692880</td>\n",
       "      <td>6269.200989</td>\n",
       "      <td>1</td>\n",
       "      <td>78</td>\n",
       "      <td>1227</td>\n",
       "      <td>6.1875</td>\n",
       "    </tr>\n",
       "    <tr>\n",
       "      <th>13591</th>\n",
       "      <td>12571</td>\n",
       "      <td>4</td>\n",
       "      <td>NaN</td>\n",
       "      <td>NaN</td>\n",
       "      <td>NaN</td>\n",
       "      <td>NaN</td>\n",
       "      <td>6.0</td>\n",
       "      <td>NaN</td>\n",
       "      <td>1.0</td>\n",
       "      <td>NaN</td>\n",
       "      <td>...</td>\n",
       "      <td>0</td>\n",
       "      <td>0</td>\n",
       "      <td>0</td>\n",
       "      <td>4670.540953</td>\n",
       "      <td>5795.692880</td>\n",
       "      <td>6269.200989</td>\n",
       "      <td>1</td>\n",
       "      <td>78</td>\n",
       "      <td>1227</td>\n",
       "      <td>7.5000</td>\n",
       "    </tr>\n",
       "    <tr>\n",
       "      <th>13592</th>\n",
       "      <td>12571</td>\n",
       "      <td>5</td>\n",
       "      <td>NaN</td>\n",
       "      <td>NaN</td>\n",
       "      <td>NaN</td>\n",
       "      <td>NaN</td>\n",
       "      <td>6.0</td>\n",
       "      <td>NaN</td>\n",
       "      <td>1.0</td>\n",
       "      <td>NaN</td>\n",
       "      <td>...</td>\n",
       "      <td>0</td>\n",
       "      <td>0</td>\n",
       "      <td>0</td>\n",
       "      <td>4670.540953</td>\n",
       "      <td>5795.692880</td>\n",
       "      <td>6269.200989</td>\n",
       "      <td>1</td>\n",
       "      <td>78</td>\n",
       "      <td>1227</td>\n",
       "      <td>7.5000</td>\n",
       "    </tr>\n",
       "  </tbody>\n",
       "</table>\n",
       "<p>9148 rows × 244 columns</p>\n",
       "</div>"
      ],
      "text/plain": [
       "       caseid  pregordr  howpreg_n  howpreg_p  moscurrp  nowprgdk  pregend1  \\\n",
       "0           1         1        NaN        NaN       NaN       NaN       6.0   \n",
       "1           1         2        NaN        NaN       NaN       NaN       6.0   \n",
       "2           2         1        NaN        NaN       NaN       NaN       5.0   \n",
       "3           2         2        NaN        NaN       NaN       NaN       6.0   \n",
       "4           2         3        NaN        NaN       NaN       NaN       6.0   \n",
       "...       ...       ...        ...        ...       ...       ...       ...   \n",
       "13581   12568         2        NaN        NaN       NaN       NaN       5.0   \n",
       "13584   12569         2        NaN        NaN       NaN       NaN       6.0   \n",
       "13588   12571         1        NaN        NaN       NaN       NaN       6.0   \n",
       "13591   12571         4        NaN        NaN       NaN       NaN       6.0   \n",
       "13592   12571         5        NaN        NaN       NaN       NaN       6.0   \n",
       "\n",
       "       pregend2  nbrnaliv  multbrth  ...  laborfor_i  religion_i  metro_i  \\\n",
       "0           NaN       1.0       NaN  ...           0           0        0   \n",
       "1           NaN       1.0       NaN  ...           0           0        0   \n",
       "2           NaN       3.0       5.0  ...           0           0        0   \n",
       "3           NaN       1.0       NaN  ...           0           0        0   \n",
       "4           NaN       1.0       NaN  ...           0           0        0   \n",
       "...         ...       ...       ...  ...         ...         ...      ...   \n",
       "13581       NaN       1.0       NaN  ...           0           0        0   \n",
       "13584       NaN       1.0       NaN  ...           0           0        0   \n",
       "13588       NaN       1.0       NaN  ...           0           0        0   \n",
       "13591       NaN       1.0       NaN  ...           0           0        0   \n",
       "13592       NaN       1.0       NaN  ...           0           0        0   \n",
       "\n",
       "           basewgt  adj_mod_basewgt      finalwgt  secu_p  sest  cmintvw  \\\n",
       "0      3410.389399      3869.349602   6448.271112       2     9     1231   \n",
       "1      3410.389399      3869.349602   6448.271112       2     9     1231   \n",
       "2      7226.301740      8567.549110  12999.542264       2    12     1231   \n",
       "3      7226.301740      8567.549110  12999.542264       2    12     1231   \n",
       "4      7226.301740      8567.549110  12999.542264       2    12     1231   \n",
       "...            ...              ...           ...     ...   ...      ...   \n",
       "13581  2734.687353      4258.980140   7772.212858       2    28     1234   \n",
       "13584  2580.967613      2925.167116   5075.164946       2    61     1234   \n",
       "13588  4670.540953      5795.692880   6269.200989       1    78     1227   \n",
       "13591  4670.540953      5795.692880   6269.200989       1    78     1227   \n",
       "13592  4670.540953      5795.692880   6269.200989       1    78     1227   \n",
       "\n",
       "       totalwgt_lb  \n",
       "0           8.8125  \n",
       "1           7.8750  \n",
       "2           9.1250  \n",
       "3           7.0000  \n",
       "4           6.1875  \n",
       "...            ...  \n",
       "13581       6.3750  \n",
       "13584       6.3750  \n",
       "13588       6.1875  \n",
       "13591       7.5000  \n",
       "13592       7.5000  \n",
       "\n",
       "[9148 rows x 244 columns]"
      ]
     },
     "execution_count": 97,
     "metadata": {},
     "output_type": "execute_result"
    }
   ],
   "source": [
    "# selecting pregnancies that ended in live birth\n",
    "live = preg.query(\"outcome == 1\")\n",
    "live"
   ]
  },
  {
   "cell_type": "code",
   "execution_count": 98,
   "id": "1cce14b9-dfe1-4b8c-8020-8869810c830b",
   "metadata": {},
   "outputs": [],
   "source": [
    "# using Hist.from_seq to count the number of times each quantity appears in birthwgt_lb\n",
    "# which is the pounds part of the birth weights\n",
    "# the name argument gives the Hist object a name/label\n",
    "hist = Hist.from_seq(live[\"birthwgt_lb\"], name=\"birthwgt_lb\")"
   ]
  },
  {
   "cell_type": "code",
   "execution_count": 99,
   "id": "08f0d1e5-8b6c-4b11-81d2-318b198a91f8",
   "metadata": {},
   "outputs": [
    {
     "data": {
      "image/png": "[encoded data removed]",
      "text/plain": [
       "<Figure size 450x262.5 with 1 Axes>"
      ]
     },
     "metadata": {},
     "output_type": "display_data"
    }
   ],
   "source": [
    "# plotting the distribution\n",
    "hist.bar()\n",
    "decorate(xlabel=\"Pounds\", ylabel=\"Frequency\")"
   ]
  },
  {
   "cell_type": "markdown",
   "id": "ff3cc3a6-3297-4233-8910-d078f2754652",
   "metadata": {},
   "source": [
    "Looking at a distribution like this, the first thing we notice is \n",
    "\n",
    "The shape of the distribution we get which resembles a __bell curve__, aka a __normal distribution__ or a __Gaussian distribution__. One of the more notable feature of the distribution is the __mode__, the most common value."
   ]
  },
  {
   "cell_type": "code",
   "execution_count": 100,
   "id": "36ad461e-d534-4c49-b0a5-763feba1c5e1",
   "metadata": {},
   "outputs": [
    {
     "data": {
      "text/plain": [
       "np.float64(7.0)"
      ]
     },
     "execution_count": 100,
     "metadata": {},
     "output_type": "execute_result"
    }
   ],
   "source": [
    "# finding the mode with idxmax\n",
    "# which finds the quantity associated with the highest frequency\n",
    "hist.idxmax()"
   ]
  },
  {
   "cell_type": "code",
   "execution_count": 101,
   "id": "e3d1f0e3-ec8d-4790-9158-fb94bf505506",
   "metadata": {},
   "outputs": [
    {
     "data": {
      "text/plain": [
       "np.float64(7.0)"
      ]
     },
     "execution_count": 101,
     "metadata": {},
     "output_type": "execute_result"
    }
   ],
   "source": [
    "hist.mode() # mode() does the job too\n",
    "# in this distribution the mode is at 7 pounds"
   ]
  },
  {
   "cell_type": "code",
   "execution_count": 102,
   "id": "f3e60070-b3e8-4263-af74-b77b99bab2e6",
   "metadata": {},
   "outputs": [
    {
     "data": {
      "image/png": "[encoded data removed]",
      "text/plain": [
       "<Figure size 450x262.5 with 1 Axes>"
      ]
     },
     "metadata": {},
     "output_type": "display_data"
    }
   ],
   "source": [
    "# another example: frequency table of birthwgt_oz\n",
    "hist_birthwgt = Hist.from_seq(live[\"birthwgt_oz\"], name=\"birthwgt_oz\")\n",
    "hist_birthwgt.bar()\n",
    "decorate(xlabel=\"Ounces\", ylabel=\"Frequency\")"
   ]
  },
  {
   "cell_type": "markdown",
   "id": "1de00403-9e7e-4e78-9e23-53a18d3d8a2a",
   "metadata": {},
   "source": [
    "All values for ounces seem to be equally likely which means the distribution we're getting is __uniform__. It looks like 0 is more common than the other quantities and 1 and 15 are less common which suggests that respondents round off birth weights that are close to a whole number of pounds (https://allendowney.github.io/ThinkStats/chap02.html)."
   ]
  },
  {
   "cell_type": "code",
   "execution_count": 103,
   "id": "6a8a51cc-9608-4f48-aae1-0767dd0f3c76",
   "metadata": {},
   "outputs": [
    {
     "data": {
      "image/png": "[encoded data removed]",
      "text/plain": [
       "<Figure size 450x262.5 with 1 Axes>"
      ]
     },
     "metadata": {},
     "output_type": "display_data"
    }
   ],
   "source": [
    "# another example: frequency table of agepreg, the mother’s age at the end of pregnancy\n",
    "hist_agepreg = Hist.from_seq(live[\"agepreg\"], name=\"agepreg\")\n",
    "# age is reported in years and months\n",
    "# so there are more unique values than in the other distributions we’ve looked at\n",
    "# we’ll pass width=0.1 as a keyword argument to the bar method\n",
    "# which adjusts the width of the bars so they don’t overlap too much\n",
    "hist_agepreg.bar(width=0.1)\n",
    "decorate(xlabel=\"Age\", ylabel=\"Frequency\")"
   ]
  },
  {
   "cell_type": "markdown",
   "id": "5de22739-9104-4437-aa00-869fd0859b89",
   "metadata": {},
   "source": [
    "The distribution is only roughly bell-shaped and is __skewed__ to the right (the tail extends farther right than left)."
   ]
  },
  {
   "cell_type": "code",
   "execution_count": 104,
   "id": "e3f3806d-62f7-49b1-b862-3ee38e0d9521",
   "metadata": {},
   "outputs": [
    {
     "data": {
      "image/png": "[encoded data removed]",
      "text/plain": [
       "<Figure size 450x262.5 with 1 Axes>"
      ]
     },
     "metadata": {},
     "output_type": "display_data"
    }
   ],
   "source": [
    "# final example: the frequency table of prglngth\n",
    "# which is the length of the pregnancy in weeks\n",
    "# the xlim argument sets the limit of the x-axis to the range from 20 to 50 weeks \n",
    "# there are not many values outside this range and they are probably errors\n",
    "hist_length = Hist.from_seq(live[\"prglngth\"], name=\"prglngth\")\n",
    "hist_length.bar()\n",
    "decorate(xlabel=\"Weeks\", ylabel=\"Frequency\", xlim=[20, 50])"
   ]
  },
  {
   "cell_type": "markdown",
   "id": "012e21eb-2a78-4aa3-a95b-17c5ca8a0419",
   "metadata": {},
   "source": [
    "- The most common quantity is 39 weeks.\n",
    "- The left tail is longer than the right which indicates that early babies are common.\n",
    "- Pregnancies seldom go past 43 weeks (doctors often intervene if they do)."
   ]
  },
  {
   "cell_type": "code",
   "execution_count": 105,
   "id": "d6ae6542-5ce4-49a7-825d-88d0abd01d45",
   "metadata": {},
   "outputs": [
    {
     "data": {
      "image/png": "[encoded data removed]",
      "text/plain": [
       "<Figure size 450x262.5 with 1 Axes>"
      ]
     },
     "metadata": {},
     "output_type": "display_data"
    }
   ],
   "source": [
    "# without range set\n",
    "# outliers are probably errors\n",
    "hist_length = Hist.from_seq(live[\"prglngth\"], name=\"prglngth\")\n",
    "hist_length.bar()\n",
    "decorate(xlabel=\"Weeks\", ylabel=\"Frequency\")"
   ]
  },
  {
   "cell_type": "markdown",
   "id": "11eebb60-ff9d-4b50-934c-c157d39730ea",
   "metadata": {},
   "source": [
    "## Outliers"
   ]
  },
  {
   "cell_type": "markdown",
   "id": "356eee96-6f9e-44b9-a94d-fdd394dae9c2",
   "metadata": {},
   "source": [
    "Outliers in statistics are data points that differ significantly from other observations in a dataset. \n",
    "\n",
    "Outliers are values that deviate so far from other data points that they might have been generated by a different mechanism or could potentially be errors. For example, if you're looking at adult human heights and see a value of 8 feet, that would likely be an outlier since it's extremely unusual.\n",
    "\n",
    "There are two main types of outliers:\n",
    "1. __Statistical outliers__: Points that fall far from the central tendency of the data, typically defined as being more than 1.5 times the interquartile range above the third quartile or below the first quartile\n",
    "2. __Domain outliers__: Points that are unusual given the context of what's being measured, even if they're not statistically extreme\n",
    "\n",
    "Outliers can affect your analysis in several ways:\n",
    "- They can skew averages significantly\n",
    "- They can distort statistical tests\n",
    "- They can lead to incorrect conclusions if not properly handled\n",
    "\n",
    "However, outliers aren't always errors. Sometimes they represent genuine, important phenomena that deserve special attention. A famous example is the discovery of Neptune, which was prompted by investigating outliers in Uranus's orbital data.\n",
    "\n",
    "When dealing with outliers, statisticians typically:\n",
    "- Investigate why they occurred\n",
    "- Determine if they represent errors or genuine phenomena\n",
    "- Consider whether to remove them or use robust statistical methods that are less sensitive to extreme values\n",
    "\n",
    "*(Source: Claude.ai)*"
   ]
  },
  {
   "cell_type": "markdown",
   "id": "0101ad88-0ba7-4bb5-80ca-6b1a6b0ce0d6",
   "metadata": {},
   "source": [
    "We're going to check for outliers in our pregnancies dataset before we continue with our analysis. Outliers are extreme quantities that might be ***measurement or recording errors or might be accurate reports of rare events***."
   ]
  },
  {
   "cell_type": "code",
   "execution_count": 106,
   "id": "92de95c0-faab-4c56-9c7d-691a00ce66b9",
   "metadata": {},
   "outputs": [],
   "source": [
    "# the following function takes a FreqTab (Hist) object and an integer n\n",
    "# and uses a slice index to select the n smallest quantities and their frequencies\n",
    "def smallest(ftab, n=10):\n",
    "    return ftab[:n]"
   ]
  },
  {
   "cell_type": "code",
   "execution_count": 107,
   "id": "510eac7b-8355-4fb5-9170-618ecc91515a",
   "metadata": {},
   "outputs": [
    {
     "data": {
      "text/plain": [
       "prglngth\n",
       "0     1\n",
       "4     1\n",
       "9     1\n",
       "13    1\n",
       "17    2\n",
       "18    1\n",
       "19    1\n",
       "20    1\n",
       "21    2\n",
       "22    7\n",
       "Name: prglngth, dtype: int64"
      ]
     },
     "execution_count": 107,
     "metadata": {},
     "output_type": "execute_result"
    }
   ],
   "source": [
    "# hist_length was created above as the frequency table of prglngth (pregnancy length) (length of the pregnancy in weeks)\n",
    "smallest(hist_length) # contains only rows for live births"
   ]
  },
  {
   "cell_type": "code",
   "execution_count": 108,
   "id": "5880c7fa-151e-48d4-bbcc-340738c574c5",
   "metadata": {},
   "outputs": [],
   "source": [
    "# selecting the largest values from a Hist object\n",
    "def largest(ftab, n=10):\n",
    "    return ftab[-n:]"
   ]
  },
  {
   "cell_type": "code",
   "execution_count": 109,
   "id": "3712c0b1-9e8a-4bde-99da-252e498cc7d7",
   "metadata": {},
   "outputs": [
    {
     "data": {
      "text/plain": [
       "prglngth\n",
       "40    1116\n",
       "41     587\n",
       "42     328\n",
       "43     148\n",
       "44      46\n",
       "45      10\n",
       "46       1\n",
       "47       1\n",
       "48       7\n",
       "50       2\n",
       "Name: prglngth, dtype: int64"
      ]
     },
     "execution_count": 109,
     "metadata": {},
     "output_type": "execute_result"
    }
   ],
   "source": [
    "largest(hist_length) # contains only rows for live births"
   ]
  },
  {
   "cell_type": "markdown",
   "id": "e2be47e0-49fb-4e7d-b05e-785f7861a8e4",
   "metadata": {},
   "source": [
    "Some of the largest and smallest values are probably errors. Since we selected the rows for live births, pregnancy lengths less than 10 weeks are certainly errors. The most likely explanation is that the outcome was not coded correctly. Lengths higher than 30 weeks are probably legitimate. Most doctors recommend induced labor if a pregnancy exceeds 41 weeks, so 50 weeks seems unlikely to be correct. But there is no clear line between values that are certainly errors and values that might be correct reports of rare events (quoted from https://allendowney.github.io/ThinkStats/chap02.html#outliers)."
   ]
  },
  {
   "cell_type": "markdown",
   "id": "7318d952-d340-4993-b98a-0f092ed6aa71",
   "metadata": {},
   "source": [
    "## First Babies"
   ]
  },
  {
   "cell_type": "markdown",
   "id": "9424a5b0-8ace-472a-9e07-b3057e34fd25",
   "metadata": {},
   "source": [
    "Our goal here is to compare the distribution of pregnancy lengths for first babies and others. We'll use the query method to select rows that represent first babies and others."
   ]
  },
  {
   "cell_type": "code",
   "execution_count": 110,
   "id": "495353c1-022a-4888-86d5-30a0952d43eb",
   "metadata": {},
   "outputs": [
    {
     "data": {
      "text/html": [
       "<div>\n",
       "<style scoped>\n",
       "    .dataframe tbody tr th:only-of-type {\n",
       "        vertical-align: middle;\n",
       "    }\n",
       "\n",
       "    .dataframe tbody tr th {\n",
       "        vertical-align: top;\n",
       "    }\n",
       "\n",
       "    .dataframe thead th {\n",
       "        text-align: right;\n",
       "    }\n",
       "</style>\n",
       "<table border=\"1\" class=\"dataframe\">\n",
       "  <thead>\n",
       "    <tr style=\"text-align: right;\">\n",
       "      <th></th>\n",
       "      <th>caseid</th>\n",
       "      <th>pregordr</th>\n",
       "      <th>howpreg_n</th>\n",
       "      <th>howpreg_p</th>\n",
       "      <th>moscurrp</th>\n",
       "      <th>nowprgdk</th>\n",
       "      <th>pregend1</th>\n",
       "      <th>pregend2</th>\n",
       "      <th>nbrnaliv</th>\n",
       "      <th>multbrth</th>\n",
       "      <th>...</th>\n",
       "      <th>laborfor_i</th>\n",
       "      <th>religion_i</th>\n",
       "      <th>metro_i</th>\n",
       "      <th>basewgt</th>\n",
       "      <th>adj_mod_basewgt</th>\n",
       "      <th>finalwgt</th>\n",
       "      <th>secu_p</th>\n",
       "      <th>sest</th>\n",
       "      <th>cmintvw</th>\n",
       "      <th>totalwgt_lb</th>\n",
       "    </tr>\n",
       "  </thead>\n",
       "  <tbody>\n",
       "    <tr>\n",
       "      <th>0</th>\n",
       "      <td>1</td>\n",
       "      <td>1</td>\n",
       "      <td>NaN</td>\n",
       "      <td>NaN</td>\n",
       "      <td>NaN</td>\n",
       "      <td>NaN</td>\n",
       "      <td>6.0</td>\n",
       "      <td>NaN</td>\n",
       "      <td>1.0</td>\n",
       "      <td>NaN</td>\n",
       "      <td>...</td>\n",
       "      <td>0</td>\n",
       "      <td>0</td>\n",
       "      <td>0</td>\n",
       "      <td>3410.389399</td>\n",
       "      <td>3869.349602</td>\n",
       "      <td>6448.271112</td>\n",
       "      <td>2</td>\n",
       "      <td>9</td>\n",
       "      <td>1231</td>\n",
       "      <td>8.8125</td>\n",
       "    </tr>\n",
       "    <tr>\n",
       "      <th>2</th>\n",
       "      <td>2</td>\n",
       "      <td>1</td>\n",
       "      <td>NaN</td>\n",
       "      <td>NaN</td>\n",
       "      <td>NaN</td>\n",
       "      <td>NaN</td>\n",
       "      <td>5.0</td>\n",
       "      <td>NaN</td>\n",
       "      <td>3.0</td>\n",
       "      <td>5.0</td>\n",
       "      <td>...</td>\n",
       "      <td>0</td>\n",
       "      <td>0</td>\n",
       "      <td>0</td>\n",
       "      <td>7226.301740</td>\n",
       "      <td>8567.549110</td>\n",
       "      <td>12999.542264</td>\n",
       "      <td>2</td>\n",
       "      <td>12</td>\n",
       "      <td>1231</td>\n",
       "      <td>9.1250</td>\n",
       "    </tr>\n",
       "    <tr>\n",
       "      <th>5</th>\n",
       "      <td>6</td>\n",
       "      <td>1</td>\n",
       "      <td>NaN</td>\n",
       "      <td>NaN</td>\n",
       "      <td>NaN</td>\n",
       "      <td>NaN</td>\n",
       "      <td>6.0</td>\n",
       "      <td>NaN</td>\n",
       "      <td>1.0</td>\n",
       "      <td>NaN</td>\n",
       "      <td>...</td>\n",
       "      <td>0</td>\n",
       "      <td>0</td>\n",
       "      <td>0</td>\n",
       "      <td>4870.926435</td>\n",
       "      <td>5325.196999</td>\n",
       "      <td>8874.440799</td>\n",
       "      <td>1</td>\n",
       "      <td>23</td>\n",
       "      <td>1231</td>\n",
       "      <td>8.5625</td>\n",
       "    </tr>\n",
       "    <tr>\n",
       "      <th>8</th>\n",
       "      <td>7</td>\n",
       "      <td>1</td>\n",
       "      <td>NaN</td>\n",
       "      <td>NaN</td>\n",
       "      <td>NaN</td>\n",
       "      <td>NaN</td>\n",
       "      <td>5.0</td>\n",
       "      <td>NaN</td>\n",
       "      <td>1.0</td>\n",
       "      <td>NaN</td>\n",
       "      <td>...</td>\n",
       "      <td>0</td>\n",
       "      <td>0</td>\n",
       "      <td>0</td>\n",
       "      <td>3409.579565</td>\n",
       "      <td>3787.539000</td>\n",
       "      <td>6911.879921</td>\n",
       "      <td>2</td>\n",
       "      <td>14</td>\n",
       "      <td>1233</td>\n",
       "      <td>7.5625</td>\n",
       "    </tr>\n",
       "    <tr>\n",
       "      <th>10</th>\n",
       "      <td>12</td>\n",
       "      <td>1</td>\n",
       "      <td>NaN</td>\n",
       "      <td>NaN</td>\n",
       "      <td>NaN</td>\n",
       "      <td>NaN</td>\n",
       "      <td>5.0</td>\n",
       "      <td>NaN</td>\n",
       "      <td>1.0</td>\n",
       "      <td>NaN</td>\n",
       "      <td>...</td>\n",
       "      <td>0</td>\n",
       "      <td>0</td>\n",
       "      <td>0</td>\n",
       "      <td>3612.781968</td>\n",
       "      <td>4146.013572</td>\n",
       "      <td>6909.331618</td>\n",
       "      <td>1</td>\n",
       "      <td>31</td>\n",
       "      <td>1231</td>\n",
       "      <td>7.8125</td>\n",
       "    </tr>\n",
       "    <tr>\n",
       "      <th>...</th>\n",
       "      <td>...</td>\n",
       "      <td>...</td>\n",
       "      <td>...</td>\n",
       "      <td>...</td>\n",
       "      <td>...</td>\n",
       "      <td>...</td>\n",
       "      <td>...</td>\n",
       "      <td>...</td>\n",
       "      <td>...</td>\n",
       "      <td>...</td>\n",
       "      <td>...</td>\n",
       "      <td>...</td>\n",
       "      <td>...</td>\n",
       "      <td>...</td>\n",
       "      <td>...</td>\n",
       "      <td>...</td>\n",
       "      <td>...</td>\n",
       "      <td>...</td>\n",
       "      <td>...</td>\n",
       "      <td>...</td>\n",
       "      <td>...</td>\n",
       "    </tr>\n",
       "    <tr>\n",
       "      <th>13576</th>\n",
       "      <td>12565</td>\n",
       "      <td>1</td>\n",
       "      <td>NaN</td>\n",
       "      <td>NaN</td>\n",
       "      <td>NaN</td>\n",
       "      <td>NaN</td>\n",
       "      <td>6.0</td>\n",
       "      <td>NaN</td>\n",
       "      <td>1.0</td>\n",
       "      <td>NaN</td>\n",
       "      <td>...</td>\n",
       "      <td>0</td>\n",
       "      <td>0</td>\n",
       "      <td>0</td>\n",
       "      <td>3195.641221</td>\n",
       "      <td>3834.241709</td>\n",
       "      <td>6652.409365</td>\n",
       "      <td>1</td>\n",
       "      <td>78</td>\n",
       "      <td>1236</td>\n",
       "      <td>6.4375</td>\n",
       "    </tr>\n",
       "    <tr>\n",
       "      <th>13578</th>\n",
       "      <td>12566</td>\n",
       "      <td>1</td>\n",
       "      <td>NaN</td>\n",
       "      <td>NaN</td>\n",
       "      <td>NaN</td>\n",
       "      <td>NaN</td>\n",
       "      <td>6.0</td>\n",
       "      <td>NaN</td>\n",
       "      <td>1.0</td>\n",
       "      <td>NaN</td>\n",
       "      <td>...</td>\n",
       "      <td>0</td>\n",
       "      <td>0</td>\n",
       "      <td>0</td>\n",
       "      <td>2080.317155</td>\n",
       "      <td>2422.820274</td>\n",
       "      <td>2627.548587</td>\n",
       "      <td>2</td>\n",
       "      <td>2</td>\n",
       "      <td>1235</td>\n",
       "      <td>6.0000</td>\n",
       "    </tr>\n",
       "    <tr>\n",
       "      <th>13581</th>\n",
       "      <td>12568</td>\n",
       "      <td>2</td>\n",
       "      <td>NaN</td>\n",
       "      <td>NaN</td>\n",
       "      <td>NaN</td>\n",
       "      <td>NaN</td>\n",
       "      <td>5.0</td>\n",
       "      <td>NaN</td>\n",
       "      <td>1.0</td>\n",
       "      <td>NaN</td>\n",
       "      <td>...</td>\n",
       "      <td>0</td>\n",
       "      <td>0</td>\n",
       "      <td>0</td>\n",
       "      <td>2734.687353</td>\n",
       "      <td>4258.980140</td>\n",
       "      <td>7772.212858</td>\n",
       "      <td>2</td>\n",
       "      <td>28</td>\n",
       "      <td>1234</td>\n",
       "      <td>6.3750</td>\n",
       "    </tr>\n",
       "    <tr>\n",
       "      <th>13584</th>\n",
       "      <td>12569</td>\n",
       "      <td>2</td>\n",
       "      <td>NaN</td>\n",
       "      <td>NaN</td>\n",
       "      <td>NaN</td>\n",
       "      <td>NaN</td>\n",
       "      <td>6.0</td>\n",
       "      <td>NaN</td>\n",
       "      <td>1.0</td>\n",
       "      <td>NaN</td>\n",
       "      <td>...</td>\n",
       "      <td>0</td>\n",
       "      <td>0</td>\n",
       "      <td>0</td>\n",
       "      <td>2580.967613</td>\n",
       "      <td>2925.167116</td>\n",
       "      <td>5075.164946</td>\n",
       "      <td>2</td>\n",
       "      <td>61</td>\n",
       "      <td>1234</td>\n",
       "      <td>6.3750</td>\n",
       "    </tr>\n",
       "    <tr>\n",
       "      <th>13588</th>\n",
       "      <td>12571</td>\n",
       "      <td>1</td>\n",
       "      <td>NaN</td>\n",
       "      <td>NaN</td>\n",
       "      <td>NaN</td>\n",
       "      <td>NaN</td>\n",
       "      <td>6.0</td>\n",
       "      <td>NaN</td>\n",
       "      <td>1.0</td>\n",
       "      <td>NaN</td>\n",
       "      <td>...</td>\n",
       "      <td>0</td>\n",
       "      <td>0</td>\n",
       "      <td>0</td>\n",
       "      <td>4670.540953</td>\n",
       "      <td>5795.692880</td>\n",
       "      <td>6269.200989</td>\n",
       "      <td>1</td>\n",
       "      <td>78</td>\n",
       "      <td>1227</td>\n",
       "      <td>6.1875</td>\n",
       "    </tr>\n",
       "  </tbody>\n",
       "</table>\n",
       "<p>4413 rows × 244 columns</p>\n",
       "</div>"
      ],
      "text/plain": [
       "       caseid  pregordr  howpreg_n  howpreg_p  moscurrp  nowprgdk  pregend1  \\\n",
       "0           1         1        NaN        NaN       NaN       NaN       6.0   \n",
       "2           2         1        NaN        NaN       NaN       NaN       5.0   \n",
       "5           6         1        NaN        NaN       NaN       NaN       6.0   \n",
       "8           7         1        NaN        NaN       NaN       NaN       5.0   \n",
       "10         12         1        NaN        NaN       NaN       NaN       5.0   \n",
       "...       ...       ...        ...        ...       ...       ...       ...   \n",
       "13576   12565         1        NaN        NaN       NaN       NaN       6.0   \n",
       "13578   12566         1        NaN        NaN       NaN       NaN       6.0   \n",
       "13581   12568         2        NaN        NaN       NaN       NaN       5.0   \n",
       "13584   12569         2        NaN        NaN       NaN       NaN       6.0   \n",
       "13588   12571         1        NaN        NaN       NaN       NaN       6.0   \n",
       "\n",
       "       pregend2  nbrnaliv  multbrth  ...  laborfor_i  religion_i  metro_i  \\\n",
       "0           NaN       1.0       NaN  ...           0           0        0   \n",
       "2           NaN       3.0       5.0  ...           0           0        0   \n",
       "5           NaN       1.0       NaN  ...           0           0        0   \n",
       "8           NaN       1.0       NaN  ...           0           0        0   \n",
       "10          NaN       1.0       NaN  ...           0           0        0   \n",
       "...         ...       ...       ...  ...         ...         ...      ...   \n",
       "13576       NaN       1.0       NaN  ...           0           0        0   \n",
       "13578       NaN       1.0       NaN  ...           0           0        0   \n",
       "13581       NaN       1.0       NaN  ...           0           0        0   \n",
       "13584       NaN       1.0       NaN  ...           0           0        0   \n",
       "13588       NaN       1.0       NaN  ...           0           0        0   \n",
       "\n",
       "           basewgt  adj_mod_basewgt      finalwgt  secu_p  sest  cmintvw  \\\n",
       "0      3410.389399      3869.349602   6448.271112       2     9     1231   \n",
       "2      7226.301740      8567.549110  12999.542264       2    12     1231   \n",
       "5      4870.926435      5325.196999   8874.440799       1    23     1231   \n",
       "8      3409.579565      3787.539000   6911.879921       2    14     1233   \n",
       "10     3612.781968      4146.013572   6909.331618       1    31     1231   \n",
       "...            ...              ...           ...     ...   ...      ...   \n",
       "13576  3195.641221      3834.241709   6652.409365       1    78     1236   \n",
       "13578  2080.317155      2422.820274   2627.548587       2     2     1235   \n",
       "13581  2734.687353      4258.980140   7772.212858       2    28     1234   \n",
       "13584  2580.967613      2925.167116   5075.164946       2    61     1234   \n",
       "13588  4670.540953      5795.692880   6269.200989       1    78     1227   \n",
       "\n",
       "       totalwgt_lb  \n",
       "0           8.8125  \n",
       "2           9.1250  \n",
       "5           8.5625  \n",
       "8           7.5625  \n",
       "10          7.8125  \n",
       "...            ...  \n",
       "13576       6.4375  \n",
       "13578       6.0000  \n",
       "13581       6.3750  \n",
       "13584       6.3750  \n",
       "13588       6.1875  \n",
       "\n",
       "[4413 rows x 244 columns]"
      ]
     },
     "execution_count": 110,
     "metadata": {},
     "output_type": "execute_result"
    }
   ],
   "source": [
    "firsts = live.query(\"birthord == 1\")\n",
    "firsts"
   ]
  },
  {
   "cell_type": "code",
   "execution_count": 111,
   "id": "7acc8c4f-662e-4266-ad2c-a8365403f46d",
   "metadata": {},
   "outputs": [
    {
     "data": {
      "text/html": [
       "<div>\n",
       "<style scoped>\n",
       "    .dataframe tbody tr th:only-of-type {\n",
       "        vertical-align: middle;\n",
       "    }\n",
       "\n",
       "    .dataframe tbody tr th {\n",
       "        vertical-align: top;\n",
       "    }\n",
       "\n",
       "    .dataframe thead th {\n",
       "        text-align: right;\n",
       "    }\n",
       "</style>\n",
       "<table border=\"1\" class=\"dataframe\">\n",
       "  <thead>\n",
       "    <tr style=\"text-align: right;\">\n",
       "      <th></th>\n",
       "      <th>caseid</th>\n",
       "      <th>pregordr</th>\n",
       "      <th>howpreg_n</th>\n",
       "      <th>howpreg_p</th>\n",
       "      <th>moscurrp</th>\n",
       "      <th>nowprgdk</th>\n",
       "      <th>pregend1</th>\n",
       "      <th>pregend2</th>\n",
       "      <th>nbrnaliv</th>\n",
       "      <th>multbrth</th>\n",
       "      <th>...</th>\n",
       "      <th>laborfor_i</th>\n",
       "      <th>religion_i</th>\n",
       "      <th>metro_i</th>\n",
       "      <th>basewgt</th>\n",
       "      <th>adj_mod_basewgt</th>\n",
       "      <th>finalwgt</th>\n",
       "      <th>secu_p</th>\n",
       "      <th>sest</th>\n",
       "      <th>cmintvw</th>\n",
       "      <th>totalwgt_lb</th>\n",
       "    </tr>\n",
       "  </thead>\n",
       "  <tbody>\n",
       "    <tr>\n",
       "      <th>1</th>\n",
       "      <td>1</td>\n",
       "      <td>2</td>\n",
       "      <td>NaN</td>\n",
       "      <td>NaN</td>\n",
       "      <td>NaN</td>\n",
       "      <td>NaN</td>\n",
       "      <td>6.0</td>\n",
       "      <td>NaN</td>\n",
       "      <td>1.0</td>\n",
       "      <td>NaN</td>\n",
       "      <td>...</td>\n",
       "      <td>0</td>\n",
       "      <td>0</td>\n",
       "      <td>0</td>\n",
       "      <td>3410.389399</td>\n",
       "      <td>3869.349602</td>\n",
       "      <td>6448.271112</td>\n",
       "      <td>2</td>\n",
       "      <td>9</td>\n",
       "      <td>1231</td>\n",
       "      <td>7.8750</td>\n",
       "    </tr>\n",
       "    <tr>\n",
       "      <th>3</th>\n",
       "      <td>2</td>\n",
       "      <td>2</td>\n",
       "      <td>NaN</td>\n",
       "      <td>NaN</td>\n",
       "      <td>NaN</td>\n",
       "      <td>NaN</td>\n",
       "      <td>6.0</td>\n",
       "      <td>NaN</td>\n",
       "      <td>1.0</td>\n",
       "      <td>NaN</td>\n",
       "      <td>...</td>\n",
       "      <td>0</td>\n",
       "      <td>0</td>\n",
       "      <td>0</td>\n",
       "      <td>7226.301740</td>\n",
       "      <td>8567.549110</td>\n",
       "      <td>12999.542264</td>\n",
       "      <td>2</td>\n",
       "      <td>12</td>\n",
       "      <td>1231</td>\n",
       "      <td>7.0000</td>\n",
       "    </tr>\n",
       "    <tr>\n",
       "      <th>4</th>\n",
       "      <td>2</td>\n",
       "      <td>3</td>\n",
       "      <td>NaN</td>\n",
       "      <td>NaN</td>\n",
       "      <td>NaN</td>\n",
       "      <td>NaN</td>\n",
       "      <td>6.0</td>\n",
       "      <td>NaN</td>\n",
       "      <td>1.0</td>\n",
       "      <td>NaN</td>\n",
       "      <td>...</td>\n",
       "      <td>0</td>\n",
       "      <td>0</td>\n",
       "      <td>0</td>\n",
       "      <td>7226.301740</td>\n",
       "      <td>8567.549110</td>\n",
       "      <td>12999.542264</td>\n",
       "      <td>2</td>\n",
       "      <td>12</td>\n",
       "      <td>1231</td>\n",
       "      <td>6.1875</td>\n",
       "    </tr>\n",
       "    <tr>\n",
       "      <th>6</th>\n",
       "      <td>6</td>\n",
       "      <td>2</td>\n",
       "      <td>NaN</td>\n",
       "      <td>NaN</td>\n",
       "      <td>NaN</td>\n",
       "      <td>NaN</td>\n",
       "      <td>6.0</td>\n",
       "      <td>NaN</td>\n",
       "      <td>1.0</td>\n",
       "      <td>NaN</td>\n",
       "      <td>...</td>\n",
       "      <td>0</td>\n",
       "      <td>0</td>\n",
       "      <td>0</td>\n",
       "      <td>4870.926435</td>\n",
       "      <td>5325.196999</td>\n",
       "      <td>8874.440799</td>\n",
       "      <td>1</td>\n",
       "      <td>23</td>\n",
       "      <td>1231</td>\n",
       "      <td>9.5625</td>\n",
       "    </tr>\n",
       "    <tr>\n",
       "      <th>7</th>\n",
       "      <td>6</td>\n",
       "      <td>3</td>\n",
       "      <td>NaN</td>\n",
       "      <td>NaN</td>\n",
       "      <td>NaN</td>\n",
       "      <td>NaN</td>\n",
       "      <td>6.0</td>\n",
       "      <td>NaN</td>\n",
       "      <td>1.0</td>\n",
       "      <td>NaN</td>\n",
       "      <td>...</td>\n",
       "      <td>0</td>\n",
       "      <td>0</td>\n",
       "      <td>0</td>\n",
       "      <td>4870.926435</td>\n",
       "      <td>5325.196999</td>\n",
       "      <td>8874.440799</td>\n",
       "      <td>1</td>\n",
       "      <td>23</td>\n",
       "      <td>1231</td>\n",
       "      <td>8.3750</td>\n",
       "    </tr>\n",
       "    <tr>\n",
       "      <th>...</th>\n",
       "      <td>...</td>\n",
       "      <td>...</td>\n",
       "      <td>...</td>\n",
       "      <td>...</td>\n",
       "      <td>...</td>\n",
       "      <td>...</td>\n",
       "      <td>...</td>\n",
       "      <td>...</td>\n",
       "      <td>...</td>\n",
       "      <td>...</td>\n",
       "      <td>...</td>\n",
       "      <td>...</td>\n",
       "      <td>...</td>\n",
       "      <td>...</td>\n",
       "      <td>...</td>\n",
       "      <td>...</td>\n",
       "      <td>...</td>\n",
       "      <td>...</td>\n",
       "      <td>...</td>\n",
       "      <td>...</td>\n",
       "      <td>...</td>\n",
       "    </tr>\n",
       "    <tr>\n",
       "      <th>13572</th>\n",
       "      <td>12556</td>\n",
       "      <td>4</td>\n",
       "      <td>NaN</td>\n",
       "      <td>NaN</td>\n",
       "      <td>NaN</td>\n",
       "      <td>NaN</td>\n",
       "      <td>6.0</td>\n",
       "      <td>NaN</td>\n",
       "      <td>1.0</td>\n",
       "      <td>NaN</td>\n",
       "      <td>...</td>\n",
       "      <td>0</td>\n",
       "      <td>0</td>\n",
       "      <td>0</td>\n",
       "      <td>2474.619764</td>\n",
       "      <td>3250.573384</td>\n",
       "      <td>3965.699528</td>\n",
       "      <td>1</td>\n",
       "      <td>44</td>\n",
       "      <td>1236</td>\n",
       "      <td>5.8125</td>\n",
       "    </tr>\n",
       "    <tr>\n",
       "      <th>13574</th>\n",
       "      <td>12561</td>\n",
       "      <td>2</td>\n",
       "      <td>NaN</td>\n",
       "      <td>NaN</td>\n",
       "      <td>NaN</td>\n",
       "      <td>NaN</td>\n",
       "      <td>6.0</td>\n",
       "      <td>NaN</td>\n",
       "      <td>1.0</td>\n",
       "      <td>NaN</td>\n",
       "      <td>...</td>\n",
       "      <td>0</td>\n",
       "      <td>0</td>\n",
       "      <td>0</td>\n",
       "      <td>2418.089703</td>\n",
       "      <td>2698.650781</td>\n",
       "      <td>4497.301527</td>\n",
       "      <td>1</td>\n",
       "      <td>10</td>\n",
       "      <td>1231</td>\n",
       "      <td>6.1250</td>\n",
       "    </tr>\n",
       "    <tr>\n",
       "      <th>13579</th>\n",
       "      <td>12566</td>\n",
       "      <td>2</td>\n",
       "      <td>NaN</td>\n",
       "      <td>NaN</td>\n",
       "      <td>NaN</td>\n",
       "      <td>NaN</td>\n",
       "      <td>6.0</td>\n",
       "      <td>NaN</td>\n",
       "      <td>1.0</td>\n",
       "      <td>NaN</td>\n",
       "      <td>...</td>\n",
       "      <td>0</td>\n",
       "      <td>0</td>\n",
       "      <td>0</td>\n",
       "      <td>2080.317155</td>\n",
       "      <td>2422.820274</td>\n",
       "      <td>2627.548587</td>\n",
       "      <td>2</td>\n",
       "      <td>2</td>\n",
       "      <td>1235</td>\n",
       "      <td>7.0000</td>\n",
       "    </tr>\n",
       "    <tr>\n",
       "      <th>13591</th>\n",
       "      <td>12571</td>\n",
       "      <td>4</td>\n",
       "      <td>NaN</td>\n",
       "      <td>NaN</td>\n",
       "      <td>NaN</td>\n",
       "      <td>NaN</td>\n",
       "      <td>6.0</td>\n",
       "      <td>NaN</td>\n",
       "      <td>1.0</td>\n",
       "      <td>NaN</td>\n",
       "      <td>...</td>\n",
       "      <td>0</td>\n",
       "      <td>0</td>\n",
       "      <td>0</td>\n",
       "      <td>4670.540953</td>\n",
       "      <td>5795.692880</td>\n",
       "      <td>6269.200989</td>\n",
       "      <td>1</td>\n",
       "      <td>78</td>\n",
       "      <td>1227</td>\n",
       "      <td>7.5000</td>\n",
       "    </tr>\n",
       "    <tr>\n",
       "      <th>13592</th>\n",
       "      <td>12571</td>\n",
       "      <td>5</td>\n",
       "      <td>NaN</td>\n",
       "      <td>NaN</td>\n",
       "      <td>NaN</td>\n",
       "      <td>NaN</td>\n",
       "      <td>6.0</td>\n",
       "      <td>NaN</td>\n",
       "      <td>1.0</td>\n",
       "      <td>NaN</td>\n",
       "      <td>...</td>\n",
       "      <td>0</td>\n",
       "      <td>0</td>\n",
       "      <td>0</td>\n",
       "      <td>4670.540953</td>\n",
       "      <td>5795.692880</td>\n",
       "      <td>6269.200989</td>\n",
       "      <td>1</td>\n",
       "      <td>78</td>\n",
       "      <td>1227</td>\n",
       "      <td>7.5000</td>\n",
       "    </tr>\n",
       "  </tbody>\n",
       "</table>\n",
       "<p>4735 rows × 244 columns</p>\n",
       "</div>"
      ],
      "text/plain": [
       "       caseid  pregordr  howpreg_n  howpreg_p  moscurrp  nowprgdk  pregend1  \\\n",
       "1           1         2        NaN        NaN       NaN       NaN       6.0   \n",
       "3           2         2        NaN        NaN       NaN       NaN       6.0   \n",
       "4           2         3        NaN        NaN       NaN       NaN       6.0   \n",
       "6           6         2        NaN        NaN       NaN       NaN       6.0   \n",
       "7           6         3        NaN        NaN       NaN       NaN       6.0   \n",
       "...       ...       ...        ...        ...       ...       ...       ...   \n",
       "13572   12556         4        NaN        NaN       NaN       NaN       6.0   \n",
       "13574   12561         2        NaN        NaN       NaN       NaN       6.0   \n",
       "13579   12566         2        NaN        NaN       NaN       NaN       6.0   \n",
       "13591   12571         4        NaN        NaN       NaN       NaN       6.0   \n",
       "13592   12571         5        NaN        NaN       NaN       NaN       6.0   \n",
       "\n",
       "       pregend2  nbrnaliv  multbrth  ...  laborfor_i  religion_i  metro_i  \\\n",
       "1           NaN       1.0       NaN  ...           0           0        0   \n",
       "3           NaN       1.0       NaN  ...           0           0        0   \n",
       "4           NaN       1.0       NaN  ...           0           0        0   \n",
       "6           NaN       1.0       NaN  ...           0           0        0   \n",
       "7           NaN       1.0       NaN  ...           0           0        0   \n",
       "...         ...       ...       ...  ...         ...         ...      ...   \n",
       "13572       NaN       1.0       NaN  ...           0           0        0   \n",
       "13574       NaN       1.0       NaN  ...           0           0        0   \n",
       "13579       NaN       1.0       NaN  ...           0           0        0   \n",
       "13591       NaN       1.0       NaN  ...           0           0        0   \n",
       "13592       NaN       1.0       NaN  ...           0           0        0   \n",
       "\n",
       "           basewgt  adj_mod_basewgt      finalwgt  secu_p  sest  cmintvw  \\\n",
       "1      3410.389399      3869.349602   6448.271112       2     9     1231   \n",
       "3      7226.301740      8567.549110  12999.542264       2    12     1231   \n",
       "4      7226.301740      8567.549110  12999.542264       2    12     1231   \n",
       "6      4870.926435      5325.196999   8874.440799       1    23     1231   \n",
       "7      4870.926435      5325.196999   8874.440799       1    23     1231   \n",
       "...            ...              ...           ...     ...   ...      ...   \n",
       "13572  2474.619764      3250.573384   3965.699528       1    44     1236   \n",
       "13574  2418.089703      2698.650781   4497.301527       1    10     1231   \n",
       "13579  2080.317155      2422.820274   2627.548587       2     2     1235   \n",
       "13591  4670.540953      5795.692880   6269.200989       1    78     1227   \n",
       "13592  4670.540953      5795.692880   6269.200989       1    78     1227   \n",
       "\n",
       "       totalwgt_lb  \n",
       "1           7.8750  \n",
       "3           7.0000  \n",
       "4           6.1875  \n",
       "6           9.5625  \n",
       "7           8.3750  \n",
       "...            ...  \n",
       "13572       5.8125  \n",
       "13574       6.1250  \n",
       "13579       7.0000  \n",
       "13591       7.5000  \n",
       "13592       7.5000  \n",
       "\n",
       "[4735 rows x 244 columns]"
      ]
     },
     "execution_count": 111,
     "metadata": {},
     "output_type": "execute_result"
    }
   ],
   "source": [
    "others = live.query(\"birthord != 1\")\n",
    "others"
   ]
  },
  {
   "cell_type": "code",
   "execution_count": 112,
   "id": "a95513dc-2a90-440b-ba9a-3130fada7d0d",
   "metadata": {},
   "outputs": [],
   "source": [
    "# making a Hist of pregnancy lengths for each group\n",
    "first_hist = Hist.from_seq(firsts[\"prglngth\"], name=\"firsts\")\n",
    "other_hist = Hist.from_seq(others[\"prglngth\"], name=\"others\")"
   ]
  },
  {
   "cell_type": "code",
   "execution_count": 113,
   "id": "b56265ac-9ca1-4753-b8d5-22a72b66fee5",
   "metadata": {},
   "outputs": [],
   "source": [
    "# function to plot two histograms side-by-side\n",
    "def two_bar_plots(hist1, hist2, width=0.45, **options):\n",
    "    hist1.bar(align=\"edge\", width=-width, **options)\n",
    "    hist2.bar(align=\"edge\", width=width, **options)"
   ]
  },
  {
   "cell_type": "code",
   "execution_count": 114,
   "id": "0a82a07e-cb70-445d-b130-8a5484bb1a05",
   "metadata": {},
   "outputs": [
    {
     "data": {
      "image/png": "[encoded data removed]",
      "text/plain": [
       "<Figure size 450x262.5 with 1 Axes>"
      ]
     },
     "metadata": {},
     "output_type": "display_data"
    }
   ],
   "source": [
    "two_bar_plots(first_hist, other_hist)\n",
    "decorate(xlabel=\"Weeks\", ylabel=\"Frequency\", xlim=[20, 50])"
   ]
  },
  {
   "cell_type": "markdown",
   "id": "5afc9213-6e63-4cec-86dd-e7e8c88d0558",
   "metadata": {},
   "source": [
    "__What we see in the plot:__\n",
    "- There is no obvious difference in the shape of the distributions or in the outliers.\n",
    "- It looks like more of the non-first babies are born during week 39 (there are more non-first babies in the dataset, so we should not compare the counts directly)"
   ]
  },
  {
   "cell_type": "code",
   "execution_count": 115,
   "id": "2dc0a95a-633b-4f3f-8983-48bb4b72892d",
   "metadata": {},
   "outputs": [
    {
     "data": {
      "text/plain": [
       "(np.int64(4413), np.int64(4735))"
      ]
     },
     "execution_count": 115,
     "metadata": {},
     "output_type": "execute_result"
    }
   ],
   "source": [
    "firsts[\"prglngth\"].count(), others[\"prglngth\"].count()"
   ]
  },
  {
   "cell_type": "code",
   "execution_count": 116,
   "id": "177daeaf-a65a-4ec9-9242-a3d466412eed",
   "metadata": {},
   "outputs": [
    {
     "data": {
      "text/plain": [
       "(np.float64(38.60095173351461), np.float64(38.52291446673706))"
      ]
     },
     "execution_count": 116,
     "metadata": {},
     "output_type": "execute_result"
    }
   ],
   "source": [
    "# comparing the means of the distributions\n",
    "first_mean = firsts[\"prglngth\"].mean()\n",
    "other_mean = others[\"prglngth\"].mean()\n",
    "first_mean, other_mean # it looks like first babies are a little bit later on average"
   ]
  },
  {
   "cell_type": "code",
   "execution_count": 117,
   "id": "8d8b5a99-3f68-48c5-8df3-2de66fcb36a4",
   "metadata": {},
   "outputs": [
    {
     "data": {
      "text/plain": [
       "(np.float64(0.07803726677754952), np.float64(13.11026081862832))"
      ]
     },
     "execution_count": 117,
     "metadata": {},
     "output_type": "execute_result"
    }
   ],
   "source": [
    "diff = first_mean - other_mean\n",
    "diff, diff * 7 * 24 # difference in 0.078 weeks, difference in hours"
   ]
  },
  {
   "cell_type": "markdown",
   "id": "e07ef7da-afb8-411e-9b7e-11d6f1d6851f",
   "metadata": {},
   "source": [
    "The difference is 0.078 weeks which is about 13 hours."
   ]
  },
  {
   "cell_type": "markdown",
   "id": "25ce7533-2b4a-4ad6-9adf-efb228f5dc8a",
   "metadata": {},
   "source": [
    "__Possible causes of this apparent difference (according to the book's author)__:\n",
    "\n",
    "* There might be an actual difference in average pregnancy length between first babies and others.\n",
    "\n",
    "* The apparent difference we see in this dataset might be the result of bias in the sampling process -- that is, the selection of survey respondents.\n",
    "\n",
    "* The apparent difference might be the result of random variation in the sampling process."
   ]
  },
  {
   "cell_type": "markdown",
   "id": "c714d2f1-15f9-408b-bf30-85ccdeb33e94",
   "metadata": {},
   "source": [
    "## Effect Size"
   ]
  },
  {
   "cell_type": "markdown",
   "id": "45a62ee3-e8b2-4d61-a254-db8385507f8f",
   "metadata": {},
   "source": [
    "A difference like we just found it is called an __effect__. The simplest way to quantify the magnitude of an effect is to report the difference in __absolute terms_-. In our example the difference is 0.78 weeks.\n",
    "\n",
    "Another way is to report the difference in __relative terms__. In this context we might say, that first pregnancies are 0.2% longer than others on average."
   ]
  },
  {
   "cell_type": "code",
   "execution_count": 118,
   "id": "31deb069-2040-40af-bfbf-5fd93cef36b9",
   "metadata": {},
   "outputs": [
    {
     "data": {
      "text/plain": [
       "np.float64(0.20237586646738304)"
      ]
     },
     "execution_count": 118,
     "metadata": {},
     "output_type": "execute_result"
    }
   ],
   "source": [
    "diff / live[\"prglngth\"].mean() * 100 # difference in relative terms"
   ]
  },
  {
   "cell_type": "code",
   "execution_count": 129,
   "id": "7e598910-dbf0-4f88-b831-32af47ae35b2",
   "metadata": {},
   "outputs": [
    {
     "name": "stdout",
     "output_type": "stream",
     "text": [
      "The difference in relative terms in this context is, that first pregnancies are 0.2 % longer than others on average.\n"
     ]
    }
   ],
   "source": [
    "print(\"The difference in relative terms in this context is, that first pregnancies are\", round(diff / live[\"prglngth\"].mean() * 100, 2) ,\"% longer than others on average.\")"
   ]
  },
  {
   "cell_type": "markdown",
   "id": "8ef6ceac-a2de-4ce9-af76-2988e4143b56",
   "metadata": {},
   "source": [
    "__Effect size__ in statistics is a measure that describes the magnitude or strength of a relationship between variables, regardless of sample size.\n",
    "\n",
    "***Effect size helps answer not just whether there is a difference or relationship, but how large or meaningful that difference or relationship is.*** For example, a drug might show a statistically significant effect on reducing blood pressure, but the effect size tells us whether that reduction is large enough to be clinically meaningful.\n",
    "\n",
    "Common measures of effect size include:\n",
    "\n",
    "1. Cohen's d\n",
    "- Used for comparing means between groups\n",
    "- d = 0.2 is considered small\n",
    "- d = 0.5 is considered medium\n",
    "- d = 0.8 is considered large\n",
    "\n",
    "2. Correlation coefficient (r)\n",
    "- Measures strength of relationship between variables\n",
    "- Values range from -1 to +1\n",
    "- The closer to ±1, the stronger the relationship\n",
    "\n",
    "3. Odds ratio\n",
    "- Common in medical research\n",
    "- Compares the relative odds of an outcome between groups\n",
    "- An odds ratio of 1 means no effect\n",
    "\n",
    "4. Eta squared (η²)\n",
    "- Used in ANOVA\n",
    "- Represents proportion of variance explained\n",
    "- Values range from 0 to 1\n",
    "\n",
    "Effect size is particularly important because:\n",
    "- It's less sensitive to sample size than p-values\n",
    "- It allows for meaningful comparisons across different studies\n",
    "- It helps determine practical significance rather than just statistical significance\n",
    "- It's essential for meta-analyses and power calculations\n",
    "\n",
    "For example, if you're studying a teaching method, an effect size could tell you not just whether it works, but how much better it is than traditional methods, helping decide if it's worth implementing."
   ]
  },
  {
   "cell_type": "markdown",
   "id": "9ff76efa-54bd-4feb-8eb9-02fd91c5177a",
   "metadata": {},
   "source": [
    "If we want to use a statistic intended to quantify the size of an effect in a way that is comparable between different quantities and different groups, reporting a __standardized effect size__ is the option we have."
   ]
  },
  {
   "cell_type": "code",
   "execution_count": 119,
   "id": "bc33c6b5-e30a-4844-bcc8-19540719688f",
   "metadata": {},
   "outputs": [
    {
     "data": {
      "text/plain": [
       "np.float64(0.028877623375210403)"
      ]
     },
     "execution_count": 119,
     "metadata": {},
     "output_type": "execute_result"
    }
   ],
   "source": [
    "# \"standardizing\" as expressing the difference as a multiple of the standard deviation\n",
    "diff / live[\"prglngth\"].std()"
   ]
  },
  {
   "cell_type": "markdown",
   "id": "f252e6e3-365d-4af3-88b7-569c7ad51e11",
   "metadata": {},
   "source": [
    "If we use this measurement we might get a distorted effect, depending on different size of the groups we're comparing.\n",
    "\n",
    "If the groups are substantially different, the standard deviation put together (for both groups) is larger than in either group which might make the effect size seem small.\n",
    "\n",
    "An alternative is to use the standard deviation of just one group, but it's not clear which. \n",
    "\n",
    "If we take the average of the two standard deviations it would give too much weight to one group (and not enough to the other) if the groups are of different size."
   ]
  },
  {
   "cell_type": "markdown",
   "id": "bb54a8e3-94ab-41a0-907f-4c6794769af2",
   "metadata": {},
   "source": [
    "#### __Pooled standard deviation__\n",
    "\n",
    "One solution is to use a __pooled standard deviation__ which is the square root of pooled variance.\n",
    "\n",
    "The square root of pooled variance is the weighted sum of the variances in the groups."
   ]
  },
  {
   "cell_type": "code",
   "execution_count": 120,
   "id": "7766288e-c43a-4b23-a59a-5861e83e678b",
   "metadata": {},
   "outputs": [
    {
     "data": {
      "text/plain": [
       "(np.float64(7.794713509229203), np.float64(6.842683519298484))"
      ]
     },
     "execution_count": 120,
     "metadata": {},
     "output_type": "execute_result"
    }
   ],
   "source": [
    "# let's start with the variances\n",
    "group1, group2 = firsts[\"prglngth\"], others[\"prglngth\"]\n",
    "v1, v2 = group1.var(), group2.var()\n",
    "v1, v2"
   ]
  },
  {
   "cell_type": "code",
   "execution_count": 130,
   "id": "4f750c30-3bcd-4e5e-8cbe-952acfce5e9c",
   "metadata": {},
   "outputs": [],
   "source": [
    "# now lets calculate the weighted sum with the group sizes as weights\n",
    "n1, n2 = group1.count(), group2.count()\n",
    "pooled_var = (n1 * v1 + n2 * v2) / (n1 + n2)"
   ]
  },
  {
   "cell_type": "code",
   "execution_count": 132,
   "id": "f74a02c3-cd03-4aca-86d1-a301e521f247",
   "metadata": {},
   "outputs": [
    {
     "data": {
      "text/plain": [
       "np.float64(2.7022108144953862)"
      ]
     },
     "execution_count": 132,
     "metadata": {},
     "output_type": "execute_result"
    }
   ],
   "source": [
    "# the pooled standard deviation\n",
    "np.sqrt(pooled_var)"
   ]
  },
  {
   "cell_type": "code",
   "execution_count": 133,
   "id": "01f5a77c-7fe9-4915-af9e-33fdac45bae0",
   "metadata": {},
   "outputs": [
    {
     "data": {
      "text/plain": [
       "(np.float64(2.7919014146687204), np.float64(2.6158523504392375))"
      ]
     },
     "execution_count": 133,
     "metadata": {},
     "output_type": "execute_result"
    }
   ],
   "source": [
    "# the pooled standard deviation is between the standard deviations of the groups\n",
    "firsts[\"prglngth\"].std(), others[\"prglngth\"].std()"
   ]
  },
  {
   "cell_type": "markdown",
   "id": "3f79dcb9-be81-49d1-9163-114406c52407",
   "metadata": {},
   "source": [
    "A standardized effect size that uses pooled standard deviation is called **Cohen's effect size**."
   ]
  },
  {
   "cell_type": "code",
   "execution_count": 134,
   "id": "1dd2445e-fa56-4eca-a947-3e05229009f6",
   "metadata": {},
   "outputs": [],
   "source": [
    "# function that computes Cohen's effect size\n",
    "def cohen_effect_size(group1, group2):\n",
    "    diff = group1.mean() - group2.mean()\n",
    "\n",
    "    v1, v2 = group1.var(), group2.var()\n",
    "    n1, n2 = group1.count(), group2.count()\n",
    "    pooled_var = (n1 * v1 + n2 * v2) / (n1 + n2)\n",
    "\n",
    "    return diff / np.sqrt(pooled_var)"
   ]
  },
  {
   "cell_type": "code",
   "execution_count": 135,
   "id": "82039ec2-81ea-4872-987c-1d8792ccd23b",
   "metadata": {},
   "outputs": [
    {
     "data": {
      "text/plain": [
       "np.float64(0.028879044654449834)"
      ]
     },
     "execution_count": 135,
     "metadata": {},
     "output_type": "execute_result"
    }
   ],
   "source": [
    "# the effect size for the difference in mean pregnancy lengths using the Cohen coefficient\n",
    "cohen_effect_size(firsts[\"prglngth\"], others[\"prglngth\"])"
   ]
  },
  {
   "cell_type": "markdown",
   "id": "13585080-1d15-41e5-9a7b-f9647b2d7223",
   "metadata": {},
   "source": [
    "***The difference between the two groups in this example is 0.029 standard deviations, which is small.***\n",
    "</br>To put that in perspective: the difference in height between men and women is about 1.7 standard deviations.\n",
    "</br>(Source: https://allendowney.github.io/ThinkStats/chap02.html#effect-size)"
   ]
  },
  {
   "cell_type": "markdown",
   "id": "b7edc773-07b0-4487-aa42-a86b070d4474",
   "metadata": {},
   "source": [
    "## Reporting results"
   ]
  },
  {
   "cell_type": "markdown",
   "id": "f5044e7e-e7d7-475b-97b2-a24fcc1857d1",
   "metadata": {},
   "source": [
    "How we should report these results depends on who is asking the question.\n",
    "    \n",
    "- A scientist might be interested in any (real) effect, no matter how small.\n",
    "- A doctor might only care about effects that are **practically significant** - that is, differences that affect treatment decisions.\n",
    "- A pregnant woman might be interested in results that are relevant to her, like the probability of delivering early or late.\n",
    "\n",
    "How you report results also depends on your goals.\n",
    "If you are trying to demonstrate the importance of an effect, you might choose summary statistics that emphasize differences.\n",
    "If you are trying to reassure a patient, you might choose statistics that put the differences in context.\n",
    "\n",
    "Of course your decisions should also be guided by professional ethics.\n",
    "It's OK to be persuasive -- you *should* design statistical reports and visualizations that tell a story clearly.\n",
    "But you should also do your best to make your reports honest, and to acknowledge uncertainty and limitations.\n",
    "\n",
    "(Source: https://allendowney.github.io/ThinkStats/chap02.html#reporting-results)"
   ]
  },
  {
   "cell_type": "markdown",
   "id": "568c67de-2569-4c5e-9116-f8fc211f11a9",
   "metadata": {},
   "source": [
    "## Glossary\n",
    "\n",
    "\n",
    "-   **distribution**: The set of quantities in a sample and how frequently each quantity appears.\n",
    "\n",
    "-   **histogram**: A mapping from quantities to frequencies, or a graph that shows this mapping.\n",
    "\n",
    "-   **frequency**: The number of times a quantity appears in a sample.\n",
    "\n",
    "-   **skewed:** A distribution is skewed if it is asymmetrical, with extreme quantities extending farther in one direction than the other.\n",
    "\n",
    "-   **mode**: The most frequent quantity in a sample, or one of the most frequent quantities.\n",
    "\n",
    "-   **uniform distribution**: A distribution in which all quantities have the same frequency.\n",
    "\n",
    "-   **outlier**: An extreme quantity in a distribution.\n",
    "\n",
    "-   **standardized:** A statistic is standardized if it is expressed in terms that are comparable across different datasets and domains.\n",
    "\n",
    "-   **pooled standard deviation:** A statistic that combines data from two or more groups to compute a common standard deviation.\n",
    "\n",
    "-   **Cohen's effect size:** A standardized statistic that quantifies the difference in the means of two groups.\n",
    "\n",
    "-   **practically significant:** An effect is practically significant if it is big enough to matter in practice.\n",
    "\n",
    "(Source: https://allendowney.github.io/ThinkStats/chap02.html#glossary)"
   ]
  },
  {
   "cell_type": "markdown",
   "id": "e41cdcb9-91be-40af-b2c3-8cf24be2498f",
   "metadata": {},
   "source": [
    "## Excercises"
   ]
  },
  {
   "cell_type": "code",
   "execution_count": null,
   "id": "e4cb3278-4b86-4acd-84d5-fe08a467d7e8",
   "metadata": {},
   "outputs": [],
   "source": []
  }
 ],
 "metadata": {
  "kernelspec": {
   "display_name": "Python 3 (ipykernel)",
   "language": "python",
   "name": "python3"
  },
  "language_info": {
   "codemirror_mode": {
    "name": "ipython",
    "version": 3
   },
   "file_extension": ".py",
   "mimetype": "text/x-python",
   "name": "python",
   "nbconvert_exporter": "python",
   "pygments_lexer": "ipython3",
   "version": "3.12.7"
  }
 },
 "nbformat": 4,
 "nbformat_minor": 5
}
