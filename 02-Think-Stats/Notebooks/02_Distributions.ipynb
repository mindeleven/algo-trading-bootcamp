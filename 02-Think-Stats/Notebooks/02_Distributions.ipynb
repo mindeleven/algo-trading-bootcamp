{
 "cells": [
  {
   "cell_type": "markdown",
   "id": "8efda489-8822-40bc-a47f-5ca5b476f854",
   "metadata": {},
   "source": [
    "## Distributions"
   ]
  },
  {
   "cell_type": "markdown",
   "id": "c14dd095-2c6c-4cd8-9492-09b8a83624ee",
   "metadata": {},
   "source": [
    "*Coding along with third edition of the online version of __[Think Stats](https://allendowney.github.io/ThinkStats/chap02.html)__ by Allen Downey.*"
   ]
  },
  {
   "cell_type": "markdown",
   "id": "29267251-14a4-49b2-93a4-c9fdbfb61a51",
   "metadata": {},
   "source": [
    "#### __Distributions in Statistics__\n",
    "\n",
    "A distribution in statistics describes how data is spread out or arranged - essentially, it's a mathematical function that shows how often different values occur in a dataset. Think of it as a way to understand the \"shape\" of your data.\n",
    "\n",
    "Here are the key aspects of distributions:\n",
    "\n",
    "***Central Tendency*** - This shows where the data tends to cluster, typically measured by:\n",
    "- Mean (average)\n",
    "- Median (middle value)\n",
    "- Mode (most frequent value)\n",
    "\n",
    "***Spread*** - This indicates how dispersed the data is, measured by:\n",
    "- Range (difference between highest and lowest values)\n",
    "- Standard deviation (average distance from the mean)\n",
    "- Variance (standard deviation squared)\n",
    "\n",
    "__Some common types of distributions include:__\n",
    "\n",
    "***Normal Distribution (Bell Curve):***\n",
    "- Symmetrical shape with most data clustered in the middle\n",
    "- Examples: heights in a population, test scores\n",
    "- Often occurs naturally in many phenomena\n",
    "\n",
    "***Uniform Distribution:***\n",
    "- All values have equal probability of occurring\n",
    "- Example: rolling a fair die\n",
    "\n",
    "***Skewed Distributions:***\n",
    "- Right-skewed: tail extends to the right (higher values)\n",
    "- Left-skewed: tail extends to the left (lower values)\n",
    "- Example: income distributions are often right-skewed\n",
    "\n",
    "Understanding distributions helps us:\n",
    "- Make predictions about future data\n",
    "- Identify unusual values or outliers\n",
    "- Choose appropriate statistical tests\n",
    "- Make informed decisions based on data patterns\n",
    "\n",
    "*(Source: Claude.ai)*"
   ]
  },
  {
   "cell_type": "code",
   "execution_count": null,
   "id": "fc399936-c4c1-4f7f-923c-0f2c7723da07",
   "metadata": {},
   "outputs": [],
   "source": [
    "import empiricaldist\n",
    "import numpy as np\n",
    "import matplotlib.pyplot as plt\n",
    "# https://github.com/AllenDowney/ThinkBayes/blob/master/code/thinkstats.py\n",
    "from thinkstats import decorate"
   ]
  },
  {
   "cell_type": "markdown",
   "id": "2bc18457-a260-44fc-9114-e2366e68bc21",
   "metadata": {},
   "source": [
    "## Histograms"
   ]
  },
  {
   "cell_type": "markdown",
   "id": "acb74c67-d88f-4372-a6ee-04a155f4aeeb",
   "metadata": {},
   "source": [
    "A histogram is a visual representation of a distribution that shows the frequency of data points falling within specific ranges or \"bins.\" Think of it like a bar chart where each bar represents how many data points fall within a particular range.\n",
    "\n",
    "Here's why histograms are particularly useful:\n",
    "\n",
    "1. They give you an immediate visual sense of:\n",
    "   - Where most of your data is concentrated\n",
    "   - The overall shape of your distribution\n",
    "   - Any unusual patterns or outliers\n",
    "\n",
    "2. For example, if you measured the heights of 1000 adults:\n",
    "   - Each bar might represent a 2-inch range (60-62 inches, 62-64 inches, etc.)\n",
    "   - The height of each bar shows how many people fall within that range\n",
    "   - You might see a bell-shaped curve typical of height distributions\n",
    "\n",
    "What makes histograms especially powerful is that they transform raw numbers into a pattern you can understand at a glance. If someone handed you a spreadsheet with 1000 height measurements, it would be hard to spot patterns. But a histogram instantly shows you if the heights cluster around a central value, if they're skewed to one side, or if there are any unexpected gaps or peaks.\n",
    "\n",
    "*(Source: Claude.ai)*"
   ]
  },
  {
   "cell_type": "code",
   "execution_count": null,
   "id": "b61d142a-dad8-4758-987f-da6646b9693c",
   "metadata": {},
   "outputs": [],
   "source": [
    "from empiricaldist import Hist"
   ]
  },
  {
   "cell_type": "code",
   "execution_count": null,
   "id": "e1d18cae-fea6-46a3-b9e1-0864cd83d615",
   "metadata": {},
   "outputs": [],
   "source": [
    "t = [1.0, 2.0, 2.0, 3.0, 5.0] # let's start with a small list of values"
   ]
  },
  {
   "cell_type": "code",
   "execution_count": null,
   "id": "c1aefb61-cddb-4864-b0bc-a84fc49b3873",
   "metadata": {},
   "outputs": [],
   "source": [
    "# Hist from the empiricaldist package provides a method called `from_seq`\n",
    "# `from_seq` takes a sequence and makes a `Hist` object\n",
    "hist = Hist.from_seq(t)\n",
    "hist"
   ]
  },
  {
   "cell_type": "markdown",
   "id": "66689902-c427-4e8e-b6f5-211334cd8049",
   "metadata": {},
   "source": [
    "A `Hist` object is a kind of Pandas `Series` that contains quantities and their frequencies.\n",
    "In our example the quantity `1.0` corresponds to frequency 1, the quantity `2.0` corresponds to frequency 2, etc."
   ]
  },
  {
   "cell_type": "code",
   "execution_count": null,
   "id": "de1b9c84-1249-4bdb-8d3f-adb5ae9acfa0",
   "metadata": {},
   "outputs": [],
   "source": [
    "# `Hist` provides a method called `bar` that plots the histogram as a bar chart\n",
    "hist.bar()\n",
    "decorate(xlabel=\"Quantity\", ylabel=\"Frequency\") # naming the axes"
   ]
  },
  {
   "cell_type": "code",
   "execution_count": null,
   "id": "77f41a22-e5c4-42ea-8aae-d4f1d92c3dff",
   "metadata": {},
   "outputs": [],
   "source": [
    "hist[2.0] # looking up a quantity to get its frequency"
   ]
  },
  {
   "cell_type": "code",
   "execution_count": null,
   "id": "a008ff04-39ee-41d8-9c8e-06ba1ffbf63d",
   "metadata": {},
   "outputs": [],
   "source": [
    "hist(2.0) # can also be called like a function"
   ]
  },
  {
   "cell_type": "code",
   "execution_count": null,
   "id": "e6d66851-8327-4502-9e63-aaf6f38a8a08",
   "metadata": {},
   "outputs": [],
   "source": [
    "hist(4.0) # looking up a quantity that has no frequency returns 0"
   ]
  },
  {
   "cell_type": "code",
   "execution_count": null,
   "id": "3b3b4999-9cdd-477a-853c-c05dc71edb66",
   "metadata": {},
   "outputs": [],
   "source": [
    "# qs attribute returns an array of quantities\n",
    "hist.qs"
   ]
  },
  {
   "cell_type": "code",
   "execution_count": null,
   "id": "42269000-59a6-4390-9477-dccb238dcb32",
   "metadata": {},
   "outputs": [],
   "source": [
    "# ps attribute returns an array of frequencies\n",
    "hist.ps"
   ]
  },
  {
   "cell_type": "code",
   "execution_count": 14,
   "id": "c526254e-776e-4995-96b2-100a3eb283d8",
   "metadata": {},
   "outputs": [
    {
     "name": "stdout",
     "output_type": "stream",
     "text": [
      "1.0 1\n",
      "2.0 2\n",
      "3.0 1\n",
      "5.0 1\n"
     ]
    }
   ],
   "source": [
    "# items method allows to loop through quantity-frequency pairs\n",
    "for (x, freq) in hist.items():\n",
    "    print(x, freq)"
   ]
  },
  {
   "cell_type": "markdown",
   "id": "44e75b81-bd0e-402d-ae05-b58cc20e19a5",
   "metadata": {},
   "source": [
    "## NSFG Distributions"
   ]
  },
  {
   "cell_type": "markdown",
   "id": "3568abb7-0d88-46d3-9dbe-eef9c29410fb",
   "metadata": {},
   "source": [
    "## NSFG Distributions\n",
    "\n",
    "Exploring the variables we are planning to use one at a time by looking at histograms.\n",
    "\n",
    "As an example, let's look at data from the National Survey of Family Growth (NSFG).\n",
    "In the previous chapter, we downloaded this dataset, read it into a Pandas `DataFrame`, and cleaned a few of the variables.\n",
    "The code we used to load and clean the data is in a module called `nsfg.py` -- instructions for installing this module are in the notebook for this chapter."
   ]
  },
  {
   "cell_type": "code",
   "execution_count": 15,
   "id": "bc5ef308-01ff-4775-b379-57cbfce81e9e",
   "metadata": {},
   "outputs": [],
   "source": [
    "from nsfg import read_fem_preg"
   ]
  },
  {
   "cell_type": "code",
   "execution_count": 16,
   "id": "d579242a-710b-4c59-9242-d901b7e56848",
   "metadata": {},
   "outputs": [
    {
     "ename": "BadGzipFile",
     "evalue": "Not a gzipped file (b've')",
     "output_type": "error",
     "traceback": [
      "\u001b[0;31m---------------------------------------------------------------------------\u001b[0m",
      "\u001b[0;31mBadGzipFile\u001b[0m                               Traceback (most recent call last)",
      "Cell \u001b[0;32mIn[16], line 1\u001b[0m\n\u001b[0;32m----> 1\u001b[0m preg \u001b[38;5;241m=\u001b[39m \u001b[43mread_fem_preg\u001b[49m\u001b[43m(\u001b[49m\u001b[43m)\u001b[49m\n\u001b[1;32m      2\u001b[0m preg\u001b[38;5;241m.\u001b[39mhead()\n",
      "File \u001b[0;32m~/Projects/Python+Rust/_github-repos/algo-trading-bootcamp/02-Think-Stats/Notebooks/nsfg.py:56\u001b[0m, in \u001b[0;36mread_fem_preg\u001b[0;34m(dct_file, dat_file)\u001b[0m\n\u001b[1;32m     48\u001b[0m \u001b[38;5;28;01mdef\u001b[39;00m\u001b[38;5;250m \u001b[39m\u001b[38;5;21mread_fem_preg\u001b[39m(dct_file\u001b[38;5;241m=\u001b[39m\u001b[38;5;124m\"\u001b[39m\u001b[38;5;124m../assets/data/2002FemPreg.dct\u001b[39m\u001b[38;5;124m\"\u001b[39m, dat_file\u001b[38;5;241m=\u001b[39m\u001b[38;5;124m\"\u001b[39m\u001b[38;5;124m../assets/data/2002FemPreg.dat.gz\u001b[39m\u001b[38;5;124m\"\u001b[39m):\n\u001b[1;32m     49\u001b[0m \u001b[38;5;250m    \u001b[39m\u001b[38;5;124;03m\"\"\"Reads the NSFG pregnancy data.\u001b[39;00m\n\u001b[1;32m     50\u001b[0m \n\u001b[1;32m     51\u001b[0m \u001b[38;5;124;03m    dct_file: string file name\u001b[39;00m\n\u001b[0;32m   (...)\u001b[0m\n\u001b[1;32m     54\u001b[0m \u001b[38;5;124;03m    returns: DataFrame\u001b[39;00m\n\u001b[1;32m     55\u001b[0m \u001b[38;5;124;03m    \"\"\"\u001b[39;00m\n\u001b[0;32m---> 56\u001b[0m     preg \u001b[38;5;241m=\u001b[39m \u001b[43mread_stata\u001b[49m\u001b[43m(\u001b[49m\u001b[43mdct_file\u001b[49m\u001b[43m,\u001b[49m\u001b[43m \u001b[49m\u001b[43mdat_file\u001b[49m\u001b[43m)\u001b[49m\n\u001b[1;32m     57\u001b[0m     clean_fem_preg(preg)\n\u001b[1;32m     58\u001b[0m     \u001b[38;5;28;01mreturn\u001b[39;00m preg\n",
      "File \u001b[0;32m~/Projects/Python+Rust/_github-repos/algo-trading-bootcamp/02-Think-Stats/Notebooks/nsfg.py:26\u001b[0m, in \u001b[0;36mread_stata\u001b[0;34m(dct_file, dat_file, **options)\u001b[0m\n\u001b[1;32m     23\u001b[0m stata_dict \u001b[38;5;241m=\u001b[39m parse_stata_dict(dct_file)\n\u001b[1;32m     25\u001b[0m underride(options, compression\u001b[38;5;241m=\u001b[39m\u001b[38;5;124m\"\u001b[39m\u001b[38;5;124mgzip\u001b[39m\u001b[38;5;124m\"\u001b[39m)\n\u001b[0;32m---> 26\u001b[0m resp \u001b[38;5;241m=\u001b[39m \u001b[43mpd\u001b[49m\u001b[38;5;241;43m.\u001b[39;49m\u001b[43mread_fwf\u001b[49m\u001b[43m(\u001b[49m\n\u001b[1;32m     27\u001b[0m \u001b[43m    \u001b[49m\u001b[43mdat_file\u001b[49m\u001b[43m,\u001b[49m\n\u001b[1;32m     28\u001b[0m \u001b[43m    \u001b[49m\u001b[43mnames\u001b[49m\u001b[38;5;241;43m=\u001b[39;49m\u001b[43mstata_dict\u001b[49m\u001b[38;5;241;43m.\u001b[39;49m\u001b[43mnames\u001b[49m\u001b[43m,\u001b[49m\n\u001b[1;32m     29\u001b[0m \u001b[43m    \u001b[49m\u001b[43mcolspecs\u001b[49m\u001b[38;5;241;43m=\u001b[39;49m\u001b[43mstata_dict\u001b[49m\u001b[38;5;241;43m.\u001b[39;49m\u001b[43mcolspecs\u001b[49m\u001b[43m,\u001b[49m\n\u001b[1;32m     30\u001b[0m \u001b[43m    \u001b[49m\u001b[38;5;241;43m*\u001b[39;49m\u001b[38;5;241;43m*\u001b[39;49m\u001b[43moptions\u001b[49m\u001b[43m,\u001b[49m\n\u001b[1;32m     31\u001b[0m \u001b[43m\u001b[49m\u001b[43m)\u001b[49m\n\u001b[1;32m     32\u001b[0m \u001b[38;5;28;01mreturn\u001b[39;00m resp\n",
      "File \u001b[0;32m~/Library/Caches/pypoetry/virtualenvs/algo-trading-bootcamp-Anw-moJU-py3.12/lib/python3.12/site-packages/pandas/io/parsers/readers.py:1565\u001b[0m, in \u001b[0;36mread_fwf\u001b[0;34m(filepath_or_buffer, colspecs, widths, infer_nrows, dtype_backend, iterator, chunksize, **kwds)\u001b[0m\n\u001b[1;32m   1563\u001b[0m check_dtype_backend(dtype_backend)\n\u001b[1;32m   1564\u001b[0m kwds[\u001b[38;5;124m\"\u001b[39m\u001b[38;5;124mdtype_backend\u001b[39m\u001b[38;5;124m\"\u001b[39m] \u001b[38;5;241m=\u001b[39m dtype_backend\n\u001b[0;32m-> 1565\u001b[0m \u001b[38;5;28;01mreturn\u001b[39;00m \u001b[43m_read\u001b[49m\u001b[43m(\u001b[49m\u001b[43mfilepath_or_buffer\u001b[49m\u001b[43m,\u001b[49m\u001b[43m \u001b[49m\u001b[43mkwds\u001b[49m\u001b[43m)\u001b[49m\n",
      "File \u001b[0;32m~/Library/Caches/pypoetry/virtualenvs/algo-trading-bootcamp-Anw-moJU-py3.12/lib/python3.12/site-packages/pandas/io/parsers/readers.py:620\u001b[0m, in \u001b[0;36m_read\u001b[0;34m(filepath_or_buffer, kwds)\u001b[0m\n\u001b[1;32m    617\u001b[0m _validate_names(kwds\u001b[38;5;241m.\u001b[39mget(\u001b[38;5;124m\"\u001b[39m\u001b[38;5;124mnames\u001b[39m\u001b[38;5;124m\"\u001b[39m, \u001b[38;5;28;01mNone\u001b[39;00m))\n\u001b[1;32m    619\u001b[0m \u001b[38;5;66;03m# Create the parser.\u001b[39;00m\n\u001b[0;32m--> 620\u001b[0m parser \u001b[38;5;241m=\u001b[39m \u001b[43mTextFileReader\u001b[49m\u001b[43m(\u001b[49m\u001b[43mfilepath_or_buffer\u001b[49m\u001b[43m,\u001b[49m\u001b[43m \u001b[49m\u001b[38;5;241;43m*\u001b[39;49m\u001b[38;5;241;43m*\u001b[39;49m\u001b[43mkwds\u001b[49m\u001b[43m)\u001b[49m\n\u001b[1;32m    622\u001b[0m \u001b[38;5;28;01mif\u001b[39;00m chunksize \u001b[38;5;129;01mor\u001b[39;00m iterator:\n\u001b[1;32m    623\u001b[0m     \u001b[38;5;28;01mreturn\u001b[39;00m parser\n",
      "File \u001b[0;32m~/Library/Caches/pypoetry/virtualenvs/algo-trading-bootcamp-Anw-moJU-py3.12/lib/python3.12/site-packages/pandas/io/parsers/readers.py:1620\u001b[0m, in \u001b[0;36mTextFileReader.__init__\u001b[0;34m(self, f, engine, **kwds)\u001b[0m\n\u001b[1;32m   1617\u001b[0m     \u001b[38;5;28mself\u001b[39m\u001b[38;5;241m.\u001b[39moptions[\u001b[38;5;124m\"\u001b[39m\u001b[38;5;124mhas_index_names\u001b[39m\u001b[38;5;124m\"\u001b[39m] \u001b[38;5;241m=\u001b[39m kwds[\u001b[38;5;124m\"\u001b[39m\u001b[38;5;124mhas_index_names\u001b[39m\u001b[38;5;124m\"\u001b[39m]\n\u001b[1;32m   1619\u001b[0m \u001b[38;5;28mself\u001b[39m\u001b[38;5;241m.\u001b[39mhandles: IOHandles \u001b[38;5;241m|\u001b[39m \u001b[38;5;28;01mNone\u001b[39;00m \u001b[38;5;241m=\u001b[39m \u001b[38;5;28;01mNone\u001b[39;00m\n\u001b[0;32m-> 1620\u001b[0m \u001b[38;5;28mself\u001b[39m\u001b[38;5;241m.\u001b[39m_engine \u001b[38;5;241m=\u001b[39m \u001b[38;5;28;43mself\u001b[39;49m\u001b[38;5;241;43m.\u001b[39;49m\u001b[43m_make_engine\u001b[49m\u001b[43m(\u001b[49m\u001b[43mf\u001b[49m\u001b[43m,\u001b[49m\u001b[43m \u001b[49m\u001b[38;5;28;43mself\u001b[39;49m\u001b[38;5;241;43m.\u001b[39;49m\u001b[43mengine\u001b[49m\u001b[43m)\u001b[49m\n",
      "File \u001b[0;32m~/Library/Caches/pypoetry/virtualenvs/algo-trading-bootcamp-Anw-moJU-py3.12/lib/python3.12/site-packages/pandas/io/parsers/readers.py:1898\u001b[0m, in \u001b[0;36mTextFileReader._make_engine\u001b[0;34m(self, f, engine)\u001b[0m\n\u001b[1;32m   1895\u001b[0m     \u001b[38;5;28;01mraise\u001b[39;00m \u001b[38;5;167;01mValueError\u001b[39;00m(msg)\n\u001b[1;32m   1897\u001b[0m \u001b[38;5;28;01mtry\u001b[39;00m:\n\u001b[0;32m-> 1898\u001b[0m     \u001b[38;5;28;01mreturn\u001b[39;00m \u001b[43mmapping\u001b[49m\u001b[43m[\u001b[49m\u001b[43mengine\u001b[49m\u001b[43m]\u001b[49m\u001b[43m(\u001b[49m\u001b[43mf\u001b[49m\u001b[43m,\u001b[49m\u001b[43m \u001b[49m\u001b[38;5;241;43m*\u001b[39;49m\u001b[38;5;241;43m*\u001b[39;49m\u001b[38;5;28;43mself\u001b[39;49m\u001b[38;5;241;43m.\u001b[39;49m\u001b[43moptions\u001b[49m\u001b[43m)\u001b[49m\n\u001b[1;32m   1899\u001b[0m \u001b[38;5;28;01mexcept\u001b[39;00m \u001b[38;5;167;01mException\u001b[39;00m:\n\u001b[1;32m   1900\u001b[0m     \u001b[38;5;28;01mif\u001b[39;00m \u001b[38;5;28mself\u001b[39m\u001b[38;5;241m.\u001b[39mhandles \u001b[38;5;129;01mis\u001b[39;00m \u001b[38;5;129;01mnot\u001b[39;00m \u001b[38;5;28;01mNone\u001b[39;00m:\n",
      "File \u001b[0;32m~/Library/Caches/pypoetry/virtualenvs/algo-trading-bootcamp-Anw-moJU-py3.12/lib/python3.12/site-packages/pandas/io/parsers/python_parser.py:1329\u001b[0m, in \u001b[0;36mFixedWidthFieldParser.__init__\u001b[0;34m(self, f, **kwds)\u001b[0m\n\u001b[1;32m   1327\u001b[0m \u001b[38;5;28mself\u001b[39m\u001b[38;5;241m.\u001b[39mcolspecs \u001b[38;5;241m=\u001b[39m kwds\u001b[38;5;241m.\u001b[39mpop(\u001b[38;5;124m\"\u001b[39m\u001b[38;5;124mcolspecs\u001b[39m\u001b[38;5;124m\"\u001b[39m)\n\u001b[1;32m   1328\u001b[0m \u001b[38;5;28mself\u001b[39m\u001b[38;5;241m.\u001b[39minfer_nrows \u001b[38;5;241m=\u001b[39m kwds\u001b[38;5;241m.\u001b[39mpop(\u001b[38;5;124m\"\u001b[39m\u001b[38;5;124minfer_nrows\u001b[39m\u001b[38;5;124m\"\u001b[39m)\n\u001b[0;32m-> 1329\u001b[0m \u001b[43mPythonParser\u001b[49m\u001b[38;5;241;43m.\u001b[39;49m\u001b[38;5;21;43m__init__\u001b[39;49m\u001b[43m(\u001b[49m\u001b[38;5;28;43mself\u001b[39;49m\u001b[43m,\u001b[49m\u001b[43m \u001b[49m\u001b[43mf\u001b[49m\u001b[43m,\u001b[49m\u001b[43m \u001b[49m\u001b[38;5;241;43m*\u001b[39;49m\u001b[38;5;241;43m*\u001b[39;49m\u001b[43mkwds\u001b[49m\u001b[43m)\u001b[49m\n",
      "File \u001b[0;32m~/Library/Caches/pypoetry/virtualenvs/algo-trading-bootcamp-Anw-moJU-py3.12/lib/python3.12/site-packages/pandas/io/parsers/python_parser.py:133\u001b[0m, in \u001b[0;36mPythonParser.__init__\u001b[0;34m(self, f, **kwds)\u001b[0m\n\u001b[1;32m    127\u001b[0m \u001b[38;5;28mself\u001b[39m\u001b[38;5;241m.\u001b[39m_col_indices: \u001b[38;5;28mlist\u001b[39m[\u001b[38;5;28mint\u001b[39m] \u001b[38;5;241m|\u001b[39m \u001b[38;5;28;01mNone\u001b[39;00m \u001b[38;5;241m=\u001b[39m \u001b[38;5;28;01mNone\u001b[39;00m\n\u001b[1;32m    128\u001b[0m columns: \u001b[38;5;28mlist\u001b[39m[\u001b[38;5;28mlist\u001b[39m[Scalar \u001b[38;5;241m|\u001b[39m \u001b[38;5;28;01mNone\u001b[39;00m]]\n\u001b[1;32m    129\u001b[0m (\n\u001b[1;32m    130\u001b[0m     columns,\n\u001b[1;32m    131\u001b[0m     \u001b[38;5;28mself\u001b[39m\u001b[38;5;241m.\u001b[39mnum_original_columns,\n\u001b[1;32m    132\u001b[0m     \u001b[38;5;28mself\u001b[39m\u001b[38;5;241m.\u001b[39munnamed_cols,\n\u001b[0;32m--> 133\u001b[0m ) \u001b[38;5;241m=\u001b[39m \u001b[38;5;28;43mself\u001b[39;49m\u001b[38;5;241;43m.\u001b[39;49m\u001b[43m_infer_columns\u001b[49m\u001b[43m(\u001b[49m\u001b[43m)\u001b[49m\n\u001b[1;32m    135\u001b[0m \u001b[38;5;66;03m# Now self.columns has the set of columns that we will process.\u001b[39;00m\n\u001b[1;32m    136\u001b[0m \u001b[38;5;66;03m# The original set is stored in self.original_columns.\u001b[39;00m\n\u001b[1;32m    137\u001b[0m \u001b[38;5;66;03m# error: Cannot determine type of 'index_names'\u001b[39;00m\n\u001b[1;32m    138\u001b[0m (\n\u001b[1;32m    139\u001b[0m     \u001b[38;5;28mself\u001b[39m\u001b[38;5;241m.\u001b[39mcolumns,\n\u001b[1;32m    140\u001b[0m     \u001b[38;5;28mself\u001b[39m\u001b[38;5;241m.\u001b[39mindex_names,\n\u001b[0;32m   (...)\u001b[0m\n\u001b[1;32m    145\u001b[0m     \u001b[38;5;28mself\u001b[39m\u001b[38;5;241m.\u001b[39mindex_names,  \u001b[38;5;66;03m# type: ignore[has-type]\u001b[39;00m\n\u001b[1;32m    146\u001b[0m )\n",
      "File \u001b[0;32m~/Library/Caches/pypoetry/virtualenvs/algo-trading-bootcamp-Anw-moJU-py3.12/lib/python3.12/site-packages/pandas/io/parsers/python_parser.py:546\u001b[0m, in \u001b[0;36mPythonParser._infer_columns\u001b[0;34m(self)\u001b[0m\n\u001b[1;32m    542\u001b[0m         columns \u001b[38;5;241m=\u001b[39m \u001b[38;5;28mself\u001b[39m\u001b[38;5;241m.\u001b[39m_handle_usecols(\n\u001b[1;32m    543\u001b[0m             columns, columns[\u001b[38;5;241m0\u001b[39m], num_original_columns\n\u001b[1;32m    544\u001b[0m         )\n\u001b[1;32m    545\u001b[0m \u001b[38;5;28;01melse\u001b[39;00m:\n\u001b[0;32m--> 546\u001b[0m     ncols \u001b[38;5;241m=\u001b[39m \u001b[38;5;28mlen\u001b[39m(\u001b[38;5;28;43mself\u001b[39;49m\u001b[38;5;241;43m.\u001b[39;49m\u001b[43m_header_line\u001b[49m)\n\u001b[1;32m    547\u001b[0m     num_original_columns \u001b[38;5;241m=\u001b[39m ncols\n\u001b[1;32m    549\u001b[0m     \u001b[38;5;28;01mif\u001b[39;00m \u001b[38;5;129;01mnot\u001b[39;00m names:\n",
      "File \u001b[0;32mproperties.pyx:36\u001b[0m, in \u001b[0;36mpandas._libs.properties.CachedProperty.__get__\u001b[0;34m()\u001b[0m\n",
      "File \u001b[0;32m~/Library/Caches/pypoetry/virtualenvs/algo-trading-bootcamp-Anw-moJU-py3.12/lib/python3.12/site-packages/pandas/io/parsers/python_parser.py:574\u001b[0m, in \u001b[0;36mPythonParser._header_line\u001b[0;34m(self)\u001b[0m\n\u001b[1;32m    571\u001b[0m     \u001b[38;5;28;01mreturn\u001b[39;00m \u001b[38;5;28;01mNone\u001b[39;00m\n\u001b[1;32m    573\u001b[0m \u001b[38;5;28;01mtry\u001b[39;00m:\n\u001b[0;32m--> 574\u001b[0m     line \u001b[38;5;241m=\u001b[39m \u001b[38;5;28;43mself\u001b[39;49m\u001b[38;5;241;43m.\u001b[39;49m\u001b[43m_buffered_line\u001b[49m\u001b[43m(\u001b[49m\u001b[43m)\u001b[49m\n\u001b[1;32m    575\u001b[0m \u001b[38;5;28;01mexcept\u001b[39;00m \u001b[38;5;167;01mStopIteration\u001b[39;00m \u001b[38;5;28;01mas\u001b[39;00m err:\n\u001b[1;32m    576\u001b[0m     \u001b[38;5;28;01mif\u001b[39;00m \u001b[38;5;129;01mnot\u001b[39;00m \u001b[38;5;28mself\u001b[39m\u001b[38;5;241m.\u001b[39mnames:\n",
      "File \u001b[0;32m~/Library/Caches/pypoetry/virtualenvs/algo-trading-bootcamp-Anw-moJU-py3.12/lib/python3.12/site-packages/pandas/io/parsers/python_parser.py:637\u001b[0m, in \u001b[0;36mPythonParser._buffered_line\u001b[0;34m(self)\u001b[0m\n\u001b[1;32m    635\u001b[0m     \u001b[38;5;28;01mreturn\u001b[39;00m \u001b[38;5;28mself\u001b[39m\u001b[38;5;241m.\u001b[39mbuf[\u001b[38;5;241m0\u001b[39m]\n\u001b[1;32m    636\u001b[0m \u001b[38;5;28;01melse\u001b[39;00m:\n\u001b[0;32m--> 637\u001b[0m     \u001b[38;5;28;01mreturn\u001b[39;00m \u001b[38;5;28;43mself\u001b[39;49m\u001b[38;5;241;43m.\u001b[39;49m\u001b[43m_next_line\u001b[49m\u001b[43m(\u001b[49m\u001b[43m)\u001b[49m\n",
      "File \u001b[0;32m~/Library/Caches/pypoetry/virtualenvs/algo-trading-bootcamp-Anw-moJU-py3.12/lib/python3.12/site-packages/pandas/io/parsers/python_parser.py:738\u001b[0m, in \u001b[0;36mPythonParser._next_line\u001b[0;34m(self)\u001b[0m\n\u001b[1;32m    735\u001b[0m     \u001b[38;5;28mnext\u001b[39m(\u001b[38;5;28mself\u001b[39m\u001b[38;5;241m.\u001b[39mdata)\n\u001b[1;32m    737\u001b[0m \u001b[38;5;28;01mwhile\u001b[39;00m \u001b[38;5;28;01mTrue\u001b[39;00m:\n\u001b[0;32m--> 738\u001b[0m     orig_line \u001b[38;5;241m=\u001b[39m \u001b[38;5;28;43mself\u001b[39;49m\u001b[38;5;241;43m.\u001b[39;49m\u001b[43m_next_iter_line\u001b[49m\u001b[43m(\u001b[49m\u001b[43mrow_num\u001b[49m\u001b[38;5;241;43m=\u001b[39;49m\u001b[38;5;28;43mself\u001b[39;49m\u001b[38;5;241;43m.\u001b[39;49m\u001b[43mpos\u001b[49m\u001b[43m \u001b[49m\u001b[38;5;241;43m+\u001b[39;49m\u001b[43m \u001b[49m\u001b[38;5;241;43m1\u001b[39;49m\u001b[43m)\u001b[49m\n\u001b[1;32m    739\u001b[0m     \u001b[38;5;28mself\u001b[39m\u001b[38;5;241m.\u001b[39mpos \u001b[38;5;241m+\u001b[39m\u001b[38;5;241m=\u001b[39m \u001b[38;5;241m1\u001b[39m\n\u001b[1;32m    741\u001b[0m     \u001b[38;5;28;01mif\u001b[39;00m orig_line \u001b[38;5;129;01mis\u001b[39;00m \u001b[38;5;129;01mnot\u001b[39;00m \u001b[38;5;28;01mNone\u001b[39;00m:\n",
      "File \u001b[0;32m~/Library/Caches/pypoetry/virtualenvs/algo-trading-bootcamp-Anw-moJU-py3.12/lib/python3.12/site-packages/pandas/io/parsers/python_parser.py:805\u001b[0m, in \u001b[0;36mPythonParser._next_iter_line\u001b[0;34m(self, row_num)\u001b[0m\n\u001b[1;32m    802\u001b[0m \u001b[38;5;28;01mtry\u001b[39;00m:\n\u001b[1;32m    803\u001b[0m     \u001b[38;5;66;03m# assert for mypy, data is Iterator[str] or None, would error in next\u001b[39;00m\n\u001b[1;32m    804\u001b[0m     \u001b[38;5;28;01massert\u001b[39;00m \u001b[38;5;28mself\u001b[39m\u001b[38;5;241m.\u001b[39mdata \u001b[38;5;129;01mis\u001b[39;00m \u001b[38;5;129;01mnot\u001b[39;00m \u001b[38;5;28;01mNone\u001b[39;00m\n\u001b[0;32m--> 805\u001b[0m     line \u001b[38;5;241m=\u001b[39m \u001b[38;5;28;43mnext\u001b[39;49m\u001b[43m(\u001b[49m\u001b[38;5;28;43mself\u001b[39;49m\u001b[38;5;241;43m.\u001b[39;49m\u001b[43mdata\u001b[49m\u001b[43m)\u001b[49m\n\u001b[1;32m    806\u001b[0m     \u001b[38;5;66;03m# for mypy\u001b[39;00m\n\u001b[1;32m    807\u001b[0m     \u001b[38;5;28;01massert\u001b[39;00m \u001b[38;5;28misinstance\u001b[39m(line, \u001b[38;5;28mlist\u001b[39m)\n",
      "File \u001b[0;32m~/Library/Caches/pypoetry/virtualenvs/algo-trading-bootcamp-Anw-moJU-py3.12/lib/python3.12/site-packages/pandas/io/parsers/python_parser.py:1314\u001b[0m, in \u001b[0;36mFixedWidthReader.__next__\u001b[0;34m(self)\u001b[0m\n\u001b[1;32m   1312\u001b[0m         line \u001b[38;5;241m=\u001b[39m \u001b[38;5;28mnext\u001b[39m(\u001b[38;5;28mself\u001b[39m\u001b[38;5;241m.\u001b[39mf)  \u001b[38;5;66;03m# type: ignore[arg-type]\u001b[39;00m\n\u001b[1;32m   1313\u001b[0m \u001b[38;5;28;01melse\u001b[39;00m:\n\u001b[0;32m-> 1314\u001b[0m     line \u001b[38;5;241m=\u001b[39m \u001b[38;5;28;43mnext\u001b[39;49m\u001b[43m(\u001b[49m\u001b[38;5;28;43mself\u001b[39;49m\u001b[38;5;241;43m.\u001b[39;49m\u001b[43mf\u001b[49m\u001b[43m)\u001b[49m  \u001b[38;5;66;03m# type: ignore[arg-type]\u001b[39;00m\n\u001b[1;32m   1315\u001b[0m \u001b[38;5;66;03m# Note: 'colspecs' is a sequence of half-open intervals.\u001b[39;00m\n\u001b[1;32m   1316\u001b[0m \u001b[38;5;28;01mreturn\u001b[39;00m [line[from_:to]\u001b[38;5;241m.\u001b[39mstrip(\u001b[38;5;28mself\u001b[39m\u001b[38;5;241m.\u001b[39mdelimiter) \u001b[38;5;28;01mfor\u001b[39;00m (from_, to) \u001b[38;5;129;01min\u001b[39;00m \u001b[38;5;28mself\u001b[39m\u001b[38;5;241m.\u001b[39mcolspecs]\n",
      "File \u001b[0;32m/opt/homebrew/Cellar/python@3.12/3.12.7_1/Frameworks/Python.framework/Versions/3.12/lib/python3.12/gzip.py:337\u001b[0m, in \u001b[0;36mGzipFile.read1\u001b[0;34m(self, size)\u001b[0m\n\u001b[1;32m    335\u001b[0m \u001b[38;5;28;01mif\u001b[39;00m size \u001b[38;5;241m<\u001b[39m \u001b[38;5;241m0\u001b[39m:\n\u001b[1;32m    336\u001b[0m     size \u001b[38;5;241m=\u001b[39m io\u001b[38;5;241m.\u001b[39mDEFAULT_BUFFER_SIZE\n\u001b[0;32m--> 337\u001b[0m \u001b[38;5;28;01mreturn\u001b[39;00m \u001b[38;5;28;43mself\u001b[39;49m\u001b[38;5;241;43m.\u001b[39;49m\u001b[43m_buffer\u001b[49m\u001b[38;5;241;43m.\u001b[39;49m\u001b[43mread1\u001b[49m\u001b[43m(\u001b[49m\u001b[43msize\u001b[49m\u001b[43m)\u001b[49m\n",
      "File \u001b[0;32m/opt/homebrew/Cellar/python@3.12/3.12.7_1/Frameworks/Python.framework/Versions/3.12/lib/python3.12/_compression.py:68\u001b[0m, in \u001b[0;36mDecompressReader.readinto\u001b[0;34m(self, b)\u001b[0m\n\u001b[1;32m     66\u001b[0m \u001b[38;5;28;01mdef\u001b[39;00m\u001b[38;5;250m \u001b[39m\u001b[38;5;21mreadinto\u001b[39m(\u001b[38;5;28mself\u001b[39m, b):\n\u001b[1;32m     67\u001b[0m     \u001b[38;5;28;01mwith\u001b[39;00m \u001b[38;5;28mmemoryview\u001b[39m(b) \u001b[38;5;28;01mas\u001b[39;00m view, view\u001b[38;5;241m.\u001b[39mcast(\u001b[38;5;124m\"\u001b[39m\u001b[38;5;124mB\u001b[39m\u001b[38;5;124m\"\u001b[39m) \u001b[38;5;28;01mas\u001b[39;00m byte_view:\n\u001b[0;32m---> 68\u001b[0m         data \u001b[38;5;241m=\u001b[39m \u001b[38;5;28;43mself\u001b[39;49m\u001b[38;5;241;43m.\u001b[39;49m\u001b[43mread\u001b[49m\u001b[43m(\u001b[49m\u001b[38;5;28;43mlen\u001b[39;49m\u001b[43m(\u001b[49m\u001b[43mbyte_view\u001b[49m\u001b[43m)\u001b[49m\u001b[43m)\u001b[49m\n\u001b[1;32m     69\u001b[0m         byte_view[:\u001b[38;5;28mlen\u001b[39m(data)] \u001b[38;5;241m=\u001b[39m data\n\u001b[1;32m     70\u001b[0m     \u001b[38;5;28;01mreturn\u001b[39;00m \u001b[38;5;28mlen\u001b[39m(data)\n",
      "File \u001b[0;32m/opt/homebrew/Cellar/python@3.12/3.12.7_1/Frameworks/Python.framework/Versions/3.12/lib/python3.12/gzip.py:527\u001b[0m, in \u001b[0;36m_GzipReader.read\u001b[0;34m(self, size)\u001b[0m\n\u001b[1;32m    523\u001b[0m \u001b[38;5;28;01mif\u001b[39;00m \u001b[38;5;28mself\u001b[39m\u001b[38;5;241m.\u001b[39m_new_member:\n\u001b[1;32m    524\u001b[0m     \u001b[38;5;66;03m# If the _new_member flag is set, we have to\u001b[39;00m\n\u001b[1;32m    525\u001b[0m     \u001b[38;5;66;03m# jump to the next member, if there is one.\u001b[39;00m\n\u001b[1;32m    526\u001b[0m     \u001b[38;5;28mself\u001b[39m\u001b[38;5;241m.\u001b[39m_init_read()\n\u001b[0;32m--> 527\u001b[0m     \u001b[38;5;28;01mif\u001b[39;00m \u001b[38;5;129;01mnot\u001b[39;00m \u001b[38;5;28;43mself\u001b[39;49m\u001b[38;5;241;43m.\u001b[39;49m\u001b[43m_read_gzip_header\u001b[49m\u001b[43m(\u001b[49m\u001b[43m)\u001b[49m:\n\u001b[1;32m    528\u001b[0m         \u001b[38;5;28mself\u001b[39m\u001b[38;5;241m.\u001b[39m_size \u001b[38;5;241m=\u001b[39m \u001b[38;5;28mself\u001b[39m\u001b[38;5;241m.\u001b[39m_pos\n\u001b[1;32m    529\u001b[0m         \u001b[38;5;28;01mreturn\u001b[39;00m \u001b[38;5;124mb\u001b[39m\u001b[38;5;124m\"\u001b[39m\u001b[38;5;124m\"\u001b[39m\n",
      "File \u001b[0;32m/opt/homebrew/Cellar/python@3.12/3.12.7_1/Frameworks/Python.framework/Versions/3.12/lib/python3.12/gzip.py:496\u001b[0m, in \u001b[0;36m_GzipReader._read_gzip_header\u001b[0;34m(self)\u001b[0m\n\u001b[1;32m    495\u001b[0m \u001b[38;5;28;01mdef\u001b[39;00m\u001b[38;5;250m \u001b[39m\u001b[38;5;21m_read_gzip_header\u001b[39m(\u001b[38;5;28mself\u001b[39m):\n\u001b[0;32m--> 496\u001b[0m     last_mtime \u001b[38;5;241m=\u001b[39m \u001b[43m_read_gzip_header\u001b[49m\u001b[43m(\u001b[49m\u001b[38;5;28;43mself\u001b[39;49m\u001b[38;5;241;43m.\u001b[39;49m\u001b[43m_fp\u001b[49m\u001b[43m)\u001b[49m\n\u001b[1;32m    497\u001b[0m     \u001b[38;5;28;01mif\u001b[39;00m last_mtime \u001b[38;5;129;01mis\u001b[39;00m \u001b[38;5;28;01mNone\u001b[39;00m:\n\u001b[1;32m    498\u001b[0m         \u001b[38;5;28;01mreturn\u001b[39;00m \u001b[38;5;28;01mFalse\u001b[39;00m\n",
      "File \u001b[0;32m/opt/homebrew/Cellar/python@3.12/3.12.7_1/Frameworks/Python.framework/Versions/3.12/lib/python3.12/gzip.py:456\u001b[0m, in \u001b[0;36m_read_gzip_header\u001b[0;34m(fp)\u001b[0m\n\u001b[1;32m    453\u001b[0m     \u001b[38;5;28;01mreturn\u001b[39;00m \u001b[38;5;28;01mNone\u001b[39;00m\n\u001b[1;32m    455\u001b[0m \u001b[38;5;28;01mif\u001b[39;00m magic \u001b[38;5;241m!=\u001b[39m \u001b[38;5;124mb\u001b[39m\u001b[38;5;124m'\u001b[39m\u001b[38;5;130;01m\\037\u001b[39;00m\u001b[38;5;130;01m\\213\u001b[39;00m\u001b[38;5;124m'\u001b[39m:\n\u001b[0;32m--> 456\u001b[0m     \u001b[38;5;28;01mraise\u001b[39;00m BadGzipFile(\u001b[38;5;124m'\u001b[39m\u001b[38;5;124mNot a gzipped file (\u001b[39m\u001b[38;5;132;01m%r\u001b[39;00m\u001b[38;5;124m)\u001b[39m\u001b[38;5;124m'\u001b[39m \u001b[38;5;241m%\u001b[39m magic)\n\u001b[1;32m    458\u001b[0m (method, flag, last_mtime) \u001b[38;5;241m=\u001b[39m struct\u001b[38;5;241m.\u001b[39munpack(\u001b[38;5;124m\"\u001b[39m\u001b[38;5;124m<BBIxx\u001b[39m\u001b[38;5;124m\"\u001b[39m, _read_exact(fp, \u001b[38;5;241m8\u001b[39m))\n\u001b[1;32m    459\u001b[0m \u001b[38;5;28;01mif\u001b[39;00m method \u001b[38;5;241m!=\u001b[39m \u001b[38;5;241m8\u001b[39m:\n",
      "\u001b[0;31mBadGzipFile\u001b[0m: Not a gzipped file (b've')"
     ]
    }
   ],
   "source": [
    "preg = read_fem_preg()\n",
    "preg.head()"
   ]
  },
  {
   "cell_type": "code",
   "execution_count": null,
   "id": "285ea27a-5af2-4a2a-a764-deadd16014b9",
   "metadata": {},
   "outputs": [],
   "source": []
  }
 ],
 "metadata": {
  "kernelspec": {
   "display_name": "Python 3 (ipykernel)",
   "language": "python",
   "name": "python3"
  },
  "language_info": {
   "codemirror_mode": {
    "name": "ipython",
    "version": 3
   },
   "file_extension": ".py",
   "mimetype": "text/x-python",
   "name": "python",
   "nbconvert_exporter": "python",
   "pygments_lexer": "ipython3",
   "version": "3.12.7"
  }
 },
 "nbformat": 4,
 "nbformat_minor": 5
}
